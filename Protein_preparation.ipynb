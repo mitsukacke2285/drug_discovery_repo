{
  "cells": [
    {
      "cell_type": "markdown",
      "metadata": {
        "id": "view-in-github",
        "colab_type": "text"
      },
      "source": [
        "<a href=\"https://colab.research.google.com/github/mitsukacke2285/drug_discovery_repo/blob/main/Protein_preparation.ipynb\" target=\"_parent\"><img src=\"https://colab.research.google.com/assets/colab-badge.svg\" alt=\"Open In Colab\"/></a>"
      ]
    },
    {
      "cell_type": "markdown",
      "id": "c5f80123-17bb-411f-8b2b-3e756489fb8c",
      "metadata": {
        "id": "c5f80123-17bb-411f-8b2b-3e756489fb8c"
      },
      "source": [
        "## Protein preparation"
      ]
    },
    {
      "cell_type": "markdown",
      "id": "604087af-c2a8-4322-85ec-5cb000b2cbd6",
      "metadata": {
        "id": "604087af-c2a8-4322-85ec-5cb000b2cbd6"
      },
      "source": [
        "## Set up"
      ]
    },
    {
      "cell_type": "markdown",
      "id": "17f360b2-c5c9-4023-af14-d56d7c5d4ce3",
      "metadata": {
        "id": "17f360b2-c5c9-4023-af14-d56d7c5d4ce3"
      },
      "source": [
        "Please install the following packages:\n",
        "\n",
        "- PDBFixer\n",
        "- Biopython\n",
        "- MDAnalysis\n",
        "- RDKit\n",
        "- OpenMM (and OpenMMForceFields)\n",
        "- OpenBabel\n",
        "- Scrubber (package: \"molscrub\")\n",
        "- py3Dmol"
      ]
    },
    {
      "cell_type": "code",
      "execution_count": null,
      "id": "b1e17718-c6d3-419f-a3a4-18b238f8a8a4",
      "metadata": {
        "id": "b1e17718-c6d3-419f-a3a4-18b238f8a8a4"
      },
      "outputs": [],
      "source": [
        "!pip install rdkit openmm mdanalysis molscrub py3dmol biopython"
      ]
    },
    {
      "cell_type": "code",
      "execution_count": null,
      "id": "9Sqb4BtNhlPu",
      "metadata": {
        "id": "9Sqb4BtNhlPu"
      },
      "outputs": [],
      "source": [
        "!pip install git+https://github.com/openmm/pdbfixer.git"
      ]
    },
    {
      "cell_type": "markdown",
      "id": "5ad3cfdf-7356-49b5-8b3b-1198b2cdcb94",
      "metadata": {
        "id": "5ad3cfdf-7356-49b5-8b3b-1198b2cdcb94"
      },
      "source": [
        "## Download PDB file ##"
      ]
    },
    {
      "cell_type": "code",
      "execution_count": null,
      "id": "751ec369-9e22-460b-be4a-33d379c23cdf",
      "metadata": {
        "id": "751ec369-9e22-460b-be4a-33d379c23cdf"
      },
      "outputs": [],
      "source": [
        "import os\n",
        "import requests\n",
        "\n",
        "pdb_id = input(\"Enter PDB code: \") # The Protein ID we're looking at\n",
        "\n",
        "# Start by making a directory for us to work in and stage our intermediate files\n",
        "protein_directory = \"Molecular_docking/protein_files\"\n",
        "protein_filename = f\"{pdb_id}.pdb\"\n",
        "protein_filepath = os.path.join(protein_directory, protein_filename)\n",
        "\n",
        "# Actually make the directory, the exist_ok flag lets the command execute even if the folder already exists. It does NOT overwrite existing data.\n",
        "os.makedirs(protein_directory, exist_ok=True)\n",
        "\n",
        "print(protein_filepath)"
      ]
    },
    {
      "cell_type": "code",
      "execution_count": null,
      "id": "b5865566-adde-462e-a104-b0f24370984c",
      "metadata": {
        "id": "b5865566-adde-462e-a104-b0f24370984c"
      },
      "outputs": [],
      "source": [
        "# Download the protein file\n",
        "print(f\"Downloading protein {pdb_id}...\")\n",
        "protein_url = f\"https://files.rcsb.org/download/{pdb_id}.pdb\"\n",
        "\n",
        "# Send the request and save the returned JSON blob as a variable\n",
        "protein_request = requests.get(protein_url)\n",
        "protein_request.raise_for_status() # Check for errors"
      ]
    },
    {
      "cell_type": "code",
      "execution_count": null,
      "id": "f7ff24df-7b06-419a-a25d-2fdea093f047",
      "metadata": {
        "id": "f7ff24df-7b06-419a-a25d-2fdea093f047"
      },
      "outputs": [],
      "source": [
        "# Save the actual text of the returned JSON blob as the PDB file we're used to\n",
        "with open(protein_filepath, \"w\") as f:\n",
        "    f.write(protein_request.text)\n",
        "print(f\"Saved protein to {protein_filepath}\")"
      ]
    },
    {
      "cell_type": "markdown",
      "id": "69a08b42-51b3-4cae-8406-9096596efdd9",
      "metadata": {
        "id": "69a08b42-51b3-4cae-8406-9096596efdd9"
      },
      "source": [
        "## Building Atomistic Receptor Model ##"
      ]
    },
    {
      "cell_type": "code",
      "execution_count": null,
      "id": "7039fe77-b52e-4051-9556-36fd00843c7a",
      "metadata": {
        "id": "7039fe77-b52e-4051-9556-36fd00843c7a"
      },
      "outputs": [],
      "source": [
        "# Display raw PDB file\n",
        "from IPython.display import display, HTML\n",
        "\n",
        "def render_text(text_blob):\n",
        "  # Helper function for displaying text in Jupyter Notebooks in a scrollable object\n",
        "  html = f\"\"\"\n",
        "      <div style=\"height:400px; overflow:auto;\">\n",
        "          <pre>{text_blob}</pre>\n",
        "      </div>\n",
        "      \"\"\"\n",
        "  display(HTML(html))\n",
        "\n",
        "render_text(protein_request.text)"
      ]
    },
    {
      "cell_type": "markdown",
      "id": "ae85a5bf-3c4f-4e04-90c4-eba8b0a531d2",
      "metadata": {
        "id": "ae85a5bf-3c4f-4e04-90c4-eba8b0a531d2"
      },
      "source": [
        "## Select one domain/chain of protein to work with"
      ]
    },
    {
      "cell_type": "code",
      "execution_count": null,
      "id": "854e2aee-c1fa-4cf6-9d79-5ed1c0a3c345",
      "metadata": {
        "id": "854e2aee-c1fa-4cf6-9d79-5ed1c0a3c345"
      },
      "outputs": [],
      "source": [
        "# From now on we will work with only one domain/chain of the target protein\n",
        "from Bio.PDB import PDBParser, Select, PDBIO\n",
        "\n",
        "class ChainSelector(Select):\n",
        "    def __init__(self, target_chain):\n",
        "        self.target_chain = target_chain\n",
        "    def accept_chain(self, chain):\n",
        "        return chain.id == self.target_chain\n",
        "\n",
        "# Load structure\n",
        "parser = PDBParser(QUIET=True)\n",
        "structure = parser.get_structure(\"protein\", f\"{protein_directory}/{pdb_id}.pdb\")\n",
        "\n",
        "# Save each chain (monomer) as a separate PDB\n",
        "#io = PDBIO()\n",
        "#for model in structure:\n",
        "#    for chain in model:\n",
        "#        chain_id = chain.id\n",
        "#        io.set_structure(structure)\n",
        "#        io.save(f\"monomer_{chain_id}.pdb\", ChainSelector(chain_id))\n",
        "\n",
        "# Save chain A as a separate PDB file\n",
        "io = PDBIO()\n",
        "io.set_structure(structure)\n",
        "io.save(f\"{protein_directory}/{pdb_id}_A.pdb\", ChainSelector(\"A\"))"
      ]
    },
    {
      "cell_type": "markdown",
      "id": "02bb542f-9c4e-4321-93dd-701e25ebd4f8",
      "metadata": {
        "id": "02bb542f-9c4e-4321-93dd-701e25ebd4f8"
      },
      "source": [
        "## Cleaning the Receptor PDB Structure"
      ]
    },
    {
      "cell_type": "code",
      "execution_count": null,
      "id": "9b017f92-29f9-49cf-96b8-df856f5f277a",
      "metadata": {
        "id": "9b017f92-29f9-49cf-96b8-df856f5f277a"
      },
      "outputs": [],
      "source": [
        "# Load the PDB into the PDBFixer class (Only run in case of monomer selection!!!)\n",
        "from pdbfixer import PDBFixer\n",
        "fixer = PDBFixer(filename=f\"{protein_directory}/{pdb_id}_A.pdb\")"
      ]
    },
    {
      "cell_type": "code",
      "execution_count": null,
      "id": "fb057f19-0828-4c47-85f0-524dcd46fab9",
      "metadata": {
        "id": "fb057f19-0828-4c47-85f0-524dcd46fab9"
      },
      "outputs": [],
      "source": [
        "# Fixing the structure at pH 7.4\n",
        "\n",
        "fixer.findMissingResidues()\n",
        "fixer.missingResidues\n",
        "fixer.findNonstandardResidues()\n",
        "print(fixer.nonstandardResidues)\n",
        "fixer.replaceNonstandardResidues()\n",
        "fixer.removeHeterogens(keepWater=False)\n",
        "fixer.findMissingAtoms()\n",
        "print(fixer.missingAtoms)\n",
        "print(fixer.missingTerminals)\n",
        "fixer.addMissingAtoms()\n",
        "fixer.addMissingHydrogens(pH=7.4)"
      ]
    },
    {
      "cell_type": "code",
      "execution_count": null,
      "id": "9437c7b4-e90a-44fb-be47-82a8092557f3",
      "metadata": {
        "id": "9437c7b4-e90a-44fb-be47-82a8092557f3"
      },
      "outputs": [],
      "source": [
        "from openmm.app import PDBFile\n",
        "with open(f\"{protein_directory}/{pdb_id}_A_fix_heavy.pdb\", 'w') as f:\n",
        "\n",
        "  # Toplology, Positions, file stream, and keep chain ID's\n",
        "  PDBFile.writeFile(fixer.topology, fixer.positions, f, True)"
      ]
    },
    {
      "cell_type": "code",
      "execution_count": null,
      "id": "fc2448e7-dc37-4171-9194-c58ffc52eef7",
      "metadata": {
        "id": "fc2448e7-dc37-4171-9194-c58ffc52eef7"
      },
      "outputs": [],
      "source": [
        "fixer.topology"
      ]
    },
    {
      "cell_type": "code",
      "execution_count": null,
      "id": "0aaed20e-1744-4c5f-9cf9-c4f7289d531d",
      "metadata": {
        "id": "0aaed20e-1744-4c5f-9cf9-c4f7289d531d"
      },
      "outputs": [],
      "source": [
        "with open(f\"{protein_directory}/{pdb_id}_A_all_atom.pdb\", 'w') as f:\n",
        "  # Toplology, Positions, file stream, and keep chain ID's\n",
        "  PDBFile.writeFile(fixer.topology, fixer.positions, f, True)"
      ]
    },
    {
      "cell_type": "code",
      "execution_count": null,
      "id": "6b4a5fd3-80aa-4021-bfcc-e21a1bd8271b",
      "metadata": {
        "id": "6b4a5fd3-80aa-4021-bfcc-e21a1bd8271b"
      },
      "outputs": [],
      "source": [
        "fixer.topology"
      ]
    },
    {
      "cell_type": "markdown",
      "id": "769cac44-2260-4a33-90be-50c0ac719155",
      "metadata": {
        "id": "769cac44-2260-4a33-90be-50c0ac719155"
      },
      "source": [
        "## Simple Energy Minimization"
      ]
    },
    {
      "cell_type": "code",
      "execution_count": null,
      "id": "d46dea7b-2976-457f-a70b-0e4861a407bf",
      "metadata": {
        "id": "d46dea7b-2976-457f-a70b-0e4861a407bf"
      },
      "outputs": [],
      "source": [
        "from pdbfixer import PDBFixer\n",
        "from openmm.app import ForceField\n",
        "from Bio.PDB import PDBParser, PDBIO\n",
        "\n",
        "# Load and fix the structure\n",
        "fixer = PDBFixer(filename=f\"{protein_directory}/{pdb_id}_A_fix_heavy.pdb\")\n",
        "fixer.findMissingResidues()\n",
        "fixer.findMissingAtoms()\n",
        "fixer.addMissingAtoms()\n",
        "fixer.addMissingHydrogens(pH=7.4)\n",
        "\n",
        "# Load a force field (e.g., Amber)\n",
        "forcefield = ForceField('amber19-all.xml', 'amber19/tip3pfb.xml')\n",
        "\n",
        "# Create OpenMM system for minimization\n",
        "#system = forcefield.createSystem(fixer.topology, ignoreExternalBonds=True)\n",
        "system = forcefield.createSystem(fixer.topology, ignoreExternalBonds=False)\n",
        "\n",
        "# Show our forces as OpenMM understands them\n",
        "system.getForces()"
      ]
    },
    {
      "cell_type": "code",
      "execution_count": null,
      "id": "0497f55f-e333-47f8-94bc-f526035440ec",
      "metadata": {
        "id": "0497f55f-e333-47f8-94bc-f526035440ec"
      },
      "outputs": [],
      "source": [
        "# Loop through residues and print residue numbers\n",
        "\n",
        "# Load structure\n",
        "parser = PDBParser(QUIET=True)\n",
        "structure = parser.get_structure(\"protein\", f\"{protein_directory}/{pdb_id}_A_fix_heavy.pdb\")\n",
        "\n",
        "for model in structure:\n",
        "    for chain in model:\n",
        "        for residue in chain:\n",
        "            res_id = residue.get_id()\n",
        "            res_num = res_id[1]  # residue number\n",
        "            res_name = residue.get_resname()\n",
        "            print(f\"Chain {chain.id}, Residue {res_name} {res_num}\")"
      ]
    },
    {
      "cell_type": "code",
      "execution_count": null,
      "id": "b3cb8ab3-751e-4737-aaf5-ea36e92f0e7a",
      "metadata": {
        "id": "b3cb8ab3-751e-4737-aaf5-ea36e92f0e7a"
      },
      "outputs": [],
      "source": [
        "from openmm import VerletIntegrator\n",
        "from openmm.app import Simulation\n",
        "import openmm.unit as unit\n",
        "\n",
        "# Use a generic VerletIntegrator\n",
        "integrator = VerletIntegrator(0.001 * unit.picoseconds)\n",
        "\n",
        "# Create simulation for minimization\n",
        "# Optional, if you have access to a CUDA GPU, comment out the next line and uncomment the one after it\n",
        "platform = None\n",
        "# platform = Platform.getPlatformByName('CUDA')\n",
        "\n",
        "# Define the OpenMM Simulation object, which serves as a convenince wrapper for the OpenMM Context and Reporter objects\n",
        "simulation = Simulation(fixer.topology, system, integrator, platform)\n",
        "# Set the position of our atoms\n",
        "simulation.context.setPositions(fixer.positions)"
      ]
    },
    {
      "cell_type": "code",
      "execution_count": null,
      "id": "0ea1b067-e8cf-4bda-92bd-e481cee69250",
      "metadata": {
        "id": "0ea1b067-e8cf-4bda-92bd-e481cee69250"
      },
      "outputs": [],
      "source": [
        "# Minimize energy\n",
        "print('Minimizing energy...')\n",
        "simulation.minimizeEnergy()"
      ]
    },
    {
      "cell_type": "code",
      "execution_count": null,
      "id": "8a7d2031-0256-4b1e-a033-46fc5f6f78b5",
      "metadata": {
        "id": "8a7d2031-0256-4b1e-a033-46fc5f6f78b5"
      },
      "outputs": [],
      "source": [
        "# Get minimized positions. We have to copy the positions of the compiled object back into Python's memory\n",
        "minimized_positions = simulation.context.getState(getPositions=True).getPositions()\n",
        "\n",
        "# Write minimized structure to a PDB file\n",
        "with open(f\"{protein_directory}/{pdb_id}_A_fixed.pdb\", 'w') as output:\n",
        "    PDBFile.writeFile(fixer.topology, minimized_positions, output)\n",
        "\n",
        "print(f'Minimization complete. Minimized structure saved to {protein_directory}/{pdb_id}_A_fixed_.pdb')"
      ]
    },
    {
      "cell_type": "markdown",
      "id": "a7986159-50d1-4b10-ba76-483a9f37d605",
      "metadata": {
        "id": "a7986159-50d1-4b10-ba76-483a9f37d605"
      },
      "source": [
        "## Adding Partial Charge Information to the Receptor for Docking"
      ]
    },
    {
      "cell_type": "code",
      "execution_count": null,
      "id": "9f377122-c7d3-44ac-a07e-06dd61897a07",
      "metadata": {
        "id": "9f377122-c7d3-44ac-a07e-06dd61897a07"
      },
      "outputs": [],
      "source": [
        "# Invoke OpenBabel's CLI from Python. Can also use subprocess as its safer, but os.system works fine here.\n",
        "receptor_pdbqt_path = f\"{protein_directory}/{pdb_id}_A.pdbqt\"\n",
        "receptor_fixed_path = f\"{protein_directory}/{pdb_id}_A_fixed.pdb\"\n",
        "\n",
        "# Generate the PDBQT file.\n",
        "# We could have \"--partialcharge <method>\" as a flag if we wanted to compute the partial charges, but this will just assume they are all \"0\"\n",
        "# The \"-xh\" flag preserves the hydrogens we worked so hard to get.\n",
        "os.system(f\"obabel -ipdb {receptor_fixed_path} -opdbqt -O {receptor_pdbqt_path}\")\n",
        "\n",
        "# If you get a status code \"2\" here, rerun it. You want status code 0"
      ]
    },
    {
      "cell_type": "code",
      "execution_count": null,
      "id": "c1de5cbd-9e72-4cd4-8eb1-3b8ecea90330",
      "metadata": {
        "id": "c1de5cbd-9e72-4cd4-8eb1-3b8ecea90330"
      },
      "outputs": [],
      "source": [
        "# view raw PDB\n",
        "import py3Dmol\n",
        "\n",
        "v = py3Dmol.view()\n",
        "v.addModel(open(f\"{protein_directory}/{pdb_id}_A_fixed.pdb\").read())\n",
        "v.setStyle({'chain':'A'}, {'cartoon': {'color': '#0e9674'}})\n",
        "v.setStyle({'chain':'B'}, {'cartoon': {'color': '#c46225'}})\n",
        "v.zoomTo({'model':0})\n",
        "v.rotate(90, \"z\")\n",
        "v.rotate(-25, \"y\")"
      ]
    },
    {
      "cell_type": "code",
      "execution_count": null,
      "id": "00c48ebc-2dab-4692-98c7-898e8bce9203",
      "metadata": {
        "id": "00c48ebc-2dab-4692-98c7-898e8bce9203"
      },
      "outputs": [],
      "source": [
        "# Voila! The protein is ready for docking!"
      ]
    }
  ],
  "metadata": {
    "colab": {
      "provenance": [],
      "include_colab_link": true
    },
    "kernelspec": {
      "display_name": "Python 3 (ipykernel)",
      "language": "python",
      "name": "python3"
    },
    "language_info": {
      "codemirror_mode": {
        "name": "ipython",
        "version": 3
      },
      "file_extension": ".py",
      "mimetype": "text/x-python",
      "name": "python",
      "nbconvert_exporter": "python",
      "pygments_lexer": "ipython3",
      "version": "3.12.3"
    }
  },
  "nbformat": 4,
  "nbformat_minor": 5
}