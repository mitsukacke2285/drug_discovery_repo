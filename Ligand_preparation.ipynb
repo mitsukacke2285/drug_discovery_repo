{
  "cells": [
    {
      "cell_type": "markdown",
      "metadata": {
        "id": "view-in-github",
        "colab_type": "text"
      },
      "source": [
        "<a href=\"https://colab.research.google.com/github/mitsukacke2285/drug_discovery_repo/blob/main/Ligand_preparation.ipynb\" target=\"_parent\"><img src=\"https://colab.research.google.com/assets/colab-badge.svg\" alt=\"Open In Colab\"/></a>"
      ]
    },
    {
      "cell_type": "markdown",
      "id": "5dc24758-9189-4621-95f8-bfaeeb6f1ecd",
      "metadata": {
        "id": "5dc24758-9189-4621-95f8-bfaeeb6f1ecd"
      },
      "source": [
        "# Ligand preparation"
      ]
    },
    {
      "cell_type": "markdown",
      "id": "5250703e-a66e-4f7a-a6af-80285c1c9147",
      "metadata": {
        "id": "5250703e-a66e-4f7a-a6af-80285c1c9147"
      },
      "source": [
        "# Step 1: Installation of dependencies\n",
        "\n",
        "Please install the following packages:\n",
        "* `PDBFixer`\n",
        "* `Biopython`\n",
        "* `MDAnalysis`\n",
        "* `RDKit`\n",
        "* `OpenMM` (and `OpenMMForceFields`)\n",
        "* `OpenBabel`\n",
        "* `Scrubber` (package: \"`molscrub`\")\n",
        "* `py3Dmol`"
      ]
    },
    {
      "cell_type": "code",
      "execution_count": null,
      "id": "b1e17718-c6d3-419f-a3a4-18b238f8a8a4",
      "metadata": {
        "colab": {
          "base_uri": "https://localhost:8080/"
        },
        "collapsed": true,
        "id": "b1e17718-c6d3-419f-a3a4-18b238f8a8a4",
        "jupyter": {
          "outputs_hidden": true
        },
        "outputId": "9782d38b-9e4c-47dd-9879-e43b78c29e81"
      },
      "outputs": [
        {
          "name": "stdout",
          "output_type": "stream",
          "text": [
            "Requirement already satisfied: rdkit in c:\\users\\pham.congdat\\appdata\\local\\anaconda3\\lib\\site-packages (2025.3.3)\n",
            "Requirement already satisfied: openmm in c:\\users\\pham.congdat\\appdata\\local\\anaconda3\\lib\\site-packages (8.3.1)\n",
            "Requirement already satisfied: mdanalysis in c:\\users\\pham.congdat\\appdata\\local\\anaconda3\\lib\\site-packages (2.9.0)\n",
            "Requirement already satisfied: molscrub in c:\\users\\pham.congdat\\appdata\\local\\anaconda3\\lib\\site-packages (0.1.1)\n",
            "Requirement already satisfied: py3dmol in c:\\users\\pham.congdat\\appdata\\local\\anaconda3\\lib\\site-packages (2.5.2)\n",
            "Requirement already satisfied: biopython in c:\\users\\pham.congdat\\appdata\\local\\anaconda3\\lib\\site-packages (1.85)\n",
            "Requirement already satisfied: numpy in c:\\users\\pham.congdat\\appdata\\local\\anaconda3\\lib\\site-packages (from rdkit) (1.26.4)\n",
            "Requirement already satisfied: Pillow in c:\\users\\pham.congdat\\appdata\\local\\anaconda3\\lib\\site-packages (from rdkit) (10.4.0)\n",
            "Requirement already satisfied: GridDataFormats>=0.4.0 in c:\\users\\pham.congdat\\appdata\\local\\anaconda3\\lib\\site-packages (from mdanalysis) (1.0.2)\n",
            "Requirement already satisfied: mmtf-python>=1.0.0 in c:\\users\\pham.congdat\\appdata\\local\\anaconda3\\lib\\site-packages (from mdanalysis) (1.1.3)\n",
            "Requirement already satisfied: joblib>=0.12 in c:\\users\\pham.congdat\\appdata\\local\\anaconda3\\lib\\site-packages (from mdanalysis) (1.4.2)\n",
            "Requirement already satisfied: scipy>=1.5.0 in c:\\users\\pham.congdat\\appdata\\local\\anaconda3\\lib\\site-packages (from mdanalysis) (1.13.1)\n",
            "Requirement already satisfied: matplotlib>=1.5.1 in c:\\users\\pham.congdat\\appdata\\local\\anaconda3\\lib\\site-packages (from mdanalysis) (3.9.2)\n",
            "Requirement already satisfied: tqdm>=4.43.0 in c:\\users\\pham.congdat\\appdata\\local\\anaconda3\\lib\\site-packages (from mdanalysis) (4.66.5)\n",
            "Requirement already satisfied: threadpoolctl in c:\\users\\pham.congdat\\appdata\\local\\anaconda3\\lib\\site-packages (from mdanalysis) (3.5.0)\n",
            "Requirement already satisfied: packaging in c:\\users\\pham.congdat\\appdata\\local\\anaconda3\\lib\\site-packages (from mdanalysis) (24.1)\n",
            "Requirement already satisfied: filelock in c:\\users\\pham.congdat\\appdata\\local\\anaconda3\\lib\\site-packages (from mdanalysis) (3.13.1)\n",
            "Requirement already satisfied: mda-xdrlib in c:\\users\\pham.congdat\\appdata\\local\\anaconda3\\lib\\site-packages (from mdanalysis) (0.2.0)\n",
            "Requirement already satisfied: mrcfile in c:\\users\\pham.congdat\\appdata\\local\\anaconda3\\lib\\site-packages (from GridDataFormats>=0.4.0->mdanalysis) (1.5.4)\n",
            "Requirement already satisfied: contourpy>=1.0.1 in c:\\users\\pham.congdat\\appdata\\local\\anaconda3\\lib\\site-packages (from matplotlib>=1.5.1->mdanalysis) (1.2.0)\n",
            "Requirement already satisfied: cycler>=0.10 in c:\\users\\pham.congdat\\appdata\\local\\anaconda3\\lib\\site-packages (from matplotlib>=1.5.1->mdanalysis) (0.11.0)\n",
            "Requirement already satisfied: fonttools>=4.22.0 in c:\\users\\pham.congdat\\appdata\\local\\anaconda3\\lib\\site-packages (from matplotlib>=1.5.1->mdanalysis) (4.51.0)\n",
            "Requirement already satisfied: kiwisolver>=1.3.1 in c:\\users\\pham.congdat\\appdata\\local\\anaconda3\\lib\\site-packages (from matplotlib>=1.5.1->mdanalysis) (1.4.4)\n",
            "Requirement already satisfied: pyparsing>=2.3.1 in c:\\users\\pham.congdat\\appdata\\local\\anaconda3\\lib\\site-packages (from matplotlib>=1.5.1->mdanalysis) (3.1.2)\n",
            "Requirement already satisfied: python-dateutil>=2.7 in c:\\users\\pham.congdat\\appdata\\local\\anaconda3\\lib\\site-packages (from matplotlib>=1.5.1->mdanalysis) (2.9.0.post0)\n",
            "Requirement already satisfied: msgpack>=1.0.0 in c:\\users\\pham.congdat\\appdata\\local\\anaconda3\\lib\\site-packages (from mmtf-python>=1.0.0->mdanalysis) (1.0.3)\n",
            "Requirement already satisfied: colorama in c:\\users\\pham.congdat\\appdata\\local\\anaconda3\\lib\\site-packages (from tqdm>=4.43.0->mdanalysis) (0.4.6)\n",
            "Requirement already satisfied: six>=1.5 in c:\\users\\pham.congdat\\appdata\\local\\anaconda3\\lib\\site-packages (from python-dateutil>=2.7->matplotlib>=1.5.1->mdanalysis) (1.16.0)\n",
            "Requirement already satisfied: pdbfixer in c:\\users\\pham.congdat\\appdata\\local\\anaconda3\\lib\\site-packages (1.11.0)\n",
            "Requirement already satisfied: numpy in c:\\users\\pham.congdat\\appdata\\local\\anaconda3\\lib\\site-packages (from pdbfixer) (1.26.4)\n",
            "Requirement already satisfied: openmm>=8.2 in c:\\users\\pham.congdat\\appdata\\local\\anaconda3\\lib\\site-packages (from pdbfixer) (8.3.1)\n"
          ]
        }
      ],
      "source": [
        "!pip install rdkit openmm mdanalysis molscrub py3dmol biopython\n",
        "!pip install pdbfixer"
      ]
    },
    {
      "cell_type": "code",
      "execution_count": null,
      "id": "2d82fe5b-36c1-4fce-9e9f-f4d3a5936cca",
      "metadata": {
        "colab": {
          "base_uri": "https://localhost:8080/"
        },
        "collapsed": true,
        "id": "2d82fe5b-36c1-4fce-9e9f-f4d3a5936cca",
        "jupyter": {
          "outputs_hidden": true
        },
        "outputId": "4c564dcf-8631-42e3-f218-d135aeb1d08f"
      },
      "outputs": [
        {
          "name": "stdout",
          "output_type": "stream",
          "text": [
            "^C\n",
            "Collecting git+https://github.com/openmm/pdbfixer.git\n",
            "  Cloning https://github.com/openmm/pdbfixer.git to c:\\users\\pham.congdat\\appdata\\local\\temp\\pip-req-build-qk1r12x6\n",
            "  Resolved https://github.com/openmm/pdbfixer.git to commit 0f701349b1d0b7c91d2ca0db78359274d0793400\n",
            "  Preparing metadata (setup.py): started\n",
            "  Preparing metadata (setup.py): finished with status 'done'\n",
            "Requirement already satisfied: numpy in c:\\users\\pham.congdat\\appdata\\local\\anaconda3\\lib\\site-packages (from pdbfixer==1.11.0) (1.26.4)\n",
            "Requirement already satisfied: openmm>=8.2 in c:\\users\\pham.congdat\\appdata\\local\\anaconda3\\lib\\site-packages (from pdbfixer==1.11.0) (8.3.1)\n"
          ]
        },
        {
          "name": "stderr",
          "output_type": "stream",
          "text": [
            "  Running command git clone --filter=blob:none --quiet https://github.com/openmm/pdbfixer.git 'C:\\Users\\pham.congdat\\AppData\\Local\\Temp\\pip-req-build-qk1r12x6'\n"
          ]
        }
      ],
      "source": [
        "# Run this cell if pdbfixer could not be installed on colab\n",
        "!pip install git+https://github.com/openmm/pdbfixer.git"
      ]
    },
    {
      "cell_type": "markdown",
      "id": "gjQHGjh8sAlH",
      "metadata": {
        "id": "gjQHGjh8sAlH"
      },
      "source": [
        "If running on colab, upload the following file:"
      ]
    },
    {
      "cell_type": "code",
      "execution_count": null,
      "id": "a8mbyyrasLzk",
      "metadata": {
        "colab": {
          "base_uri": "https://localhost:8080/",
          "height": 108
        },
        "collapsed": true,
        "id": "a8mbyyrasLzk",
        "jupyter": {
          "outputs_hidden": true
        },
        "outputId": "460fe15d-f733-4abd-ea8b-cd6381601adb"
      },
      "outputs": [
        {
          "data": {
            "text/html": [
              "\n",
              "     <input type=\"file\" id=\"files-7d526d3f-e21d-4106-b7ee-4d1339df18ab\" name=\"files[]\" multiple disabled\n",
              "        style=\"border:none\" />\n",
              "     <output id=\"result-7d526d3f-e21d-4106-b7ee-4d1339df18ab\">\n",
              "      Upload widget is only available when the cell has been executed in the\n",
              "      current browser session. Please rerun this cell to enable.\n",
              "      </output>\n",
              "      <script>// Copyright 2017 Google LLC\n",
              "//\n",
              "// Licensed under the Apache License, Version 2.0 (the \"License\");\n",
              "// you may not use this file except in compliance with the License.\n",
              "// You may obtain a copy of the License at\n",
              "//\n",
              "//      http://www.apache.org/licenses/LICENSE-2.0\n",
              "//\n",
              "// Unless required by applicable law or agreed to in writing, software\n",
              "// distributed under the License is distributed on an \"AS IS\" BASIS,\n",
              "// WITHOUT WARRANTIES OR CONDITIONS OF ANY KIND, either express or implied.\n",
              "// See the License for the specific language governing permissions and\n",
              "// limitations under the License.\n",
              "\n",
              "/**\n",
              " * @fileoverview Helpers for google.colab Python module.\n",
              " */\n",
              "(function(scope) {\n",
              "function span(text, styleAttributes = {}) {\n",
              "  const element = document.createElement('span');\n",
              "  element.textContent = text;\n",
              "  for (const key of Object.keys(styleAttributes)) {\n",
              "    element.style[key] = styleAttributes[key];\n",
              "  }\n",
              "  return element;\n",
              "}\n",
              "\n",
              "// Max number of bytes which will be uploaded at a time.\n",
              "const MAX_PAYLOAD_SIZE = 100 * 1024;\n",
              "\n",
              "function _uploadFiles(inputId, outputId) {\n",
              "  const steps = uploadFilesStep(inputId, outputId);\n",
              "  const outputElement = document.getElementById(outputId);\n",
              "  // Cache steps on the outputElement to make it available for the next call\n",
              "  // to uploadFilesContinue from Python.\n",
              "  outputElement.steps = steps;\n",
              "\n",
              "  return _uploadFilesContinue(outputId);\n",
              "}\n",
              "\n",
              "// This is roughly an async generator (not supported in the browser yet),\n",
              "// where there are multiple asynchronous steps and the Python side is going\n",
              "// to poll for completion of each step.\n",
              "// This uses a Promise to block the python side on completion of each step,\n",
              "// then passes the result of the previous step as the input to the next step.\n",
              "function _uploadFilesContinue(outputId) {\n",
              "  const outputElement = document.getElementById(outputId);\n",
              "  const steps = outputElement.steps;\n",
              "\n",
              "  const next = steps.next(outputElement.lastPromiseValue);\n",
              "  return Promise.resolve(next.value.promise).then((value) => {\n",
              "    // Cache the last promise value to make it available to the next\n",
              "    // step of the generator.\n",
              "    outputElement.lastPromiseValue = value;\n",
              "    return next.value.response;\n",
              "  });\n",
              "}\n",
              "\n",
              "/**\n",
              " * Generator function which is called between each async step of the upload\n",
              " * process.\n",
              " * @param {string} inputId Element ID of the input file picker element.\n",
              " * @param {string} outputId Element ID of the output display.\n",
              " * @return {!Iterable<!Object>} Iterable of next steps.\n",
              " */\n",
              "function* uploadFilesStep(inputId, outputId) {\n",
              "  const inputElement = document.getElementById(inputId);\n",
              "  inputElement.disabled = false;\n",
              "\n",
              "  const outputElement = document.getElementById(outputId);\n",
              "  outputElement.innerHTML = '';\n",
              "\n",
              "  const pickedPromise = new Promise((resolve) => {\n",
              "    inputElement.addEventListener('change', (e) => {\n",
              "      resolve(e.target.files);\n",
              "    });\n",
              "  });\n",
              "\n",
              "  const cancel = document.createElement('button');\n",
              "  inputElement.parentElement.appendChild(cancel);\n",
              "  cancel.textContent = 'Cancel upload';\n",
              "  const cancelPromise = new Promise((resolve) => {\n",
              "    cancel.onclick = () => {\n",
              "      resolve(null);\n",
              "    };\n",
              "  });\n",
              "\n",
              "  // Wait for the user to pick the files.\n",
              "  const files = yield {\n",
              "    promise: Promise.race([pickedPromise, cancelPromise]),\n",
              "    response: {\n",
              "      action: 'starting',\n",
              "    }\n",
              "  };\n",
              "\n",
              "  cancel.remove();\n",
              "\n",
              "  // Disable the input element since further picks are not allowed.\n",
              "  inputElement.disabled = true;\n",
              "\n",
              "  if (!files) {\n",
              "    return {\n",
              "      response: {\n",
              "        action: 'complete',\n",
              "      }\n",
              "    };\n",
              "  }\n",
              "\n",
              "  for (const file of files) {\n",
              "    const li = document.createElement('li');\n",
              "    li.append(span(file.name, {fontWeight: 'bold'}));\n",
              "    li.append(span(\n",
              "        `(${file.type || 'n/a'}) - ${file.size} bytes, ` +\n",
              "        `last modified: ${\n",
              "            file.lastModifiedDate ? file.lastModifiedDate.toLocaleDateString() :\n",
              "                                    'n/a'} - `));\n",
              "    const percent = span('0% done');\n",
              "    li.appendChild(percent);\n",
              "\n",
              "    outputElement.appendChild(li);\n",
              "\n",
              "    const fileDataPromise = new Promise((resolve) => {\n",
              "      const reader = new FileReader();\n",
              "      reader.onload = (e) => {\n",
              "        resolve(e.target.result);\n",
              "      };\n",
              "      reader.readAsArrayBuffer(file);\n",
              "    });\n",
              "    // Wait for the data to be ready.\n",
              "    let fileData = yield {\n",
              "      promise: fileDataPromise,\n",
              "      response: {\n",
              "        action: 'continue',\n",
              "      }\n",
              "    };\n",
              "\n",
              "    // Use a chunked sending to avoid message size limits. See b/62115660.\n",
              "    let position = 0;\n",
              "    do {\n",
              "      const length = Math.min(fileData.byteLength - position, MAX_PAYLOAD_SIZE);\n",
              "      const chunk = new Uint8Array(fileData, position, length);\n",
              "      position += length;\n",
              "\n",
              "      const base64 = btoa(String.fromCharCode.apply(null, chunk));\n",
              "      yield {\n",
              "        response: {\n",
              "          action: 'append',\n",
              "          file: file.name,\n",
              "          data: base64,\n",
              "        },\n",
              "      };\n",
              "\n",
              "      let percentDone = fileData.byteLength === 0 ?\n",
              "          100 :\n",
              "          Math.round((position / fileData.byteLength) * 100);\n",
              "      percent.textContent = `${percentDone}% done`;\n",
              "\n",
              "    } while (position < fileData.byteLength);\n",
              "  }\n",
              "\n",
              "  // All done.\n",
              "  yield {\n",
              "    response: {\n",
              "      action: 'complete',\n",
              "    }\n",
              "  };\n",
              "}\n",
              "\n",
              "scope.google = scope.google || {};\n",
              "scope.google.colab = scope.google.colab || {};\n",
              "scope.google.colab._files = {\n",
              "  _uploadFiles,\n",
              "  _uploadFilesContinue,\n",
              "};\n",
              "})(self);\n",
              "</script> "
            ],
            "text/plain": [
              "<IPython.core.display.HTML object>"
            ]
          },
          "metadata": {},
          "output_type": "display_data"
        },
        {
          "name": "stdout",
          "output_type": "stream",
          "text": [
            "Saving test1.csv to molecular_docking/protein_files/test1.csv\n"
          ]
        },
        {
          "data": {
            "text/plain": [
              "{'molecular_docking/protein_files/test1.csv': b'SMILES\\r\\nBrC1=CC(N/N=C/C2=CNN=N2)=CC=N1\\r\\nC1(/C=N/NC2=CC=NC=C2)=CNN=N1\\r\\nBrC1=CC(C(NCC2=CNN=N2)=O)=CC=N1\\r\\nFC(C1=CC(N/N=C/C2=CNN=N2)=CC=N1)(F)F\\r\\nCC(C)C1=CC(N/N=C/C2=CNN=N2)=CC=N1\\r\\nO=C(C1=CC=NC=C1)NCC2=CNN=N2\\r\\nO=C(C1=CC=NC(C(F)(F)F)=C1)NCC2=CNN=N2\\r\\nO=C(C1=CC=NC(C(C)C)=C1)NCC2=CNN=N2\\r\\n'}"
            ]
          },
          "execution_count": 29,
          "metadata": {},
          "output_type": "execute_result"
        }
      ],
      "source": [
        "# If using google colab please upload the following files: test1.csv and {pdb_id}_A.pdb\n",
        "from google.colab import files\n",
        "\n",
        "# Upload a {pdb_id}.pdb file from local PC to your Colab VM\n",
        "files.upload(\"molecular_docking/protein_files\")"
      ]
    },
    {
      "cell_type": "code",
      "execution_count": null,
      "id": "tfOSdOvv1GVl",
      "metadata": {
        "colab": {
          "base_uri": "https://localhost:8080/",
          "height": 108
        },
        "collapsed": true,
        "id": "tfOSdOvv1GVl",
        "jupyter": {
          "outputs_hidden": true
        },
        "outputId": "762f2607-6f7a-4775-a886-5142e309a595"
      },
      "outputs": [
        {
          "data": {
            "text/html": [
              "\n",
              "     <input type=\"file\" id=\"files-59e3c49c-9088-452a-bc70-0c0cf65b11a9\" name=\"files[]\" multiple disabled\n",
              "        style=\"border:none\" />\n",
              "     <output id=\"result-59e3c49c-9088-452a-bc70-0c0cf65b11a9\">\n",
              "      Upload widget is only available when the cell has been executed in the\n",
              "      current browser session. Please rerun this cell to enable.\n",
              "      </output>\n",
              "      <script>// Copyright 2017 Google LLC\n",
              "//\n",
              "// Licensed under the Apache License, Version 2.0 (the \"License\");\n",
              "// you may not use this file except in compliance with the License.\n",
              "// You may obtain a copy of the License at\n",
              "//\n",
              "//      http://www.apache.org/licenses/LICENSE-2.0\n",
              "//\n",
              "// Unless required by applicable law or agreed to in writing, software\n",
              "// distributed under the License is distributed on an \"AS IS\" BASIS,\n",
              "// WITHOUT WARRANTIES OR CONDITIONS OF ANY KIND, either express or implied.\n",
              "// See the License for the specific language governing permissions and\n",
              "// limitations under the License.\n",
              "\n",
              "/**\n",
              " * @fileoverview Helpers for google.colab Python module.\n",
              " */\n",
              "(function(scope) {\n",
              "function span(text, styleAttributes = {}) {\n",
              "  const element = document.createElement('span');\n",
              "  element.textContent = text;\n",
              "  for (const key of Object.keys(styleAttributes)) {\n",
              "    element.style[key] = styleAttributes[key];\n",
              "  }\n",
              "  return element;\n",
              "}\n",
              "\n",
              "// Max number of bytes which will be uploaded at a time.\n",
              "const MAX_PAYLOAD_SIZE = 100 * 1024;\n",
              "\n",
              "function _uploadFiles(inputId, outputId) {\n",
              "  const steps = uploadFilesStep(inputId, outputId);\n",
              "  const outputElement = document.getElementById(outputId);\n",
              "  // Cache steps on the outputElement to make it available for the next call\n",
              "  // to uploadFilesContinue from Python.\n",
              "  outputElement.steps = steps;\n",
              "\n",
              "  return _uploadFilesContinue(outputId);\n",
              "}\n",
              "\n",
              "// This is roughly an async generator (not supported in the browser yet),\n",
              "// where there are multiple asynchronous steps and the Python side is going\n",
              "// to poll for completion of each step.\n",
              "// This uses a Promise to block the python side on completion of each step,\n",
              "// then passes the result of the previous step as the input to the next step.\n",
              "function _uploadFilesContinue(outputId) {\n",
              "  const outputElement = document.getElementById(outputId);\n",
              "  const steps = outputElement.steps;\n",
              "\n",
              "  const next = steps.next(outputElement.lastPromiseValue);\n",
              "  return Promise.resolve(next.value.promise).then((value) => {\n",
              "    // Cache the last promise value to make it available to the next\n",
              "    // step of the generator.\n",
              "    outputElement.lastPromiseValue = value;\n",
              "    return next.value.response;\n",
              "  });\n",
              "}\n",
              "\n",
              "/**\n",
              " * Generator function which is called between each async step of the upload\n",
              " * process.\n",
              " * @param {string} inputId Element ID of the input file picker element.\n",
              " * @param {string} outputId Element ID of the output display.\n",
              " * @return {!Iterable<!Object>} Iterable of next steps.\n",
              " */\n",
              "function* uploadFilesStep(inputId, outputId) {\n",
              "  const inputElement = document.getElementById(inputId);\n",
              "  inputElement.disabled = false;\n",
              "\n",
              "  const outputElement = document.getElementById(outputId);\n",
              "  outputElement.innerHTML = '';\n",
              "\n",
              "  const pickedPromise = new Promise((resolve) => {\n",
              "    inputElement.addEventListener('change', (e) => {\n",
              "      resolve(e.target.files);\n",
              "    });\n",
              "  });\n",
              "\n",
              "  const cancel = document.createElement('button');\n",
              "  inputElement.parentElement.appendChild(cancel);\n",
              "  cancel.textContent = 'Cancel upload';\n",
              "  const cancelPromise = new Promise((resolve) => {\n",
              "    cancel.onclick = () => {\n",
              "      resolve(null);\n",
              "    };\n",
              "  });\n",
              "\n",
              "  // Wait for the user to pick the files.\n",
              "  const files = yield {\n",
              "    promise: Promise.race([pickedPromise, cancelPromise]),\n",
              "    response: {\n",
              "      action: 'starting',\n",
              "    }\n",
              "  };\n",
              "\n",
              "  cancel.remove();\n",
              "\n",
              "  // Disable the input element since further picks are not allowed.\n",
              "  inputElement.disabled = true;\n",
              "\n",
              "  if (!files) {\n",
              "    return {\n",
              "      response: {\n",
              "        action: 'complete',\n",
              "      }\n",
              "    };\n",
              "  }\n",
              "\n",
              "  for (const file of files) {\n",
              "    const li = document.createElement('li');\n",
              "    li.append(span(file.name, {fontWeight: 'bold'}));\n",
              "    li.append(span(\n",
              "        `(${file.type || 'n/a'}) - ${file.size} bytes, ` +\n",
              "        `last modified: ${\n",
              "            file.lastModifiedDate ? file.lastModifiedDate.toLocaleDateString() :\n",
              "                                    'n/a'} - `));\n",
              "    const percent = span('0% done');\n",
              "    li.appendChild(percent);\n",
              "\n",
              "    outputElement.appendChild(li);\n",
              "\n",
              "    const fileDataPromise = new Promise((resolve) => {\n",
              "      const reader = new FileReader();\n",
              "      reader.onload = (e) => {\n",
              "        resolve(e.target.result);\n",
              "      };\n",
              "      reader.readAsArrayBuffer(file);\n",
              "    });\n",
              "    // Wait for the data to be ready.\n",
              "    let fileData = yield {\n",
              "      promise: fileDataPromise,\n",
              "      response: {\n",
              "        action: 'continue',\n",
              "      }\n",
              "    };\n",
              "\n",
              "    // Use a chunked sending to avoid message size limits. See b/62115660.\n",
              "    let position = 0;\n",
              "    do {\n",
              "      const length = Math.min(fileData.byteLength - position, MAX_PAYLOAD_SIZE);\n",
              "      const chunk = new Uint8Array(fileData, position, length);\n",
              "      position += length;\n",
              "\n",
              "      const base64 = btoa(String.fromCharCode.apply(null, chunk));\n",
              "      yield {\n",
              "        response: {\n",
              "          action: 'append',\n",
              "          file: file.name,\n",
              "          data: base64,\n",
              "        },\n",
              "      };\n",
              "\n",
              "      let percentDone = fileData.byteLength === 0 ?\n",
              "          100 :\n",
              "          Math.round((position / fileData.byteLength) * 100);\n",
              "      percent.textContent = `${percentDone}% done`;\n",
              "\n",
              "    } while (position < fileData.byteLength);\n",
              "  }\n",
              "\n",
              "  // All done.\n",
              "  yield {\n",
              "    response: {\n",
              "      action: 'complete',\n",
              "    }\n",
              "  };\n",
              "}\n",
              "\n",
              "scope.google = scope.google || {};\n",
              "scope.google.colab = scope.google.colab || {};\n",
              "scope.google.colab._files = {\n",
              "  _uploadFiles,\n",
              "  _uploadFilesContinue,\n",
              "};\n",
              "})(self);\n",
              "</script> "
            ],
            "text/plain": [
              "<IPython.core.display.HTML object>"
            ]
          },
          "metadata": {},
          "output_type": "display_data"
        },
        {
          "name": "stdout",
          "output_type": "stream",
          "text": [
            "Saving test1.csv to molecular_docking/ligand_structures/test1.csv\n"
          ]
        },
        {
          "data": {
            "text/plain": [
              "{'molecular_docking/ligand_structures/test1.csv': b'SMILES\\r\\nBrC1=CC(N/N=C/C2=CNN=N2)=CC=N1\\r\\nC1(/C=N/NC2=CC=NC=C2)=CNN=N1\\r\\nBrC1=CC(C(NCC2=CNN=N2)=O)=CC=N1\\r\\nFC(C1=CC(N/N=C/C2=CNN=N2)=CC=N1)(F)F\\r\\nCC(C)C1=CC(N/N=C/C2=CNN=N2)=CC=N1\\r\\nO=C(C1=CC=NC=C1)NCC2=CNN=N2\\r\\nO=C(C1=CC=NC(C(F)(F)F)=C1)NCC2=CNN=N2\\r\\nO=C(C1=CC=NC(C(C)C)=C1)NCC2=CNN=N2\\r\\n'}"
            ]
          },
          "execution_count": 30,
          "metadata": {},
          "output_type": "execute_result"
        }
      ],
      "source": [
        "# Upload a test1.csv file from local PC to your Colab VM\n",
        "files.upload(\"molecular_docking/ligand_structures\")"
      ]
    },
    {
      "cell_type": "markdown",
      "id": "6f5b133c-831f-4923-aa21-14c6ff239a48",
      "metadata": {
        "id": "6f5b133c-831f-4923-aa21-14c6ff239a48"
      },
      "source": [
        "# Step 2: Building Atomistic Ligand Model"
      ]
    },
    {
      "cell_type": "markdown",
      "id": "f4b6cf2f-81aa-4305-9c25-ab1b6f7622f5",
      "metadata": {
        "id": "f4b6cf2f-81aa-4305-9c25-ab1b6f7622f5"
      },
      "source": [
        "## Step 2.1 Download PDB file"
      ]
    },
    {
      "cell_type": "code",
      "execution_count": null,
      "id": "b50f5d27-abf1-462d-b2e6-2f1bc5c19127",
      "metadata": {
        "colab": {
          "base_uri": "https://localhost:8080/"
        },
        "id": "b50f5d27-abf1-462d-b2e6-2f1bc5c19127",
        "outputId": "598abd08-7776-4885-a382-dcbf58dae0c4"
      },
      "outputs": [
        {
          "name": "stdin",
          "output_type": "stream",
          "text": [
            "Enter PDB code:  1XTJ\n"
          ]
        },
        {
          "name": "stdout",
          "output_type": "stream",
          "text": [
            "molecular_docking/protein_files\\1XTJ_A.pdb\n"
          ]
        }
      ],
      "source": [
        "import os\n",
        "import requests\n",
        "\n",
        "pdb_id = input(\"Enter PDB code: \") # The Protein ID we're looking at\n",
        "\n",
        "# Start by making a directory for us to work in and stage our intermediate files\n",
        "protein_directory = \"molecular_docking/protein_files\"\n",
        "protein_filename = f\"{pdb_id}_A.pdb\"\n",
        "protein_filepath = os.path.join(protein_directory, protein_filename)\n",
        "\n",
        "# Actually make the directory, the exist_ok flag lets the command execute even if the folder already exists. It does NOT overwrite existing data.\n",
        "os.makedirs(protein_directory, exist_ok=True)\n",
        "\n",
        "print(protein_filepath)"
      ]
    },
    {
      "cell_type": "markdown",
      "id": "c8a7344b-4eba-4573-b6d6-f84992967339",
      "metadata": {
        "id": "c8a7344b-4eba-4573-b6d6-f84992967339"
      },
      "source": [
        "## Step 2.2 Determine residues nearby the ligand with MDAnalysis"
      ]
    },
    {
      "cell_type": "code",
      "execution_count": null,
      "id": "72668d39-0885-4173-ab93-97d82344766c",
      "metadata": {
        "colab": {
          "base_uri": "https://localhost:8080/"
        },
        "id": "72668d39-0885-4173-ab93-97d82344766c",
        "outputId": "16902b42-0344-41b8-ba7f-4e7d02e6d23f"
      },
      "outputs": [
        {
          "name": "stdout",
          "output_type": "stream",
          "text": [
            "[ 65  67  72  92  93  94  95  96 162 165 196 197 323 633]\n",
            "[501 550 500]\n"
          ]
        }
      ],
      "source": [
        "import MDAnalysis as mda\n",
        "\n",
        "# Load the original PDB\n",
        "u = mda.Universe(f\"{protein_directory}/{pdb_id}_A.pdb\")\n",
        "\n",
        "# Select atoms using the MDAnalysis selection language\n",
        "ligand_select = \"segid A and record_type HETATM and not resname HOH\"\n",
        "ligand = u.select_atoms(ligand_select)\n",
        "\n",
        "# Find and residues within a certain distance from the ligand\n",
        "active_site = u.select_atoms(f\"around 3.5 group ligand and segid A\",\n",
        "                             periodic=False,\n",
        "                             ligand=ligand)  # Uses generic select_name=object as kwargs\n",
        "print(active_site.residues.resids)\n",
        "print(ligand.residues.resids)"
      ]
    },
    {
      "cell_type": "markdown",
      "id": "6fa8db14-8a83-4c11-abca-24fddc1494a9",
      "metadata": {
        "id": "6fa8db14-8a83-4c11-abca-24fddc1494a9"
      },
      "source": [
        "## Step 2.3 Select ligand bound in PDB structure"
      ]
    },
    {
      "cell_type": "code",
      "execution_count": null,
      "id": "aee5856a-e674-4f3a-b368-59247354b217",
      "metadata": {
        "colab": {
          "base_uri": "https://localhost:8080/"
        },
        "id": "aee5856a-e674-4f3a-b368-59247354b217",
        "outputId": "16cedbf5-8bf8-489b-e6a6-86ff70d4f6e9"
      },
      "outputs": [
        {
          "name": "stdout",
          "output_type": "stream",
          "text": [
            "0 MG\n",
            "1 ADP\n",
            "2 ACY\n"
          ]
        },
        {
          "name": "stdin",
          "output_type": "stream",
          "text": [
            "Enter index of ligand of interest:  1\n"
          ]
        },
        {
          "name": "stdout",
          "output_type": "stream",
          "text": [
            "You have selected ADP as your ligand.\n"
          ]
        }
      ],
      "source": [
        "import numpy as np\n",
        "\n",
        "ligands = u.select_atoms(\"not protein and not water\")\n",
        "i = -1 # index\n",
        "ligand_residue_names = ligands.residues.resnames\n",
        "\n",
        "# Loop through all ligands present and prints out their code\n",
        "for lig in ligand_residue_names:\n",
        "  i = i+1\n",
        "  print(i, lig)\n",
        "\n",
        "# Select the index of your ligand of interest\n",
        "ligand_id = np.unique(ligand_residue_names)[int(input('Enter index of ligand of interest: '))]\n",
        "print(f\"You have selected {ligand_id} as your ligand.\")"
      ]
    },
    {
      "cell_type": "markdown",
      "id": "3798a3d3-702d-4c5e-9825-01ae64ab53b8",
      "metadata": {
        "id": "3798a3d3-702d-4c5e-9825-01ae64ab53b8"
      },
      "source": [
        "## Step 2.4 Download the ideal ligand from the RCSB"
      ]
    },
    {
      "cell_type": "code",
      "execution_count": null,
      "id": "c351fdbb-dacc-4adf-8d84-08229277d164",
      "metadata": {
        "colab": {
          "base_uri": "https://localhost:8080/"
        },
        "id": "c351fdbb-dacc-4adf-8d84-08229277d164",
        "outputId": "7357888a-7ac8-423b-d990-a28514b6b13a"
      },
      "outputs": [
        {
          "name": "stdout",
          "output_type": "stream",
          "text": [
            "Downloading ligand ADP...\n",
            "Saved ligand to molecular_docking/ligand_structures/ADP_ideal.sdf\n"
          ]
        }
      ],
      "source": [
        "# The following cell executes the code for downloading the ideal ligand,\n",
        "# i.e. the co-crystallized ligand extracted from the PDB structure.\n",
        "# An ideal ligand is needed:\n",
        "# 1. align the pose of the extracted ligand with ideal ligand\n",
        "# 2. obtain the correct 3D coordinates for generating the docking grid box\n",
        "\n",
        "ligand_directory = \"molecular_docking/ligand_structures\"\n",
        "os.makedirs(ligand_directory, exist_ok=True)\n",
        "\n",
        "ideal_ligand_filename = f\"{ligand_id}_ideal.sdf\"\n",
        "print(f\"Downloading ligand {ligand_id}...\")\n",
        "ligand_url = f\"https://files.rcsb.org/ligands/download/{ideal_ligand_filename}\"\n",
        "ligand_request = requests.get(ligand_url)\n",
        "ligand_request.raise_for_status() # Check for errors\n",
        "\n",
        "ideal_filepath = f\"{ligand_directory}/{ideal_ligand_filename}\"\n",
        "\n",
        "with open(ideal_filepath, \"w\") as f:\n",
        "    f.write(ligand_request.text)\n",
        "print(f\"Saved ligand to {ideal_filepath}\")"
      ]
    },
    {
      "cell_type": "code",
      "execution_count": null,
      "id": "62d08a37-3338-4eed-9e67-3248bbbab727",
      "metadata": {
        "colab": {
          "base_uri": "https://localhost:8080/",
          "height": 417
        },
        "collapsed": true,
        "id": "62d08a37-3338-4eed-9e67-3248bbbab727",
        "jupyter": {
          "outputs_hidden": true
        },
        "outputId": "33d3413d-b80d-40ed-b907-9df88d0774ff"
      },
      "outputs": [
        {
          "data": {
            "text/html": [
              "\n",
              "      <div style=\"height:400px; overflow:auto;\">\n",
              "          <pre>ADP\n",
              "  CCTOOLS-0131251006\n",
              "\n",
              " 42 44  0  0  1  0  0  0  0  0999 V2000\n",
              "    1.1620   -0.2210   -5.6850 P   0  0  0  0  0\n",
              "    1.7250    1.1330   -5.4920 O   0  0  0  0  0\n",
              "    2.1900   -1.1120   -6.5460 O   0  0  0  0  0\n",
              "   -0.2400   -0.1130   -6.4670 O   0  0  0  0  0\n",
              "   -0.1050    0.0250   -3.4460 P   0  0  0  0  0\n",
              "    0.4760    1.3760   -3.2880 O   0  0  0  0  0\n",
              "   -1.4870    0.1290   -4.2660 O   0  0  0  0  0\n",
              "    0.9250   -0.9130   -4.2500 O   0  0  0  0  0\n",
              "   -0.3890   -0.6090   -1.9940 O   0  0  0  0  0\n",
              "   -1.3070    0.2640   -1.3330 C   0  0  0  0  0\n",
              "   -1.6200   -0.2840    0.0590 C   0  0  0  0  0\n",
              "   -0.4170   -0.3480    0.8570 O   0  0  0  0  0\n",
              "   -2.5500    0.6830    0.8250 C   0  0  0  0  0\n",
              "   -3.9070    0.2450    0.7390 O   0  0  0  0  0\n",
              "   -2.0470    0.6110    2.2860 C   0  0  0  0  0\n",
              "   -3.0800    0.1290    3.1480 O   0  0  0  0  0\n",
              "   -0.8710   -0.3880    2.2270 C   0  0  0  0  0\n",
              "    0.2010    0.0310    3.1320 N   0  0  0  0  0\n",
              "    1.2310    0.8700    2.8270 C   0  0  0  0  0\n",
              "    2.0000    1.0270    3.8650 N   0  0  0  0  0\n",
              "    1.5090    0.3050    4.9020 C   0  0  0  0  0\n",
              "    1.9100    0.0870    6.2310 C   0  0  0  0  0\n",
              "    3.0440    0.6970    6.7380 N   0  0  0  0  0\n",
              "    1.1710   -0.7140    6.9910 N   0  0  0  0  0\n",
              "    0.0880   -1.3000    6.5160 C   0  0  0  0  0\n",
              "   -0.3210   -1.1300    5.2770 N   0  0  0  0  0\n",
              "    0.3530   -0.3460    4.4420 C   0  0  0  0  0\n",
              "    2.3040   -0.6640   -7.3960 H   0  0  0  0  0\n",
              "   -0.5720   -1.0160   -6.5710 H   0  0  0  0  0\n",
              "   -1.8330   -0.7700   -4.3460 H   0  0  0  0  0\n",
              "   -2.2270    0.3300   -1.9130 H   0  0  0  0  0\n",
              "   -0.8620    1.2550   -1.2420 H   0  0  0  0  0\n",
              "   -2.0780   -1.2700   -0.0150 H   0  0  0  0  0\n",
              "   -2.4510    1.6960    0.4350 H   0  0  0  0  0\n",
              "   -4.4390    0.8840    1.2330 H   0  0  0  0  0\n",
              "   -1.6990    1.5890    2.6180 H   0  0  0  0  0\n",
              "   -3.8070    0.7640    3.0940 H   0  0  0  0  0\n",
              "   -1.2120   -1.3910    2.4850 H   0  0  0  0  0\n",
              "    1.3870    1.3350    1.8650 H   0  0  0  0  0\n",
              "    3.3080    0.5420    7.6580 H   0  0  0  0  0\n",
              "    3.5770    1.2770    6.1720 H   0  0  0  0  0\n",
              "   -0.4820   -1.9440    7.1690 H   0  0  0  0  0\n",
              "  1  2  2  0  0  0\n",
              "  1  3  1  0  0  0\n",
              "  1  4  1  0  0  0\n",
              "  1  8  1  0  0  0\n",
              "  3 28  1  0  0  0\n",
              "  4 29  1  0  0  0\n",
              "  5  6  2  0  0  0\n",
              "  5  7  1  0  0  0\n",
              "  5  8  1  0  0  0\n",
              "  5  9  1  0  0  0\n",
              "  7 30  1  0  0  0\n",
              "  9 10  1  0  0  0\n",
              " 10 11  1  0  0  0\n",
              " 10 31  1  0  0  0\n",
              " 10 32  1  0  0  0\n",
              " 11 12  1  0  0  0\n",
              " 11 13  1  0  0  0\n",
              " 11 33  1  0  0  0\n",
              " 12 17  1  0  0  0\n",
              " 13 14  1  0  0  0\n",
              " 13 15  1  0  0  0\n",
              " 13 34  1  0  0  0\n",
              " 14 35  1  0  0  0\n",
              " 15 16  1  0  0  0\n",
              " 15 17  1  0  0  0\n",
              " 15 36  1  0  0  0\n",
              " 16 37  1  0  0  0\n",
              " 17 18  1  0  0  0\n",
              " 17 38  1  0  0  0\n",
              " 18 19  1  0  0  0\n",
              " 18 27  1  0  0  0\n",
              " 19 20  2  0  0  0\n",
              " 19 39  1  0  0  0\n",
              " 20 21  1  0  0  0\n",
              " 21 22  1  0  0  0\n",
              " 21 27  2  0  0  0\n",
              " 22 23  1  0  0  0\n",
              " 22 24  2  0  0  0\n",
              " 23 40  1  0  0  0\n",
              " 23 41  1  0  0  0\n",
              " 24 25  1  0  0  0\n",
              " 25 26  2  0  0  0\n",
              " 25 42  1  0  0  0\n",
              " 26 27  1  0  0  0\n",
              "M  END\n",
              "$$$$\n",
              "</pre>\n",
              "      </div>\n",
              "      "
            ],
            "text/plain": [
              "<IPython.core.display.HTML object>"
            ]
          },
          "metadata": {},
          "output_type": "display_data"
        }
      ],
      "source": [
        "# Display raw PDB file\n",
        "from IPython.display import display, HTML\n",
        "\n",
        "def render_text(text_blob):\n",
        "  # Helper function for displaying text in Jupyter Notebooks in a scrollable object\n",
        "  html = f\"\"\"\n",
        "      <div style=\"height:400px; overflow:auto;\">\n",
        "          <pre>{text_blob}</pre>\n",
        "      </div>\n",
        "      \"\"\"\n",
        "  display(HTML(html))\n",
        "\n",
        "render_text(ligand_request.text)"
      ]
    },
    {
      "cell_type": "markdown",
      "id": "c439bb29-ba60-44f5-87bb-2732e7e9250d",
      "metadata": {
        "id": "c439bb29-ba60-44f5-87bb-2732e7e9250d"
      },
      "source": [
        "## Step 2.5 Split the ligand out into its own PDB file from the experimental one"
      ]
    },
    {
      "cell_type": "code",
      "execution_count": null,
      "id": "547ff2ac-e8f9-423a-9ed3-6772d93320f7",
      "metadata": {
        "id": "547ff2ac-e8f9-423a-9ed3-6772d93320f7"
      },
      "outputs": [],
      "source": [
        "# Split the ligand out into its own PDB file from the experimental one\n",
        "single_pose_ligand = ligand.select_atoms(\"segid A\")\n",
        "single_pose_ligand.write(f\"{ligand_directory}/{ligand_id}_fromPDB.pdb\")"
      ]
    },
    {
      "cell_type": "markdown",
      "id": "89c13272-b619-4dd3-9705-22eda7f3424d",
      "metadata": {
        "id": "89c13272-b619-4dd3-9705-22eda7f3424d"
      },
      "source": [
        "# Step 3 Ligand preparation - Extracted ligand"
      ]
    },
    {
      "cell_type": "markdown",
      "id": "15cdada7-296f-4503-94e0-b9a7e8ac7f35",
      "metadata": {
        "id": "15cdada7-296f-4503-94e0-b9a7e8ac7f35"
      },
      "source": [
        "## Step 3.1 Rdkit - Partial preparation and correcting the pose of extracted ligand"
      ]
    },
    {
      "cell_type": "code",
      "execution_count": null,
      "id": "0f93183e-fce5-425b-9321-39aaaf75419a",
      "metadata": {
        "colab": {
          "base_uri": "https://localhost:8080/"
        },
        "id": "0f93183e-fce5-425b-9321-39aaaf75419a",
        "outputId": "78064586-1483-496a-d3ba-b7a3cb71fa4e"
      },
      "outputs": [
        {
          "name": "stderr",
          "output_type": "stream",
          "text": [
            "[15:40:34] Warning: molecule is tagged as 2D, but at least one Z coordinate is not zero. Marking the mol as 3D.\n",
            "[15:40:34] Initializing MetalDisconnector\n",
            "[15:40:34] Running MetalDisconnector\n",
            "[15:40:34] Running FragmentRemover\n",
            "[15:40:34] Removed fragment: magnesium\n",
            "[15:40:34] Running LargestFragmentChooser\n",
            "[15:40:34] Fragment: NC1NCNC2C1NCN2[C@@H]1O[C@H](CO[PH](O)(O)O[PH](O)(O)O)[C@@H](O)[C@H]1O\n",
            "[15:40:34] New largest fragment: NC1NCNC2C1NCN2[C@@H]1O[C@H](CO[PH](O)(O)O[PH](O)(O)O)[C@@H](O)[C@H]1O (54)\n",
            "[15:40:34] Fragment: CC(O)O\n",
            "[15:40:34] WARNING: More than one matching pattern found - picking one\n",
            "\n"
          ]
        },
        {
          "name": "stdout",
          "output_type": "stream",
          "text": [
            "Match found: Stereoisomer 32: Nc1ncnc2c1ncn2[C@@H]1O[C@H](CO[P@](=O)(O)OP(=O)(O)O)[C@@H](O)[C@H]1O\n"
          ]
        }
      ],
      "source": [
        "# The following cell executes the code to partially prepare and correct the 3D orientation (pose) of the extracted ligand,\n",
        "# and save it as {ligand_id}_corrected_pose.sdf which will be later used to generate a grid box for docking.\n",
        "\n",
        "from rdkit import Chem\n",
        "from rdkit.Chem import AllChem\n",
        "from rdkit.Chem.MolStandardize import rdMolStandardize\n",
        "from rdkit.Chem.EnumerateStereoisomers import EnumerateStereoisomers, StereoEnumerationOptions\n",
        "\n",
        "# Load and remove the hydrogens that we can't map anyways yet.\n",
        "ideal_mol = Chem.MolFromMolFile(f\"{ligand_directory}/{ligand_id}_ideal.sdf\", removeHs=True)\n",
        "pose_mol = Chem.MolFromPDBFile(f\"{ligand_directory}/{ligand_id}_fromPDB.pdb\", removeHs=True)\n",
        "\n",
        "# Disconnect any organometal\n",
        "rdMolStandardize.DisconnectOrganometallicsInPlace(pose_mol)\n",
        "\n",
        "# Remove disconnected fragments\n",
        "fragmenter = rdMolStandardize.FragmentRemover()\n",
        "pose_mol_f = fragmenter.remove(pose_mol)\n",
        "\n",
        "# Choose largest fragment\n",
        "chooser = rdMolStandardize.LargestFragmentChooser()\n",
        "pose_mol_lf = chooser.choose(pose_mol_f)\n",
        "\n",
        "# Set options: include tetrahedral and double bond stereoisomers\n",
        "options = StereoEnumerationOptions(tryEmbedding=True, onlyUnassigned=False)\n",
        "\n",
        "# Assign bond orders from the template to the pose molecule\n",
        "corrected_pose = AllChem.AssignBondOrdersFromTemplate(ideal_mol, pose_mol_lf)\n",
        "\n",
        "# Generate stereoisomers and select the one that matches ideal_mol\n",
        "isomers = tuple(EnumerateStereoisomers(corrected_pose, options=options))\n",
        "\n",
        "ideal_smi = Chem.MolToSmiles(ideal_mol, isomericSmiles=True)\n",
        "\n",
        "for i, j in enumerate(isomers):\n",
        "    smi = Chem.MolToSmiles(j, isomericSmiles=True)\n",
        "    #print(f\"Stereoisomer {i+1}: {smi}\")\n",
        "    if smi == ideal_smi:\n",
        "        print(f\"Match found: Stereoisomer {i+1}: {smi}\")\n",
        "        corrected_smi = smi\n",
        "\n",
        "corrected_pose = Chem.MolFromSmiles(corrected_smi)\n",
        "\n",
        "# Add hydrogens back to the corrected pose\n",
        "corrected_pose_with_H = Chem.AddHs(corrected_pose, addCoords=True)\n",
        "\n",
        "# Sanity to check to make sure the molecule is right (check smiles of both)\n",
        "assert Chem.MolToSmiles(corrected_pose) == Chem.MolToSmiles(ideal_mol)\n",
        "\n",
        "# Save the corrected pose to an SDF file\n",
        "ligand_corrected_pose_file = f\"{ligand_directory}/{ligand_id}_corrected_pose.sdf\"\n",
        "writer = Chem.SDWriter(ligand_corrected_pose_file)\n",
        "writer.write(corrected_pose_with_H)\n",
        "writer.close()"
      ]
    },
    {
      "cell_type": "code",
      "execution_count": null,
      "id": "81991d65-22cf-4ff5-b233-b76ff906d980",
      "metadata": {
        "id": "81991d65-22cf-4ff5-b233-b76ff906d980",
        "outputId": "9a426ce2-54cb-4e4e-ef2b-89831ec914ef"
      },
      "outputs": [
        {
          "name": "stdout",
          "output_type": "stream",
          "text": [
            "Nc1ncnc2c1ncn2[C@@H]1O[C@H](CO[P@](=O)(O)OP(=O)(O)O)[C@@H](O)[C@H]1O\n",
            "Nc1ncnc2c1ncn2[C@@H]1O[C@H](CO[P@](=O)(O)OP(=O)(O)O)[C@@H](O)[C@H]1O\n"
          ]
        }
      ],
      "source": [
        "# Comparison of SMILES of prepared extracted ligand with ideal liagnd\n",
        "print(Chem.MolToSmiles(corrected_pose))\n",
        "print(Chem.MolToSmiles(ideal_mol))"
      ]
    },
    {
      "cell_type": "code",
      "execution_count": null,
      "id": "6dbee233-4d56-4974-a714-2c293deff66c",
      "metadata": {
        "id": "6dbee233-4d56-4974-a714-2c293deff66c",
        "outputId": "7486e4ba-8e4c-4c4d-ef76-71fc408899c4"
      },
      "outputs": [
        {
          "data": {
            "image/png": "[encoded data removed]",
            "text/plain": [
              "<rdkit.Chem.rdchem.Mol at 0x1d4c9256730>"
            ]
          },
          "execution_count": 50,
          "metadata": {},
          "output_type": "execute_result"
        }
      ],
      "source": [
        "# Check our molecule from RDKit. Doesn't have rotation, but its neat to see in a Jupyter Notebook for just invoking it\n",
        "from rdkit.Chem import AllChem, Draw\n",
        "\n",
        "AllChem.Compute2DCoords(corrected_pose_with_H)\n",
        "Draw.MolToImage(corrected_pose_with_H)\n",
        "\n",
        "corrected_pose_with_H"
      ]
    },
    {
      "cell_type": "code",
      "execution_count": null,
      "id": "1695ca62-0df1-403f-8a01-121e3ed1f5ac",
      "metadata": {
        "colab": {
          "base_uri": "https://localhost:8080/"
        },
        "id": "1695ca62-0df1-403f-8a01-121e3ed1f5ac",
        "outputId": "ef44da2f-29c9-4da3-91be-a87cf69371ed"
      },
      "outputs": [
        {
          "name": "stdout",
          "output_type": "stream",
          "text": [
            "Corrected pose SMILES: [H]O[C@@]1([H])[C@@]([H])(O[H])[C@]([H])(n2c([H])nc3c(N([H])[H])nc([H])nc32)O[C@]1([H])C([H])([H])O[P@](=O)(O[H])OP(=O)(O[H])O[H]\n",
            "Corrected mols:  Nc1ncnc2c1ncn2[C@@H]1O[C@H](CO[P@](=O)(O)OP(=O)(O)O)[C@@H](O)[C@H]1O\n",
            "Ideal mol SMILES: Nc1ncnc2c1ncn2[C@@H]1O[C@H](CO[P@](=O)(O)OP(=O)(O)O)[C@@H](O)[C@H]1O\n"
          ]
        },
        {
          "data": {
            "text/plain": [
              "<AtomGroup with 3139 atoms>"
            ]
          },
          "execution_count": 51,
          "metadata": {},
          "output_type": "execute_result"
        }
      ],
      "source": [
        "# Check results\n",
        "print(\"Corrected pose SMILES:\", Chem.MolToSmiles(corrected_pose_with_H))\n",
        "\n",
        "supp = Chem.SDMolSupplier(f\"{ligand_directory}/{ligand_id}_corrected_pose.sdf\")\n",
        "\n",
        "for mol in supp:\n",
        "    if mol is not None:\n",
        "        print(\"Corrected mols: \", Chem.MolToSmiles(mol))\n",
        "\n",
        "print(\"Ideal mol SMILES:\", Chem.MolToSmiles(ideal_mol))\n",
        "\n",
        "u.select_atoms(\"segid A\")"
      ]
    },
    {
      "cell_type": "markdown",
      "id": "f0c2f714-54ac-4639-9144-e368ea3f9656",
      "metadata": {
        "id": "f0c2f714-54ac-4639-9144-e368ea3f9656"
      },
      "source": [
        "## Step 3.2 Creating tautomers (optional)"
      ]
    },
    {
      "cell_type": "code",
      "execution_count": null,
      "id": "173c6584-1ab5-47ce-b130-5f44b9ddbc48",
      "metadata": {
        "id": "173c6584-1ab5-47ce-b130-5f44b9ddbc48"
      },
      "outputs": [],
      "source": [
        "from rdkit.Chem.MolStandardize import rdMolStandardize\n",
        "# Initialize enumerator\n",
        "tautomer_enumerator = rdMolStandardize.TautomerEnumerator()\n",
        "# Provide RDKit Mol object to generate.\n",
        "# We already made this, but you may start from a SMILE string or other source\n",
        "# Remember, use the structure with implicit hydrogens!\n",
        "tautomers = tautomer_enumerator.Enumerate(corrected_pose)\n",
        "# Take the TautomerEnumerationResults object and iterate over to get a list of structures\n",
        "tautomers_list = [t for t in tautomers]\n",
        "\n",
        "'''\n",
        "Note! This may generate duplicate structures,\n",
        "You may want to cast these Mol objects into SMILES strings, de-duplicate,\n",
        "then rebuild the Mol objects to map their coordinates back onto the reference structure\n",
        "'''\n",
        "\n",
        "# Cast to a set to make unique, then back to a list (as some tautomers can be enumerated again for some structures)\n",
        "smiles_set_tautomers = set(Chem.MolToSmiles(t) for t in tautomers_list)\n",
        "tautomer_list_unique = list(smiles_set_tautomers)\n",
        "# We know the ligand structure does have unique tautomers, this is just a sanity check\n",
        "assert len(tautomers_list) == len(tautomer_list_unique)"
      ]
    },
    {
      "cell_type": "code",
      "execution_count": null,
      "id": "a675d0a6-6129-4e65-a862-998d614c9986",
      "metadata": {
        "id": "a675d0a6-6129-4e65-a862-998d614c9986"
      },
      "outputs": [],
      "source": [
        "ligand_tautomers = f\"{ligand_directory}/{ligand_id}_tautomers.sdf\"\n",
        "writer = Chem.SDWriter(ligand_tautomers)\n",
        "for t in tautomers_list:\n",
        "  writer.write(t)\n",
        "writer.close()"
      ]
    },
    {
      "cell_type": "code",
      "execution_count": null,
      "id": "f7a1c812-8b24-42c3-aafe-15855e707c5e",
      "metadata": {
        "colab": {
          "base_uri": "https://localhost:8080/"
        },
        "collapsed": true,
        "id": "f7a1c812-8b24-42c3-aafe-15855e707c5e",
        "jupyter": {
          "outputs_hidden": true
        },
        "outputId": "318e9b0c-229c-467d-c7e2-f0e767fc4511"
      },
      "outputs": [
        {
          "name": "stdout",
          "output_type": "stream",
          "text": [
            "N=c1[nH]cnc2c1ncn2[C@@H]1O[C@H](CO[P@](=O)(O)OP(=O)(O)O)[C@@H](O)[C@H]1O\n",
            "N=c1nc[nH]c2c1ncn2[C@@H]1O[C@H](CO[P@](=O)(O)OP(=O)(O)O)[C@@H](O)[C@H]1O\n",
            "Nc1ncnc2c1ncn2[C@@H]1O[C@H](CO[P@](=O)(O)OP(=O)(O)O)[C@@H](O)[C@H]1O\n"
          ]
        }
      ],
      "source": [
        "for t in tautomer_list_unique:\n",
        "  print(t)"
      ]
    },
    {
      "cell_type": "code",
      "execution_count": null,
      "id": "9642627d-8d69-4bf5-a19e-6cef04cd4355",
      "metadata": {
        "colab": {
          "base_uri": "https://localhost:8080/",
          "height": 217
        },
        "id": "9642627d-8d69-4bf5-a19e-6cef04cd4355",
        "outputId": "58cf541d-7196-41af-f5eb-fad9d0ae1f8c"
      },
      "outputs": [
        {
          "data": {
            "image/png": "[encoded data removed]",
            "text/plain": [
              "<IPython.core.display.Image object>"
            ]
          },
          "execution_count": 26,
          "metadata": {},
          "output_type": "execute_result"
        }
      ],
      "source": [
        "from rdkit.Chem import Draw\n",
        "Draw.MolsToGridImage([Chem.MolFromSmiles(t) for t in tautomer_list_unique])"
      ]
    },
    {
      "cell_type": "markdown",
      "id": "bcce3eaa-ce37-4039-9ca7-f5f2176255b5",
      "metadata": {
        "id": "bcce3eaa-ce37-4039-9ca7-f5f2176255b5"
      },
      "source": [
        "## Step 3.3 Execute Scrubber to prepare extracted ligand"
      ]
    },
    {
      "cell_type": "code",
      "execution_count": null,
      "id": "66b3c1f4-df7d-4d2c-9569-226db22cf09f",
      "metadata": {
        "colab": {
          "base_uri": "https://localhost:8080/"
        },
        "id": "66b3c1f4-df7d-4d2c-9569-226db22cf09f",
        "outputId": "58c1e7c5-347f-4805-88ba-5357889d1847"
      },
      "outputs": [
        {
          "name": "stdout",
          "output_type": "stream",
          "text": [
            "Scrub completed.\n",
            "Summary of what happened:\n",
            "Input molecules supplied: 1\n",
            "mols processed: 1, skipped by rdkit: 0, failed: 0\n",
            "nr isomers (tautomers and acid/base conjugates): 3 (avg. 3.000 per mol)\n",
            "nr conformers:  3 (avg. 1.000 per isomer, 3.000 per mol)\n"
          ]
        },
        {
          "data": {
            "text/plain": [
              "0"
            ]
          },
          "execution_count": 52,
          "metadata": {},
          "output_type": "execute_result"
        }
      ],
      "source": [
        "from rdkit import Chem\n",
        "from scrubber import Scrub\n",
        "\n",
        "!scrub.py molecular_docking/ligand_structures/ADP_corrected_pose.sdf -o molecular_docking/ligand_structures/ADP.sdf\n",
        "\n",
        "# Create our PDBQT to keep our hydrogens\n",
        "ligand_pdbqt_filename = f\"{ligand_directory}/{ligand_id}.pdbqt\"\n",
        "os.system(f\"obabel {ligand_corrected_pose_file} -O {ligand_pdbqt_filename} -xh\")"
      ]
    },
    {
      "cell_type": "code",
      "execution_count": null,
      "id": "1b5c682a-c440-4b3a-8793-68975dddc5c7",
      "metadata": {
        "id": "1b5c682a-c440-4b3a-8793-68975dddc5c7",
        "outputId": "815bcc85-dff4-4e3b-c3d4-b38887841f5b"
      },
      "outputs": [
        {
          "name": "stdout",
          "output_type": "stream",
          "text": [
            "Corrected pose SMILES: [H]O[C@@]1([H])[C@@]([H])(O[H])[C@]([H])(n2c([H])nc3c(N([H])[H])nc([H])nc32)O[C@]1([H])C([H])([H])O[P@](=O)(O[H])OP(=O)(O[H])O[H]\n",
            "Tautomer mol 10:  Nc1ncnc2c1ncn2[C@@H]1O[C@H](CO[P@](=O)([O-])OP(=O)([O-])[O-])[C@@H](O)[C@H]1O\n",
            "Tautomer mol 11:  N=c1[nH]cnc2c1ncn2[C@@H]1O[C@H](CO[P@](=O)([O-])OP(=O)([O-])[O-])[C@@H](O)[C@H]1O\n",
            "Tautomer mol 12:  N=c1nc[nH]c2c1ncn2[C@@H]1O[C@H](CO[P@](=O)([O-])OP(=O)([O-])[O-])[C@@H](O)[C@H]1O\n",
            "Ideal mol smile: Nc1ncnc2c1ncn2[C@@H]1O[C@H](CO[P@](=O)(O)OP(=O)(O)O)[C@@H](O)[C@H]1O\n"
          ]
        },
        {
          "data": {
            "text/plain": [
              "<AtomGroup with 3139 atoms>"
            ]
          },
          "execution_count": 34,
          "metadata": {},
          "output_type": "execute_result"
        }
      ],
      "source": [
        "# Check results\n",
        "print(\"Corrected pose SMILES:\", Chem.MolToSmiles(corrected_pose_with_H))\n",
        "\n",
        "supp = Chem.SDMolSupplier(f\"{ligand_directory}/{ligand_id}.sdf\")\n",
        "\n",
        "for mol in supp:\n",
        "    if mol is not None:\n",
        "        i += 1\n",
        "        print(f\"Tautomer mol {i}: \", Chem.MolToSmiles(mol))\n",
        "\n",
        "print(\"Ideal mol smile:\", Chem.MolToSmiles(ideal_mol))\n",
        "\n",
        "u.select_atoms(\"segid A\")"
      ]
    },
    {
      "cell_type": "code",
      "execution_count": null,
      "id": "9d413647-6526-4717-8e14-8e3beff375c7",
      "metadata": {
        "collapsed": true,
        "id": "9d413647-6526-4717-8e14-8e3beff375c7",
        "jupyter": {
          "outputs_hidden": true
        }
      },
      "outputs": [],
      "source": [
        "# Voila! The ligand is ready for docking!"
      ]
    },
    {
      "cell_type": "markdown",
      "id": "2bc7e482-93f1-4fb1-a631-8a8973178d54",
      "metadata": {
        "id": "2bc7e482-93f1-4fb1-a631-8a8973178d54"
      },
      "source": [
        "# Step 4 Ligand preparation - multiple ligands"
      ]
    },
    {
      "cell_type": "markdown",
      "id": "35067173-9ce1-4d77-8316-552b4abf849c",
      "metadata": {
        "id": "35067173-9ce1-4d77-8316-552b4abf849c"
      },
      "source": [
        "## Step 4.1 Load the SMILES strings into RDKit and write back out an SDF file"
      ]
    },
    {
      "cell_type": "code",
      "execution_count": null,
      "id": "89fb5170-595d-4350-858c-8ed3d29c127f",
      "metadata": {
        "colab": {
          "base_uri": "https://localhost:8080/"
        },
        "id": "89fb5170-595d-4350-858c-8ed3d29c127f",
        "outputId": "3374d3d8-23f3-4fc5-e3f4-ba3231d830eb"
      },
      "outputs": [
        {
          "name": "stdout",
          "output_type": "stream",
          "text": [
            "Brc1cc(N/N=C/c2c[nH]nn2)ccn1\n",
            "C(=N/Nc1ccncc1)\\c1c[nH]nn1\n",
            "O=C(NCc1c[nH]nn1)c1ccnc(Br)c1\n",
            "FC(F)(F)c1cc(N/N=C/c2c[nH]nn2)ccn1\n",
            "CC(C)c1cc(N/N=C/c2c[nH]nn2)ccn1\n",
            "O=C(NCc1c[nH]nn1)c1ccncc1\n",
            "O=C(NCc1c[nH]nn1)c1ccnc(C(F)(F)F)c1\n",
            "CC(C)c1cc(C(=O)NCc2c[nH]nn2)ccn1\n"
          ]
        },
        {
          "name": "stderr",
          "output_type": "stream",
          "text": [
            "[15:43:42] WARNING: no name column found on line 1\n",
            "[15:43:42] WARNING: no name column found on line 2\n",
            "[15:43:42] WARNING: no name column found on line 3\n",
            "[15:43:42] WARNING: no name column found on line 4\n",
            "[15:43:42] WARNING: no name column found on line 5\n",
            "[15:43:42] WARNING: no name column found on line 6\n",
            "[15:43:42] WARNING: no name column found on line 7\n",
            "[15:43:42] WARNING: no name column found on line 8\n"
          ]
        }
      ],
      "source": [
        "# Default delimiter is tab (\\t), so we need to specify \",\"\n",
        "smiles_supplier = Chem.SmilesMolSupplier(f\"{ligand_directory}/test1.csv\", delimiter=\",\")\n",
        "mols = []  # Could do this in list comprehension, adding a sanity check\n",
        "for mol in smiles_supplier:\n",
        "  print(Chem.MolToSmiles(mol))  # Sanity check that we got the smiles strings and not metadata\n",
        "  mols.append(mol)\n",
        "\n",
        "# Write out our molecules\n",
        "ligands_to_dock_dirty = f\"{ligand_directory}/ligands_to_dock_dirty.sdf\"\n",
        "writer = Chem.SDWriter(ligands_to_dock_dirty)\n",
        "for m in mols:\n",
        "  writer.write(m)\n",
        "writer.close()"
      ]
    },
    {
      "cell_type": "markdown",
      "id": "252130c8-ba60-4516-8103-2f7144fe04d4",
      "metadata": {
        "id": "252130c8-ba60-4516-8103-2f7144fe04d4"
      },
      "source": [
        "## Step 4.2 Execute Scrubber to prepare multiple ligands"
      ]
    },
    {
      "cell_type": "code",
      "execution_count": null,
      "id": "8f08fb6d-fc7e-4951-80c9-0b1dac257b89",
      "metadata": {
        "colab": {
          "base_uri": "https://localhost:8080/"
        },
        "id": "8f08fb6d-fc7e-4951-80c9-0b1dac257b89",
        "outputId": "4ce87694-6c11-4b5c-bf7b-dd8b3791450d"
      },
      "outputs": [
        {
          "name": "stdout",
          "output_type": "stream",
          "text": [
            "Scrub completed.\n",
            "Summary of what happened:\n",
            "Input molecules supplied: 8\n",
            "mols processed: 8, skipped by rdkit: 0, failed: 0\n",
            "nr isomers (tautomers and acid/base conjugates): 52 (avg. 6.500 per mol)\n",
            "nr conformers:  52 (avg. 1.000 per isomer, 6.500 per mol)\n"
          ]
        }
      ],
      "source": [
        "!scrub.py molecular_docking/ligand_structures/ligands_to_dock_dirty.sdf -o molecular_docking/ligand_structures/ligands_to_dock.sdf"
      ]
    },
    {
      "cell_type": "code",
      "execution_count": null,
      "id": "ffd94be9-528e-46f2-9842-6cb0ee16fdb5",
      "metadata": {
        "colab": {
          "base_uri": "https://localhost:8080/",
          "height": 198
        },
        "id": "ffd94be9-528e-46f2-9842-6cb0ee16fdb5",
        "outputId": "af40928e-9f34-4065-acff-3248aaf44d50"
      },
      "outputs": [
        {
          "data": {
            "image/png": "[encoded data removed]",
            "text/html": [
              "<table><tr><td colspan=\"2\" style=\"text-align: center;\"><image src=\"data:image/png;base64,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\"></td></tr>\n",
              "<tr><th style=\"text-align: right\">ScrubInfo</th><td style=\"text-align: left\">{&quot;isomerGroup&quot;: 7, &quot;isomerId&quot;: 9, &quot;confId&quot;: 0, &quot;nr_conformers:&quot;: 1, &quot;nr_isomers:&quot;: 10}</td></tr></table>"
            ],
            "text/plain": [
              "<rdkit.Chem.rdchem.Mol at 0x1d4c93d8350>"
            ]
          },
          "execution_count": 63,
          "metadata": {},
          "output_type": "execute_result"
        }
      ],
      "source": [
        "# Sanity check we got a structure with hydrogens\n",
        "# RDKit automatically removes hydrogens by default (needed for most of the kit to work)\n",
        "# But we're explicitly looking for them here, we can just load them and check\n",
        "supplier = Chem.SDMolSupplier(f\"{ligand_directory}/ligands_to_dock.sdf\", removeHs=True)\n",
        "reloaded_ligands = [mol for mol in supplier]\n",
        "# The last structure will be the same as the last in list comprehension above\n",
        "reloaded_ligands[-1]"
      ]
    },
    {
      "cell_type": "markdown",
      "id": "226d57b0-6707-4675-9283-e70266c0c1f7",
      "metadata": {
        "id": "226d57b0-6707-4675-9283-e70266c0c1f7"
      },
      "source": [
        "# Visualization tool py3Dmol"
      ]
    },
    {
      "cell_type": "code",
      "execution_count": null,
      "id": "e8b6e3f7-97c8-490e-91c0-bb6e2e48f8fc",
      "metadata": {
        "colab": {
          "base_uri": "https://localhost:8080/",
          "height": 514
        },
        "collapsed": true,
        "id": "e8b6e3f7-97c8-490e-91c0-bb6e2e48f8fc",
        "jupyter": {
          "outputs_hidden": true
        },
        "outputId": "6fceb87b-88ba-4d8f-cd13-3c0869e7d5ed"
      },
      "outputs": [
        {
          "data": {
            "application/3dmoljs_load.v0": "<div id=\"3dmolviewer_17610458351154525\"  style=\"position: relative; width: 640px; height: 480px;\">\n        <p id=\"3dmolwarning_17610458351154525\" style=\"background-color:#ffcccc;color:black\">3Dmol.js failed to load for some reason.  Please check your browser console for error messages.<br></p>\n        </div>\n<script>\n\nvar loadScriptAsync = function(uri){\n  return new Promise((resolve, reject) => {\n    //this is to ignore the existence of requirejs amd\n    var savedexports, savedmodule;\n    if (typeof exports !== 'undefined') savedexports = exports;\n    else exports = {}\n    if (typeof module !== 'undefined') savedmodule = module;\n    else module = {}\n\n    var tag = document.createElement('script');\n    tag.src = uri;\n    tag.async = true;\n    tag.onload = () => {\n        exports = savedexports;\n        module = savedmodule;\n        resolve();\n    };\n  var firstScriptTag = document.getElementsByTagName('script')[0];\n  firstScriptTag.parentNode.insertBefore(tag, firstScriptTag);\n});\n};\n\nif(typeof $3Dmolpromise === 'undefined') {\n$3Dmolpromise = null;\n  $3Dmolpromise = loadScriptAsync('https://cdn.jsdelivr.net/npm/3dmol@2.5.2/build/3Dmol-min.js');\n}\n\nvar viewer_17610458351154525 = null;\nvar warn = document.getElementById(\"3dmolwarning_17610458351154525\");\nif(warn) {\n    warn.parentNode.removeChild(warn);\n}\n$3Dmolpromise.then(function() {\nviewer_17610458351154525 = $3Dmol.createViewer(document.getElementById(\"3dmolviewer_17610458351154525\"),{backgroundColor:\"white\"});\nviewer_17610458351154525.zoomTo();\n\tviewer_17610458351154525.addModel(\"HEADER    \\nTITLE     MDANALYSIS FRAME 0: Created by PDBWriter\\nCRYST1    1.000    1.000    1.000  90.00  90.00  90.00 P 1           1\\nREMARK     285 UNITARY VALUES FOR THE UNIT CELL AUTOMATICALLY SET\\nREMARK     285 BY MDANALYSIS PDBWRITER BECAUSE UNIT CELL INFORMATION\\nREMARK     285 WAS MISSING.\\nREMARK     285 PROTEIN DATA BANK CONVENTIONS REQUIRE THAT\\nREMARK     285 CRYST1 RECORD IS INCLUDED, BUT THE VALUES ON\\nREMARK     285 THIS RECORD ARE MEANINGLESS.\\nHETATM    1 MG   MG  A 501      -2.238   0.276   6.689  1.00 35.96      A   MG  \\nHETATM    2  PB  ADP A 550      -3.149   0.741   9.991  1.00 44.78      A    P  \\nHETATM    3  O1B ADP A 550      -2.247   1.892  10.218  1.00 47.11      A    O  \\nHETATM    4  O2B ADP A 550      -4.595   1.101   9.982  1.00 42.99      A    O  \\nHETATM    5  O3B ADP A 550      -2.710  -0.075   8.721  1.00 46.25      A    O  \\nHETATM    6  PA  ADP A 550      -2.360  -1.622  11.416  1.00 44.86      A    P  \\nHETATM    7  O1A ADP A 550      -3.225  -2.600  10.643  1.00 41.65      A    O  \\nHETATM    8  O2A ADP A 550      -0.901  -1.640  11.053  1.00 44.56      A    O  \\nHETATM    9  O3A ADP A 550      -2.922  -0.165  11.268  1.00 43.22      A    O  \\nHETATM   10  O5' ADP A 550      -2.682  -1.945  12.938  1.00 43.86      A    O  \\nHETATM   11  C5' ADP A 550      -2.042  -1.166  13.994  1.00 41.85      A    C  \\nHETATM   12  C4' ADP A 550      -1.235  -1.967  15.012  1.00 41.92      A    C  \\nHETATM   13  O4' ADP A 550      -2.079  -2.424  16.095  1.00 42.66      A    O  \\nHETATM   14  C3' ADP A 550      -0.519  -3.228  14.510  1.00 41.42      A    C  \\nHETATM   15  O3' ADP A 550       0.797  -3.251  15.106  1.00 43.24      A    O  \\nHETATM   16  C2' ADP A 550      -1.452  -4.371  14.922  1.00 40.99      A    C  \\nHETATM   17  O2' ADP A 550      -0.735  -5.557  15.314  1.00 42.77      A    O  \\nHETATM   18  C1' ADP A 550      -2.238  -3.829  16.126  1.00 42.17      A    C  \\nHETATM   19  N9  ADP A 550      -3.722  -4.177  16.100  1.00 40.01      A    N  \\nHETATM   20  C8  ADP A 550      -4.554  -4.237  15.026  1.00 39.19      A    C  \\nHETATM   21  N7  ADP A 550      -5.817  -4.579  15.353  1.00 38.44      A    N  \\nHETATM   22  C5  ADP A 550      -5.774  -4.739  16.697  1.00 36.87      A    C  \\nHETATM   23  C6  ADP A 550      -6.801  -5.107  17.655  1.00 34.81      A    C  \\nHETATM   24  N6  ADP A 550      -8.024  -5.363  17.392  1.00 32.30      A    N  \\nHETATM   25  N1  ADP A 550      -6.357  -5.170  18.964  1.00 35.12      A    N  \\nHETATM   26  C2  ADP A 550      -5.050  -4.911  19.347  1.00 35.52      A    C  \\nHETATM   27  N3  ADP A 550      -4.094  -4.571  18.482  1.00 37.55      A    N  \\nHETATM   28  C4  ADP A 550      -4.489  -4.497  17.182  1.00 38.21      A    C  \\nHETATM   29  C   ACY A 500       3.971 -25.273  -7.525  1.00 66.65      A    C  \\nHETATM   30  O   ACY A 500       4.837 -26.207  -7.239  1.00 66.10      A    O  \\nHETATM   31  OXT ACY A 500       3.043 -24.987  -6.788  1.00 66.78      A    O  \\nHETATM   32  CH3 ACY A 500       4.187 -24.558  -8.846  1.00 66.07      A    C  \\nEND\\n\");\n\tviewer_17610458351154525.addModel(\"\\n     RDKit          3D\\n\\n 42 44  0  0  0  0  0  0  0  0999 V2000\\n   -3.1490    0.7410    9.9910 P   0  0  0  0  0  0  0  0  0  0  0  0\\n   -2.2470    1.8920   10.2180 O   0  0  0  0  0  0  0  0  0  0  0  0\\n   -4.5950    1.1010    9.9820 O   0  0  0  0  0  0  0  0  0  0  0  0\\n   -2.7100   -0.0750    8.7210 O   0  0  0  0  0  0  0  0  0  0  0  0\\n   -2.3600   -1.6220   11.4160 P   0  0  0  0  0  0  0  0  0  0  0  0\\n   -3.2250   -2.6000   10.6430 O   0  0  0  0  0  0  0  0  0  0  0  0\\n   -0.9010   -1.6400   11.0530 O   0  0  0  0  0  0  0  0  0  0  0  0\\n   -2.9220   -0.1650   11.2680 O   0  0  0  0  0  0  0  0  0  0  0  0\\n   -2.6820   -1.9450   12.9380 O   0  0  0  0  0  0  0  0  0  0  0  0\\n   -2.0420   -1.1660   13.9940 C   0  0  0  0  0  0  0  0  0  0  0  0\\n   -1.2350   -1.9670   15.0120 C   0  0  1  0  0  0  0  0  0  0  0  0\\n   -2.0790   -2.4240   16.0950 O   0  0  0  0  0  0  0  0  0  0  0  0\\n   -0.5190   -3.2280   14.5100 C   0  0  1  0  0  0  0  0  0  0  0  0\\n    0.7970   -3.2510   15.1060 O   0  0  0  0  0  0  0  0  0  0  0  0\\n   -1.4520   -4.3710   14.9220 C   0  0  1  0  0  0  0  0  0  0  0  0\\n   -0.7350   -5.5570   15.3140 O   0  0  0  0  0  0  0  0  0  0  0  0\\n   -2.2380   -3.8290   16.1260 C   0  0  2  0  0  0  0  0  0  0  0  0\\n   -3.7220   -4.1770   16.1000 N   0  0  0  0  0  0  0  0  0  0  0  0\\n   -4.5540   -4.2370   15.0260 C   0  0  0  0  0  0  0  0  0  0  0  0\\n   -5.8170   -4.5790   15.3530 N   0  0  0  0  0  0  0  0  0  0  0  0\\n   -5.7740   -4.7390   16.6970 C   0  0  0  0  0  0  0  0  0  0  0  0\\n   -6.8010   -5.1070   17.6550 C   0  0  0  0  0  0  0  0  0  0  0  0\\n   -8.0240   -5.3630   17.3920 N   0  0  0  0  0  0  0  0  0  0  0  0\\n   -6.3570   -5.1700   18.9640 N   0  0  0  0  0  0  0  0  0  0  0  0\\n   -5.0500   -4.9110   19.3470 C   0  0  0  0  0  0  0  0  0  0  0  0\\n   -4.0940   -4.5710   18.4820 N   0  0  0  0  0  0  0  0  0  0  0  0\\n   -4.4890   -4.4970   17.1820 C   0  0  0  0  0  0  0  0  0  0  0  0\\n   -4.9207    1.1821   10.9134 H   0  0  0  0  0  0  0  0  0  0  0  0\\n   -2.2606   -0.9103    9.0046 H   0  0  0  0  0  0  0  0  0  0  0  0\\n   -0.3555   -1.6467   11.8791 H   0  0  0  0  0  0  0  0  0  0  0  0\\n   -1.3626   -0.4443   13.5169 H   0  0  0  0  0  0  0  0  0  0  0  0\\n   -2.8615   -0.7003   14.5611 H   0  0  0  0  0  0  0  0  0  0  0  0\\n   -0.4660   -1.2370   15.3048 H   0  0  0  0  0  0  0  0  0  0  0  0\\n   -0.3419   -3.2921   13.4262 H   0  0  0  0  0  0  0  0  0  0  0  0\\n    0.7126   -3.2495   16.0924 H   0  0  0  0  0  0  0  0  0  0  0  0\\n   -2.0913   -4.6667   14.0771 H   0  0  0  0  0  0  0  0  0  0  0  0\\n   -0.7021   -5.6113   16.3020 H   0  0  0  0  0  0  0  0  0  0  0  0\\n   -1.8474   -4.2899   17.0452 H   0  0  0  0  0  0  0  0  0  0  0  0\\n   -4.2300   -4.0280   13.9958 H   0  0  0  0  0  0  0  0  0  0  0  0\\n   -8.6722   -5.6154   18.1516 H   0  0  0  0  0  0  0  0  0  0  0  0\\n   -8.3623   -5.3171   16.4202 H   0  0  0  0  0  0  0  0  0  0  0  0\\n   -4.7899   -4.9896   20.4129 H   0  0  0  0  0  0  0  0  0  0  0  0\\n  2  1  2  0\\n  3  1  1  0\\n  4  1  1  0\\n  6  5  2  0\\n  7  5  1  0\\n  8  1  1  0\\n  8  5  1  0\\n  9  5  1  0\\n 10  9  1  0\\n 11 10  1  0\\n 12 11  1  0\\n 13 11  1  0\\n 14 13  1  0\\n 15 13  1  0\\n 16 15  1  0\\n 17 15  1  0\\n 17 12  1  0\\n 18 17  1  0\\n 19 18  1  0\\n 20 19  2  0\\n 21 20  1  0\\n 22 21  2  0\\n 23 22  1  0\\n 24 22  1  0\\n 25 24  2  0\\n 26 25  1  0\\n 27 21  1  0\\n 27 18  1  0\\n 27 26  2  0\\n  3 28  1  0\\n  4 29  1  0\\n  7 30  1  0\\n 10 31  1  0\\n 10 32  1  0\\n 11 33  1  1\\n 13 34  1  6\\n 14 35  1  0\\n 15 36  1  6\\n 16 37  1  0\\n 17 38  1  1\\n 19 39  1  0\\n 23 40  1  0\\n 23 41  1  0\\n 25 42  1  0\\nM  END\\n$$$$\\n\");\n\tviewer_17610458351154525.addModel(\"ADP\\n  CCTOOLS-0131251006\\n\\n 42 44  0  0  1  0  0  0  0  0999 V2000\\n    1.1620   -0.2210   -5.6850 P   0  0  0  0  0\\n    1.7250    1.1330   -5.4920 O   0  0  0  0  0\\n    2.1900   -1.1120   -6.5460 O   0  0  0  0  0\\n   -0.2400   -0.1130   -6.4670 O   0  0  0  0  0\\n   -0.1050    0.0250   -3.4460 P   0  0  0  0  0\\n    0.4760    1.3760   -3.2880 O   0  0  0  0  0\\n   -1.4870    0.1290   -4.2660 O   0  0  0  0  0\\n    0.9250   -0.9130   -4.2500 O   0  0  0  0  0\\n   -0.3890   -0.6090   -1.9940 O   0  0  0  0  0\\n   -1.3070    0.2640   -1.3330 C   0  0  0  0  0\\n   -1.6200   -0.2840    0.0590 C   0  0  0  0  0\\n   -0.4170   -0.3480    0.8570 O   0  0  0  0  0\\n   -2.5500    0.6830    0.8250 C   0  0  0  0  0\\n   -3.9070    0.2450    0.7390 O   0  0  0  0  0\\n   -2.0470    0.6110    2.2860 C   0  0  0  0  0\\n   -3.0800    0.1290    3.1480 O   0  0  0  0  0\\n   -0.8710   -0.3880    2.2270 C   0  0  0  0  0\\n    0.2010    0.0310    3.1320 N   0  0  0  0  0\\n    1.2310    0.8700    2.8270 C   0  0  0  0  0\\n    2.0000    1.0270    3.8650 N   0  0  0  0  0\\n    1.5090    0.3050    4.9020 C   0  0  0  0  0\\n    1.9100    0.0870    6.2310 C   0  0  0  0  0\\n    3.0440    0.6970    6.7380 N   0  0  0  0  0\\n    1.1710   -0.7140    6.9910 N   0  0  0  0  0\\n    0.0880   -1.3000    6.5160 C   0  0  0  0  0\\n   -0.3210   -1.1300    5.2770 N   0  0  0  0  0\\n    0.3530   -0.3460    4.4420 C   0  0  0  0  0\\n    2.3040   -0.6640   -7.3960 H   0  0  0  0  0\\n   -0.5720   -1.0160   -6.5710 H   0  0  0  0  0\\n   -1.8330   -0.7700   -4.3460 H   0  0  0  0  0\\n   -2.2270    0.3300   -1.9130 H   0  0  0  0  0\\n   -0.8620    1.2550   -1.2420 H   0  0  0  0  0\\n   -2.0780   -1.2700   -0.0150 H   0  0  0  0  0\\n   -2.4510    1.6960    0.4350 H   0  0  0  0  0\\n   -4.4390    0.8840    1.2330 H   0  0  0  0  0\\n   -1.6990    1.5890    2.6180 H   0  0  0  0  0\\n   -3.8070    0.7640    3.0940 H   0  0  0  0  0\\n   -1.2120   -1.3910    2.4850 H   0  0  0  0  0\\n    1.3870    1.3350    1.8650 H   0  0  0  0  0\\n    3.3080    0.5420    7.6580 H   0  0  0  0  0\\n    3.5770    1.2770    6.1720 H   0  0  0  0  0\\n   -0.4820   -1.9440    7.1690 H   0  0  0  0  0\\n  1  2  2  0  0  0\\n  1  3  1  0  0  0\\n  1  4  1  0  0  0\\n  1  8  1  0  0  0\\n  3 28  1  0  0  0\\n  4 29  1  0  0  0\\n  5  6  2  0  0  0\\n  5  7  1  0  0  0\\n  5  8  1  0  0  0\\n  5  9  1  0  0  0\\n  7 30  1  0  0  0\\n  9 10  1  0  0  0\\n 10 11  1  0  0  0\\n 10 31  1  0  0  0\\n 10 32  1  0  0  0\\n 11 12  1  0  0  0\\n 11 13  1  0  0  0\\n 11 33  1  0  0  0\\n 12 17  1  0  0  0\\n 13 14  1  0  0  0\\n 13 15  1  0  0  0\\n 13 34  1  0  0  0\\n 14 35  1  0  0  0\\n 15 16  1  0  0  0\\n 15 17  1  0  0  0\\n 15 36  1  0  0  0\\n 16 37  1  0  0  0\\n 17 18  1  0  0  0\\n 17 38  1  0  0  0\\n 18 19  1  0  0  0\\n 18 27  1  0  0  0\\n 19 20  2  0  0  0\\n 19 39  1  0  0  0\\n 20 21  1  0  0  0\\n 21 22  1  0  0  0\\n 21 27  2  0  0  0\\n 22 23  1  0  0  0\\n 22 24  2  0  0  0\\n 23 40  1  0  0  0\\n 23 41  1  0  0  0\\n 24 25  1  0  0  0\\n 25 26  2  0  0  0\\n 25 42  1  0  0  0\\n 26 27  1  0  0  0\\nM  END\\n$$$$\\n\");\n\tviewer_17610458351154525.setStyle({\"model\": 0},{\"stick\": {\"color\": \"#0e9674\"}});\n\tviewer_17610458351154525.setStyle({\"model\": 1},{\"stick\": {\"color\": \"#c46225\"}});\n\tviewer_17610458351154525.zoomTo({\"model\": 0});\nviewer_17610458351154525.render();\n});\n</script>",
            "text/html": [
              "<div id=\"3dmolviewer_17610458351154525\"  style=\"position: relative; width: 640px; height: 480px;\">\n",
              "        <p id=\"3dmolwarning_17610458351154525\" style=\"background-color:#ffcccc;color:black\">3Dmol.js failed to load for some reason.  Please check your browser console for error messages.<br></p>\n",
              "        </div>\n",
              "<script>\n",
              "\n",
              "var loadScriptAsync = function(uri){\n",
              "  return new Promise((resolve, reject) => {\n",
              "    //this is to ignore the existence of requirejs amd\n",
              "    var savedexports, savedmodule;\n",
              "    if (typeof exports !== 'undefined') savedexports = exports;\n",
              "    else exports = {}\n",
              "    if (typeof module !== 'undefined') savedmodule = module;\n",
              "    else module = {}\n",
              "\n",
              "    var tag = document.createElement('script');\n",
              "    tag.src = uri;\n",
              "    tag.async = true;\n",
              "    tag.onload = () => {\n",
              "        exports = savedexports;\n",
              "        module = savedmodule;\n",
              "        resolve();\n",
              "    };\n",
              "  var firstScriptTag = document.getElementsByTagName('script')[0];\n",
              "  firstScriptTag.parentNode.insertBefore(tag, firstScriptTag);\n",
              "});\n",
              "};\n",
              "\n",
              "if(typeof $3Dmolpromise === 'undefined') {\n",
              "$3Dmolpromise = null;\n",
              "  $3Dmolpromise = loadScriptAsync('https://cdn.jsdelivr.net/npm/3dmol@2.5.2/build/3Dmol-min.js');\n",
              "}\n",
              "\n",
              "var viewer_17610458351154525 = null;\n",
              "var warn = document.getElementById(\"3dmolwarning_17610458351154525\");\n",
              "if(warn) {\n",
              "    warn.parentNode.removeChild(warn);\n",
              "}\n",
              "$3Dmolpromise.then(function() {\n",
              "viewer_17610458351154525 = $3Dmol.createViewer(document.getElementById(\"3dmolviewer_17610458351154525\"),{backgroundColor:\"white\"});\n",
              "viewer_17610458351154525.zoomTo();\n",
              "\tviewer_17610458351154525.addModel(\"HEADER    \\nTITLE     MDANALYSIS FRAME 0: Created by PDBWriter\\nCRYST1    1.000    1.000    1.000  90.00  90.00  90.00 P 1           1\\nREMARK     285 UNITARY VALUES FOR THE UNIT CELL AUTOMATICALLY SET\\nREMARK     285 BY MDANALYSIS PDBWRITER BECAUSE UNIT CELL INFORMATION\\nREMARK     285 WAS MISSING.\\nREMARK     285 PROTEIN DATA BANK CONVENTIONS REQUIRE THAT\\nREMARK     285 CRYST1 RECORD IS INCLUDED, BUT THE VALUES ON\\nREMARK     285 THIS RECORD ARE MEANINGLESS.\\nHETATM    1 MG   MG  A 501      -2.238   0.276   6.689  1.00 35.96      A   MG  \\nHETATM    2  PB  ADP A 550      -3.149   0.741   9.991  1.00 44.78      A    P  \\nHETATM    3  O1B ADP A 550      -2.247   1.892  10.218  1.00 47.11      A    O  \\nHETATM    4  O2B ADP A 550      -4.595   1.101   9.982  1.00 42.99      A    O  \\nHETATM    5  O3B ADP A 550      -2.710  -0.075   8.721  1.00 46.25      A    O  \\nHETATM    6  PA  ADP A 550      -2.360  -1.622  11.416  1.00 44.86      A    P  \\nHETATM    7  O1A ADP A 550      -3.225  -2.600  10.643  1.00 41.65      A    O  \\nHETATM    8  O2A ADP A 550      -0.901  -1.640  11.053  1.00 44.56      A    O  \\nHETATM    9  O3A ADP A 550      -2.922  -0.165  11.268  1.00 43.22      A    O  \\nHETATM   10  O5' ADP A 550      -2.682  -1.945  12.938  1.00 43.86      A    O  \\nHETATM   11  C5' ADP A 550      -2.042  -1.166  13.994  1.00 41.85      A    C  \\nHETATM   12  C4' ADP A 550      -1.235  -1.967  15.012  1.00 41.92      A    C  \\nHETATM   13  O4' ADP A 550      -2.079  -2.424  16.095  1.00 42.66      A    O  \\nHETATM   14  C3' ADP A 550      -0.519  -3.228  14.510  1.00 41.42      A    C  \\nHETATM   15  O3' ADP A 550       0.797  -3.251  15.106  1.00 43.24      A    O  \\nHETATM   16  C2' ADP A 550      -1.452  -4.371  14.922  1.00 40.99      A    C  \\nHETATM   17  O2' ADP A 550      -0.735  -5.557  15.314  1.00 42.77      A    O  \\nHETATM   18  C1' ADP A 550      -2.238  -3.829  16.126  1.00 42.17      A    C  \\nHETATM   19  N9  ADP A 550      -3.722  -4.177  16.100  1.00 40.01      A    N  \\nHETATM   20  C8  ADP A 550      -4.554  -4.237  15.026  1.00 39.19      A    C  \\nHETATM   21  N7  ADP A 550      -5.817  -4.579  15.353  1.00 38.44      A    N  \\nHETATM   22  C5  ADP A 550      -5.774  -4.739  16.697  1.00 36.87      A    C  \\nHETATM   23  C6  ADP A 550      -6.801  -5.107  17.655  1.00 34.81      A    C  \\nHETATM   24  N6  ADP A 550      -8.024  -5.363  17.392  1.00 32.30      A    N  \\nHETATM   25  N1  ADP A 550      -6.357  -5.170  18.964  1.00 35.12      A    N  \\nHETATM   26  C2  ADP A 550      -5.050  -4.911  19.347  1.00 35.52      A    C  \\nHETATM   27  N3  ADP A 550      -4.094  -4.571  18.482  1.00 37.55      A    N  \\nHETATM   28  C4  ADP A 550      -4.489  -4.497  17.182  1.00 38.21      A    C  \\nHETATM   29  C   ACY A 500       3.971 -25.273  -7.525  1.00 66.65      A    C  \\nHETATM   30  O   ACY A 500       4.837 -26.207  -7.239  1.00 66.10      A    O  \\nHETATM   31  OXT ACY A 500       3.043 -24.987  -6.788  1.00 66.78      A    O  \\nHETATM   32  CH3 ACY A 500       4.187 -24.558  -8.846  1.00 66.07      A    C  \\nEND\\n\");\n",
              "\tviewer_17610458351154525.addModel(\"\\n     RDKit          3D\\n\\n 42 44  0  0  0  0  0  0  0  0999 V2000\\n   -3.1490    0.7410    9.9910 P   0  0  0  0  0  0  0  0  0  0  0  0\\n   -2.2470    1.8920   10.2180 O   0  0  0  0  0  0  0  0  0  0  0  0\\n   -4.5950    1.1010    9.9820 O   0  0  0  0  0  0  0  0  0  0  0  0\\n   -2.7100   -0.0750    8.7210 O   0  0  0  0  0  0  0  0  0  0  0  0\\n   -2.3600   -1.6220   11.4160 P   0  0  0  0  0  0  0  0  0  0  0  0\\n   -3.2250   -2.6000   10.6430 O   0  0  0  0  0  0  0  0  0  0  0  0\\n   -0.9010   -1.6400   11.0530 O   0  0  0  0  0  0  0  0  0  0  0  0\\n   -2.9220   -0.1650   11.2680 O   0  0  0  0  0  0  0  0  0  0  0  0\\n   -2.6820   -1.9450   12.9380 O   0  0  0  0  0  0  0  0  0  0  0  0\\n   -2.0420   -1.1660   13.9940 C   0  0  0  0  0  0  0  0  0  0  0  0\\n   -1.2350   -1.9670   15.0120 C   0  0  1  0  0  0  0  0  0  0  0  0\\n   -2.0790   -2.4240   16.0950 O   0  0  0  0  0  0  0  0  0  0  0  0\\n   -0.5190   -3.2280   14.5100 C   0  0  1  0  0  0  0  0  0  0  0  0\\n    0.7970   -3.2510   15.1060 O   0  0  0  0  0  0  0  0  0  0  0  0\\n   -1.4520   -4.3710   14.9220 C   0  0  1  0  0  0  0  0  0  0  0  0\\n   -0.7350   -5.5570   15.3140 O   0  0  0  0  0  0  0  0  0  0  0  0\\n   -2.2380   -3.8290   16.1260 C   0  0  2  0  0  0  0  0  0  0  0  0\\n   -3.7220   -4.1770   16.1000 N   0  0  0  0  0  0  0  0  0  0  0  0\\n   -4.5540   -4.2370   15.0260 C   0  0  0  0  0  0  0  0  0  0  0  0\\n   -5.8170   -4.5790   15.3530 N   0  0  0  0  0  0  0  0  0  0  0  0\\n   -5.7740   -4.7390   16.6970 C   0  0  0  0  0  0  0  0  0  0  0  0\\n   -6.8010   -5.1070   17.6550 C   0  0  0  0  0  0  0  0  0  0  0  0\\n   -8.0240   -5.3630   17.3920 N   0  0  0  0  0  0  0  0  0  0  0  0\\n   -6.3570   -5.1700   18.9640 N   0  0  0  0  0  0  0  0  0  0  0  0\\n   -5.0500   -4.9110   19.3470 C   0  0  0  0  0  0  0  0  0  0  0  0\\n   -4.0940   -4.5710   18.4820 N   0  0  0  0  0  0  0  0  0  0  0  0\\n   -4.4890   -4.4970   17.1820 C   0  0  0  0  0  0  0  0  0  0  0  0\\n   -4.9207    1.1821   10.9134 H   0  0  0  0  0  0  0  0  0  0  0  0\\n   -2.2606   -0.9103    9.0046 H   0  0  0  0  0  0  0  0  0  0  0  0\\n   -0.3555   -1.6467   11.8791 H   0  0  0  0  0  0  0  0  0  0  0  0\\n   -1.3626   -0.4443   13.5169 H   0  0  0  0  0  0  0  0  0  0  0  0\\n   -2.8615   -0.7003   14.5611 H   0  0  0  0  0  0  0  0  0  0  0  0\\n   -0.4660   -1.2370   15.3048 H   0  0  0  0  0  0  0  0  0  0  0  0\\n   -0.3419   -3.2921   13.4262 H   0  0  0  0  0  0  0  0  0  0  0  0\\n    0.7126   -3.2495   16.0924 H   0  0  0  0  0  0  0  0  0  0  0  0\\n   -2.0913   -4.6667   14.0771 H   0  0  0  0  0  0  0  0  0  0  0  0\\n   -0.7021   -5.6113   16.3020 H   0  0  0  0  0  0  0  0  0  0  0  0\\n   -1.8474   -4.2899   17.0452 H   0  0  0  0  0  0  0  0  0  0  0  0\\n   -4.2300   -4.0280   13.9958 H   0  0  0  0  0  0  0  0  0  0  0  0\\n   -8.6722   -5.6154   18.1516 H   0  0  0  0  0  0  0  0  0  0  0  0\\n   -8.3623   -5.3171   16.4202 H   0  0  0  0  0  0  0  0  0  0  0  0\\n   -4.7899   -4.9896   20.4129 H   0  0  0  0  0  0  0  0  0  0  0  0\\n  2  1  2  0\\n  3  1  1  0\\n  4  1  1  0\\n  6  5  2  0\\n  7  5  1  0\\n  8  1  1  0\\n  8  5  1  0\\n  9  5  1  0\\n 10  9  1  0\\n 11 10  1  0\\n 12 11  1  0\\n 13 11  1  0\\n 14 13  1  0\\n 15 13  1  0\\n 16 15  1  0\\n 17 15  1  0\\n 17 12  1  0\\n 18 17  1  0\\n 19 18  1  0\\n 20 19  2  0\\n 21 20  1  0\\n 22 21  2  0\\n 23 22  1  0\\n 24 22  1  0\\n 25 24  2  0\\n 26 25  1  0\\n 27 21  1  0\\n 27 18  1  0\\n 27 26  2  0\\n  3 28  1  0\\n  4 29  1  0\\n  7 30  1  0\\n 10 31  1  0\\n 10 32  1  0\\n 11 33  1  1\\n 13 34  1  6\\n 14 35  1  0\\n 15 36  1  6\\n 16 37  1  0\\n 17 38  1  1\\n 19 39  1  0\\n 23 40  1  0\\n 23 41  1  0\\n 25 42  1  0\\nM  END\\n$$$$\\n\");\n",
              "\tviewer_17610458351154525.addModel(\"ADP\\n  CCTOOLS-0131251006\\n\\n 42 44  0  0  1  0  0  0  0  0999 V2000\\n    1.1620   -0.2210   -5.6850 P   0  0  0  0  0\\n    1.7250    1.1330   -5.4920 O   0  0  0  0  0\\n    2.1900   -1.1120   -6.5460 O   0  0  0  0  0\\n   -0.2400   -0.1130   -6.4670 O   0  0  0  0  0\\n   -0.1050    0.0250   -3.4460 P   0  0  0  0  0\\n    0.4760    1.3760   -3.2880 O   0  0  0  0  0\\n   -1.4870    0.1290   -4.2660 O   0  0  0  0  0\\n    0.9250   -0.9130   -4.2500 O   0  0  0  0  0\\n   -0.3890   -0.6090   -1.9940 O   0  0  0  0  0\\n   -1.3070    0.2640   -1.3330 C   0  0  0  0  0\\n   -1.6200   -0.2840    0.0590 C   0  0  0  0  0\\n   -0.4170   -0.3480    0.8570 O   0  0  0  0  0\\n   -2.5500    0.6830    0.8250 C   0  0  0  0  0\\n   -3.9070    0.2450    0.7390 O   0  0  0  0  0\\n   -2.0470    0.6110    2.2860 C   0  0  0  0  0\\n   -3.0800    0.1290    3.1480 O   0  0  0  0  0\\n   -0.8710   -0.3880    2.2270 C   0  0  0  0  0\\n    0.2010    0.0310    3.1320 N   0  0  0  0  0\\n    1.2310    0.8700    2.8270 C   0  0  0  0  0\\n    2.0000    1.0270    3.8650 N   0  0  0  0  0\\n    1.5090    0.3050    4.9020 C   0  0  0  0  0\\n    1.9100    0.0870    6.2310 C   0  0  0  0  0\\n    3.0440    0.6970    6.7380 N   0  0  0  0  0\\n    1.1710   -0.7140    6.9910 N   0  0  0  0  0\\n    0.0880   -1.3000    6.5160 C   0  0  0  0  0\\n   -0.3210   -1.1300    5.2770 N   0  0  0  0  0\\n    0.3530   -0.3460    4.4420 C   0  0  0  0  0\\n    2.3040   -0.6640   -7.3960 H   0  0  0  0  0\\n   -0.5720   -1.0160   -6.5710 H   0  0  0  0  0\\n   -1.8330   -0.7700   -4.3460 H   0  0  0  0  0\\n   -2.2270    0.3300   -1.9130 H   0  0  0  0  0\\n   -0.8620    1.2550   -1.2420 H   0  0  0  0  0\\n   -2.0780   -1.2700   -0.0150 H   0  0  0  0  0\\n   -2.4510    1.6960    0.4350 H   0  0  0  0  0\\n   -4.4390    0.8840    1.2330 H   0  0  0  0  0\\n   -1.6990    1.5890    2.6180 H   0  0  0  0  0\\n   -3.8070    0.7640    3.0940 H   0  0  0  0  0\\n   -1.2120   -1.3910    2.4850 H   0  0  0  0  0\\n    1.3870    1.3350    1.8650 H   0  0  0  0  0\\n    3.3080    0.5420    7.6580 H   0  0  0  0  0\\n    3.5770    1.2770    6.1720 H   0  0  0  0  0\\n   -0.4820   -1.9440    7.1690 H   0  0  0  0  0\\n  1  2  2  0  0  0\\n  1  3  1  0  0  0\\n  1  4  1  0  0  0\\n  1  8  1  0  0  0\\n  3 28  1  0  0  0\\n  4 29  1  0  0  0\\n  5  6  2  0  0  0\\n  5  7  1  0  0  0\\n  5  8  1  0  0  0\\n  5  9  1  0  0  0\\n  7 30  1  0  0  0\\n  9 10  1  0  0  0\\n 10 11  1  0  0  0\\n 10 31  1  0  0  0\\n 10 32  1  0  0  0\\n 11 12  1  0  0  0\\n 11 13  1  0  0  0\\n 11 33  1  0  0  0\\n 12 17  1  0  0  0\\n 13 14  1  0  0  0\\n 13 15  1  0  0  0\\n 13 34  1  0  0  0\\n 14 35  1  0  0  0\\n 15 16  1  0  0  0\\n 15 17  1  0  0  0\\n 15 36  1  0  0  0\\n 16 37  1  0  0  0\\n 17 18  1  0  0  0\\n 17 38  1  0  0  0\\n 18 19  1  0  0  0\\n 18 27  1  0  0  0\\n 19 20  2  0  0  0\\n 19 39  1  0  0  0\\n 20 21  1  0  0  0\\n 21 22  1  0  0  0\\n 21 27  2  0  0  0\\n 22 23  1  0  0  0\\n 22 24  2  0  0  0\\n 23 40  1  0  0  0\\n 23 41  1  0  0  0\\n 24 25  1  0  0  0\\n 25 26  2  0  0  0\\n 25 42  1  0  0  0\\n 26 27  1  0  0  0\\nM  END\\n$$$$\\n\");\n",
              "\tviewer_17610458351154525.setStyle({\"model\": 0},{\"stick\": {\"color\": \"#0e9674\"}});\n",
              "\tviewer_17610458351154525.setStyle({\"model\": 1},{\"stick\": {\"color\": \"#c46225\"}});\n",
              "\tviewer_17610458351154525.zoomTo({\"model\": 0});\n",
              "viewer_17610458351154525.render();\n",
              "});\n",
              "</script>"
            ]
          },
          "metadata": {},
          "output_type": "display_data"
        },
        {
          "data": {
            "text/plain": [
              "<py3Dmol.view at 0x2888e28cbf0>"
            ]
          },
          "execution_count": 70,
          "metadata": {},
          "output_type": "execute_result"
        }
      ],
      "source": [
        "import py3Dmol\n",
        "\n",
        "# Compare the two ligand models\n",
        "v = py3Dmol.view()\n",
        "v.addModel(open(f\"{ligand_directory}/{ligand_id}_fromPDB.pdb\").read())\n",
        "v.addModel(open(f\"{ligand_corrected_pose_file}\").read())\n",
        "v.addModel(open(f\"{ligand_directory}/{ligand_id}_ideal.sdf\").read())\n",
        "#v.setStyle()\n",
        "v.setStyle({\"model\":0}, {'stick': {'color': '#0e9674'}})\n",
        "v.setStyle({\"model\":1}, {'stick': {'color': '#c46225'}})\n",
        "v.zoomTo({'model':0})"
      ]
    },
    {
      "cell_type": "code",
      "execution_count": null,
      "id": "00c48ebc-2dab-4692-98c7-898e8bce9203",
      "metadata": {
        "collapsed": true,
        "id": "00c48ebc-2dab-4692-98c7-898e8bce9203",
        "jupyter": {
          "outputs_hidden": true
        }
      },
      "outputs": [],
      "source": [
        "# Voila! The ligands are ready for docking!"
      ]
    }
  ],
  "metadata": {
    "colab": {
      "provenance": [],
      "include_colab_link": true
    },
    "kernelspec": {
      "display_name": "Python 3 (ipykernel)",
      "language": "python",
      "name": "python3"
    },
    "language_info": {
      "codemirror_mode": {
        "name": "ipython",
        "version": 3
      },
      "file_extension": ".py",
      "mimetype": "text/x-python",
      "name": "python",
      "nbconvert_exporter": "python",
      "pygments_lexer": "ipython3",
      "version": "3.12.3"
    }
  },
  "nbformat": 4,
  "nbformat_minor": 5
}