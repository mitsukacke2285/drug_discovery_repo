{
  "cells": [
    {
      "cell_type": "markdown",
      "metadata": {
        "id": "view-in-github",
        "colab_type": "text"
      },
      "source": [
        "<a href=\"https://colab.research.google.com/github/mitsukacke2285/drug_discovery_repo/blob/main/Ligand_preparation.ipynb\" target=\"_parent\"><img src=\"https://colab.research.google.com/assets/colab-badge.svg\" alt=\"Open In Colab\"/></a>"
      ]
    },
    {
      "cell_type": "markdown",
      "id": "5dc24758-9189-4621-95f8-bfaeeb6f1ecd",
      "metadata": {
        "id": "5dc24758-9189-4621-95f8-bfaeeb6f1ecd"
      },
      "source": [
        "# Ligand preparation"
      ]
    },
    {
      "cell_type": "markdown",
      "id": "5250703e-a66e-4f7a-a6af-80285c1c9147",
      "metadata": {
        "id": "5250703e-a66e-4f7a-a6af-80285c1c9147"
      },
      "source": [
        "# Set Up\n",
        "\n",
        "Please install the following packages:\n",
        "* `PDBFixer`\n",
        "* `Biopython`\n",
        "* `MDAnalysis`\n",
        "* `RDKit`\n",
        "* `OpenMM` (and `OpenMMForceFields`)\n",
        "* `OpenBabel`\n",
        "* `Scrubber` (package: \"`molscrub`\")\n",
        "* `py3Dmol`"
      ]
    },
    {
      "cell_type": "code",
      "execution_count": null,
      "id": "b1e17718-c6d3-419f-a3a4-18b238f8a8a4",
      "metadata": {
        "colab": {
          "base_uri": "https://localhost:8080/"
        },
        "id": "b1e17718-c6d3-419f-a3a4-18b238f8a8a4",
        "outputId": "9782d38b-9e4c-47dd-9879-e43b78c29e81"
      },
      "outputs": [
        {
          "output_type": "stream",
          "name": "stdout",
          "text": [
            "Requirement already satisfied: rdkit in /usr/local/lib/python3.12/dist-packages (2025.9.1)\n",
            "Requirement already satisfied: openmm in /usr/local/lib/python3.12/dist-packages (8.3.1)\n",
            "Requirement already satisfied: mdanalysis in /usr/local/lib/python3.12/dist-packages (2.9.0)\n",
            "Requirement already satisfied: molscrub in /usr/local/lib/python3.12/dist-packages (0.1.1)\n",
            "Requirement already satisfied: py3dmol in /usr/local/lib/python3.12/dist-packages (2.5.3)\n",
            "Requirement already satisfied: biopython in /usr/local/lib/python3.12/dist-packages (1.85)\n",
            "Requirement already satisfied: numpy in /usr/local/lib/python3.12/dist-packages (from rdkit) (2.0.2)\n",
            "Requirement already satisfied: Pillow in /usr/local/lib/python3.12/dist-packages (from rdkit) (11.3.0)\n",
            "Requirement already satisfied: GridDataFormats>=0.4.0 in /usr/local/lib/python3.12/dist-packages (from mdanalysis) (1.0.2)\n",
            "Requirement already satisfied: mmtf-python>=1.0.0 in /usr/local/lib/python3.12/dist-packages (from mdanalysis) (1.1.3)\n",
            "Requirement already satisfied: joblib>=0.12 in /usr/local/lib/python3.12/dist-packages (from mdanalysis) (1.5.2)\n",
            "Requirement already satisfied: scipy>=1.5.0 in /usr/local/lib/python3.12/dist-packages (from mdanalysis) (1.16.2)\n",
            "Requirement already satisfied: matplotlib>=1.5.1 in /usr/local/lib/python3.12/dist-packages (from mdanalysis) (3.10.0)\n",
            "Requirement already satisfied: tqdm>=4.43.0 in /usr/local/lib/python3.12/dist-packages (from mdanalysis) (4.67.1)\n",
            "Requirement already satisfied: threadpoolctl in /usr/local/lib/python3.12/dist-packages (from mdanalysis) (3.6.0)\n",
            "Requirement already satisfied: packaging in /usr/local/lib/python3.12/dist-packages (from mdanalysis) (25.0)\n",
            "Requirement already satisfied: filelock in /usr/local/lib/python3.12/dist-packages (from mdanalysis) (3.20.0)\n",
            "Requirement already satisfied: mda-xdrlib in /usr/local/lib/python3.12/dist-packages (from mdanalysis) (0.2.0)\n",
            "Requirement already satisfied: mrcfile in /usr/local/lib/python3.12/dist-packages (from GridDataFormats>=0.4.0->mdanalysis) (1.5.4)\n",
            "Requirement already satisfied: contourpy>=1.0.1 in /usr/local/lib/python3.12/dist-packages (from matplotlib>=1.5.1->mdanalysis) (1.3.3)\n",
            "Requirement already satisfied: cycler>=0.10 in /usr/local/lib/python3.12/dist-packages (from matplotlib>=1.5.1->mdanalysis) (0.12.1)\n",
            "Requirement already satisfied: fonttools>=4.22.0 in /usr/local/lib/python3.12/dist-packages (from matplotlib>=1.5.1->mdanalysis) (4.60.1)\n",
            "Requirement already satisfied: kiwisolver>=1.3.1 in /usr/local/lib/python3.12/dist-packages (from matplotlib>=1.5.1->mdanalysis) (1.4.9)\n",
            "Requirement already satisfied: pyparsing>=2.3.1 in /usr/local/lib/python3.12/dist-packages (from matplotlib>=1.5.1->mdanalysis) (3.2.5)\n",
            "Requirement already satisfied: python-dateutil>=2.7 in /usr/local/lib/python3.12/dist-packages (from matplotlib>=1.5.1->mdanalysis) (2.9.0.post0)\n",
            "Requirement already satisfied: msgpack>=1.0.0 in /usr/local/lib/python3.12/dist-packages (from mmtf-python>=1.0.0->mdanalysis) (1.1.2)\n",
            "Requirement already satisfied: six>=1.5 in /usr/local/lib/python3.12/dist-packages (from python-dateutil>=2.7->matplotlib>=1.5.1->mdanalysis) (1.17.0)\n",
            "Requirement already satisfied: pdbfixer in /usr/local/lib/python3.12/dist-packages (1.11.0)\n",
            "Requirement already satisfied: numpy in /usr/local/lib/python3.12/dist-packages (from pdbfixer) (2.0.2)\n",
            "Requirement already satisfied: openmm>=8.2 in /usr/local/lib/python3.12/dist-packages (from pdbfixer) (8.3.1)\n"
          ]
        }
      ],
      "source": [
        "!pip install rdkit openmm mdanalysis molscrub py3dmol biopython\n",
        "!pip install pdbfixer"
      ]
    },
    {
      "cell_type": "code",
      "execution_count": null,
      "id": "2d82fe5b-36c1-4fce-9e9f-f4d3a5936cca",
      "metadata": {
        "colab": {
          "base_uri": "https://localhost:8080/"
        },
        "id": "2d82fe5b-36c1-4fce-9e9f-f4d3a5936cca",
        "outputId": "4c564dcf-8631-42e3-f218-d135aeb1d08f"
      },
      "outputs": [
        {
          "output_type": "stream",
          "name": "stdout",
          "text": [
            "Collecting git+https://github.com/openmm/pdbfixer.git\n",
            "  Cloning https://github.com/openmm/pdbfixer.git to /tmp/pip-req-build-vq2p_i47\n",
            "  Running command git clone --filter=blob:none --quiet https://github.com/openmm/pdbfixer.git /tmp/pip-req-build-vq2p_i47\n",
            "  Resolved https://github.com/openmm/pdbfixer.git to commit 0f701349b1d0b7c91d2ca0db78359274d0793400\n",
            "  Preparing metadata (setup.py) ... \u001b[?25l\u001b[?25hdone\n",
            "Requirement already satisfied: numpy in /usr/local/lib/python3.12/dist-packages (from pdbfixer==1.11.0) (2.0.2)\n",
            "Requirement already satisfied: openmm>=8.2 in /usr/local/lib/python3.12/dist-packages (from pdbfixer==1.11.0) (8.3.1)\n"
          ]
        }
      ],
      "source": [
        "# Run this cell if pdbfixer could not be installed on colab\n",
        "!pip install git+https://github.com/openmm/pdbfixer.git"
      ]
    },
    {
      "cell_type": "markdown",
      "source": [
        "If running on colab, upload the following file:"
      ],
      "metadata": {
        "id": "gjQHGjh8sAlH"
      },
      "id": "gjQHGjh8sAlH"
    },
    {
      "cell_type": "code",
      "source": [
        "# If using google colab please upload the following files: test1.csv and {pdb_id}_A.pdb\n",
        "from google.colab import files\n",
        "\n",
        "# Upload a {pdb_id}.pdb file from local PC to your Colab VM\n",
        "files.upload(\"molecular_docking/protein_files\")\n",
        "\n",
        "# Download a file from your Colab VM to local PC\n",
        "#files.download('mylocalfile.txt')"
      ],
      "metadata": {
        "colab": {
          "base_uri": "https://localhost:8080/",
          "height": 108
        },
        "id": "a8mbyyrasLzk",
        "outputId": "460fe15d-f733-4abd-ea8b-cd6381601adb"
      },
      "id": "a8mbyyrasLzk",
      "execution_count": null,
      "outputs": [
        {
          "output_type": "display_data",
          "data": {
            "text/plain": [
              "<IPython.core.display.HTML object>"
            ],
            "text/html": [
              "\n",
              "     <input type=\"file\" id=\"files-7d526d3f-e21d-4106-b7ee-4d1339df18ab\" name=\"files[]\" multiple disabled\n",
              "        style=\"border:none\" />\n",
              "     <output id=\"result-7d526d3f-e21d-4106-b7ee-4d1339df18ab\">\n",
              "      Upload widget is only available when the cell has been executed in the\n",
              "      current browser session. Please rerun this cell to enable.\n",
              "      </output>\n",
              "      <script>// Copyright 2017 Google LLC\n",
              "//\n",
              "// Licensed under the Apache License, Version 2.0 (the \"License\");\n",
              "// you may not use this file except in compliance with the License.\n",
              "// You may obtain a copy of the License at\n",
              "//\n",
              "//      http://www.apache.org/licenses/LICENSE-2.0\n",
              "//\n",
              "// Unless required by applicable law or agreed to in writing, software\n",
              "// distributed under the License is distributed on an \"AS IS\" BASIS,\n",
              "// WITHOUT WARRANTIES OR CONDITIONS OF ANY KIND, either express or implied.\n",
              "// See the License for the specific language governing permissions and\n",
              "// limitations under the License.\n",
              "\n",
              "/**\n",
              " * @fileoverview Helpers for google.colab Python module.\n",
              " */\n",
              "(function(scope) {\n",
              "function span(text, styleAttributes = {}) {\n",
              "  const element = document.createElement('span');\n",
              "  element.textContent = text;\n",
              "  for (const key of Object.keys(styleAttributes)) {\n",
              "    element.style[key] = styleAttributes[key];\n",
              "  }\n",
              "  return element;\n",
              "}\n",
              "\n",
              "// Max number of bytes which will be uploaded at a time.\n",
              "const MAX_PAYLOAD_SIZE = 100 * 1024;\n",
              "\n",
              "function _uploadFiles(inputId, outputId) {\n",
              "  const steps = uploadFilesStep(inputId, outputId);\n",
              "  const outputElement = document.getElementById(outputId);\n",
              "  // Cache steps on the outputElement to make it available for the next call\n",
              "  // to uploadFilesContinue from Python.\n",
              "  outputElement.steps = steps;\n",
              "\n",
              "  return _uploadFilesContinue(outputId);\n",
              "}\n",
              "\n",
              "// This is roughly an async generator (not supported in the browser yet),\n",
              "// where there are multiple asynchronous steps and the Python side is going\n",
              "// to poll for completion of each step.\n",
              "// This uses a Promise to block the python side on completion of each step,\n",
              "// then passes the result of the previous step as the input to the next step.\n",
              "function _uploadFilesContinue(outputId) {\n",
              "  const outputElement = document.getElementById(outputId);\n",
              "  const steps = outputElement.steps;\n",
              "\n",
              "  const next = steps.next(outputElement.lastPromiseValue);\n",
              "  return Promise.resolve(next.value.promise).then((value) => {\n",
              "    // Cache the last promise value to make it available to the next\n",
              "    // step of the generator.\n",
              "    outputElement.lastPromiseValue = value;\n",
              "    return next.value.response;\n",
              "  });\n",
              "}\n",
              "\n",
              "/**\n",
              " * Generator function which is called between each async step of the upload\n",
              " * process.\n",
              " * @param {string} inputId Element ID of the input file picker element.\n",
              " * @param {string} outputId Element ID of the output display.\n",
              " * @return {!Iterable<!Object>} Iterable of next steps.\n",
              " */\n",
              "function* uploadFilesStep(inputId, outputId) {\n",
              "  const inputElement = document.getElementById(inputId);\n",
              "  inputElement.disabled = false;\n",
              "\n",
              "  const outputElement = document.getElementById(outputId);\n",
              "  outputElement.innerHTML = '';\n",
              "\n",
              "  const pickedPromise = new Promise((resolve) => {\n",
              "    inputElement.addEventListener('change', (e) => {\n",
              "      resolve(e.target.files);\n",
              "    });\n",
              "  });\n",
              "\n",
              "  const cancel = document.createElement('button');\n",
              "  inputElement.parentElement.appendChild(cancel);\n",
              "  cancel.textContent = 'Cancel upload';\n",
              "  const cancelPromise = new Promise((resolve) => {\n",
              "    cancel.onclick = () => {\n",
              "      resolve(null);\n",
              "    };\n",
              "  });\n",
              "\n",
              "  // Wait for the user to pick the files.\n",
              "  const files = yield {\n",
              "    promise: Promise.race([pickedPromise, cancelPromise]),\n",
              "    response: {\n",
              "      action: 'starting',\n",
              "    }\n",
              "  };\n",
              "\n",
              "  cancel.remove();\n",
              "\n",
              "  // Disable the input element since further picks are not allowed.\n",
              "  inputElement.disabled = true;\n",
              "\n",
              "  if (!files) {\n",
              "    return {\n",
              "      response: {\n",
              "        action: 'complete',\n",
              "      }\n",
              "    };\n",
              "  }\n",
              "\n",
              "  for (const file of files) {\n",
              "    const li = document.createElement('li');\n",
              "    li.append(span(file.name, {fontWeight: 'bold'}));\n",
              "    li.append(span(\n",
              "        `(${file.type || 'n/a'}) - ${file.size} bytes, ` +\n",
              "        `last modified: ${\n",
              "            file.lastModifiedDate ? file.lastModifiedDate.toLocaleDateString() :\n",
              "                                    'n/a'} - `));\n",
              "    const percent = span('0% done');\n",
              "    li.appendChild(percent);\n",
              "\n",
              "    outputElement.appendChild(li);\n",
              "\n",
              "    const fileDataPromise = new Promise((resolve) => {\n",
              "      const reader = new FileReader();\n",
              "      reader.onload = (e) => {\n",
              "        resolve(e.target.result);\n",
              "      };\n",
              "      reader.readAsArrayBuffer(file);\n",
              "    });\n",
              "    // Wait for the data to be ready.\n",
              "    let fileData = yield {\n",
              "      promise: fileDataPromise,\n",
              "      response: {\n",
              "        action: 'continue',\n",
              "      }\n",
              "    };\n",
              "\n",
              "    // Use a chunked sending to avoid message size limits. See b/62115660.\n",
              "    let position = 0;\n",
              "    do {\n",
              "      const length = Math.min(fileData.byteLength - position, MAX_PAYLOAD_SIZE);\n",
              "      const chunk = new Uint8Array(fileData, position, length);\n",
              "      position += length;\n",
              "\n",
              "      const base64 = btoa(String.fromCharCode.apply(null, chunk));\n",
              "      yield {\n",
              "        response: {\n",
              "          action: 'append',\n",
              "          file: file.name,\n",
              "          data: base64,\n",
              "        },\n",
              "      };\n",
              "\n",
              "      let percentDone = fileData.byteLength === 0 ?\n",
              "          100 :\n",
              "          Math.round((position / fileData.byteLength) * 100);\n",
              "      percent.textContent = `${percentDone}% done`;\n",
              "\n",
              "    } while (position < fileData.byteLength);\n",
              "  }\n",
              "\n",
              "  // All done.\n",
              "  yield {\n",
              "    response: {\n",
              "      action: 'complete',\n",
              "    }\n",
              "  };\n",
              "}\n",
              "\n",
              "scope.google = scope.google || {};\n",
              "scope.google.colab = scope.google.colab || {};\n",
              "scope.google.colab._files = {\n",
              "  _uploadFiles,\n",
              "  _uploadFilesContinue,\n",
              "};\n",
              "})(self);\n",
              "</script> "
            ]
          },
          "metadata": {}
        },
        {
          "output_type": "stream",
          "name": "stdout",
          "text": [
            "Saving test1.csv to molecular_docking/protein_files/test1.csv\n"
          ]
        },
        {
          "output_type": "execute_result",
          "data": {
            "text/plain": [
              "{'molecular_docking/protein_files/test1.csv': b'SMILES\\r\\nBrC1=CC(N/N=C/C2=CNN=N2)=CC=N1\\r\\nC1(/C=N/NC2=CC=NC=C2)=CNN=N1\\r\\nBrC1=CC(C(NCC2=CNN=N2)=O)=CC=N1\\r\\nFC(C1=CC(N/N=C/C2=CNN=N2)=CC=N1)(F)F\\r\\nCC(C)C1=CC(N/N=C/C2=CNN=N2)=CC=N1\\r\\nO=C(C1=CC=NC=C1)NCC2=CNN=N2\\r\\nO=C(C1=CC=NC(C(F)(F)F)=C1)NCC2=CNN=N2\\r\\nO=C(C1=CC=NC(C(C)C)=C1)NCC2=CNN=N2\\r\\n'}"
            ]
          },
          "metadata": {},
          "execution_count": 29
        }
      ]
    },
    {
      "cell_type": "code",
      "source": [
        "# Upload a test1.csv file from local PC to your Colab VM\n",
        "files.upload(\"molecular_docking/ligand_structures\")"
      ],
      "metadata": {
        "colab": {
          "base_uri": "https://localhost:8080/",
          "height": 108
        },
        "id": "tfOSdOvv1GVl",
        "outputId": "762f2607-6f7a-4775-a886-5142e309a595"
      },
      "id": "tfOSdOvv1GVl",
      "execution_count": null,
      "outputs": [
        {
          "output_type": "display_data",
          "data": {
            "text/plain": [
              "<IPython.core.display.HTML object>"
            ],
            "text/html": [
              "\n",
              "     <input type=\"file\" id=\"files-59e3c49c-9088-452a-bc70-0c0cf65b11a9\" name=\"files[]\" multiple disabled\n",
              "        style=\"border:none\" />\n",
              "     <output id=\"result-59e3c49c-9088-452a-bc70-0c0cf65b11a9\">\n",
              "      Upload widget is only available when the cell has been executed in the\n",
              "      current browser session. Please rerun this cell to enable.\n",
              "      </output>\n",
              "      <script>// Copyright 2017 Google LLC\n",
              "//\n",
              "// Licensed under the Apache License, Version 2.0 (the \"License\");\n",
              "// you may not use this file except in compliance with the License.\n",
              "// You may obtain a copy of the License at\n",
              "//\n",
              "//      http://www.apache.org/licenses/LICENSE-2.0\n",
              "//\n",
              "// Unless required by applicable law or agreed to in writing, software\n",
              "// distributed under the License is distributed on an \"AS IS\" BASIS,\n",
              "// WITHOUT WARRANTIES OR CONDITIONS OF ANY KIND, either express or implied.\n",
              "// See the License for the specific language governing permissions and\n",
              "// limitations under the License.\n",
              "\n",
              "/**\n",
              " * @fileoverview Helpers for google.colab Python module.\n",
              " */\n",
              "(function(scope) {\n",
              "function span(text, styleAttributes = {}) {\n",
              "  const element = document.createElement('span');\n",
              "  element.textContent = text;\n",
              "  for (const key of Object.keys(styleAttributes)) {\n",
              "    element.style[key] = styleAttributes[key];\n",
              "  }\n",
              "  return element;\n",
              "}\n",
              "\n",
              "// Max number of bytes which will be uploaded at a time.\n",
              "const MAX_PAYLOAD_SIZE = 100 * 1024;\n",
              "\n",
              "function _uploadFiles(inputId, outputId) {\n",
              "  const steps = uploadFilesStep(inputId, outputId);\n",
              "  const outputElement = document.getElementById(outputId);\n",
              "  // Cache steps on the outputElement to make it available for the next call\n",
              "  // to uploadFilesContinue from Python.\n",
              "  outputElement.steps = steps;\n",
              "\n",
              "  return _uploadFilesContinue(outputId);\n",
              "}\n",
              "\n",
              "// This is roughly an async generator (not supported in the browser yet),\n",
              "// where there are multiple asynchronous steps and the Python side is going\n",
              "// to poll for completion of each step.\n",
              "// This uses a Promise to block the python side on completion of each step,\n",
              "// then passes the result of the previous step as the input to the next step.\n",
              "function _uploadFilesContinue(outputId) {\n",
              "  const outputElement = document.getElementById(outputId);\n",
              "  const steps = outputElement.steps;\n",
              "\n",
              "  const next = steps.next(outputElement.lastPromiseValue);\n",
              "  return Promise.resolve(next.value.promise).then((value) => {\n",
              "    // Cache the last promise value to make it available to the next\n",
              "    // step of the generator.\n",
              "    outputElement.lastPromiseValue = value;\n",
              "    return next.value.response;\n",
              "  });\n",
              "}\n",
              "\n",
              "/**\n",
              " * Generator function which is called between each async step of the upload\n",
              " * process.\n",
              " * @param {string} inputId Element ID of the input file picker element.\n",
              " * @param {string} outputId Element ID of the output display.\n",
              " * @return {!Iterable<!Object>} Iterable of next steps.\n",
              " */\n",
              "function* uploadFilesStep(inputId, outputId) {\n",
              "  const inputElement = document.getElementById(inputId);\n",
              "  inputElement.disabled = false;\n",
              "\n",
              "  const outputElement = document.getElementById(outputId);\n",
              "  outputElement.innerHTML = '';\n",
              "\n",
              "  const pickedPromise = new Promise((resolve) => {\n",
              "    inputElement.addEventListener('change', (e) => {\n",
              "      resolve(e.target.files);\n",
              "    });\n",
              "  });\n",
              "\n",
              "  const cancel = document.createElement('button');\n",
              "  inputElement.parentElement.appendChild(cancel);\n",
              "  cancel.textContent = 'Cancel upload';\n",
              "  const cancelPromise = new Promise((resolve) => {\n",
              "    cancel.onclick = () => {\n",
              "      resolve(null);\n",
              "    };\n",
              "  });\n",
              "\n",
              "  // Wait for the user to pick the files.\n",
              "  const files = yield {\n",
              "    promise: Promise.race([pickedPromise, cancelPromise]),\n",
              "    response: {\n",
              "      action: 'starting',\n",
              "    }\n",
              "  };\n",
              "\n",
              "  cancel.remove();\n",
              "\n",
              "  // Disable the input element since further picks are not allowed.\n",
              "  inputElement.disabled = true;\n",
              "\n",
              "  if (!files) {\n",
              "    return {\n",
              "      response: {\n",
              "        action: 'complete',\n",
              "      }\n",
              "    };\n",
              "  }\n",
              "\n",
              "  for (const file of files) {\n",
              "    const li = document.createElement('li');\n",
              "    li.append(span(file.name, {fontWeight: 'bold'}));\n",
              "    li.append(span(\n",
              "        `(${file.type || 'n/a'}) - ${file.size} bytes, ` +\n",
              "        `last modified: ${\n",
              "            file.lastModifiedDate ? file.lastModifiedDate.toLocaleDateString() :\n",
              "                                    'n/a'} - `));\n",
              "    const percent = span('0% done');\n",
              "    li.appendChild(percent);\n",
              "\n",
              "    outputElement.appendChild(li);\n",
              "\n",
              "    const fileDataPromise = new Promise((resolve) => {\n",
              "      const reader = new FileReader();\n",
              "      reader.onload = (e) => {\n",
              "        resolve(e.target.result);\n",
              "      };\n",
              "      reader.readAsArrayBuffer(file);\n",
              "    });\n",
              "    // Wait for the data to be ready.\n",
              "    let fileData = yield {\n",
              "      promise: fileDataPromise,\n",
              "      response: {\n",
              "        action: 'continue',\n",
              "      }\n",
              "    };\n",
              "\n",
              "    // Use a chunked sending to avoid message size limits. See b/62115660.\n",
              "    let position = 0;\n",
              "    do {\n",
              "      const length = Math.min(fileData.byteLength - position, MAX_PAYLOAD_SIZE);\n",
              "      const chunk = new Uint8Array(fileData, position, length);\n",
              "      position += length;\n",
              "\n",
              "      const base64 = btoa(String.fromCharCode.apply(null, chunk));\n",
              "      yield {\n",
              "        response: {\n",
              "          action: 'append',\n",
              "          file: file.name,\n",
              "          data: base64,\n",
              "        },\n",
              "      };\n",
              "\n",
              "      let percentDone = fileData.byteLength === 0 ?\n",
              "          100 :\n",
              "          Math.round((position / fileData.byteLength) * 100);\n",
              "      percent.textContent = `${percentDone}% done`;\n",
              "\n",
              "    } while (position < fileData.byteLength);\n",
              "  }\n",
              "\n",
              "  // All done.\n",
              "  yield {\n",
              "    response: {\n",
              "      action: 'complete',\n",
              "    }\n",
              "  };\n",
              "}\n",
              "\n",
              "scope.google = scope.google || {};\n",
              "scope.google.colab = scope.google.colab || {};\n",
              "scope.google.colab._files = {\n",
              "  _uploadFiles,\n",
              "  _uploadFilesContinue,\n",
              "};\n",
              "})(self);\n",
              "</script> "
            ]
          },
          "metadata": {}
        },
        {
          "output_type": "stream",
          "name": "stdout",
          "text": [
            "Saving test1.csv to molecular_docking/ligand_structures/test1.csv\n"
          ]
        },
        {
          "output_type": "execute_result",
          "data": {
            "text/plain": [
              "{'molecular_docking/ligand_structures/test1.csv': b'SMILES\\r\\nBrC1=CC(N/N=C/C2=CNN=N2)=CC=N1\\r\\nC1(/C=N/NC2=CC=NC=C2)=CNN=N1\\r\\nBrC1=CC(C(NCC2=CNN=N2)=O)=CC=N1\\r\\nFC(C1=CC(N/N=C/C2=CNN=N2)=CC=N1)(F)F\\r\\nCC(C)C1=CC(N/N=C/C2=CNN=N2)=CC=N1\\r\\nO=C(C1=CC=NC=C1)NCC2=CNN=N2\\r\\nO=C(C1=CC=NC(C(F)(F)F)=C1)NCC2=CNN=N2\\r\\nO=C(C1=CC=NC(C(C)C)=C1)NCC2=CNN=N2\\r\\n'}"
            ]
          },
          "metadata": {},
          "execution_count": 30
        }
      ]
    },
    {
      "cell_type": "markdown",
      "id": "6f5b133c-831f-4923-aa21-14c6ff239a48",
      "metadata": {
        "id": "6f5b133c-831f-4923-aa21-14c6ff239a48"
      },
      "source": [
        "# Localization of co-crystalized ligand"
      ]
    },
    {
      "cell_type": "code",
      "execution_count": null,
      "id": "b50f5d27-abf1-462d-b2e6-2f1bc5c19127",
      "metadata": {
        "colab": {
          "base_uri": "https://localhost:8080/"
        },
        "id": "b50f5d27-abf1-462d-b2e6-2f1bc5c19127",
        "outputId": "598abd08-7776-4885-a382-dcbf58dae0c4"
      },
      "outputs": [
        {
          "name": "stdout",
          "output_type": "stream",
          "text": [
            "Enter PDB code: 1XTJ\n"
          ]
        }
      ],
      "source": [
        "## Download PDB file ##\n",
        "\n",
        "import os\n",
        "import requests\n",
        "\n",
        "pdb_id = input(\"Enter PDB code: \") # The Protein ID we're looking at\n",
        "\n",
        "# Start by making a directory for us to work in and stage our intermediate files\n",
        "protein_directory = \"molecular_docking/protein_files\"\n",
        "protein_filename = f\"{pdb_id}_A.pdb\"\n",
        "protein_filepath = os.path.join(protein_directory, protein_filename)\n",
        "\n",
        "# Actually make the directory, the exist_ok flag lets the command execute even if the folder already exists. It does NOT overwrite existing data.\n",
        "os.makedirs(protein_directory, exist_ok=True)"
      ]
    },
    {
      "cell_type": "code",
      "execution_count": null,
      "id": "b1a7103c-b494-480c-8d42-8a6d583c581b",
      "metadata": {
        "colab": {
          "base_uri": "https://localhost:8080/"
        },
        "id": "b1a7103c-b494-480c-8d42-8a6d583c581b",
        "outputId": "164f801c-650d-4c78-eb16-9dcae17f55a7"
      },
      "outputs": [
        {
          "output_type": "stream",
          "name": "stdout",
          "text": [
            "molecular_docking/protein_files/1XTJ_A.pdb\n"
          ]
        }
      ],
      "source": [
        "print(protein_filepath)"
      ]
    },
    {
      "cell_type": "markdown",
      "id": "c8a7344b-4eba-4573-b6d6-f84992967339",
      "metadata": {
        "id": "c8a7344b-4eba-4573-b6d6-f84992967339"
      },
      "source": [
        "## Building Atomistic Ligand Model"
      ]
    },
    {
      "cell_type": "code",
      "execution_count": null,
      "id": "72668d39-0885-4173-ab93-97d82344766c",
      "metadata": {
        "colab": {
          "base_uri": "https://localhost:8080/"
        },
        "id": "72668d39-0885-4173-ab93-97d82344766c",
        "outputId": "16902b42-0344-41b8-ba7f-4e7d02e6d23f"
      },
      "outputs": [
        {
          "output_type": "stream",
          "name": "stdout",
          "text": [
            "[ 47  65  67  68  69  72  90  91  92  93  94  95  96  97 111 112 132 161\n",
            " 162 163 164 165 196 197 323 578 601 625 630 633]\n",
            "[501 550 500]\n"
          ]
        }
      ],
      "source": [
        "# Determine residues nearby the ligand with MDAnalysis\n",
        "import MDAnalysis as mda\n",
        "\n",
        "# Load the original PDB\n",
        "u = mda.Universe(f\"{protein_directory}/{pdb_id}_A.pdb\")\n",
        "\n",
        "# Select atoms using the MDAnalysis selection language\n",
        "ligand_select = \"segid A and record_type HETATM and not resname HOH\"\n",
        "ligand = u.select_atoms(ligand_select)\n",
        "\n",
        "# Find and residues within a certain distance from the ligand\n",
        "active_site = u.select_atoms(f\"around 4.5 group ligand and segid A\",\n",
        "                             periodic=False,\n",
        "                             ligand=ligand)  # Uses generic select_name=object as kwargs\n",
        "print(active_site.residues.resids)\n",
        "print(ligand.residues.resids)"
      ]
    },
    {
      "cell_type": "code",
      "execution_count": null,
      "id": "aee5856a-e674-4f3a-b368-59247354b217",
      "metadata": {
        "colab": {
          "base_uri": "https://localhost:8080/"
        },
        "id": "aee5856a-e674-4f3a-b368-59247354b217",
        "outputId": "16cedbf5-8bf8-489b-e6a6-86ff70d4f6e9"
      },
      "outputs": [
        {
          "output_type": "stream",
          "name": "stdout",
          "text": [
            "0 MG\n",
            "1 ADP\n",
            "2 ACY\n"
          ]
        }
      ],
      "source": [
        "import numpy as np\n",
        "\n",
        "# This works well enough for single bound ligand, but is not general for more complicated or non-standard PDB codes\n",
        "ligands = u.select_atoms(\"not protein and not water\")\n",
        "\n",
        "i = -1 # index\n",
        "ligand_residue_names = ligands.residues.resnames\n",
        "# Loop through all ligands present.\n",
        "for lig in ligand_residue_names:\n",
        "  i = i+1\n",
        "  print(i, lig)"
      ]
    },
    {
      "cell_type": "code",
      "source": [
        "# Select the index of your ligand of interest\n",
        "ligand_id = np.unique(ligand_residue_names)[int(input('Enter index of ligand of interest: '))]\n",
        "print(ligand_id)"
      ],
      "metadata": {
        "colab": {
          "base_uri": "https://localhost:8080/"
        },
        "id": "i2fZOJhVvSWC",
        "outputId": "6648b9c6-44b8-4ac5-eb08-33b947d55067"
      },
      "id": "i2fZOJhVvSWC",
      "execution_count": null,
      "outputs": [
        {
          "output_type": "stream",
          "name": "stdout",
          "text": [
            "Enter index of ligand of interest: 1\n",
            "ADP\n"
          ]
        }
      ]
    },
    {
      "cell_type": "code",
      "execution_count": null,
      "id": "c351fdbb-dacc-4adf-8d84-08229277d164",
      "metadata": {
        "colab": {
          "base_uri": "https://localhost:8080/"
        },
        "id": "c351fdbb-dacc-4adf-8d84-08229277d164",
        "outputId": "7357888a-7ac8-423b-d990-a28514b6b13a"
      },
      "outputs": [
        {
          "output_type": "stream",
          "name": "stdout",
          "text": [
            "Downloading ligand ADP...\n",
            "Saved ligand to molecular_docking/ligand_structures/ADP_ideal.sdf\n"
          ]
        }
      ],
      "source": [
        "# Pull the ideal ligand from the RCSB\n",
        "ligand_directory = \"molecular_docking/ligand_structures\"\n",
        "os.makedirs(ligand_directory, exist_ok=True)\n",
        "\n",
        "ideal_ligand_filename = f\"{ligand_id}_ideal.sdf\"\n",
        "print(f\"Downloading ligand {ligand_id}...\")\n",
        "ligand_url = f\"https://files.rcsb.org/ligands/download/{ideal_ligand_filename}\"\n",
        "ligand_request = requests.get(ligand_url)\n",
        "ligand_request.raise_for_status() # Check for errors\n",
        "\n",
        "ideal_filepath = f\"{ligand_directory}/{ideal_ligand_filename}\"\n",
        "\n",
        "with open(ideal_filepath, \"w\") as f:\n",
        "    f.write(ligand_request.text)\n",
        "print(f\"Saved ligand to {ideal_filepath}\")"
      ]
    },
    {
      "cell_type": "code",
      "execution_count": null,
      "id": "62d08a37-3338-4eed-9e67-3248bbbab727",
      "metadata": {
        "colab": {
          "base_uri": "https://localhost:8080/",
          "height": 417
        },
        "id": "62d08a37-3338-4eed-9e67-3248bbbab727",
        "outputId": "33d3413d-b80d-40ed-b907-9df88d0774ff"
      },
      "outputs": [
        {
          "output_type": "display_data",
          "data": {
            "text/plain": [
              "<IPython.core.display.HTML object>"
            ],
            "text/html": [
              "\n",
              "      <div style=\"height:400px; overflow:auto;\">\n",
              "          <pre>ADP\n",
              "  CCTOOLS-0131251006\n",
              "\n",
              " 42 44  0  0  1  0  0  0  0  0999 V2000\n",
              "    1.1620   -0.2210   -5.6850 P   0  0  0  0  0\n",
              "    1.7250    1.1330   -5.4920 O   0  0  0  0  0\n",
              "    2.1900   -1.1120   -6.5460 O   0  0  0  0  0\n",
              "   -0.2400   -0.1130   -6.4670 O   0  0  0  0  0\n",
              "   -0.1050    0.0250   -3.4460 P   0  0  0  0  0\n",
              "    0.4760    1.3760   -3.2880 O   0  0  0  0  0\n",
              "   -1.4870    0.1290   -4.2660 O   0  0  0  0  0\n",
              "    0.9250   -0.9130   -4.2500 O   0  0  0  0  0\n",
              "   -0.3890   -0.6090   -1.9940 O   0  0  0  0  0\n",
              "   -1.3070    0.2640   -1.3330 C   0  0  0  0  0\n",
              "   -1.6200   -0.2840    0.0590 C   0  0  0  0  0\n",
              "   -0.4170   -0.3480    0.8570 O   0  0  0  0  0\n",
              "   -2.5500    0.6830    0.8250 C   0  0  0  0  0\n",
              "   -3.9070    0.2450    0.7390 O   0  0  0  0  0\n",
              "   -2.0470    0.6110    2.2860 C   0  0  0  0  0\n",
              "   -3.0800    0.1290    3.1480 O   0  0  0  0  0\n",
              "   -0.8710   -0.3880    2.2270 C   0  0  0  0  0\n",
              "    0.2010    0.0310    3.1320 N   0  0  0  0  0\n",
              "    1.2310    0.8700    2.8270 C   0  0  0  0  0\n",
              "    2.0000    1.0270    3.8650 N   0  0  0  0  0\n",
              "    1.5090    0.3050    4.9020 C   0  0  0  0  0\n",
              "    1.9100    0.0870    6.2310 C   0  0  0  0  0\n",
              "    3.0440    0.6970    6.7380 N   0  0  0  0  0\n",
              "    1.1710   -0.7140    6.9910 N   0  0  0  0  0\n",
              "    0.0880   -1.3000    6.5160 C   0  0  0  0  0\n",
              "   -0.3210   -1.1300    5.2770 N   0  0  0  0  0\n",
              "    0.3530   -0.3460    4.4420 C   0  0  0  0  0\n",
              "    2.3040   -0.6640   -7.3960 H   0  0  0  0  0\n",
              "   -0.5720   -1.0160   -6.5710 H   0  0  0  0  0\n",
              "   -1.8330   -0.7700   -4.3460 H   0  0  0  0  0\n",
              "   -2.2270    0.3300   -1.9130 H   0  0  0  0  0\n",
              "   -0.8620    1.2550   -1.2420 H   0  0  0  0  0\n",
              "   -2.0780   -1.2700   -0.0150 H   0  0  0  0  0\n",
              "   -2.4510    1.6960    0.4350 H   0  0  0  0  0\n",
              "   -4.4390    0.8840    1.2330 H   0  0  0  0  0\n",
              "   -1.6990    1.5890    2.6180 H   0  0  0  0  0\n",
              "   -3.8070    0.7640    3.0940 H   0  0  0  0  0\n",
              "   -1.2120   -1.3910    2.4850 H   0  0  0  0  0\n",
              "    1.3870    1.3350    1.8650 H   0  0  0  0  0\n",
              "    3.3080    0.5420    7.6580 H   0  0  0  0  0\n",
              "    3.5770    1.2770    6.1720 H   0  0  0  0  0\n",
              "   -0.4820   -1.9440    7.1690 H   0  0  0  0  0\n",
              "  1  2  2  0  0  0\n",
              "  1  3  1  0  0  0\n",
              "  1  4  1  0  0  0\n",
              "  1  8  1  0  0  0\n",
              "  3 28  1  0  0  0\n",
              "  4 29  1  0  0  0\n",
              "  5  6  2  0  0  0\n",
              "  5  7  1  0  0  0\n",
              "  5  8  1  0  0  0\n",
              "  5  9  1  0  0  0\n",
              "  7 30  1  0  0  0\n",
              "  9 10  1  0  0  0\n",
              " 10 11  1  0  0  0\n",
              " 10 31  1  0  0  0\n",
              " 10 32  1  0  0  0\n",
              " 11 12  1  0  0  0\n",
              " 11 13  1  0  0  0\n",
              " 11 33  1  0  0  0\n",
              " 12 17  1  0  0  0\n",
              " 13 14  1  0  0  0\n",
              " 13 15  1  0  0  0\n",
              " 13 34  1  0  0  0\n",
              " 14 35  1  0  0  0\n",
              " 15 16  1  0  0  0\n",
              " 15 17  1  0  0  0\n",
              " 15 36  1  0  0  0\n",
              " 16 37  1  0  0  0\n",
              " 17 18  1  0  0  0\n",
              " 17 38  1  0  0  0\n",
              " 18 19  1  0  0  0\n",
              " 18 27  1  0  0  0\n",
              " 19 20  2  0  0  0\n",
              " 19 39  1  0  0  0\n",
              " 20 21  1  0  0  0\n",
              " 21 22  1  0  0  0\n",
              " 21 27  2  0  0  0\n",
              " 22 23  1  0  0  0\n",
              " 22 24  2  0  0  0\n",
              " 23 40  1  0  0  0\n",
              " 23 41  1  0  0  0\n",
              " 24 25  1  0  0  0\n",
              " 25 26  2  0  0  0\n",
              " 25 42  1  0  0  0\n",
              " 26 27  1  0  0  0\n",
              "M  END\n",
              "$$$$\n",
              "</pre>\n",
              "      </div>\n",
              "      "
            ]
          },
          "metadata": {}
        }
      ],
      "source": [
        "## Building Atomistic Ligand Model ##\n",
        "\n",
        "# Display raw PDB file\n",
        "from IPython.display import display, HTML\n",
        "\n",
        "def render_text(text_blob):\n",
        "  # Helper function for displaying text in Jupyter Notebooks in a scrollable object\n",
        "  html = f\"\"\"\n",
        "      <div style=\"height:400px; overflow:auto;\">\n",
        "          <pre>{text_blob}</pre>\n",
        "      </div>\n",
        "      \"\"\"\n",
        "  display(HTML(html))\n",
        "\n",
        "render_text(ligand_request.text)"
      ]
    },
    {
      "cell_type": "code",
      "execution_count": null,
      "id": "547ff2ac-e8f9-423a-9ed3-6772d93320f7",
      "metadata": {
        "colab": {
          "base_uri": "https://localhost:8080/"
        },
        "id": "547ff2ac-e8f9-423a-9ed3-6772d93320f7",
        "outputId": "5d139f08-190b-44ea-ead2-3ee027995719"
      },
      "outputs": [
        {
          "output_type": "stream",
          "name": "stderr",
          "text": [
            "/usr/local/lib/python3.12/dist-packages/MDAnalysis/coordinates/PDB.py:777: UserWarning: Unit cell dimensions not found. CRYST1 record set to unitary values.\n",
            "  warnings.warn(\"Unit cell dimensions not found. \"\n",
            "/usr/local/lib/python3.12/dist-packages/MDAnalysis/coordinates/PDB.py:1154: UserWarning: Found no information for attr: 'formalcharges' Using default value of '0'\n",
            "  warnings.warn(\"Found no information for attr: '{}'\"\n"
          ]
        }
      ],
      "source": [
        "# Split the ligand out into its own PDB file from the experimental one\n",
        "\n",
        "# Use only Chain A since this is a dimer and our target site for docking\n",
        "single_pose_ligand = ligand.select_atoms(\"segid A\")\n",
        "single_pose_ligand.write(f\"{ligand_directory}/{ligand_id}_fromPDB.pdb\")"
      ]
    },
    {
      "cell_type": "code",
      "execution_count": null,
      "id": "28376ef5-fc35-4c5d-8731-f081076a2620",
      "metadata": {
        "colab": {
          "base_uri": "https://localhost:8080/"
        },
        "id": "28376ef5-fc35-4c5d-8731-f081076a2620",
        "outputId": "78064586-1483-496a-d3ba-b7a3cb71fa4e"
      },
      "outputs": [
        {
          "output_type": "stream",
          "name": "stderr",
          "text": [
            "[13:00:16] Warning: molecule is tagged as 2D, but at least one Z coordinate is not zero. Marking the mol as 3D.\n",
            "[13:00:16] Initializing MetalDisconnector\n",
            "[13:00:16] Running MetalDisconnector\n",
            "[13:00:16] WARNING: More than one matching pattern found - picking one\n",
            "\n"
          ]
        }
      ],
      "source": [
        "from rdkit import Chem\n",
        "from rdkit.Chem import AllChem\n",
        "from rdkit.Chem.MolStandardize import rdMolStandardize\n",
        "\n",
        "# Load and remove the hydrogens that we can't map anyways yet.\n",
        "ideal_mol = Chem.MolFromMolFile(f\"{ligand_directory}/{ligand_id}_ideal.sdf\", removeHs=True)\n",
        "pose_mol = Chem.MolFromPDBFile(f\"{ligand_directory}/{ligand_id}_fromPDB.pdb\", removeHs=True)\n",
        "#pose_mol = Chem.MolFromPDBFile(f\"{ligand_directory}/{ligand_id}_fromPDB_clean.pdb\", removeHs=True) # corrected ligand structure\n",
        "\n",
        "# Disconnect any organometal\n",
        "rdMolStandardize.DisconnectOrganometallicsInPlace(pose_mol)\n",
        "#disc_pose_mol = Chem.MolToSmiles(pose_mol)\n",
        "#print(disc_pose_mol)\n",
        "\n",
        "# Assign bond orders from the template to the pose molecule\n",
        "corrected_pose = AllChem.AssignBondOrdersFromTemplate(ideal_mol, pose_mol)\n",
        "\n",
        "# Add hydrogens back to the corrected pose\n",
        "corrected_pose_with_H = Chem.AddHs(corrected_pose, addCoords=True)\n",
        "\n",
        "# Sanity to check to make sure the molecule is right (check smiles of both)\n",
        "#assert Chem.MolToSmiles(corrected_pose) == Chem.MolToSmiles(ideal_mol)\n",
        "\n",
        "# Save the corrected pose to an SDF file\n",
        "ligand_corrected_pose_file = f\"{ligand_directory}/{ligand_id}_corrected_pose.sdf\"\n",
        "writer = Chem.SDWriter(ligand_corrected_pose_file)\n",
        "writer.write(corrected_pose_with_H)\n",
        "writer.close()"
      ]
    },
    {
      "cell_type": "code",
      "execution_count": null,
      "id": "1695ca62-0df1-403f-8a01-121e3ed1f5ac",
      "metadata": {
        "colab": {
          "base_uri": "https://localhost:8080/"
        },
        "id": "1695ca62-0df1-403f-8a01-121e3ed1f5ac",
        "outputId": "ef44da2f-29c9-4da3-91be-a87cf69371ed"
      },
      "outputs": [
        {
          "output_type": "stream",
          "name": "stdout",
          "text": [
            "Corrected pose SMILES: CC(O)O.Nc1ncnc2c1ncn2[C@@H]1O[C@H](COP(=O)(O)OP(=O)(O)O)[C@@H](O)[C@H]1O.[MgH2]\n",
            "Ideal mol SMILES: Nc1ncnc2c1ncn2[C@@H]1O[C@H](CO[P@](=O)(O)OP(=O)(O)O)[C@@H](O)[C@H]1O\n"
          ]
        },
        {
          "output_type": "execute_result",
          "data": {
            "text/plain": [
              "<AtomGroup with 3139 atoms>"
            ]
          },
          "metadata": {},
          "execution_count": 15
        }
      ],
      "source": [
        "print(\"Corrected pose SMILES:\", Chem.MolToSmiles(corrected_pose))\n",
        "print(\"Ideal mol SMILES:\", Chem.MolToSmiles(ideal_mol))\n",
        "\n",
        "u.select_atoms(\"segid A\")"
      ]
    },
    {
      "cell_type": "markdown",
      "id": "2735d5da-adb7-4a28-ba1f-728b4b754614",
      "metadata": {
        "id": "2735d5da-adb7-4a28-ba1f-728b4b754614"
      },
      "source": [
        "# Partial Charge for the Ligand"
      ]
    },
    {
      "cell_type": "markdown",
      "id": "f0c2f714-54ac-4639-9144-e368ea3f9656",
      "metadata": {
        "id": "f0c2f714-54ac-4639-9144-e368ea3f9656"
      },
      "source": [
        "# Creating tautomers (optional)"
      ]
    },
    {
      "cell_type": "code",
      "execution_count": null,
      "id": "173c6584-1ab5-47ce-b130-5f44b9ddbc48",
      "metadata": {
        "id": "173c6584-1ab5-47ce-b130-5f44b9ddbc48"
      },
      "outputs": [],
      "source": [
        "from rdkit.Chem.MolStandardize import rdMolStandardize\n",
        "# Initialize enumerator\n",
        "tautomer_enumerator = rdMolStandardize.TautomerEnumerator()\n",
        "# Provide RDKit Mol object to generate.\n",
        "# We already made this, but you may start from a SMILE string or other source\n",
        "# Remember, use the structure with implicit hydrogens!\n",
        "tautomers = tautomer_enumerator.Enumerate(corrected_pose)\n",
        "# Take the TautomerEnumerationResults object and iterate over to get a list of structures\n",
        "tautomers_list = [t for t in tautomers]\n",
        "\n",
        "'''\n",
        "Note! This may generate duplicate structures,\n",
        "You may want to cast these Mol objects into SMILES strings, de-duplicate,\n",
        "then rebuild the Mol objects to map their coordinates back onto the reference structure\n",
        "'''\n",
        "\n",
        "# Cast to a set to make unique, then back to a list (as some tautomers can be enumerated again for some structures)\n",
        "smiles_set_tautomers = set(Chem.MolToSmiles(t) for t in tautomers_list)\n",
        "tautomer_list_unique = list(smiles_set_tautomers)\n",
        "# We know the ligand structure does have unique tautomers, this is just a sanity check\n",
        "assert len(tautomers_list) == len(tautomer_list_unique)"
      ]
    },
    {
      "cell_type": "code",
      "execution_count": null,
      "id": "a675d0a6-6129-4e65-a862-998d614c9986",
      "metadata": {
        "id": "a675d0a6-6129-4e65-a862-998d614c9986"
      },
      "outputs": [],
      "source": [
        "ligand_tautomers = f\"{ligand_directory}/{ligand_id}_tautomers.sdf\"\n",
        "writer = Chem.SDWriter(ligand_tautomers)\n",
        "for t in tautomers_list:\n",
        "  writer.write(t)\n",
        "writer.close()"
      ]
    },
    {
      "cell_type": "code",
      "execution_count": null,
      "id": "f7a1c812-8b24-42c3-aafe-15855e707c5e",
      "metadata": {
        "colab": {
          "base_uri": "https://localhost:8080/"
        },
        "id": "f7a1c812-8b24-42c3-aafe-15855e707c5e",
        "outputId": "318e9b0c-229c-467d-c7e2-f0e767fc4511"
      },
      "outputs": [
        {
          "output_type": "stream",
          "name": "stdout",
          "text": [
            "CC(O)O.N=c1[nH]cnc2c1ncn2[C@@H]1O[C@H](COP(=O)(O)OP(=O)(O)O)[C@@H](O)[C@H]1O.[MgH2]\n",
            "CC(O)O.N=c1nc[nH]c2c1ncn2[C@@H]1O[C@H](COP(=O)(O)OP(=O)(O)O)[C@@H](O)[C@H]1O.[MgH2]\n",
            "CC(O)O.Nc1ncnc2c1ncn2[C@@H]1O[C@H](COP(=O)(O)OP(=O)(O)O)[C@@H](O)[C@H]1O.[MgH2]\n"
          ]
        }
      ],
      "source": [
        "for t in tautomer_list_unique:\n",
        "  print(t)"
      ]
    },
    {
      "cell_type": "code",
      "execution_count": null,
      "id": "9642627d-8d69-4bf5-a19e-6cef04cd4355",
      "metadata": {
        "colab": {
          "base_uri": "https://localhost:8080/",
          "height": 217
        },
        "id": "9642627d-8d69-4bf5-a19e-6cef04cd4355",
        "outputId": "58cf541d-7196-41af-f5eb-fad9d0ae1f8c"
      },
      "outputs": [
        {
          "output_type": "execute_result",
          "data": {
            "image/png": "[encoded data removed]",
            "text/plain": [
              "<IPython.core.display.Image object>"
            ]
          },
          "metadata": {},
          "execution_count": 19
        }
      ],
      "source": [
        "from rdkit.Chem import Draw\n",
        "Draw.MolsToGridImage([Chem.MolFromSmiles(t) for t in tautomer_list_unique])"
      ]
    },
    {
      "cell_type": "markdown",
      "id": "d9393fd2-922e-44b9-83cf-9dd4cd77260a",
      "metadata": {
        "id": "d9393fd2-922e-44b9-83cf-9dd4cd77260a"
      },
      "source": [
        "# Scrubber - Removing metals, (in)organic salts, adding charges and hydrogens"
      ]
    },
    {
      "cell_type": "code",
      "execution_count": null,
      "id": "44aea5aa-9356-487a-97cd-f0c30cbad12e",
      "metadata": {
        "colab": {
          "base_uri": "https://localhost:8080/",
          "height": 167
        },
        "id": "44aea5aa-9356-487a-97cd-f0c30cbad12e",
        "outputId": "d428ec16-38a4-409b-ed4f-4cb35d5b42d5"
      },
      "outputs": [
        {
          "output_type": "execute_result",
          "data": {
            "text/plain": [
              "<rdkit.Chem.rdchem.Mol at 0x7c6f6280e500>"
            ],
            "image/png": "[encoded data removed]"
          },
          "metadata": {},
          "execution_count": 20
        }
      ],
      "source": [
        "# Check our molecule from RDKit. Doesn't have rotation, but its neat to see in a Jupyter Notebook for just invoking it\n",
        "from rdkit.Chem import AllChem, Draw\n",
        "\n",
        "AllChem.Compute2DCoords(corrected_pose_with_H)\n",
        "Draw.MolToImage(corrected_pose_with_H)\n",
        "\n",
        "corrected_pose_with_H"
      ]
    },
    {
      "cell_type": "code",
      "execution_count": null,
      "id": "4c06b237-83e0-48e3-9129-b596063c7cf0",
      "metadata": {
        "colab": {
          "base_uri": "https://localhost:8080/"
        },
        "id": "4c06b237-83e0-48e3-9129-b596063c7cf0",
        "outputId": "db681a10-9b5a-4d73-8100-fe2393032852"
      },
      "outputs": [
        {
          "output_type": "execute_result",
          "data": {
            "text/plain": [
              "32512"
            ]
          },
          "metadata": {},
          "execution_count": 21
        }
      ],
      "source": [
        "# Create our PDBQT to keep our hydrogens\n",
        "ligand_simple_pdbqt_filename = f\"{ligand_directory}/{ligand_id}_obabel.pdbqt\"\n",
        "os.system(f\"obabel {ligand_corrected_pose_file} -O {ligand_simple_pdbqt_filename} -xh\")"
      ]
    },
    {
      "cell_type": "code",
      "execution_count": null,
      "id": "999b17f9-d412-4f4e-a00e-425ac7f97d18",
      "metadata": {
        "colab": {
          "base_uri": "https://localhost:8080/"
        },
        "id": "999b17f9-d412-4f4e-a00e-425ac7f97d18",
        "outputId": "606f5981-8a92-493b-86fb-16ac8bbcb773"
      },
      "outputs": [
        {
          "output_type": "stream",
          "name": "stdout",
          "text": [
            "molecular_docking/ligand_structures/ADP_corrected_pose.sdf\n",
            "molecular_docking/ligand_structures/ADP.pdbqt\n"
          ]
        }
      ],
      "source": [
        "print(f\"{ligand_directory}/{ligand_id}_corrected_pose.sdf\")\n",
        "print(f\"{ligand_directory}/{ligand_id}.pdbqt\")"
      ]
    },
    {
      "cell_type": "code",
      "execution_count": null,
      "id": "66b3c1f4-df7d-4d2c-9569-226db22cf09f",
      "metadata": {
        "colab": {
          "base_uri": "https://localhost:8080/"
        },
        "id": "66b3c1f4-df7d-4d2c-9569-226db22cf09f",
        "outputId": "58c1e7c5-347f-4805-88ba-5357889d1847"
      },
      "outputs": [
        {
          "output_type": "stream",
          "name": "stdout",
          "text": [
            "Scrub completed.\n",
            "Summary of what happened:\n",
            "Input molecules supplied: 1\n",
            "mols processed: 1, skipped by rdkit: 0, failed: 0\n",
            "nr isomers (tautomers and acid/base conjugates): 3 (avg. 3.000 per mol)\n",
            "nr conformers:  3 (avg. 1.000 per isomer, 3.000 per mol)\n"
          ]
        },
        {
          "output_type": "execute_result",
          "data": {
            "text/plain": [
              "32512"
            ]
          },
          "metadata": {},
          "execution_count": 26
        }
      ],
      "source": [
        "from rdkit import Chem\n",
        "from scrubber import Scrub\n",
        "\n",
        "#input('!scrub.py Molecular_docking/ligand_structures/ADP_corrected_pose.sdf -o Molecular_docking/ligand_structures/ADP.sdf')\n",
        "!scrub.py molecular_docking/ligand_structures/ADP_corrected_pose.sdf -o molecular_docking/ligand_structures/ADP.sdf\n",
        "\n",
        "# Create our PDBQT to keep our hydrogens\n",
        "ligand_pdbqt_filename = f\"{ligand_directory}/{ligand_id}.pdbqt\"\n",
        "os.system(f\"obabel {ligand_corrected_pose_file} -O {ligand_pdbqt_filename} -xh\")"
      ]
    },
    {
      "cell_type": "code",
      "execution_count": null,
      "id": "9d413647-6526-4717-8e14-8e3beff375c7",
      "metadata": {
        "id": "9d413647-6526-4717-8e14-8e3beff375c7"
      },
      "outputs": [],
      "source": [
        "# Voila! The ligand is ready for docking!"
      ]
    },
    {
      "cell_type": "markdown",
      "id": "0a4c8e26-9b8b-41d1-94ba-5087e55dbdf5",
      "metadata": {
        "id": "0a4c8e26-9b8b-41d1-94ba-5087e55dbdf5"
      },
      "source": [
        "## Preparing multiple ligands from SMILES strings"
      ]
    },
    {
      "cell_type": "code",
      "execution_count": null,
      "id": "89fb5170-595d-4350-858c-8ed3d29c127f",
      "metadata": {
        "colab": {
          "base_uri": "https://localhost:8080/"
        },
        "id": "89fb5170-595d-4350-858c-8ed3d29c127f",
        "outputId": "3374d3d8-23f3-4fc5-e3f4-ba3231d830eb"
      },
      "outputs": [
        {
          "output_type": "stream",
          "name": "stdout",
          "text": [
            "Brc1cc(N/N=C/c2c[nH]nn2)ccn1\n",
            "C(=N/Nc1ccncc1)\\c1c[nH]nn1\n",
            "O=C(NCc1c[nH]nn1)c1ccnc(Br)c1\n",
            "FC(F)(F)c1cc(N/N=C/c2c[nH]nn2)ccn1\n",
            "CC(C)c1cc(N/N=C/c2c[nH]nn2)ccn1\n",
            "O=C(NCc1c[nH]nn1)c1ccncc1\n",
            "O=C(NCc1c[nH]nn1)c1ccnc(C(F)(F)F)c1\n",
            "CC(C)c1cc(C(=O)NCc2c[nH]nn2)ccn1\n"
          ]
        },
        {
          "output_type": "stream",
          "name": "stderr",
          "text": [
            "[13:09:49] WARNING: no name column found on line 1\n",
            "[13:09:49] WARNING: no name column found on line 2\n",
            "[13:09:49] WARNING: no name column found on line 3\n",
            "[13:09:49] WARNING: no name column found on line 4\n",
            "[13:09:49] WARNING: no name column found on line 5\n",
            "[13:09:49] WARNING: no name column found on line 6\n",
            "[13:09:49] WARNING: no name column found on line 7\n",
            "[13:09:49] WARNING: no name column found on line 8\n"
          ]
        }
      ],
      "source": [
        "# Load the SMILES strings into RDKit and write back out an SDF file.\n",
        "\n",
        "# Default delimiter is tab (\\t), so we need to specify \",\"\n",
        "smiles_supplier = Chem.SmilesMolSupplier(f\"{ligand_directory}/test1.csv\", delimiter=\",\")\n",
        "mols = []  # Could do this in list comprehension, adding a sanity check\n",
        "for mol in smiles_supplier:\n",
        "  print(Chem.MolToSmiles(mol))  # Sanity check that we got the smiles strings and not metadata\n",
        "  mols.append(mol)\n",
        "\n",
        "# Write out our molecules\n",
        "ligands_to_dock_dirty = f\"{ligand_directory}/ligands_to_dock_dirty.sdf\"\n",
        "writer = Chem.SDWriter(ligands_to_dock_dirty)\n",
        "for m in mols:\n",
        "  writer.write(m)\n",
        "writer.close()"
      ]
    },
    {
      "cell_type": "code",
      "execution_count": null,
      "id": "8f08fb6d-fc7e-4951-80c9-0b1dac257b89",
      "metadata": {
        "colab": {
          "base_uri": "https://localhost:8080/"
        },
        "id": "8f08fb6d-fc7e-4951-80c9-0b1dac257b89",
        "outputId": "4ce87694-6c11-4b5c-bf7b-dd8b3791450d"
      },
      "outputs": [
        {
          "output_type": "stream",
          "name": "stdout",
          "text": [
            "Scrub completed.\n",
            "Summary of what happened:\n",
            "Input molecules supplied: 8\n",
            "mols processed: 8, skipped by rdkit: 0, failed: 0\n",
            "nr isomers (tautomers and acid/base conjugates): 52 (avg. 6.500 per mol)\n",
            "nr conformers:  52 (avg. 1.000 per isomer, 6.500 per mol)\n"
          ]
        }
      ],
      "source": [
        "!scrub.py molecular_docking/ligand_structures/ligands_to_dock_dirty.sdf -o molecular_docking/ligand_structures/ligands_to_dock.sdf"
      ]
    },
    {
      "cell_type": "code",
      "execution_count": null,
      "id": "ffd94be9-528e-46f2-9842-6cb0ee16fdb5",
      "metadata": {
        "colab": {
          "base_uri": "https://localhost:8080/",
          "height": 198
        },
        "id": "ffd94be9-528e-46f2-9842-6cb0ee16fdb5",
        "outputId": "af40928e-9f34-4065-acff-3248aaf44d50"
      },
      "outputs": [
        {
          "output_type": "execute_result",
          "data": {
            "text/plain": [
              "<rdkit.Chem.rdchem.Mol at 0x7c6f617c8cf0>"
            ],
            "text/html": [
              "<table><tr><td colspan=\"2\" style=\"text-align: center;\"><image src=\"data:image/png;base64,iVBORw0KGgoAAAANSUhEUgAAAcIAAACWCAIAAADCEh9HAAAABmJLR0QA/wD/AP+gvaeTAAAgAElEQVR4nO2deVhTx9fHT8Iui+wQQIuoIG5Ysa1KrUp5VSruBrEVtbWiWAW0tqjIonXBX2vLotho+yhuVSjWAmoRFypCxV1AVJRFZd9FIayZ94/BGBJEIOHeLPN5fHjC4XLnG0m+mZkzc4aBEAICgUAg9BQm3QIIBAJBtiE2SiAQCGJBbJRAIBDEgtgogUAgiAWxUQKBQBALYqMEAoEgFnJoo9nZ2UFBQTdu3BCK19bWBgUFxcXF0aKKQCDIK/Jpo1u2bLl+/bpQ/MWLF1u2bCE2SiAQJIsc2iiBQCBQCbHRrpKQkDBhwoSLFy8KxXNyciZMmMDhcGhRRSAQaIfYaFcpLS29evVqWVmZUPzVq1dXr17Ny8ujRRWBIAfMnz/fxsZGNO7v79+vX7+nT59SL6lbKNMtoLeoqqoS+t8vLi6mSwyBQOiEsrKygoIC0Xh1dXVBQUFzczP1krqF3NpoQEBAQEAA3SoIBIL8I7c2umLFCmdnZ8FIRUXF119/TZceAoEgr8itjY4YMWLWrFmCkefPn4t/23///ZfL5Ur8tgQCQXaRWxvtJTgcDknKEwgSp7m5WXQWTnT1t3RCbLR7HDx4cP78+YKRzMzMcePG0aWHQJAPmpubIyIihIJ1dXW0iOkuxEa7h5qampaWlmBEQ0ODLjEEgtzQp0+fiooKoeDq1av37t1Li55uQdaNEggEgljIYW908uTJjx49MjExEYqzWKxHjx7p6up26251dXUbN25cv3695AQSCAS5Qg57o5qamtbW1n379hUMpqenL126NDo62tjYuOu3unnz5ujRo8PDwz08PCQtk0AgyAlyaKMdUlVVdezYsQMHDvB4vK5cjxAKDQ11cHDIzs4eNmzY//73P01NTXNz8z59+ghdqaqqam5uLuTaBAJBcZDDQX2HTJw40dLSMj8/Pzk5eeLEiZ1fXFJSsnTp0oSEBAaD4eHh8csvv/Tp02fkyJHz5s0TvdjW1rbDfWxSSEJCQn5+/vLly5nMdh+fN2/evHXr1rx58wwNDenSRlBkRo4cqaamJhofOHCgg4ODDGRxkcKwadMmAFi2bFnnl8XExBgYGACAsbFxfHw8NdqoYebMmQDQ2NgoFN+8eTMA3LhxgxZVBAJCqKmpKS8vj24VPURRBvUAsGTJEgCIjo4W2obEh8vlent7z5s3r7KycurUqffu3Zs+fTq1GgkEBSUpKWnAgAELFiygW0hPUCAbtba2HjNmTG1tbWxsrOhPb968OWrUqLCwMHV19ZCQkHPnzpmamlIvkkBQTPC70tramm4hPUGBbBQA3N3dAeDIkSOCQdQ+m5SWlubt7c1gMGjSSCAoImfOnAGAGTNm0C2kJ0ipjV6+fPn06dOi8Tt37kRHR9fX1/fstgsXLlRRUUlISCgtLcWR58+fOzo6+vj4NDc3e3l53bp1a+TIkT3XLQs0Nzc3taeLqxcIhF4iIyMjLy/P2Nh4zJgxdGvpCVJqo5s3b168eLFo/MCBA66urnwT7C5GRkZTp05taWk5ceIEAMTExIwaNSopKcnExCQ+Pj40NLTDdKGcoaWlpdaeHTt20C2KoNBcuVLIYlm4uLgIrSGRFRRlwRMfd3f3+Pj4yMjI3NzcsLAwAJg6deqhQ4cUZyZ0z549SkpKgpG4uLizZ8/SpYdAOH58WnHxs9mzZaMQiSgKYaO1tbVFRUX4oIKioiI1NbU7d+7cuXOnT58+u3fvXrlyJd0CKWX58uWqqqqCkcLCQmKjBLooL4e0NFBTY0yerPXuq6USObHR6urqoqKi4uLioqKi6upq/AB/LSwsfPHihdD1urq6KioqFy9eHDFiBC2CCQQC5uxZaG2FqVNBS1ZdVGZt9Jdffrlw4UJhYWFpaWlZWVnnSRK8j9PExITFYpmamjY0NOzfv9/MzGzo0KGUCSYQCB0SFwcA4OJCtw4xkF4bffnypZbIx1NjYyN+kJ6eLjgO1dPTY7FYenp6ZmZmLBZL6Kuenp7QfZKSkrKzsy9fvuzk5NSrz4JAIHRO//7AYoFM73SRXhtVU1PD2zcFiY2NTUtLA4BVq1bNmzePxWKxWCxjY2Nl5e49kS+++CIwMDAyMpLYKIFALz//DLt3g2wv1KZ7N2rHjB8/XltbWzTu6ekJALm5uWLePz8/n8lkamho1NTUiHkrGSIzMzMpKYnH4wnF8/LykpKSXr58SYsqguJQWYkAEIOBLl5sF3/wAAGgTZtokiU2MrlKS3zee++9CRMmcLncU6dO0a2FOoYNGzZx4kT+Bq29e/f6+PjU1tZaWlpOnDhRdAqFQOgNEAJPT3g9PycPKKiNwutKJZGRkXQLoY2IiIjQ0NCnT5/SLYSgWIwYAdnZ8NNPdOuQHIpro2w2W0tL68qVK7m5uXRroQdzc3MAkJViqQS5YdIkcHaG7dshJ4duKRJCcW1US0tr9uzZCKGjR4/SrYUesI0WFhbSLYSgcISFAY8Hq1bRrUNCSKmN7ty58/jx46LxFStWnDp1SvS4up6Bx/WHDh1CCEnkhrKFhYUFEBsl0MGgQbBmDZw/D1FRdEuRBFJqo5988olLR+tx7ezs5syZI3ogUs9wdHTs169fXl5eSkqKRG4oDi0tUF0NL18Kx5uboboampok3yLpjRK+/RbGjIEffxSOf/klTJsmgfs3NkJ6Opw8CYGBIJSGCAwECwvw8YHaWgk0RC9SaqPUwGQyFy1aBNKRaLp2DfT1wcgIHj1qF4+LA339XvnQJnOjhJwcuHULNm+GBw/axR89gvT0bt+tqQnu34foaAgKAldXGDMG+vYFOztwc4OtW+GPP9pdrKUFP/8MxcWwbZtYT0EakN7l99SwdOnS4ODgqKio0NBQSXVyxaGxEby8ICGBirZIb5QAAGpqoK0N33wDFy92bw38q1fw4AFkZb35l58PQruylZRg8GAYNgxsbeGjj4TvwGbDlCkQGgrvOmRS2lF0G7W2tv7www/T0tL+/vvvhQsX0i0HRo+G8+fhxAlwc+utJmpqasrLyysqKnJycgDg2bNnCCFS7V9hUVGBzZvBxweOHIGOavy28eIFPHkC9+9DVhbk5sL9+/DwobBpKiuDpSUMHQrDhrV9tbUFwc5JVZXwbffsgREjwM9Pcs+HDhTdRgFgyZIlaWlpkZGR0mCjS5cClwvr1oGzM/Tt273fffUKKiuhrAxevKguKTlTUVFRWVlZUVFRVlaGH+CvLS0tgr/V0tIycuTI77777vPPP+/unlqCfPDNN/Dbb7BuHXz2GQidsb1uHWRmQlYWiA5a1NTAxgZsbdvscuhQGDwYVFS61/TgwfD99/DDD2Lppx3ytgE3N7e1a9cmJiYWFBTg5DWNKCtDeDg4OYGfH+zZ0+5HJSWQmQnl5VBZCRUVbV/Ly6Giou3bhoa2K21t1R48cH9bEzo6OsbGxoaGhoaGhkwm8+bNm5mZmUuWLNm2bduGDRsWLVokVI2UIPcoK8Pu3TB1KmzaBPv3t/tRbGzb6k5VVRg06E0308oKhg8HiRwWsXEjHDsG/NXbpaUgoZU41EFsFPT09GbMmPHnn38eP378+++/p1sOfPopzJ4N+/bB4sXw4Ydv4n/+CWvWdPaLmppgYABGRjBwIHP06C8MDQ0NDAwMDQ2NjIywaeJvVdp3GJqamk6cOLFjx45Hjx4tW7Zsy5Yt69atW758uTTMFBMoY8oUmD8ffv8dli6F8ePfxHftAjU1GDoULC1B/AM+VFWBzYZRo9oFNTRg/37gcGD4cIiKgi+/hD/+gJkzxW2LUmje0y8dxMXFAcDQoUNp1JCcjABQRARCCD19ijQ10fvvo5YWFBODANCRI+jcOeToiNzc0DffoMBAFBaGjh9H58+jO3fQ8+eovl6s1ltbW2NjY0ePHo1fFUZGRoGBgdXV1RJ5agSpZdYspKXV9vj5c6SlhUaNQi0taNw4xGLRoOe77xAAUlND8fE0tN5jiI0ihFBzczM+i+nGjRt0aRC0UYTQjh0IAP366xsbpQAejxcbG/vR65Sqjo6Or69vRUUFFW0T6EDQRhFCP/6IANCBA7TZKEJowwYEgFRVUWwsPQJ6gEKvG+WjrKyM80vSsIAU8+23YGsL/v4SWJzc2NhYVFSUnp5++fLlkydP7t27d+vWrV5eXqtE9uIxGIwZM2Zcu3YtOTnZxcWltrZ2165dlpaW3t7eZF2UIuDtDcOGQUAAvHpFm4adO8HXF5qaYP78tsL40g8DKeQ+SFEyMzNHjBihr6+Pz7yjXsDVqzBhAkREgKdnW+TSJfj0Uxg6FLKy4MgRWLRI+FdaW9/kmioroby8LQGlonIhM/OXiooKvLDppejWKAAAUFVVbWho6GSpU0pKSnBw8JkzZxBCqqqqCxYsCAgIGDRokGSeMEEKmD0bLl5st3fu6lX45BNACFgsKCqiRxVC4OMDYWGgqgoxMTJwvghJMbUxfPhwOzu7e/funT17ds6cOXTLAQBwdISFC9/s/WhtheXL25mm6Co8zKRJaklJb05YUVVVxcklAwMDIyMjIyMj/rc8Hk/osGVBHBwc4uLi7t27t3v37uPHjx85cuTEiRNubm6bNm0aMmSIJJ8qQWr4+GNYtAiOHKFTA4MBISGAEISHw/z5EBMj9UeM0D2rIEXs3r0bAGbNmkVL60Jzo5jiYqSr+2ZuVEsLAbz5x2QiY2Nka4smTECzZ6Ovv0abNqHdu9HJk8/i4+OvXbv25MmTFy9eSETekydPPDw88MJSJpPp4uJC8TxyQUGBv7//pUuXhOItLS3+/v7Hjx+nUozcsG4dmjBBOFhSgsaORVOn0iFIAB4PrV4tGxknYqNvKC0tVVFRUVFRKSsro771x4+RhwdKShKOR0UhDw907RpCCP3xBzp9Gl29ih48QOXl1GtEeXl5Xl5e6urq+DPYyckpNTWVmqbxGVwBAQFC8YaGBho//OQPwSNmrl1DgYHo7Fk6xXzzDQJAGhooMZE2Ge+E2Gg7pk+fDgBhYWH0ynjxAuXk0GOUXaGkpCQwMFBHRwebqYODQ2zvZ1WlzUZ//vlnHR2dlJQUofj58+d1dHQ4HA7FesSnvByxWO0S9L/8ggDQmjX0aWrvpBcu0KmkE0imvh1ScrLIsWMwcCAEBNCr4q2YmJgEBQXl5OQEBgbq6emlpKTMnDlz9OjR0dHRSGEylg0NDbW1tUI7awGgubm5tra2UQZPGtLTg7IyKCmB5ua2iJkZANCWaMIwGBAeDqtWAZcLM2fCpUt0inkbxEbbMWvWLAMDg1u3bmVkZNCtRdoxNDQMCgp6+vRpSEgIi8W6c+eOq6urnZ3d4cOHRc2FIP0oKYGJCSAEJSVtERYLAKC4mEZRAAAMBuzZA56eUF8PM2ZIo5MSG22Hqqoqm80GgCO0pirxGiSZ6Nhpa2t7e3s/fvw4JCTEwsIiIyNjyZIlNjY2oaGhvdEjq6mpyWtPfn6+xFtRWLBv8ruf0tAbxTAYsHfvGye9fJluQe0hNioMHtfT26WSIRvFaGpqent75+TkREZGWltb5+bm+vj4WFtbh4aGcrncHtywubn5+fPnqampMTExYWFhV65cwfGwsDCr9pClVxIE+ya/+8n/VhpeithJV66E+npwcYGkJLoFCUDWjQozduzYIUOGPHz48MKFC9MkcpBC95E5G8WoqqouXrx40aJFMTExQUFBWVlZPj4+27dvX7Vq1dq1a/uKFP7jcrnFxcW5ublFRUXFxcWCX58+fdra2sq/ct26dQsWLAAANze3zz//XPAmLS0tc+fOpeDZdUh4ePipU6cEIzLdOxbqfmpogK4u1NRAVRUYGNCoqw0GAyIiACHgcMDFBeLjYdIkujUBALHRDnF3d/fz84uMjCQ22gOYTCabzZ43b97p06d37Nhx69atLVu2hIeHz5s3T0tLq6SkpKCgoKioqLCwsIFf2k8EJSUlMzMzCwsLFovVr1+/CRMm4Li1tfWMGTMEr6Q3mZOSksJf/oXpWe9bShCdDGWxoKYGioulwkbhtZM2NEBkJLi4wJkzUlE5n9hoByxZsiQgIOD06dM1NTW6urrUC9DSSp848Zyx8UgAZ+pblwhMJnPu3Llz5869evVqUFDQxYsXL168mMsvKgkAAOrq6mZmZiwWi//VysoKP+jfv79QDenr169T+wy6xIkTJz755BPByNmzZ6dL+56btyI0NwoAZmbw4AEUFcHw4XSJEobJhN9/Bx4PjhyBhATQ0oLcXLC1FVaYmgqFhcBmUyGJ2GgHmJubT5o06eLFi9HR0cuXL6deQH39jX//3TBo0DLZtVE+H3/88YULF2bNmhUbGzt37tw5c+bw+5ikpKm0ITQ3CtKUZRJESQkOHgRnZ1i4EFasgP37oV8/yMoCLa031/z0E5w+TZGNkhRTx0jJAlJBeEIH38gUJiYmADBt2rRFixZNmjTJxsaGeKgUImqaUrLmSRQlJRA89KewELZsoU0MsdGOmTt3rra2dkpKyiOh844pAVddElrKvmbNGldX1+zsbOr1iA/+DGCKXz+d0JuIDuql1kaFWLgQQkLg7l16Wicv647R1NScN28eABw7doz61kVt9MWLF0ePHo2Ojh4+fPjKlSulvPpnSkqKmZmZYEodPxdxzh+1s7PLzs729vYWiquqqmZnZ+/bt6/HdybwMTEBZWWoqICmprbIgAElkyYlM5n/0Krr3WzZAhoasGqV8GGl1EBs9K3wF5BSP5oWtdG+fftmZWV5eHgghDgcjpWV1YoVK8rKyigW1kUaGxuLi4tLS0v5EfF7o2pqaoMHD9bX1xeKMxiMwYMHs3CviUIGDhzo7OwsqsfY2NjZ2dnS0pJiPRKByQRj43YbmfT1HyclfXLjhrQf3WlqCn5+8N9/8NtvNLROUkxvZeLEiVZWVrm5uVeuXJnUO+vTmpubcXHl0tLSsrKy8vLy8vLykpKS27dvA8D9+/e5XK6Ghga+2NzcnMPhbNy4cefOnb/99tv+/fuPHz/+zTffbNq0iV8lREoQ7XvK36De1dXV1dUVAHg8XmVlpb6+Pq7cOmbMmLNnz77rt6UXS0uekhKvtLSxf39NADAzMwOAImnLMXXE2rUQGQkbNsDs2WBsTGnTxEbfCoPB+OKLL3744YfIyMie2SheXl5UVFRdXV1dXc1/zH9QVlYmuMhcECsrqxs3bgwePPi7777z9PTkH3psaWnJ4XDWrFmzdevW6OjoXbt2/f777+vXr/fx8aGlaH+HiJomjogzqJdaiouLLSwszM3NCwoK6NYiAQwN56SmxhYUnPrggzkgYKMIISn/86mqth1O/t13QHFumNhoZyxevHjbtm3R0dHh4eFagospAF69eiXUhcQndpSWlpaWluI+5ju3kyopKZmamuKK9KampvgwZBypqKjYt2/frVu3fHx89u7d+8MPP7i6uvJfx8OHD4+KikpNTd24ceOVK1c2bNgQERHh5+e3bNmyTqrZU4aojeL+qTz1RvlUVVUBgOjoXkbB0yP87qeGhoaurm5NTU1VVZWBlCzBfzuffgpubnDkCIgcM9a7EBvtjEGDBo0dO/a///5bsGABtraysrLS0tLy8vKubFbR09MzMTHB5shisfADY2NjExMTbJ2GhoadfMJ/9dVX8fHxfn5+GRkZbm5u27ZtCwgIYAsshBs/fvy///574cKF9evX37t3b8WKFaGhoUFBQfPnz6e346AIg3o+lZWVIHc2WiyQmzczM6upqSkqKpJ+GwWA3bvh7FlYuxZMTKhrVAZslMPhpKenh4eHC70J4+Pjz5075+vr279//15q+sGDBwUFBTo6OqKzXerq6np6enp6engHjtBjvJGRPxLvGficzunTp8fExPj6+mZmZrq6uo4fP37nzp2CO2ecnJxu374dExOzcePGrKwsV1fXsWPH7tixY/LkyeK0Lg5vG9TLpY3KWW8Uj+IFbZTFYmVlZRUXF48YMYI+XQAAFy9CRgb4+HR2jZkZbNkCa9cCpdsP6aoX3XXwHuqmpiah+ObNm6HXTpbn8Xjh4eH89I6ysvKvv/4aFxd37dq1vLy8urq63mi0ExobGzkcjsnrT1gnJ6c7d+4IXdPU1MThcExNTfnX3Lp1i2KdmLi4OABwcXHhR3A25uTJk7To6VUOHDgAAMuWLaNbiGSIj48HgGnTpvEj7u7uAHDw4EH6RCGEUE4OMjBAAOjPP9vFPTwQAHr16k2kpQWNGoUAEINBkTY57B2IT3l5+axZs9asWcPlct3d3e3t7VtaWiwsLFxcXD766CNLS0vqd+Coqqp6eHg8efIkODhYR0fnwoUL9vb2rq6uOTk5/GtUVFT41+jq6l64cGHMmDGurq6PHz+mWK1C9UYbGtStrIaYmr5HtxDJIDQ32mGEel69gtmzobISnJ1h9ux3XKykBHv2AJXTWnL4shaTxMTEUaNGxcXF6erq/vHHH4cPH8bdYWlYxaKlpeXr65uTk+Pr66uqqhodHW1ra7tixQrBIZimpib/GnV19ejo6GHDhq1YsYLKtwFSpLnRwsJFubkPtLT86RYiGToc1AtFKAYh+OoryMiAIUPgjz+An0PFB4x7eEBUFAitUnFwgH/+gZMnKVIohy/rHtPQ0LBhw4Zp06YVFRU5OjrixA4AfPbZZwCABzvSgKGhYXBwcHZ2toeHB4/H279//+DBgzds2FBTU8O/Rl9fn38NQmj//v0DBgygbMX+2zL1Ur5ipmfgN7O8TI2CsbGxsrJyRUUFvwKhqLFSTEAAREeDvj7ExQG/aG1yMlhaQmQk2NsDmw3KIlmeKVMoqksCMmSjt2/fvtkeyf5ds7Kyxo0bt2vXLiaTGRgYmJiYaGFhgX9kb29vYmLy7NmzrKwsCbYoJv369eNwOBkZGWw2u76+fteuXQMHDty1a5fgEgILCwsOh5OZmenu7t7S0rJ///5BgwZt2LChtra2V7Up1KC+shJAjmyUyWSamJgghPib0OhdgX/qFGzfDkpKcPQoDBrUFszPh3nz4OVLkJYKExTNwYqBUJleIcRPMfF4PA6Hg6c7hwwZ0mFaBm8M/fHHH8Vsq5dIS0tzdHTE/yHm5uYhISGNjY1C16Snp/MXS+H+bENDQy/pycjI8PX1PXLkCD+C/4gUnMNMPZMnIwB08SLdOiTHBx98AAD//fcf/ra4uHj9+vW0pJju3kWamggAhYa+Cb58iUaMQABo2jTU0kK9qA6QGRtNTk5Obc+XX34pvo2Wlpa6uLhgc3F3d38lmPAT4OTJkwAwefJkcdrqbRITE8eMGYOfC97s1NraKnTN1atX+ZXk+/fvz+FwWih5JeJKxvHx8RS0RTF2dggAiaybkGFmzpwJADExMfTKqKhAVlYIAC1e/CbI4yE2GwGgIUNQTQ194tojMzbaGwueEhIS8PQ5ziZ1cmVNTY2KioqKikp1dXWPm6MAHo8XGxvLX9+HNzuJXvPXX38NHToUXzNy5MjMzMzeFobnl8+cOdPbDVHPsmXo449RYSHdOiTHypUrAWDPnj00amhqalq6dKe6OnfcOCQ4avL3RwBITw9lZ9MnTgQ5nKvqCg0NDd7e3tOmTSsuLnZ0dMzMzMTZpLfRt2/f8ePHt7S0SOdRFnzwiv27d+9GRUUNGDAAr9h3cHDgn6yJr5k9e3ZGRkZUVNTAgQOfPXtGQXkkOZ4b/e03SE5uK3gsH+Clx3l5eTRq8PLyOnRo47hxX5w69SYL/9dfsG0bKCnBsWMweDCN6kSg28ffjcR7o/fv37ezswMAFRWVwMBA0ZFvh2RkZJSUlHS3LRrpyor9hoaGXtq/gGlpaSksLLx27dqoUaMA4OzZs73XFmUkJyMApKGBcnLaxU+dQgDo8GGaZEmIO3fu2NrampiYMJlMBweHkJAQXJeESvbu3QsA6urqaWlp/CB/nvSXXyiW824Uy0a7kk0S5fbt22w2+9y5c0LxqqoqNpv966+/dl0A9bx8+RKv2IfXZ3Y+efJEsk3U19fn5OQkJydHRUWFhIT4+vqy2WwHBwcrKyvBY+lMTU0tLS2joqJ4PJ5kBVAMtlGc4hBE1m20srLS09MTl7bR09Pj/+2UlJQmTpwYGhr67NkzCmQkJyfjXdTHjh3jB/nzpO7uFEjoNgpko6WlpfwjGzvJJoly5swZAAgLCxOK48JoMrELsLy8HK/Gh9ebnbrVxWhpaSkoKLh27dpff/0VFha2cePGxYsXOzo62traChW+EoLBYJiamo4ePdrZ2Zlf+mDs2LFXrlzpvSfb22AbxZml6Og3cdm10dbW1sjISCMjIwBQVlb28vKqqamprKyMjIx0cXERLMA4dOjQwMDABw8e9JKS/Px8LMPX15cfbGpqWw4xdizqtdUlYiEDNvrq1auqqirROJfLLSsr62KimZ9NMjQ0PH36dLcEyIGNYp49e+bh4YG7G3izk2DGrIudSlHU1NRYLJa9vT2bzfby8goODo6MjExMTMzJyRH88GtubuZwOPx5WCcnp7t379Lx3yAu2EbDwpCNDTI3Ry9etMVl1EbT0tI+/PBD/EeZPHlyenq60AV1dXWxsbHu7u7a2tqCfurr65ucnCxBJfX19fb29gAwdepUwfe1v/9+La1ac3NE+exCV5EBG+2Q2tra5cuXDxkypLm5ufMruVyul5cX3j/z6aefFhQUdLctubFRTGZm5qxZs/CbQVdXd9y4cV3vVM6YMcPT03Pr1q0HDx78559/MjMzO/yE64S6urrg4OC+ffvC60mG3NzcXnqmvQS20YgIdP48AkA+Pm1xmbPRwsJCd3d3/NawsLCIjIzs/Houl4v9VFegepKlpaWXl1dycrKYczU8Hg/Xr7GxsRH8dP/1118BYOhQ++vXu5TDoAVZtVEej4eX7Bw/fryTyzIzM0eOHAndzCYJIWc2iklLS3NwcBB8P6irq3elUykRKioqfH198ZQbxq4AABCvSURBVGgRV10pKyuTbBO9B99GEUIuLkhJCeE5dhmy0aamppCQENy71NDQ8PX1ffnyZdd/vaWlJTk52cvLi19ODAD69evn4eERGxv7zp5NhwQFBQGAjo7O/fv3+cGrV6/iedLff/+9B/ekDFm1UYTQ/v37AcDOzq7Dj0EejxcSEoLfqLa2trdv3+5xQ9hGPT09z7bnyJEjsmujCKE7d+4AgJWVVQ86lRLh6dOnHh4eeBWUnp5ecHBwfX099TK6i6CN5uYiDQ30wQeotVVmbDQxMdHW1hZ7n4uLizijgdbWVuyn/J3TAGBgYODu7h4bGyu6le5t1NbWWlhYKCkpCSZy8/PzjY2NAeD777/vsUJqkGEbbWhowBNtF0U24pWWluL13tDNbFKHYBt9G7Jro6mpqQAwduxYemVkZGTwN5LhIgDUbKzqATweamlpZ6MIoa1bEQD67bc3NtrUhOj4VHo3jx8/5v9XW1tbiy4+EYfMzMzAwEAbGxv+W0NXV5fNZkdGRnalq1tUVCQ4suTPk06ZMkVqXw98ZNhGEULbtm0DAGdnZ8HgP//8g8caRkZGf//9t/itYBv19/fPbk9ycrJM2+iFCxcAwNHRkW4hCCGUmJg4evRo/PaztbUV3XxFL7W1iMNBI0YgDkfYRhsakLU1MjFBkZFtNvrnn0hNDbHZKDERib+4Kzg4WFtb+/r160LxM2fOaGtrd3G0W1dXFxgYiAdnWlpagYGBXe8qdhfsp9gEMRoaGi4uLpGRkS/4+bhO4fF4CxYsEJ0nlVpk20arqqpwbgTnfAWzSU5OToUS2qAnl3Oj6HWN+unTp9MtpA0ej4c3VuH33rhx46RhXVR6Olq5Emlpta0VdXYWtlGE2nJNuF7G4cPI3x8xmW3XW1uj//0PlZb2XMCWLVsAIDU1VSh++vRpANi3b9877xAbG4tXmzEYDHd3d8p2keTm5oaEhDg4OPALJKqrqzs5OYWEhHSuAT9loXlSaYYiGx0zZszq1atF459//vnUqVPFubOXlxcALFmyhJ9NUlNTCw4O7lk2qUPk1UajoqIAgM1m0y2kHfgoFMHNVxkZGdTLaGxEUVHIyQkxGG2G6OCAoqJQU1MHNopQW70M/txoQQEKDkaWlm1BJSXk5ISionpSkUgcG71z5w6/Eo29vb3oTajh6dOnISEhTk5Ogkv68RYp0b7O6dOnmUwmk8mUoUI2FNkonuMQjdvZ2Zmamopz5ydPnigpKTGZTJzRGzZs2L1798S5oSjyaqOHDh0CgMWC9XOkBrz5CqeSlZWVu7tfQByKilBwMLKwaHNAHR3k4YEEnbxDGy0qQn37CqeYWltRYiJis5GKStvdzM2Rry/Ky+uGnp7ZaFVVlZeXF14jbGBgEBISIsGORY8pLy/HS/r5pz0ymUx7e/vAwMDs7GyEUFZWFt5xJ7VFKTtElmy0sbExJycnMTGRw+HgxeH29vZ4Zyfen+Pu7t4bh83Jq43u27cPAFauXEm3kLdSVlbm5eWFuzB9+vTx9fWt6c3iaMnJiM1GysptljdkCAoJQaLZkcePkYcHSkoSjp84gTw80Osqne0oLkbBwWjgwLY7M5ltndOuLCTrro12uCXp3c1QS2Vl5aFDh2bMmIHfuZhRo0Zh2YsWLaJbYPeQUhutqqq6cePGiRMntm/f/tVXX02cONHCwuJtR1Dg47ONjY176fP23LlzSkpKonXDCgsLlZSU8Ckdssju3bsBYO3atXQLeQcPHz5ks9n4r29gYBAcHMzlciV4/xcvEIeDhg9v8zhV1bbskMTBndMFC5CaWltbZmbIzw/l5XW2zAvbqKurq1d7cM5dyEb//fdfXHYHACZPnkzLfEi34G+Rwp3QAQMGsFgs6k/eFRNpsdFDhw75+fm5ubl98MEHbzvyW0VFZdCgQVOnTl21atXu3btPnz6dkZFRX1/P4/EGDBgAAJcvX6bm6cgHqampvr6+kl310nukpaVNmjQJvxJwwWnxPzXv3r3r4eExcWIMNrX+/dG2bYiCBEx1NeJw0MiRbYcAW1o6OTg4cDicDpfNYhs1NzcfOHCgqampjo4Oi8XCjwVttLtbkqQNLpcbFhbGZDLV1dWpqYEiQaizUVtb2z0imJubYxvl163AqKmpWVlZOTk5eXh4BAcHR0VFZWZmdrI7ws/PT6bH15SRmZnZYfo7Ly/vypUrYi6wpYDExER+b2v48OFxcXE9uEljY+OxY8ccHBzwfezsJvzf/6G//qLhRIrkZLRuXYmGhgZWYmRk9O233woV/hAc1K9fv54/b8gf1Iu5JUmqWLhwIQCsWLGCbiHdgzobfRvYRrdt2xYQEBAZGZmSklJcXNzd+2dnZwOAjo6OTGyDoRFnZ2cAEN33tWHDBgAQLUgqhbS2tuKi1Pj14+Tk1MWChwihwsLC4OBgc3Nz/Ls6OjoeHh4UFP/vnBcvXnA4HP6yWQCwt7fncDj4U03QRr/99lsA+Omnn9BrG/X29pbUliRpIDs7W1lZWUVFReLlHHsVSgf1LSKIn6nng8/hOnnypETuJq/IgY1iGhsbQ0JC9PT0AIDBYHReR5XH4yUmJrLZbP6Cm/fff5/vU9LDzZs3vby8+JNa2OXxkR6iNoozhBgbGxtZmZx5J/iMtSVLltAtpBtIy9yo+ISGhgLAjBkzJHI3eUVubBRTVVXl6+uLB8W4jqrQuu6amhoOhzNs2DBsN6qqqmw2O7E38keSg8vlRkVFOTk5CQ7afHx8qqqq1q1bBwA7d+4MDAxUUVHBo/jg4ODe25JEPfn5+WpqakpKSllZWXRr6SryY6NlZWUqKirKysqyddQHxciZjWKeP3/Or6Pap0+fadOmlZaW3rp1a9myZZqamtiGzMzMAgMDZaiOFEIoIyPDy8uLP3OqpaU1fPhwAOD3wQFg165ddMuUPKtWrQIAV1dXuoV0FfmxUfT6FN/w8HBJ3VD+kEsbxcTGxvL7boJr46ytrWNjY6W/vMXbOHz48OjRo8eNG4efFP60sLe3P3DgwPTp0+XjeCshioqK+vTpw2AwZOUFKVc2euLECQD48MMPJXVD+QPbqJUIuPCorLxqO+TSpUsAMHjwYJyzVlNTwxVp6T0oWII8evRo7NixADB//nxZP8/qneDpi5kzZ9ItpEtQdOCttbW1YEVCPu+99x6/FIX4zJo1q2/fvtevX3/48KGk7imXuIgwaNAgukWJS1FREQDY29vX1NRcunSpsLAQPykzeTn72NraGpd/HDJkyNu2osgNGzdu1NbWjo2NvXbtGt1a3k1nZ+xIkEePHnUY//vvvyXYirq6+ty5cw8ePHj8+PGtW7dK8M5yRkhIiND7cOPGjTdv3qRLj0TANmpmZsZkMidPniwYoVmZ5MBbn+vr6+kW0usYGhp6eXlt3749ICDg/PnzdMt5BxT1RinD3d0dAA4fPow6XaxKkD+Ki4sBgH9kHsijjeKMWV1dHd1CqGD9+vV6enqJiYlJSUl0a3kH8majkyZNsrS0fPr0aUpKCt1aCJQiZJqtra2lpaVMJlPwvCBZR3F6owCgq6uLZ0jxUerSjLzZKIPBcHNzAwB8UBJBcRCy0dLS0tbWViMjI7y+Uj5QqN4oAPj4+BgbG6ekpCQkJNCtpTPkzUbh9bg+Ojq6sbGRbi0E6hCy0cLCQpCvET0oWG8UALS0tL777jsA8PPzk+ZpOjm00aFDh77//vvV1dWdH0WnmKxevToiIkI0zzt79uyIiIh+/frRokoiCNmo/E2MguL1RgFg9erV5ubmt27dkmw6WrLIoY3C6w4pGdeL8tlnn3l6eorGP/roI09PT1y5VRaprq7mcrk6Ojr4bC6QUxtVtN4oAKirq2/cuBEA/P39eTwe3XI6Rj5t9IsvvlBWVj579mxFRQXdWghUoFFcnOfgkDhlyptQdbW+hoZg4l4OUMDeKAB4eHgMGDAgMzPz5MmTdGvpGPm0UWNjYycnp6ampujoaLq1EKhAvaDAMiXlw6oqfsQzL6+Syw3saNOH7KKAvVEAUFFRwQWFAwMDW1pa6JbTAfJpowCwaNEiADh69CjdQgiUUFQEAPC6kCgAQGEhADBJb1QuWLJkybBhwxwdHaXzI4SiXUzUM2fOHG1t7dTU1OzsbGtra7rlEHoZbKOCM6GiEdlHMXujAKCsrIyPCMJHNglSV1dXV1enr6/PLyZLPXLbG+3Tp8+cOXOsra3x5haCnIP/yoJ9T3m0UQ0NDSaT2dDQ0NraSrcWqlm2bJmJiUlzc7NQPDg42MTE5O7du7SowshtbxQAIiIi+OUmCXJOYSGAgGk2NUFFBSgrg5ERjaIkDoPB0NDQqKur43K5/DUJBNqR297o8uXL+/XrV1tbKxQPDQ3V19dPTU2lRRWhtxCaGy0uBoTA1BSUlGgU1Rso7LhempFbG3316lV1dbXoQjMul1tdXS06NCDINkJDeHkc0WMUNsskzcitjRIUCB4PSkqAwQB+FRL5tVHSG5VC5HlulKAolJdDczMYGoK6eltEfm1UwXujs2bNEtrKjA9XpxdiowTZp7oadHU7SNPL16JRjIL3RltaWoRsVBp2iMq5jW7evFlNTU0wcuPGDbrEEHqLIUOguhqamt5EJk6ExkaYMIE+Tb2FgvdGz5w5I1T50N/ff9u2bXTpwci5jcbGxgp9donm7gnyQF4eJCVBcTGoq4O1NTg6wrRpdGvqFRS8NyqdyLmNpqen4zMv+QQHB+OCMQQ5ob4eVqyAY8cAIdDWhsZGaGoCIyMICwM3N7rFSR7cGyU2KlWQTD1BlkEI5s6Fo0dh5Up4/hxqa6G+HhISQE8PPv8cTp2iW5/kwb1RhR3USydy3hslyDkxMZCQAMuXQ0REW0RJCaZMgUuXYPhwWLMGZswAOTpEBADGjRvX2to6ePBguoUQ3kBslCDL4MrcmzYJx83NYdky2L0bLlwAZ2fqdUmWpqam/Px8fX19Q0NDd3d3XJUc8/jx4z59+pgLlraSU2bOnDlgwAAlkW1p48aN8/LyMjExoUUVhgzqCbLMjRvQty9YWnbwo08+AQC4eZNaQb3Cw4cPbWxsfvzxR9EfWVtbL1u2jHpJ1PP111+HhoYymcKW9dlnn4WGhtJ7/o3c9kbt7OyqqqpET4W0srKaMmWKvr4+LaoIEqaiAoYM6fhHeNFoeTmVcgiKidz2Rjds2JCQkCBa4cnV1TUhIWHEiBG0qCJIGCYT3lYO/dUrAAD6alASFAe5tVGCQmBiAs+fd/yjZ88A4M0uewKh1yA2SpBlxo6FV6/g4cMOfnT9etsFBEIvQ4Y8BFnmyy8hKgq2bIE//mgXz8uDw4fBxgY+/pgmZZLn6NGjycnJdKsgdACxUYIsM20asNlw4gQoK4O/P1hbQ1MTnDsH3t7Q2Aj79oFIYld20dHR6d+/v1Dwv//+o0UMQRBiowQZ5+hRMDYGDgeOHgU1NWhsBAB47z2Ij4fJk+kWJ0lmzpy5a9cuoaDUHt2uUBAbJcg4qqqwZw/4+cHly1BcDGpqMGwYODiAqirdygiKArFRglzAYsHnn9MtgqCgyM/MEYFAINACsVECgUAQC6WgoCC6NRAIhHegqak5efJkKysroTiDwZg0adLIkSNpUUXAMBBCdGsgEAgEGYYM6gkEAkEsiI0SCASCWBAbJRAIBLEgNkogEAhiQWyUQCAQxILYKIFAIIjF/wOsZABd3OKeQAAAAol6VFh0cmRraXRQS0wgcmRraXQgMjAyNS4wOS4xAAB4nL3RW0hUQRgH8O9c9uzZ69n1WurmmoibQlZKV/bM6OaWBD6EpLFWa0VuEAq9ZMKWWNaClsSWZFmiJSiSGIaXzDPTWg9KhFkmEdiLQUFRlIpGSKfWetD3Pvjze5hv/gzMF+XeFKhjUcNCeJLUrFVTxWixQ5Xj/iqE5f8JdlVeC0vHYXkxLLtifckVdeGaZSxbZv6UMsz/1gCMl2F9LMt5OR54DWgEu6B1sIJoF3U+Vqf36g0+1mD0Gk1gMoNJAqPFx3JWH2sFr0X0QgSwkcBHAR8NmhjQxYJ+FZhWgzkOzPFgTgDJBtIakBLBYoec33+gAUa9L+j0BqNFjG1g1FdAOJBUdqcPHwvUoqf2KnLJMYEN7hRZiMgi+S+GMCrcQdxX5x4dhyCWPzQqB/fsdvaeL8ba56eJU78F+ZEJj/UsKIGaOHnk/VkUOOInPzusKKqrFFVUzhJ/VxdqyjysDM+2K6khwbk374DS9ITKFZXXSN1AD7ledhJlV4+SwEwybXB5UMvro8Q/lkzjM2xy6cRFObHmFK3cnO50JZxDjWl1tDW3F3XKfci29RYd3ZRFUkNu2XHmAVmQPiqjBdloMqset8yXINtINClqJ3iffw5lZg6Tz7ef4bb8MaJsGJDXFR/CgRmOFm2LQjtri3HurhySODONCj1W7E6ZkD9l3FSMbDrqiPwqP26fJpElg2TxFUVmxU49L0/Q/RdEUvd2Ho2XB2k3x+G89RL61u2j/fgH6scsHi/voDfETlQfYvDddw/pfKiAfL/sQs2dV6gx+IYUeu4POaQ2urExTVGat5PB1D6y6KomU8FJFPMLhuLVi6llUxIAAAMeelRYdE1PTCByZGtpdCAyMDI1LjA5LjEAAHicfVbLbhsxDLznK/YHvOBb0jGJg7YoYgNt2mvPuff/UVKUtatLbUvQUiPukBwR/vNJT1t8fly/f/7d5oevT26H//xaa9tvBoCn9y0W28vbl2+37fXj+eVheb3/un383Jg3Fj/j3xX7/HF/f1hwu226F64F/GGHBuiLi69icTpKDrTdDCmsOxpKAGEvwHIG8vbqHhtjHftzBdydT6Q4UnZtPPY9KuvOQWo7A9WBvIuoJbAVrR1YUBeS5iRpJyiQQKmlJF2FxWNxj+6ntYfH2tKjWls81u0eQOjv8bQ0LLVnik3KGdjcozsi6i+KaKJIPRqm5d0IA+o57AAupukdrXs/oBhQ3AUkoU3KIKKVlmRiFOhCHgBmJFXTq68arwSiRAHVZiM7rH1Bprwgo0QX3qsVHZXBDB9IVmTU6CK715I6QEggF4y2IC2RDRmnglryaLLGVEb4CAMqqqm/MhYTWj182aWM/Vqp5BGtujpt29cQqGel82ukZaSUVjURONJ2biIJMCqSFTNcik/oSFdo6yX31MKjClpWPRElUmxI1KXcOo9S6+qTHeliLuPGCRo/7gkvEZE4Evxu1hScWHd5CZ+23E1SR0ZCjfOlCikSFwOuZSILKHtxYFx0ZR4ZE1lyTyWgshv09Hj0UlKurrBFJVTTqbGmjJr24vgRXutJUaWL7tQkmTIbJZJSi7PfQCIrt9FHKmO+vtgqfMYk6tqhUdH2OATVlviZ0i1qHdpDs9EtCq1FZR5pZRiJByzZUK2uuXq7XZf+mx355X67Hh1ZfNDRd8UHH91VYhwtNOB6NEr0YUc7RB/laHrkox6tDf2xHQ1MfOC5TUlMiKduJDHhJIfBziec/Ly3YJ8mRQyOMU2WqMMyiXpPkH5qcvWrL2GbbP2Cx+N2sAnCeAqAInf+PQzxyG4/Xb7ID00fxGk4si09ZTTjoc41Nk4XAyMLNONx/fd4aMZDkVsPk2Y8rue0zIB6qcMy+XKnb75zEmFaJmPmYZmUuee3+M5ZY2dFxfPj/4Gvn/4Bzy6R2RQzRaoAAAGzelRYdFNNSUxFUyByZGtpdCAyMDI1LjA5LjEAAHicVVI5biQxDPzKhjPAtMD7gLCRE0f2AwxHnc8L/Pgl2RN4E1EqlYolkl/v3yc+n7ev9+/788S32czyMevb7e/n/cRzDueLdnvRfrEv7n/HE2v983OzxSnyOHAZuTxgsaFvXckYjwOWvyIw4LZlhlQkNJS5BZYiO4c/cEECthIUtRQiucAk9QaVdMsS134fQd7vNRQL1eRJwgBWtyCRm5eIWqPpGoU6aoP5OGiBYUPqF29oxcrK5xG+aRFMAgn39quQDfq4FzS+0jHu0s+88kSOqGWDoO060aNE2cR3UYgg5yW3TaYcsKrRhXObJ2geJWDWYmJl6mhXJruigDQ35apJEA5q3NYVWoGWItrueP0ytOGKyTmwps2fWCuQKe+DV5jr1A7bMJAM6gDTKGWeZojQPmRxANVRSHrlTifLoAagaiveFivLKBhrC6Yq9iVrCeiilHbMbNQoubZCIuNrLLIdpmCTg3PaG4yt7Nb/qK4r0QxeXtcQZk1HjVFBs6uxXeayiTCw6IyQaztp9zAVBvSeQQuh+88/RNCqU0jhiZQAAAAASUVORK5CYII=\"></td></tr>\n",
              "<tr><th style=\"text-align: right\">ScrubInfo</th><td style=\"text-align: left\">{&quot;isomerGroup&quot;: 7, &quot;isomerId&quot;: 2, &quot;confId&quot;: 0, &quot;nr_conformers:&quot;: 1, &quot;nr_isomers:&quot;: 3}</td></tr></table>"
            ],
            "image/png": "[encoded data removed]"
          },
          "metadata": {},
          "execution_count": 34
        }
      ],
      "source": [
        "# Sanity check we got a structure with hydrogens\n",
        "# RDKit automatically removes hydrogens by default (needed for most of the kit to work)\n",
        "# But we're explicitly looking for them here, we can just load them and check\n",
        "supplier = Chem.SDMolSupplier(f\"{ligand_directory}/ligands_to_dock.sdf\", removeHs=False)\n",
        "reloaded_ligands = [mol for mol in supplier]\n",
        "# The last structure will be the same as the last in list comprehension above\n",
        "reloaded_ligands[-1]"
      ]
    },
    {
      "cell_type": "markdown",
      "id": "226d57b0-6707-4675-9283-e70266c0c1f7",
      "metadata": {
        "id": "226d57b0-6707-4675-9283-e70266c0c1f7"
      },
      "source": [
        "# Visualization tool py3Dmol"
      ]
    },
    {
      "cell_type": "code",
      "execution_count": null,
      "id": "e8b6e3f7-97c8-490e-91c0-bb6e2e48f8fc",
      "metadata": {
        "colab": {
          "base_uri": "https://localhost:8080/",
          "height": 514
        },
        "id": "e8b6e3f7-97c8-490e-91c0-bb6e2e48f8fc",
        "outputId": "6fceb87b-88ba-4d8f-cd13-3c0869e7d5ed"
      },
      "outputs": [
        {
          "output_type": "display_data",
          "data": {
            "application/3dmoljs_load.v0": "<div id=\"3dmolviewer_17604474150840635\"  style=\"position: relative; width: 640px; height: 480px;\">\n        <p id=\"3dmolwarning_17604474150840635\" style=\"background-color:#ffcccc;color:black\">3Dmol.js failed to load for some reason.  Please check your browser console for error messages.<br></p>\n        </div>\n<script>\n\nvar loadScriptAsync = function(uri){\n  return new Promise((resolve, reject) => {\n    //this is to ignore the existence of requirejs amd\n    var savedexports, savedmodule;\n    if (typeof exports !== 'undefined') savedexports = exports;\n    else exports = {}\n    if (typeof module !== 'undefined') savedmodule = module;\n    else module = {}\n\n    var tag = document.createElement('script');\n    tag.src = uri;\n    tag.async = true;\n    tag.onload = () => {\n        exports = savedexports;\n        module = savedmodule;\n        resolve();\n    };\n  var firstScriptTag = document.getElementsByTagName('script')[0];\n  firstScriptTag.parentNode.insertBefore(tag, firstScriptTag);\n});\n};\n\nif(typeof $3Dmolpromise === 'undefined') {\n$3Dmolpromise = null;\n  $3Dmolpromise = loadScriptAsync('https://cdn.jsdelivr.net/npm/3dmol@2.5.3/build/3Dmol-min.js');\n}\n\nvar viewer_17604474150840635 = null;\nvar warn = document.getElementById(\"3dmolwarning_17604474150840635\");\nif(warn) {\n    warn.parentNode.removeChild(warn);\n}\n$3Dmolpromise.then(function() {\nviewer_17604474150840635 = $3Dmol.createViewer(document.getElementById(\"3dmolviewer_17604474150840635\"),{backgroundColor:\"white\"});\nviewer_17604474150840635.zoomTo();\n\tviewer_17604474150840635.addModel(\"HEADER    \\nTITLE     MDANALYSIS FRAME 0: Created by PDBWriter\\nCRYST1    1.000    1.000    1.000  90.00  90.00  90.00 P 1           1\\nREMARK     285 UNITARY VALUES FOR THE UNIT CELL AUTOMATICALLY SET\\nREMARK     285 BY MDANALYSIS PDBWRITER BECAUSE UNIT CELL INFORMATION\\nREMARK     285 WAS MISSING.\\nREMARK     285 PROTEIN DATA BANK CONVENTIONS REQUIRE THAT\\nREMARK     285 CRYST1 RECORD IS INCLUDED, BUT THE VALUES ON\\nREMARK     285 THIS RECORD ARE MEANINGLESS.\\nHETATM    1 MG   MG  A 501      -2.238   0.276   6.689  1.00 35.96      A   MG  \\nHETATM    2  PB  ADP A 550      -3.149   0.741   9.991  1.00 44.78      A    P  \\nHETATM    3  O1B ADP A 550      -2.247   1.892  10.218  1.00 47.11      A    O  \\nHETATM    4  O2B ADP A 550      -4.595   1.101   9.982  1.00 42.99      A    O  \\nHETATM    5  O3B ADP A 550      -2.710  -0.075   8.721  1.00 46.25      A    O  \\nHETATM    6  PA  ADP A 550      -2.360  -1.622  11.416  1.00 44.86      A    P  \\nHETATM    7  O1A ADP A 550      -3.225  -2.600  10.643  1.00 41.65      A    O  \\nHETATM    8  O2A ADP A 550      -0.901  -1.640  11.053  1.00 44.56      A    O  \\nHETATM    9  O3A ADP A 550      -2.922  -0.165  11.268  1.00 43.22      A    O  \\nHETATM   10  O5' ADP A 550      -2.682  -1.945  12.938  1.00 43.86      A    O  \\nHETATM   11  C5' ADP A 550      -2.042  -1.166  13.994  1.00 41.85      A    C  \\nHETATM   12  C4' ADP A 550      -1.235  -1.967  15.012  1.00 41.92      A    C  \\nHETATM   13  O4' ADP A 550      -2.079  -2.424  16.095  1.00 42.66      A    O  \\nHETATM   14  C3' ADP A 550      -0.519  -3.228  14.510  1.00 41.42      A    C  \\nHETATM   15  O3' ADP A 550       0.797  -3.251  15.106  1.00 43.24      A    O  \\nHETATM   16  C2' ADP A 550      -1.452  -4.371  14.922  1.00 40.99      A    C  \\nHETATM   17  O2' ADP A 550      -0.735  -5.557  15.314  1.00 42.77      A    O  \\nHETATM   18  C1' ADP A 550      -2.238  -3.829  16.126  1.00 42.17      A    C  \\nHETATM   19  N9  ADP A 550      -3.722  -4.177  16.100  1.00 40.01      A    N  \\nHETATM   20  C8  ADP A 550      -4.554  -4.237  15.026  1.00 39.19      A    C  \\nHETATM   21  N7  ADP A 550      -5.817  -4.579  15.353  1.00 38.44      A    N  \\nHETATM   22  C5  ADP A 550      -5.774  -4.739  16.697  1.00 36.87      A    C  \\nHETATM   23  C6  ADP A 550      -6.801  -5.107  17.655  1.00 34.81      A    C  \\nHETATM   24  N6  ADP A 550      -8.024  -5.363  17.392  1.00 32.30      A    N  \\nHETATM   25  N1  ADP A 550      -6.357  -5.170  18.964  1.00 35.12      A    N  \\nHETATM   26  C2  ADP A 550      -5.050  -4.911  19.347  1.00 35.52      A    C  \\nHETATM   27  N3  ADP A 550      -4.094  -4.571  18.482  1.00 37.55      A    N  \\nHETATM   28  C4  ADP A 550      -4.489  -4.497  17.182  1.00 38.21      A    C  \\nHETATM   29  C   ACY A 500       3.971 -25.273  -7.525  1.00 66.65      A    C  \\nHETATM   30  O   ACY A 500       4.837 -26.207  -7.239  1.00 66.10      A    O  \\nHETATM   31  OXT ACY A 500       3.043 -24.987  -6.788  1.00 66.78      A    O  \\nHETATM   32  CH3 ACY A 500       4.187 -24.558  -8.846  1.00 66.07      A    C  \\nEND\\n\");\n\tviewer_17604474150840635.addModel(\"\\n     RDKit          3D\\n\\n 55 55  0  0  0  0  0  0  0  0999 V2000\\n   -2.2380    0.2760    6.6890 Mg  0  0  0  0  0  2  0  0  0  0  0  0\\n   -3.1490    0.7410    9.9910 P   0  0  0  0  0  0  0  0  0  0  0  0\\n   -2.2470    1.8920   10.2180 O   0  0  0  0  0  0  0  0  0  0  0  0\\n   -4.5950    1.1010    9.9820 O   0  0  0  0  0  0  0  0  0  0  0  0\\n   -2.7100   -0.0750    8.7210 O   0  0  0  0  0  0  0  0  0  0  0  0\\n   -2.3600   -1.6220   11.4160 P   0  0  0  0  0  0  0  0  0  0  0  0\\n   -3.2250   -2.6000   10.6430 O   0  0  0  0  0  0  0  0  0  0  0  0\\n   -0.9010   -1.6400   11.0530 O   0  0  0  0  0  0  0  0  0  0  0  0\\n   -2.9220   -0.1650   11.2680 O   0  0  0  0  0  0  0  0  0  0  0  0\\n   -2.6820   -1.9450   12.9380 O   0  0  0  0  0  0  0  0  0  0  0  0\\n   -2.0420   -1.1660   13.9940 C   0  0  0  0  0  0  0  0  0  0  0  0\\n   -1.2350   -1.9670   15.0120 C   0  0  1  0  0  0  0  0  0  0  0  0\\n   -2.0790   -2.4240   16.0950 O   0  0  0  0  0  0  0  0  0  0  0  0\\n   -0.5190   -3.2280   14.5100 C   0  0  1  0  0  0  0  0  0  0  0  0\\n    0.7970   -3.2510   15.1060 O   0  0  0  0  0  0  0  0  0  0  0  0\\n   -1.4520   -4.3710   14.9220 C   0  0  1  0  0  0  0  0  0  0  0  0\\n   -0.7350   -5.5570   15.3140 O   0  0  0  0  0  0  0  0  0  0  0  0\\n   -2.2380   -3.8290   16.1260 C   0  0  2  0  0  0  0  0  0  0  0  0\\n   -3.7220   -4.1770   16.1000 N   0  0  0  0  0  0  0  0  0  0  0  0\\n   -4.5540   -4.2370   15.0260 C   0  0  0  0  0  0  0  0  0  0  0  0\\n   -5.8170   -4.5790   15.3530 N   0  0  0  0  0  0  0  0  0  0  0  0\\n   -5.7740   -4.7390   16.6970 C   0  0  0  0  0  0  0  0  0  0  0  0\\n   -6.8010   -5.1070   17.6550 C   0  0  0  0  0  0  0  0  0  0  0  0\\n   -8.0240   -5.3630   17.3920 N   0  0  0  0  0  0  0  0  0  0  0  0\\n   -6.3570   -5.1700   18.9640 N   0  0  0  0  0  0  0  0  0  0  0  0\\n   -5.0500   -4.9110   19.3470 C   0  0  0  0  0  0  0  0  0  0  0  0\\n   -4.0940   -4.5710   18.4820 N   0  0  0  0  0  0  0  0  0  0  0  0\\n   -4.4890   -4.4970   17.1820 C   0  0  0  0  0  0  0  0  0  0  0  0\\n    3.9710  -25.2730   -7.5250 C   0  0  0  0  0  0  0  0  0  0  0  0\\n    4.8370  -26.2070   -7.2390 O   0  0  0  0  0  0  0  0  0  0  0  0\\n    3.0430  -24.9870   -6.7880 O   0  0  0  0  0  0  0  0  0  0  0  0\\n    4.1870  -24.5580   -8.8460 C   0  0  0  0  0  0  0  0  0  0  0  0\\n   -2.2380    0.2760    8.3790 H   0  0  0  0  0  0  0  0  0  0  0  0\\n   -2.2380    0.2760    4.9990 H   0  0  0  0  0  0  0  0  0  0  0  0\\n   -4.9207    1.1821   10.9134 H   0  0  0  0  0  0  0  0  0  0  0  0\\n   -2.2606   -0.9103    9.0046 H   0  0  0  0  0  0  0  0  0  0  0  0\\n   -0.3555   -1.6467   11.8791 H   0  0  0  0  0  0  0  0  0  0  0  0\\n   -1.3626   -0.4443   13.5169 H   0  0  0  0  0  0  0  0  0  0  0  0\\n   -2.8615   -0.7003   14.5611 H   0  0  0  0  0  0  0  0  0  0  0  0\\n   -0.4660   -1.2370   15.3048 H   0  0  0  0  0  0  0  0  0  0  0  0\\n   -0.3419   -3.2921   13.4262 H   0  0  0  0  0  0  0  0  0  0  0  0\\n    0.7126   -3.2495   16.0924 H   0  0  0  0  0  0  0  0  0  0  0  0\\n   -2.0913   -4.6667   14.0771 H   0  0  0  0  0  0  0  0  0  0  0  0\\n   -0.7021   -5.6113   16.3020 H   0  0  0  0  0  0  0  0  0  0  0  0\\n   -1.8474   -4.2899   17.0452 H   0  0  0  0  0  0  0  0  0  0  0  0\\n   -4.2300   -4.0280   13.9958 H   0  0  0  0  0  0  0  0  0  0  0  0\\n   -8.6722   -5.6154   18.1516 H   0  0  0  0  0  0  0  0  0  0  0  0\\n   -8.3623   -5.3171   16.4202 H   0  0  0  0  0  0  0  0  0  0  0  0\\n   -4.7899   -4.9896   20.4129 H   0  0  0  0  0  0  0  0  0  0  0  0\\n    3.3383  -26.0153   -8.0336 H   0  0  0  0  0  0  0  0  0  0  0  0\\n    4.9169  -26.2932   -6.2560 H   0  0  0  0  0  0  0  0  0  0  0  0\\n    3.3310  -25.0758   -5.8450 H   0  0  0  0  0  0  0  0  0  0  0  0\\n    4.5003  -23.5210   -8.6547 H   0  0  0  0  0  0  0  0  0  0  0  0\\n    4.9684  -25.0771   -9.4204 H   0  0  0  0  0  0  0  0  0  0  0  0\\n    3.2489  -24.5576   -9.4204 H   0  0  0  0  0  0  0  0  0  0  0  0\\n  3  2  2  0\\n  4  2  1  0\\n  5  2  1  0\\n  7  6  2  0\\n  8  6  1  0\\n  9  2  1  0\\n  9  6  1  0\\n 10  6  1  0\\n 11 10  1  0\\n 12 11  1  0\\n 13 12  1  0\\n 14 12  1  0\\n 15 14  1  0\\n 16 14  1  0\\n 17 16  1  0\\n 18 16  1  0\\n 18 13  1  0\\n 19 18  1  0\\n 20 19  1  0\\n 21 20  2  0\\n 22 21  1  0\\n 23 22  2  0\\n 24 23  1  0\\n 25 23  1  0\\n 26 25  2  0\\n 27 26  1  0\\n 28 22  1  0\\n 28 19  1  0\\n 28 27  2  0\\n 30 29  1  0\\n 31 29  1  0\\n 32 29  1  0\\n  1 33  1  0\\n  1 34  1  0\\n  4 35  1  0\\n  5 36  1  0\\n  8 37  1  0\\n 11 38  1  0\\n 11 39  1  0\\n 12 40  1  1\\n 14 41  1  6\\n 15 42  1  0\\n 16 43  1  6\\n 17 44  1  0\\n 18 45  1  1\\n 20 46  1  0\\n 24 47  1  0\\n 24 48  1  0\\n 26 49  1  0\\n 29 50  1  0\\n 30 51  1  0\\n 31 52  1  0\\n 32 53  1  0\\n 32 54  1  0\\n 32 55  1  0\\nM  END\\n$$$$\\n\");\n\tviewer_17604474150840635.addModel(\"ADP\\n  CCTOOLS-0131251006\\n\\n 42 44  0  0  1  0  0  0  0  0999 V2000\\n    1.1620   -0.2210   -5.6850 P   0  0  0  0  0\\n    1.7250    1.1330   -5.4920 O   0  0  0  0  0\\n    2.1900   -1.1120   -6.5460 O   0  0  0  0  0\\n   -0.2400   -0.1130   -6.4670 O   0  0  0  0  0\\n   -0.1050    0.0250   -3.4460 P   0  0  0  0  0\\n    0.4760    1.3760   -3.2880 O   0  0  0  0  0\\n   -1.4870    0.1290   -4.2660 O   0  0  0  0  0\\n    0.9250   -0.9130   -4.2500 O   0  0  0  0  0\\n   -0.3890   -0.6090   -1.9940 O   0  0  0  0  0\\n   -1.3070    0.2640   -1.3330 C   0  0  0  0  0\\n   -1.6200   -0.2840    0.0590 C   0  0  0  0  0\\n   -0.4170   -0.3480    0.8570 O   0  0  0  0  0\\n   -2.5500    0.6830    0.8250 C   0  0  0  0  0\\n   -3.9070    0.2450    0.7390 O   0  0  0  0  0\\n   -2.0470    0.6110    2.2860 C   0  0  0  0  0\\n   -3.0800    0.1290    3.1480 O   0  0  0  0  0\\n   -0.8710   -0.3880    2.2270 C   0  0  0  0  0\\n    0.2010    0.0310    3.1320 N   0  0  0  0  0\\n    1.2310    0.8700    2.8270 C   0  0  0  0  0\\n    2.0000    1.0270    3.8650 N   0  0  0  0  0\\n    1.5090    0.3050    4.9020 C   0  0  0  0  0\\n    1.9100    0.0870    6.2310 C   0  0  0  0  0\\n    3.0440    0.6970    6.7380 N   0  0  0  0  0\\n    1.1710   -0.7140    6.9910 N   0  0  0  0  0\\n    0.0880   -1.3000    6.5160 C   0  0  0  0  0\\n   -0.3210   -1.1300    5.2770 N   0  0  0  0  0\\n    0.3530   -0.3460    4.4420 C   0  0  0  0  0\\n    2.3040   -0.6640   -7.3960 H   0  0  0  0  0\\n   -0.5720   -1.0160   -6.5710 H   0  0  0  0  0\\n   -1.8330   -0.7700   -4.3460 H   0  0  0  0  0\\n   -2.2270    0.3300   -1.9130 H   0  0  0  0  0\\n   -0.8620    1.2550   -1.2420 H   0  0  0  0  0\\n   -2.0780   -1.2700   -0.0150 H   0  0  0  0  0\\n   -2.4510    1.6960    0.4350 H   0  0  0  0  0\\n   -4.4390    0.8840    1.2330 H   0  0  0  0  0\\n   -1.6990    1.5890    2.6180 H   0  0  0  0  0\\n   -3.8070    0.7640    3.0940 H   0  0  0  0  0\\n   -1.2120   -1.3910    2.4850 H   0  0  0  0  0\\n    1.3870    1.3350    1.8650 H   0  0  0  0  0\\n    3.3080    0.5420    7.6580 H   0  0  0  0  0\\n    3.5770    1.2770    6.1720 H   0  0  0  0  0\\n   -0.4820   -1.9440    7.1690 H   0  0  0  0  0\\n  1  2  2  0  0  0\\n  1  3  1  0  0  0\\n  1  4  1  0  0  0\\n  1  8  1  0  0  0\\n  3 28  1  0  0  0\\n  4 29  1  0  0  0\\n  5  6  2  0  0  0\\n  5  7  1  0  0  0\\n  5  8  1  0  0  0\\n  5  9  1  0  0  0\\n  7 30  1  0  0  0\\n  9 10  1  0  0  0\\n 10 11  1  0  0  0\\n 10 31  1  0  0  0\\n 10 32  1  0  0  0\\n 11 12  1  0  0  0\\n 11 13  1  0  0  0\\n 11 33  1  0  0  0\\n 12 17  1  0  0  0\\n 13 14  1  0  0  0\\n 13 15  1  0  0  0\\n 13 34  1  0  0  0\\n 14 35  1  0  0  0\\n 15 16  1  0  0  0\\n 15 17  1  0  0  0\\n 15 36  1  0  0  0\\n 16 37  1  0  0  0\\n 17 18  1  0  0  0\\n 17 38  1  0  0  0\\n 18 19  1  0  0  0\\n 18 27  1  0  0  0\\n 19 20  2  0  0  0\\n 19 39  1  0  0  0\\n 20 21  1  0  0  0\\n 21 22  1  0  0  0\\n 21 27  2  0  0  0\\n 22 23  1  0  0  0\\n 22 24  2  0  0  0\\n 23 40  1  0  0  0\\n 23 41  1  0  0  0\\n 24 25  1  0  0  0\\n 25 26  2  0  0  0\\n 25 42  1  0  0  0\\n 26 27  1  0  0  0\\nM  END\\n$$$$\\n\");\n\tviewer_17604474150840635.setStyle({\"model\": 0},{\"stick\": {\"color\": \"#0e9674\"}});\n\tviewer_17604474150840635.setStyle({\"model\": 1},{\"stick\": {\"color\": \"#c46225\"}});\n\tviewer_17604474150840635.zoomTo({\"model\": 0});\nviewer_17604474150840635.render();\n});\n</script>",
            "text/html": [
              "<div id=\"3dmolviewer_17604474150840635\"  style=\"position: relative; width: 640px; height: 480px;\">\n",
              "        <p id=\"3dmolwarning_17604474150840635\" style=\"background-color:#ffcccc;color:black\">3Dmol.js failed to load for some reason.  Please check your browser console for error messages.<br></p>\n",
              "        </div>\n",
              "<script>\n",
              "\n",
              "var loadScriptAsync = function(uri){\n",
              "  return new Promise((resolve, reject) => {\n",
              "    //this is to ignore the existence of requirejs amd\n",
              "    var savedexports, savedmodule;\n",
              "    if (typeof exports !== 'undefined') savedexports = exports;\n",
              "    else exports = {}\n",
              "    if (typeof module !== 'undefined') savedmodule = module;\n",
              "    else module = {}\n",
              "\n",
              "    var tag = document.createElement('script');\n",
              "    tag.src = uri;\n",
              "    tag.async = true;\n",
              "    tag.onload = () => {\n",
              "        exports = savedexports;\n",
              "        module = savedmodule;\n",
              "        resolve();\n",
              "    };\n",
              "  var firstScriptTag = document.getElementsByTagName('script')[0];\n",
              "  firstScriptTag.parentNode.insertBefore(tag, firstScriptTag);\n",
              "});\n",
              "};\n",
              "\n",
              "if(typeof $3Dmolpromise === 'undefined') {\n",
              "$3Dmolpromise = null;\n",
              "  $3Dmolpromise = loadScriptAsync('https://cdn.jsdelivr.net/npm/3dmol@2.5.3/build/3Dmol-min.js');\n",
              "}\n",
              "\n",
              "var viewer_17604474150840635 = null;\n",
              "var warn = document.getElementById(\"3dmolwarning_17604474150840635\");\n",
              "if(warn) {\n",
              "    warn.parentNode.removeChild(warn);\n",
              "}\n",
              "$3Dmolpromise.then(function() {\n",
              "viewer_17604474150840635 = $3Dmol.createViewer(document.getElementById(\"3dmolviewer_17604474150840635\"),{backgroundColor:\"white\"});\n",
              "viewer_17604474150840635.zoomTo();\n",
              "\tviewer_17604474150840635.addModel(\"HEADER    \\nTITLE     MDANALYSIS FRAME 0: Created by PDBWriter\\nCRYST1    1.000    1.000    1.000  90.00  90.00  90.00 P 1           1\\nREMARK     285 UNITARY VALUES FOR THE UNIT CELL AUTOMATICALLY SET\\nREMARK     285 BY MDANALYSIS PDBWRITER BECAUSE UNIT CELL INFORMATION\\nREMARK     285 WAS MISSING.\\nREMARK     285 PROTEIN DATA BANK CONVENTIONS REQUIRE THAT\\nREMARK     285 CRYST1 RECORD IS INCLUDED, BUT THE VALUES ON\\nREMARK     285 THIS RECORD ARE MEANINGLESS.\\nHETATM    1 MG   MG  A 501      -2.238   0.276   6.689  1.00 35.96      A   MG  \\nHETATM    2  PB  ADP A 550      -3.149   0.741   9.991  1.00 44.78      A    P  \\nHETATM    3  O1B ADP A 550      -2.247   1.892  10.218  1.00 47.11      A    O  \\nHETATM    4  O2B ADP A 550      -4.595   1.101   9.982  1.00 42.99      A    O  \\nHETATM    5  O3B ADP A 550      -2.710  -0.075   8.721  1.00 46.25      A    O  \\nHETATM    6  PA  ADP A 550      -2.360  -1.622  11.416  1.00 44.86      A    P  \\nHETATM    7  O1A ADP A 550      -3.225  -2.600  10.643  1.00 41.65      A    O  \\nHETATM    8  O2A ADP A 550      -0.901  -1.640  11.053  1.00 44.56      A    O  \\nHETATM    9  O3A ADP A 550      -2.922  -0.165  11.268  1.00 43.22      A    O  \\nHETATM   10  O5' ADP A 550      -2.682  -1.945  12.938  1.00 43.86      A    O  \\nHETATM   11  C5' ADP A 550      -2.042  -1.166  13.994  1.00 41.85      A    C  \\nHETATM   12  C4' ADP A 550      -1.235  -1.967  15.012  1.00 41.92      A    C  \\nHETATM   13  O4' ADP A 550      -2.079  -2.424  16.095  1.00 42.66      A    O  \\nHETATM   14  C3' ADP A 550      -0.519  -3.228  14.510  1.00 41.42      A    C  \\nHETATM   15  O3' ADP A 550       0.797  -3.251  15.106  1.00 43.24      A    O  \\nHETATM   16  C2' ADP A 550      -1.452  -4.371  14.922  1.00 40.99      A    C  \\nHETATM   17  O2' ADP A 550      -0.735  -5.557  15.314  1.00 42.77      A    O  \\nHETATM   18  C1' ADP A 550      -2.238  -3.829  16.126  1.00 42.17      A    C  \\nHETATM   19  N9  ADP A 550      -3.722  -4.177  16.100  1.00 40.01      A    N  \\nHETATM   20  C8  ADP A 550      -4.554  -4.237  15.026  1.00 39.19      A    C  \\nHETATM   21  N7  ADP A 550      -5.817  -4.579  15.353  1.00 38.44      A    N  \\nHETATM   22  C5  ADP A 550      -5.774  -4.739  16.697  1.00 36.87      A    C  \\nHETATM   23  C6  ADP A 550      -6.801  -5.107  17.655  1.00 34.81      A    C  \\nHETATM   24  N6  ADP A 550      -8.024  -5.363  17.392  1.00 32.30      A    N  \\nHETATM   25  N1  ADP A 550      -6.357  -5.170  18.964  1.00 35.12      A    N  \\nHETATM   26  C2  ADP A 550      -5.050  -4.911  19.347  1.00 35.52      A    C  \\nHETATM   27  N3  ADP A 550      -4.094  -4.571  18.482  1.00 37.55      A    N  \\nHETATM   28  C4  ADP A 550      -4.489  -4.497  17.182  1.00 38.21      A    C  \\nHETATM   29  C   ACY A 500       3.971 -25.273  -7.525  1.00 66.65      A    C  \\nHETATM   30  O   ACY A 500       4.837 -26.207  -7.239  1.00 66.10      A    O  \\nHETATM   31  OXT ACY A 500       3.043 -24.987  -6.788  1.00 66.78      A    O  \\nHETATM   32  CH3 ACY A 500       4.187 -24.558  -8.846  1.00 66.07      A    C  \\nEND\\n\");\n",
              "\tviewer_17604474150840635.addModel(\"\\n     RDKit          3D\\n\\n 55 55  0  0  0  0  0  0  0  0999 V2000\\n   -2.2380    0.2760    6.6890 Mg  0  0  0  0  0  2  0  0  0  0  0  0\\n   -3.1490    0.7410    9.9910 P   0  0  0  0  0  0  0  0  0  0  0  0\\n   -2.2470    1.8920   10.2180 O   0  0  0  0  0  0  0  0  0  0  0  0\\n   -4.5950    1.1010    9.9820 O   0  0  0  0  0  0  0  0  0  0  0  0\\n   -2.7100   -0.0750    8.7210 O   0  0  0  0  0  0  0  0  0  0  0  0\\n   -2.3600   -1.6220   11.4160 P   0  0  0  0  0  0  0  0  0  0  0  0\\n   -3.2250   -2.6000   10.6430 O   0  0  0  0  0  0  0  0  0  0  0  0\\n   -0.9010   -1.6400   11.0530 O   0  0  0  0  0  0  0  0  0  0  0  0\\n   -2.9220   -0.1650   11.2680 O   0  0  0  0  0  0  0  0  0  0  0  0\\n   -2.6820   -1.9450   12.9380 O   0  0  0  0  0  0  0  0  0  0  0  0\\n   -2.0420   -1.1660   13.9940 C   0  0  0  0  0  0  0  0  0  0  0  0\\n   -1.2350   -1.9670   15.0120 C   0  0  1  0  0  0  0  0  0  0  0  0\\n   -2.0790   -2.4240   16.0950 O   0  0  0  0  0  0  0  0  0  0  0  0\\n   -0.5190   -3.2280   14.5100 C   0  0  1  0  0  0  0  0  0  0  0  0\\n    0.7970   -3.2510   15.1060 O   0  0  0  0  0  0  0  0  0  0  0  0\\n   -1.4520   -4.3710   14.9220 C   0  0  1  0  0  0  0  0  0  0  0  0\\n   -0.7350   -5.5570   15.3140 O   0  0  0  0  0  0  0  0  0  0  0  0\\n   -2.2380   -3.8290   16.1260 C   0  0  2  0  0  0  0  0  0  0  0  0\\n   -3.7220   -4.1770   16.1000 N   0  0  0  0  0  0  0  0  0  0  0  0\\n   -4.5540   -4.2370   15.0260 C   0  0  0  0  0  0  0  0  0  0  0  0\\n   -5.8170   -4.5790   15.3530 N   0  0  0  0  0  0  0  0  0  0  0  0\\n   -5.7740   -4.7390   16.6970 C   0  0  0  0  0  0  0  0  0  0  0  0\\n   -6.8010   -5.1070   17.6550 C   0  0  0  0  0  0  0  0  0  0  0  0\\n   -8.0240   -5.3630   17.3920 N   0  0  0  0  0  0  0  0  0  0  0  0\\n   -6.3570   -5.1700   18.9640 N   0  0  0  0  0  0  0  0  0  0  0  0\\n   -5.0500   -4.9110   19.3470 C   0  0  0  0  0  0  0  0  0  0  0  0\\n   -4.0940   -4.5710   18.4820 N   0  0  0  0  0  0  0  0  0  0  0  0\\n   -4.4890   -4.4970   17.1820 C   0  0  0  0  0  0  0  0  0  0  0  0\\n    3.9710  -25.2730   -7.5250 C   0  0  0  0  0  0  0  0  0  0  0  0\\n    4.8370  -26.2070   -7.2390 O   0  0  0  0  0  0  0  0  0  0  0  0\\n    3.0430  -24.9870   -6.7880 O   0  0  0  0  0  0  0  0  0  0  0  0\\n    4.1870  -24.5580   -8.8460 C   0  0  0  0  0  0  0  0  0  0  0  0\\n   -2.2380    0.2760    8.3790 H   0  0  0  0  0  0  0  0  0  0  0  0\\n   -2.2380    0.2760    4.9990 H   0  0  0  0  0  0  0  0  0  0  0  0\\n   -4.9207    1.1821   10.9134 H   0  0  0  0  0  0  0  0  0  0  0  0\\n   -2.2606   -0.9103    9.0046 H   0  0  0  0  0  0  0  0  0  0  0  0\\n   -0.3555   -1.6467   11.8791 H   0  0  0  0  0  0  0  0  0  0  0  0\\n   -1.3626   -0.4443   13.5169 H   0  0  0  0  0  0  0  0  0  0  0  0\\n   -2.8615   -0.7003   14.5611 H   0  0  0  0  0  0  0  0  0  0  0  0\\n   -0.4660   -1.2370   15.3048 H   0  0  0  0  0  0  0  0  0  0  0  0\\n   -0.3419   -3.2921   13.4262 H   0  0  0  0  0  0  0  0  0  0  0  0\\n    0.7126   -3.2495   16.0924 H   0  0  0  0  0  0  0  0  0  0  0  0\\n   -2.0913   -4.6667   14.0771 H   0  0  0  0  0  0  0  0  0  0  0  0\\n   -0.7021   -5.6113   16.3020 H   0  0  0  0  0  0  0  0  0  0  0  0\\n   -1.8474   -4.2899   17.0452 H   0  0  0  0  0  0  0  0  0  0  0  0\\n   -4.2300   -4.0280   13.9958 H   0  0  0  0  0  0  0  0  0  0  0  0\\n   -8.6722   -5.6154   18.1516 H   0  0  0  0  0  0  0  0  0  0  0  0\\n   -8.3623   -5.3171   16.4202 H   0  0  0  0  0  0  0  0  0  0  0  0\\n   -4.7899   -4.9896   20.4129 H   0  0  0  0  0  0  0  0  0  0  0  0\\n    3.3383  -26.0153   -8.0336 H   0  0  0  0  0  0  0  0  0  0  0  0\\n    4.9169  -26.2932   -6.2560 H   0  0  0  0  0  0  0  0  0  0  0  0\\n    3.3310  -25.0758   -5.8450 H   0  0  0  0  0  0  0  0  0  0  0  0\\n    4.5003  -23.5210   -8.6547 H   0  0  0  0  0  0  0  0  0  0  0  0\\n    4.9684  -25.0771   -9.4204 H   0  0  0  0  0  0  0  0  0  0  0  0\\n    3.2489  -24.5576   -9.4204 H   0  0  0  0  0  0  0  0  0  0  0  0\\n  3  2  2  0\\n  4  2  1  0\\n  5  2  1  0\\n  7  6  2  0\\n  8  6  1  0\\n  9  2  1  0\\n  9  6  1  0\\n 10  6  1  0\\n 11 10  1  0\\n 12 11  1  0\\n 13 12  1  0\\n 14 12  1  0\\n 15 14  1  0\\n 16 14  1  0\\n 17 16  1  0\\n 18 16  1  0\\n 18 13  1  0\\n 19 18  1  0\\n 20 19  1  0\\n 21 20  2  0\\n 22 21  1  0\\n 23 22  2  0\\n 24 23  1  0\\n 25 23  1  0\\n 26 25  2  0\\n 27 26  1  0\\n 28 22  1  0\\n 28 19  1  0\\n 28 27  2  0\\n 30 29  1  0\\n 31 29  1  0\\n 32 29  1  0\\n  1 33  1  0\\n  1 34  1  0\\n  4 35  1  0\\n  5 36  1  0\\n  8 37  1  0\\n 11 38  1  0\\n 11 39  1  0\\n 12 40  1  1\\n 14 41  1  6\\n 15 42  1  0\\n 16 43  1  6\\n 17 44  1  0\\n 18 45  1  1\\n 20 46  1  0\\n 24 47  1  0\\n 24 48  1  0\\n 26 49  1  0\\n 29 50  1  0\\n 30 51  1  0\\n 31 52  1  0\\n 32 53  1  0\\n 32 54  1  0\\n 32 55  1  0\\nM  END\\n$$$$\\n\");\n",
              "\tviewer_17604474150840635.addModel(\"ADP\\n  CCTOOLS-0131251006\\n\\n 42 44  0  0  1  0  0  0  0  0999 V2000\\n    1.1620   -0.2210   -5.6850 P   0  0  0  0  0\\n    1.7250    1.1330   -5.4920 O   0  0  0  0  0\\n    2.1900   -1.1120   -6.5460 O   0  0  0  0  0\\n   -0.2400   -0.1130   -6.4670 O   0  0  0  0  0\\n   -0.1050    0.0250   -3.4460 P   0  0  0  0  0\\n    0.4760    1.3760   -3.2880 O   0  0  0  0  0\\n   -1.4870    0.1290   -4.2660 O   0  0  0  0  0\\n    0.9250   -0.9130   -4.2500 O   0  0  0  0  0\\n   -0.3890   -0.6090   -1.9940 O   0  0  0  0  0\\n   -1.3070    0.2640   -1.3330 C   0  0  0  0  0\\n   -1.6200   -0.2840    0.0590 C   0  0  0  0  0\\n   -0.4170   -0.3480    0.8570 O   0  0  0  0  0\\n   -2.5500    0.6830    0.8250 C   0  0  0  0  0\\n   -3.9070    0.2450    0.7390 O   0  0  0  0  0\\n   -2.0470    0.6110    2.2860 C   0  0  0  0  0\\n   -3.0800    0.1290    3.1480 O   0  0  0  0  0\\n   -0.8710   -0.3880    2.2270 C   0  0  0  0  0\\n    0.2010    0.0310    3.1320 N   0  0  0  0  0\\n    1.2310    0.8700    2.8270 C   0  0  0  0  0\\n    2.0000    1.0270    3.8650 N   0  0  0  0  0\\n    1.5090    0.3050    4.9020 C   0  0  0  0  0\\n    1.9100    0.0870    6.2310 C   0  0  0  0  0\\n    3.0440    0.6970    6.7380 N   0  0  0  0  0\\n    1.1710   -0.7140    6.9910 N   0  0  0  0  0\\n    0.0880   -1.3000    6.5160 C   0  0  0  0  0\\n   -0.3210   -1.1300    5.2770 N   0  0  0  0  0\\n    0.3530   -0.3460    4.4420 C   0  0  0  0  0\\n    2.3040   -0.6640   -7.3960 H   0  0  0  0  0\\n   -0.5720   -1.0160   -6.5710 H   0  0  0  0  0\\n   -1.8330   -0.7700   -4.3460 H   0  0  0  0  0\\n   -2.2270    0.3300   -1.9130 H   0  0  0  0  0\\n   -0.8620    1.2550   -1.2420 H   0  0  0  0  0\\n   -2.0780   -1.2700   -0.0150 H   0  0  0  0  0\\n   -2.4510    1.6960    0.4350 H   0  0  0  0  0\\n   -4.4390    0.8840    1.2330 H   0  0  0  0  0\\n   -1.6990    1.5890    2.6180 H   0  0  0  0  0\\n   -3.8070    0.7640    3.0940 H   0  0  0  0  0\\n   -1.2120   -1.3910    2.4850 H   0  0  0  0  0\\n    1.3870    1.3350    1.8650 H   0  0  0  0  0\\n    3.3080    0.5420    7.6580 H   0  0  0  0  0\\n    3.5770    1.2770    6.1720 H   0  0  0  0  0\\n   -0.4820   -1.9440    7.1690 H   0  0  0  0  0\\n  1  2  2  0  0  0\\n  1  3  1  0  0  0\\n  1  4  1  0  0  0\\n  1  8  1  0  0  0\\n  3 28  1  0  0  0\\n  4 29  1  0  0  0\\n  5  6  2  0  0  0\\n  5  7  1  0  0  0\\n  5  8  1  0  0  0\\n  5  9  1  0  0  0\\n  7 30  1  0  0  0\\n  9 10  1  0  0  0\\n 10 11  1  0  0  0\\n 10 31  1  0  0  0\\n 10 32  1  0  0  0\\n 11 12  1  0  0  0\\n 11 13  1  0  0  0\\n 11 33  1  0  0  0\\n 12 17  1  0  0  0\\n 13 14  1  0  0  0\\n 13 15  1  0  0  0\\n 13 34  1  0  0  0\\n 14 35  1  0  0  0\\n 15 16  1  0  0  0\\n 15 17  1  0  0  0\\n 15 36  1  0  0  0\\n 16 37  1  0  0  0\\n 17 18  1  0  0  0\\n 17 38  1  0  0  0\\n 18 19  1  0  0  0\\n 18 27  1  0  0  0\\n 19 20  2  0  0  0\\n 19 39  1  0  0  0\\n 20 21  1  0  0  0\\n 21 22  1  0  0  0\\n 21 27  2  0  0  0\\n 22 23  1  0  0  0\\n 22 24  2  0  0  0\\n 23 40  1  0  0  0\\n 23 41  1  0  0  0\\n 24 25  1  0  0  0\\n 25 26  2  0  0  0\\n 25 42  1  0  0  0\\n 26 27  1  0  0  0\\nM  END\\n$$$$\\n\");\n",
              "\tviewer_17604474150840635.setStyle({\"model\": 0},{\"stick\": {\"color\": \"#0e9674\"}});\n",
              "\tviewer_17604474150840635.setStyle({\"model\": 1},{\"stick\": {\"color\": \"#c46225\"}});\n",
              "\tviewer_17604474150840635.zoomTo({\"model\": 0});\n",
              "viewer_17604474150840635.render();\n",
              "});\n",
              "</script>"
            ]
          },
          "metadata": {}
        },
        {
          "output_type": "execute_result",
          "data": {
            "text/plain": [
              "<py3Dmol.view at 0x7c6f62647b00>"
            ]
          },
          "metadata": {},
          "execution_count": 35
        }
      ],
      "source": [
        "import py3Dmol\n",
        "\n",
        "# Compare the two ligand models\n",
        "v = py3Dmol.view()\n",
        "v.addModel(open(f\"{ligand_directory}/{ligand_id}_fromPDB.pdb\").read())\n",
        "v.addModel(open(f\"{ligand_corrected_pose_file}\").read())\n",
        "v.addModel(open(f\"{ligand_directory}/{ligand_id}_ideal.sdf\").read())\n",
        "#v.setStyle()\n",
        "v.setStyle({\"model\":0}, {'stick': {'color': '#0e9674'}})\n",
        "v.setStyle({\"model\":1}, {'stick': {'color': '#c46225'}})\n",
        "v.zoomTo({'model':0})"
      ]
    },
    {
      "cell_type": "code",
      "execution_count": null,
      "id": "00c48ebc-2dab-4692-98c7-898e8bce9203",
      "metadata": {
        "id": "00c48ebc-2dab-4692-98c7-898e8bce9203"
      },
      "outputs": [],
      "source": [
        "# Voila! The ligands are ready for docking!"
      ]
    }
  ],
  "metadata": {
    "kernelspec": {
      "display_name": "Python 3 (ipykernel)",
      "language": "python",
      "name": "python3"
    },
    "language_info": {
      "codemirror_mode": {
        "name": "ipython",
        "version": 3
      },
      "file_extension": ".py",
      "mimetype": "text/x-python",
      "name": "python",
      "nbconvert_exporter": "python",
      "pygments_lexer": "ipython3",
      "version": "3.12.3"
    },
    "colab": {
      "provenance": [],
      "include_colab_link": true
    }
  },
  "nbformat": 4,
  "nbformat_minor": 5
}