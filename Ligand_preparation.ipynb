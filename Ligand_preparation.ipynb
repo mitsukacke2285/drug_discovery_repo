{
 "cells": [
  {
   "cell_type": "markdown",
   "id": "5dc24758-9189-4621-95f8-bfaeeb6f1ecd",
   "metadata": {
    "id": "5dc24758-9189-4621-95f8-bfaeeb6f1ecd"
   },
   "source": [
    "# Ligand preparation"
   ]
  },
  {
   "cell_type": "markdown",
   "id": "5250703e-a66e-4f7a-a6af-80285c1c9147",
   "metadata": {
    "id": "5250703e-a66e-4f7a-a6af-80285c1c9147"
   },
   "source": [
    "# Step 1: Installation of dependencies\n",
    "\n",
    "Please install the following packages:\n",
    "* `PDBFixer`\n",
    "* `Biopython`\n",
    "* `MDAnalysis`\n",
    "* `RDKit`\n",
    "* `OpenMM` (and `OpenMMForceFields`)\n",
    "* `OpenBabel`\n",
    "* `Scrubber` (package: \"`molscrub`\")\n",
    "* `py3Dmol`\n",
    "* `rdkit utils`"
   ]
  },
  {
   "cell_type": "code",
   "execution_count": 17,
   "id": "991e5f45-1617-47b3-91f3-c8aed0db7b37",
   "metadata": {},
   "outputs": [
    {
     "data": {
      "text/plain": [
       "CompletedProcess(args=['pip', 'install', 'rdkit', 'openmm', 'mdanalysis', 'molscrub', 'py3dmol', 'biopython'], returncode=0)"
      ]
     },
     "execution_count": 17,
     "metadata": {},
     "output_type": "execute_result"
    }
   ],
   "source": [
    "import subprocess\n",
    "subprocess.run(['pip', 'install', 'rdkit', 'openmm', 'mdanalysis', 'molscrub', 'py3dmol', 'biopython'])"
   ]
  },
  {
   "cell_type": "code",
   "execution_count": null,
   "id": "b1e17718-c6d3-419f-a3a4-18b238f8a8a4",
   "metadata": {
    "colab": {
     "base_uri": "https://localhost:8080/"
    },
    "id": "b1e17718-c6d3-419f-a3a4-18b238f8a8a4",
    "outputId": "e00a9e4b-9f8e-42b9-ac67-d5be2682f79d"
   },
   "outputs": [],
   "source": [
    "#!pip install rdkit openmm mdanalysis molscrub py3dmol biopython\n",
    "#!pip install pdbfixer"
   ]
  },
  {
   "cell_type": "code",
   "execution_count": null,
   "id": "bw7ICP3prSzV",
   "metadata": {
    "colab": {
     "base_uri": "https://localhost:8080/"
    },
    "id": "bw7ICP3prSzV",
    "outputId": "26aeb368-855e-4a6c-e575-559ca663cd28"
   },
   "outputs": [],
   "source": [
    "#!pip install molscrub"
   ]
  },
  {
   "cell_type": "code",
   "execution_count": null,
   "id": "38b89055-127b-45c9-8c64-57ff8d90361f",
   "metadata": {},
   "outputs": [],
   "source": [
    "#!curl -L -O https://raw.githubusercontent.com/MolSSI-Education/iqb-2025/main/util.py"
   ]
  },
  {
   "cell_type": "code",
   "execution_count": null,
   "id": "2d82fe5b-36c1-4fce-9e9f-f4d3a5936cca",
   "metadata": {
    "colab": {
     "base_uri": "https://localhost:8080/"
    },
    "id": "2d82fe5b-36c1-4fce-9e9f-f4d3a5936cca",
    "outputId": "ec1f82d3-964c-46a1-9776-03db71edb49a"
   },
   "outputs": [],
   "source": [
    "# Run this cell if pdbfixer could not be installed on colab\n",
    "#!pip install git+https://github.com/openmm/pdbfixer.git"
   ]
  },
  {
   "cell_type": "markdown",
   "id": "gjQHGjh8sAlH",
   "metadata": {
    "id": "gjQHGjh8sAlH"
   },
   "source": [
    "If running on colab, upload the following file:"
   ]
  },
  {
   "cell_type": "code",
   "execution_count": null,
   "id": "a8mbyyrasLzk",
   "metadata": {
    "colab": {
     "base_uri": "https://localhost:8080/",
     "height": 1000
    },
    "id": "a8mbyyrasLzk",
    "outputId": "66c972b9-1ebe-4c07-d26d-e92a1e0f73c9"
   },
   "outputs": [],
   "source": [
    "# If using google colab please upload the following files: test1.csv and {pdb_id}_A.pdb\n",
    "#from google.colab import files\n",
    "\n",
    "# Upload a {pdb_id}.pdb file from local PC to your Colab VM\n",
    "#files.upload(\"molecular_docking/protein_files\")"
   ]
  },
  {
   "cell_type": "code",
   "execution_count": null,
   "id": "tfOSdOvv1GVl",
   "metadata": {
    "colab": {
     "base_uri": "https://localhost:8080/",
     "height": 125
    },
    "id": "tfOSdOvv1GVl",
    "outputId": "7126adfc-47be-4579-8577-7f1b8d87b215"
   },
   "outputs": [],
   "source": [
    "# Upload a csv file containing multiple SMILES from local PC to your Colab VM\n",
    "#files.upload(\"molecular_docking/ligand_structures\")"
   ]
  },
  {
   "cell_type": "markdown",
   "id": "6f5b133c-831f-4923-aa21-14c6ff239a48",
   "metadata": {
    "id": "6f5b133c-831f-4923-aa21-14c6ff239a48"
   },
   "source": [
    "# Step 2 Building Atomistic Ligand Model"
   ]
  },
  {
   "cell_type": "markdown",
   "id": "f4b6cf2f-81aa-4305-9c25-ab1b6f7622f5",
   "metadata": {
    "id": "f4b6cf2f-81aa-4305-9c25-ab1b6f7622f5"
   },
   "source": [
    "## Step 2.1 Set protein and ligand directories"
   ]
  },
  {
   "cell_type": "code",
   "execution_count": 38,
   "id": "b50f5d27-abf1-462d-b2e6-2f1bc5c19127",
   "metadata": {
    "colab": {
     "base_uri": "https://localhost:8080/"
    },
    "id": "b50f5d27-abf1-462d-b2e6-2f1bc5c19127",
    "outputId": "dbca3b4c-2834-4b12-add5-705bc047c490"
   },
   "outputs": [
    {
     "name": "stdin",
     "output_type": "stream",
     "text": [
      "Enter PDB code:  7JVM\n"
     ]
    },
    {
     "name": "stdout",
     "output_type": "stream",
     "text": [
      "Protein directory: The following folder has been created:  molecular_docking/protein_files\\7JVM_A.pdb\n",
      "Ligand directory: The following folder has been created:  molecular_docking/ligand_structures\\\n"
     ]
    }
   ],
   "source": [
    "import os\n",
    "import requests\n",
    "\n",
    "pdb_id = input(\"Enter PDB code: \") # The Protein ID we're looking at\n",
    "\n",
    "# Set protein directory\n",
    "protein_directory = \"molecular_docking/protein_files\"\n",
    "protein_filename = f\"{pdb_id}_A.pdb\"\n",
    "protein_filepath = os.path.join(protein_directory, protein_filename)\n",
    "\n",
    "# Set ligand directory\n",
    "ligand_directory = \"molecular_docking/ligand_structures\"\n",
    "ligand_filename = \"\"\n",
    "ligand_filepath = os.path.join(ligand_directory, ligand_filename)\n",
    "\n",
    "# Actually make the directory, the exist_ok flag lets the command execute even if the folder already exists. It does NOT overwrite existing data.\n",
    "os.makedirs(protein_directory, exist_ok=True)\n",
    "os.makedirs(ligand_directory, exist_ok=True)\n",
    "\n",
    "print(\"Protein directory: The following folder has been created: \", protein_filepath)\n",
    "print(\"Ligand directory: The following folder has been created: \", ligand_filepath)"
   ]
  },
  {
   "cell_type": "markdown",
   "id": "c8a7344b-4eba-4573-b6d6-f84992967339",
   "metadata": {
    "id": "c8a7344b-4eba-4573-b6d6-f84992967339"
   },
   "source": [
    "## Step 2.2 Determine residues nearby the ligand with MDAnalysis"
   ]
  },
  {
   "cell_type": "code",
   "execution_count": 39,
   "id": "72668d39-0885-4173-ab93-97d82344766c",
   "metadata": {
    "colab": {
     "base_uri": "https://localhost:8080/"
    },
    "id": "72668d39-0885-4173-ab93-97d82344766c",
    "outputId": "052810b5-e649-4f12-ac2c-19be57f83393"
   },
   "outputs": [
    {
     "name": "stdout",
     "output_type": "stream",
     "text": [
      "The residues of the active are:  [ 32  34  35  36  42 108 110 111 113 138 140 217 219 250 253 254 491 492\n",
      " 702 740 753 787 793]\n",
      "[601 602 603 604]\n"
     ]
    }
   ],
   "source": [
    "import MDAnalysis as mda\n",
    "\n",
    "# Load the original PDB\n",
    "u = mda.Universe(f\"{protein_directory}/{pdb_id}_A.pdb\")\n",
    "\n",
    "# Select atoms using the MDAnalysis selection language\n",
    "ligand_select = \"segid A and record_type HETATM and not resname HOH\"\n",
    "ligand = u.select_atoms(ligand_select)\n",
    "\n",
    "# Find and residues within a certain distance from the ligand\n",
    "active_site = u.select_atoms(f\"around 3.5 group ligand and segid A\",\n",
    "                             periodic=False,\n",
    "                             ligand=ligand)  # Uses generic select_name=object as kwargs\n",
    "print(\"The residues of the active are: \", active_site.residues.resids)\n",
    "print(ligand.residues.resids)"
   ]
  },
  {
   "cell_type": "markdown",
   "id": "6fa8db14-8a83-4c11-abca-24fddc1494a9",
   "metadata": {
    "id": "6fa8db14-8a83-4c11-abca-24fddc1494a9"
   },
   "source": [
    "## Step 2.3 Select ligand bound in PDB structure"
   ]
  },
  {
   "cell_type": "code",
   "execution_count": 40,
   "id": "45de3907-93c5-4183-8196-e584efb2cffc",
   "metadata": {
    "colab": {
     "base_uri": "https://localhost:8080/"
    },
    "id": "aee5856a-e674-4f3a-b368-59247354b217",
    "outputId": "966e775a-6b95-4046-9db4-02671a8ae411"
   },
   "outputs": [
    {
     "name": "stdout",
     "output_type": "stream",
     "text": [
      "The following ligands have been found (index code): \n",
      "0 VKS\n",
      "1 PO4\n",
      "2 PO4\n",
      "3 PO4\n"
     ]
    },
    {
     "name": "stdin",
     "output_type": "stream",
     "text": [
      "Enter index of ligand of interest:  1\n"
     ]
    },
    {
     "name": "stdout",
     "output_type": "stream",
     "text": [
      "You have selected VKS as your ligand.\n"
     ]
    }
   ],
   "source": [
    "import numpy as np\n",
    "\n",
    "ligands = u.select_atoms(\"not protein and not water\")\n",
    "i = -1 # index\n",
    "ligand_residue_names = ligands.residues.resnames\n",
    "\n",
    "# Loop through all ligands present and prints out their code\n",
    "print(\"The following ligands have been found (index code): \")\n",
    "for lig in ligand_residue_names:\n",
    "  i = i+1\n",
    "  print(i, lig)\n",
    "\n",
    "# Select the index of your ligand of interest\n",
    "ligand_id = np.unique(ligand_residue_names)[int(input('Enter index of ligand of interest: '))]\n",
    "#ligand_id = np.unique(ligand_residue_names)[1]\n",
    "print(f\"You have selected {ligand_id} as your ligand.\")"
   ]
  },
  {
   "cell_type": "markdown",
   "id": "3798a3d3-702d-4c5e-9825-01ae64ab53b8",
   "metadata": {
    "id": "3798a3d3-702d-4c5e-9825-01ae64ab53b8"
   },
   "source": [
    "## Step 2.4 Download the ideal ligand from the RCSB"
   ]
  },
  {
   "cell_type": "markdown",
   "id": "3d181bd7-e7e6-4934-b172-caa63d4468ff",
   "metadata": {
    "id": "4ucqJga0lxFb"
   },
   "source": [
    "print(\"An ideal ligand is a ligand that was extracted from the original PDB file with correct 3D coordinates and is needed: \\\n",
    "        1. to align the pose of the extracted ligand with ideal ligand \\\n",
    "        2. to obtain the correct 3D coordinates for generating the docking grid box \\\n",
    "        The ideal ligand file can be found on https://www.rcsb.org/. Search for the desired PDB and scroll down to small molecule section, \\\n",
    "        left-click on scroll-down menu Download instance coordinates, select the option with [auth A]. \\\n",
    "        For example, for the PDB id 7BCS the ideal ligand can be downloaded  at \\\n",
    "        https://models.rcsb.org/v1/7bcs/ligand?auth_seq_id=601&label_asym_id=D&encoding=sdf&filename=7bcs_D_TJ5.sdf \\\n",
    "        Please rename the file to {ligand_id}_ideal.sdf, e.g. 7bcs_D_TJ5.sdf ===> TJ5_ideal.sdf\"\n",
    "    )\n"
   ]
  },
  {
   "cell_type": "code",
   "execution_count": 41,
   "id": "ec80418a-0880-4836-b9b4-b8d3897e0e94",
   "metadata": {},
   "outputs": [
    {
     "name": "stdout",
     "output_type": "stream",
     "text": [
      "Downloading ligand VKS...\n",
      "Saved ligand to molecular_docking/ligand_structures/VKS_ideal.sdf\n"
     ]
    }
   ],
   "source": [
    "# The following cell executes the code for downloading the ideal ligand, \n",
    "# i.e. the co-crystallized ligand extracted from the PDB structure.\n",
    "# An ideal ligand is needed:\n",
    "# 1. align the pose of the extracted ligand with ideal ligand\n",
    "# 2. obtain the correct 3D coordinates for generating the docking grid box\n",
    "\n",
    "ligand_directory = \"molecular_docking/ligand_structures\"\n",
    "os.makedirs(ligand_directory, exist_ok=True)\n",
    "\n",
    "ideal_ligand_filename = f\"{ligand_id}_ideal.sdf\"\n",
    "print(f\"Downloading ligand {ligand_id}...\")\n",
    "ligand_url = f\"https://files.rcsb.org/ligands/download/{ideal_ligand_filename}\"\n",
    "ligand_request = requests.get(ligand_url)\n",
    "ligand_request.raise_for_status() # Check for errors\n",
    "\n",
    "ideal_filepath = f\"{ligand_directory}/{ideal_ligand_filename}\"\n",
    "\n",
    "with open(ideal_filepath, \"w\") as f:\n",
    "    f.write(ligand_request.text)\n",
    "print(f\"Saved ligand to {ideal_filepath}\")"
   ]
  },
  {
   "cell_type": "code",
   "execution_count": null,
   "id": "Yb9VpP0MVFHM",
   "metadata": {
    "colab": {
     "base_uri": "https://localhost:8080/",
     "height": 316
    },
    "id": "Yb9VpP0MVFHM",
    "outputId": "ebe19983-38ab-4b93-e09f-ee108fc5e020"
   },
   "outputs": [],
   "source": [
    "# Run in colab only\n",
    "#ligand_directory = \"molecular_docking/ligand_structures\"\n",
    "#os.makedirs(ligand_directory, exist_ok=True)\n",
    "\n",
    "# Upload  from local PC to your Colab VM\n",
    "#files.upload(\"molecular_docking/ligand_structures\")"
   ]
  },
  {
   "cell_type": "markdown",
   "id": "c439bb29-ba60-44f5-87bb-2732e7e9250d",
   "metadata": {
    "id": "c439bb29-ba60-44f5-87bb-2732e7e9250d"
   },
   "source": [
    "## Step 2.5 Split the ligand out into its own PDB file from the experimental one"
   ]
  },
  {
   "cell_type": "code",
   "execution_count": 42,
   "id": "547ff2ac-e8f9-423a-9ed3-6772d93320f7",
   "metadata": {
    "colab": {
     "base_uri": "https://localhost:8080/"
    },
    "id": "547ff2ac-e8f9-423a-9ed3-6772d93320f7",
    "outputId": "48208b9f-9935-4d6b-de6d-42772cc03880"
   },
   "outputs": [
    {
     "name": "stdout",
     "output_type": "stream",
     "text": [
      "Ligand extracted from original PDB!\n"
     ]
    }
   ],
   "source": [
    "# Split the ligand out into its own PDB file from the experimental one\n",
    "single_pose_ligand = ligand.select_atoms(\"segid A\")\n",
    "single_pose_ligand.write(f\"{ligand_directory}/{ligand_id}_fromPDB.pdb\")\n",
    "print(\"Ligand extracted from original PDB!\")"
   ]
  },
  {
   "cell_type": "markdown",
   "id": "89c13272-b619-4dd3-9705-22eda7f3424d",
   "metadata": {
    "id": "89c13272-b619-4dd3-9705-22eda7f3424d"
   },
   "source": [
    "# Step 3 Ligand preparation - Extracted ligand"
   ]
  },
  {
   "cell_type": "markdown",
   "id": "15cdada7-296f-4503-94e0-b9a7e8ac7f35",
   "metadata": {
    "id": "15cdada7-296f-4503-94e0-b9a7e8ac7f35"
   },
   "source": [
    "## Step 3.1 Rdkit - Partial preparation and correcting the pose of extracted ligand"
   ]
  },
  {
   "cell_type": "code",
   "execution_count": 43,
   "id": "I1Gx1nRyH9cS",
   "metadata": {
    "colab": {
     "base_uri": "https://localhost:8080/"
    },
    "id": "I1Gx1nRyH9cS",
    "outputId": "4c0697e3-df2d-4afc-bf40-c052987cf2e4"
   },
   "outputs": [
    {
     "name": "stdout",
     "output_type": "stream",
     "text": [
      "Fixing and correcting the pose of extracted ligand...\n",
      "Extracted ligand fixed!\n"
     ]
    },
    {
     "name": "stderr",
     "output_type": "stream",
     "text": [
      "[14:28:05] Warning: molecule is tagged as 2D, but at least one Z coordinate is not zero. Marking the mol as 3D.\n",
      "[14:28:05] Initializing MetalDisconnector\n",
      "[14:28:05] Running MetalDisconnector\n",
      "[14:28:05] Running FragmentRemover\n",
      "[14:28:05] Running LargestFragmentChooser\n",
      "[14:28:05] Fragment: C[C@@H]1OCC2(CCN([C@@H]3CN[C@H](S[C@H]4CCNC(N)[C@@H]4Cl)C(N)N3)CC2)[C@@H]1N\n",
      "[14:28:05] New largest fragment: C[C@@H]1OCC2(CCN([C@@H]3CN[C@H](S[C@H]4CCNC(N)[C@@H]4Cl)C(N)N3)CC2)[C@@H]1N (64)\n",
      "[14:28:05] Fragment: O[PH](O)(O)O\n",
      "[14:28:05] Fragment: O[PH](O)(O)O\n",
      "[14:28:05] Fragment: O[PH](O)(O)O\n",
      "[14:28:05] WARNING: More than one matching pattern found - picking one\n",
      "\n"
     ]
    }
   ],
   "source": [
    "# The following cell executes the code to partially prepare and correct the 3D orientation (pose) of the extracted ligand,\n",
    "# and save it as {ligand_id}_corrected_pose.sdf which will be later used to generate a grid box for docking.\n",
    "\n",
    "from rdkit import Chem\n",
    "from rdkit.Chem import AllChem\n",
    "from rdkit.Chem.MolStandardize import rdMolStandardize\n",
    "from rdkit.Chem.EnumerateStereoisomers import EnumerateStereoisomers, StereoEnumerationOptions\n",
    "\n",
    "print(\"Fixing and correcting the pose of extracted ligand...\")\n",
    "# Load and remove the hydrogens that we can't map anyways yet.\n",
    "ideal_mol = Chem.MolFromMolFile(f\"{ligand_directory}/{ligand_id}_ideal.sdf\", removeHs=True)\n",
    "pose_mol = Chem.MolFromPDBFile(f\"{ligand_directory}/{ligand_id}_fromPDB.pdb\", removeHs=True)\n",
    "\n",
    "# Disconnect any organometal\n",
    "rdMolStandardize.DisconnectOrganometallicsInPlace(pose_mol)\n",
    "\n",
    "# Remove disconnected fragments\n",
    "fragmenter = rdMolStandardize.FragmentRemover()\n",
    "pose_mol_f = fragmenter.remove(pose_mol)\n",
    "\n",
    "# Choose largest fragment\n",
    "chooser = rdMolStandardize.LargestFragmentChooser()\n",
    "pose_mol_lf = chooser.choose(pose_mol_f)\n",
    "\n",
    "# Set options: include tetrahedral and double bond stereoisomers\n",
    "options = StereoEnumerationOptions(tryEmbedding=True, onlyUnassigned=False)\n",
    "\n",
    "# Assign bond orders from the template to the pose molecule\n",
    "corrected_pose = AllChem.AssignBondOrdersFromTemplate(ideal_mol, pose_mol_lf)\n",
    "\n",
    "# Add hydrogens\n",
    "corrected_pose_with_H = Chem.AddHs(corrected_pose, addCoords=True)\n",
    "\n",
    "# Sanity to check to make sure the molecule is right (check smiles of both)\n",
    "#assert Chem.MolToSmiles(corrected_pose) == Chem.MolToSmiles(ideal_mol)\n",
    "\n",
    "# Save the corrected pose to an SDF file\n",
    "ligand_corrected_pose_file = f\"{ligand_directory}/{ligand_id}_corrected_pose.sdf\"\n",
    "writer = Chem.SDWriter(ligand_corrected_pose_file)\n",
    "writer.write(corrected_pose_with_H)\n",
    "writer.close()\n",
    "print(\"Extracted ligand fixed!\")"
   ]
  },
  {
   "cell_type": "code",
   "execution_count": 44,
   "id": "81991d65-22cf-4ff5-b233-b76ff906d980",
   "metadata": {
    "colab": {
     "base_uri": "https://localhost:8080/"
    },
    "id": "81991d65-22cf-4ff5-b233-b76ff906d980",
    "outputId": "6a04dcd9-1ceb-41af-b3c9-dc880949607a"
   },
   "outputs": [
    {
     "name": "stdout",
     "output_type": "stream",
     "text": [
      "C[C@@H]1OCC2(CCN(c3cnc(Sc4ccnc(N)c4Cl)c(N)n3)CC2)[C@@H]1N\n",
      "C[C@@H]1OCC2(CCN([C@@H]3CN[C@H](S[C@H]4CCNC(N)[C@@H]4Cl)C(N)N3)CC2)[C@@H]1N\n",
      "C[C@@H]1OCC2(CCN(c3cnc(Sc4ccnc(N)c4Cl)c(N)n3)CC2)[C@@H]1N\n"
     ]
    }
   ],
   "source": [
    "# Comparison of SMILES of prepared extracted ligand with ideal ligand\n",
    "print(Chem.MolToSmiles(corrected_pose))\n",
    "print(Chem.MolToSmiles(pose_mol_lf))\n",
    "print(Chem.MolToSmiles(ideal_mol))"
   ]
  },
  {
   "cell_type": "code",
   "execution_count": 45,
   "id": "6dbee233-4d56-4974-a714-2c293deff66c",
   "metadata": {
    "colab": {
     "base_uri": "https://localhost:8080/",
     "height": 167
    },
    "id": "6dbee233-4d56-4974-a714-2c293deff66c",
    "outputId": "0938e2b0-838d-4fcb-d337-dab68b3554eb"
   },
   "outputs": [
    {
     "data": {
      "image/png": "[encoded data removed]",
      "text/plain": [
       "<rdkit.Chem.rdchem.Mol at 0x2081f268f20>"
      ]
     },
     "execution_count": 45,
     "metadata": {},
     "output_type": "execute_result"
    }
   ],
   "source": [
    "# Check our molecule from RDKit. Doesn't have rotation, but its neat to see in a Jupyter Notebook for just invoking it\n",
    "from rdkit.Chem import AllChem, Draw\n",
    "\n",
    "AllChem.Compute2DCoords(corrected_pose_with_H)\n",
    "Draw.MolToImage(corrected_pose_with_H)\n",
    "\n",
    "corrected_pose_with_H"
   ]
  },
  {
   "cell_type": "code",
   "execution_count": 46,
   "id": "1695ca62-0df1-403f-8a01-121e3ed1f5ac",
   "metadata": {
    "colab": {
     "base_uri": "https://localhost:8080/"
    },
    "id": "1695ca62-0df1-403f-8a01-121e3ed1f5ac",
    "outputId": "df84350f-d46f-4b12-b473-358a48232372"
   },
   "outputs": [
    {
     "name": "stdout",
     "output_type": "stream",
     "text": [
      "Corrected pose SMILES: [H]c1nc(Sc2c([H])c([H])nc(N([H])[H])c2Cl)c(N([H])[H])nc1N1C([H])([H])C([H])([H])C2(C([H])([H])O[C@@]([H])(C([H])([H])[H])[C@@]2([H])N([H])[H])C([H])([H])C1([H])[H]\n",
      "Corrected mols:  C[C@@H]1OCC2(CCN(c3cnc(Sc4ccnc(N)c4Cl)c(N)n3)CC2)[C@@H]1N\n",
      "Ideal mol SMILES: C[C@@H]1OCC2(CCN(c3cnc(Sc4ccnc(N)c4Cl)c(N)n3)CC2)[C@@H]1N\n"
     ]
    },
    {
     "data": {
      "text/plain": [
       "<AtomGroup with 4162 atoms>"
      ]
     },
     "execution_count": 46,
     "metadata": {},
     "output_type": "execute_result"
    }
   ],
   "source": [
    "# Check results\n",
    "print(\"Corrected pose SMILES:\", Chem.MolToSmiles(corrected_pose_with_H))\n",
    "\n",
    "supp = Chem.SDMolSupplier(f\"{ligand_directory}/{ligand_id}_corrected_pose.sdf\")\n",
    "\n",
    "for mol in supp:\n",
    "    if mol is not None:\n",
    "        print(\"Corrected mols: \", Chem.MolToSmiles(mol))\n",
    "\n",
    "print(\"Ideal mol SMILES:\", Chem.MolToSmiles(ideal_mol))\n",
    "\n",
    "u.select_atoms(\"segid A\")"
   ]
  },
  {
   "cell_type": "markdown",
   "id": "f0c2f714-54ac-4639-9144-e368ea3f9656",
   "metadata": {
    "id": "f0c2f714-54ac-4639-9144-e368ea3f9656"
   },
   "source": [
    "## Step 3.2 Creating tautomers (optional)"
   ]
  },
  {
   "cell_type": "code",
   "execution_count": 47,
   "id": "173c6584-1ab5-47ce-b130-5f44b9ddbc48",
   "metadata": {
    "id": "173c6584-1ab5-47ce-b130-5f44b9ddbc48"
   },
   "outputs": [
    {
     "name": "stdout",
     "output_type": "stream",
     "text": [
      "Generating tautomers...\n"
     ]
    }
   ],
   "source": [
    "from rdkit.Chem.MolStandardize import rdMolStandardize\n",
    "print(\"Generating tautomers...\")\n",
    "# Initialize enumerator\n",
    "tautomer_enumerator = rdMolStandardize.TautomerEnumerator()\n",
    "# Provide RDKit Mol object to generate.\n",
    "# We already made this, but you may start from a SMILE string or other source\n",
    "# Remember, use the structure with implicit hydrogens!\n",
    "tautomers = tautomer_enumerator.Enumerate(corrected_pose)\n",
    "# Take the TautomerEnumerationResults object and iterate over to get a list of structures\n",
    "tautomers_list = [t for t in tautomers]\n",
    "\n",
    "'''\n",
    "Note! This may generate duplicate structures,\n",
    "You may want to cast these Mol objects into SMILES strings, de-duplicate,\n",
    "then rebuild the Mol objects to map their coordinates back onto the reference structure\n",
    "'''\n",
    "\n",
    "# Cast to a set to make unique, then back to a list (as some tautomers can be enumerated again for some structures)\n",
    "smiles_set_tautomers = set(Chem.MolToSmiles(t) for t in tautomers_list)\n",
    "tautomer_list_unique = list(smiles_set_tautomers)\n",
    "# We know the ligand structure does have unique tautomers, this is just a sanity check\n",
    "assert len(tautomers_list) == len(tautomer_list_unique)"
   ]
  },
  {
   "cell_type": "code",
   "execution_count": 48,
   "id": "a675d0a6-6129-4e65-a862-998d614c9986",
   "metadata": {
    "id": "a675d0a6-6129-4e65-a862-998d614c9986"
   },
   "outputs": [
    {
     "name": "stdout",
     "output_type": "stream",
     "text": [
      "Tautomers of VKSmhave been generated and saved as VKS_tautomers.sdf\n"
     ]
    }
   ],
   "source": [
    "ligand_tautomers = f\"{ligand_directory}/{ligand_id}_tautomers.sdf\"\n",
    "writer = Chem.SDWriter(ligand_tautomers)\n",
    "for t in tautomers_list:\n",
    "  writer.write(t)\n",
    "writer.close()\n",
    "print(f\"Tautomers of {ligand_id}mhave been generated and saved as {ligand_id}_tautomers.sdf\")"
   ]
  },
  {
   "cell_type": "code",
   "execution_count": 49,
   "id": "f7a1c812-8b24-42c3-aafe-15855e707c5e",
   "metadata": {
    "colab": {
     "base_uri": "https://localhost:8080/"
    },
    "id": "f7a1c812-8b24-42c3-aafe-15855e707c5e",
    "outputId": "d061de96-e4bc-4861-b4c3-a7a6d76e4c05"
   },
   "outputs": [
    {
     "name": "stdout",
     "output_type": "stream",
     "text": [
      "C[C@@H]1OCC2(CCN(c3cnc(Sc4ccnc(N)c4Cl)c(N)n3)CC2)[C@@H]1N\n",
      "C[C@@H]1OCC2(CCN(c3cnc(Sc4ccnc(N)c4Cl)c(=N)[nH]3)CC2)[C@@H]1N\n",
      "C[C@@H]1OCC2(CCN(c3cnc(Sc4cc[nH]c(=N)c4Cl)c(=N)[nH]3)CC2)[C@@H]1N\n",
      "C[C@@H]1OCC2(CCN(c3cnc(Sc4cc[nH]c(=N)c4Cl)c(N)n3)CC2)[C@@H]1N\n"
     ]
    }
   ],
   "source": [
    "for t in tautomer_list_unique:\n",
    "  print(t)"
   ]
  },
  {
   "cell_type": "code",
   "execution_count": 50,
   "id": "9642627d-8d69-4bf5-a19e-6cef04cd4355",
   "metadata": {
    "colab": {
     "base_uri": "https://localhost:8080/",
     "height": 217
    },
    "id": "9642627d-8d69-4bf5-a19e-6cef04cd4355",
    "outputId": "9d734afe-dac9-4efe-f4be-e5638266b1d4"
   },
   "outputs": [
    {
     "data": {
      "image/png": "[encoded data removed]",
      "text/plain": [
       "<IPython.core.display.Image object>"
      ]
     },
     "execution_count": 50,
     "metadata": {},
     "output_type": "execute_result"
    }
   ],
   "source": [
    "from rdkit.Chem import Draw\n",
    "Draw.MolsToGridImage([Chem.MolFromSmiles(t) for t in tautomer_list_unique])"
   ]
  },
  {
   "cell_type": "markdown",
   "id": "bcce3eaa-ce37-4039-9ca7-f5f2176255b5",
   "metadata": {
    "id": "bcce3eaa-ce37-4039-9ca7-f5f2176255b5"
   },
   "source": [
    "## Step 3.3 Execute Scrubber to prepare extracted ligand"
   ]
  },
  {
   "cell_type": "code",
   "execution_count": 52,
   "id": "66b3c1f4-df7d-4d2c-9569-226db22cf09f",
   "metadata": {
    "colab": {
     "base_uri": "https://localhost:8080/"
    },
    "id": "66b3c1f4-df7d-4d2c-9569-226db22cf09f",
    "outputId": "1997fd9f-8f88-4fcc-fd10-d5984fa87d9b"
   },
   "outputs": [
    {
     "name": "stdout",
     "output_type": "stream",
     "text": [
      "Initiating scrubber...\n",
      "Ligand has been scrubbed and saved as VKS.pdbqt\n",
      "VKS.pdbqt is ready for docking!\n"
     ]
    }
   ],
   "source": [
    "from rdkit import Chem\n",
    "from molscrub import Scrub\n",
    "import subprocess\n",
    "\n",
    "\n",
    "print(\"Initiating scrubber...\")\n",
    "cmd = f\"\"\"scrub.py {ligand_directory}/{ligand_id}_corrected_pose.sdf -o {ligand_directory}/{ligand_id}.sdf\"\"\"\n",
    "\n",
    "#!{cmd}\n",
    "subprocess.run(cmd, shell=True)\n",
    "\n",
    "# Create our PDBQT to keep our hydrogens\n",
    "ligand_pdbqt_filename = f\"{ligand_directory}/{ligand_id}.pdbqt\"\n",
    "os.system(f\"obabel {ligand_corrected_pose_file} -O {ligand_pdbqt_filename} -xh\")\n",
    "print(f\"Ligand has been scrubbed and saved as {ligand_id}.pdbqt\")\n",
    "print(f\"{ligand_id}.pdbqt is ready for docking!\")"
   ]
  },
  {
   "cell_type": "code",
   "execution_count": null,
   "id": "dbd6ff98-5b2a-4f6a-a11f-892bf794cbe0",
   "metadata": {},
   "outputs": [],
   "source": []
  },
  {
   "cell_type": "code",
   "execution_count": null,
   "id": "b53f9043-feb2-4bed-8e6b-2b48ad2da7c5",
   "metadata": {},
   "outputs": [],
   "source": [
    "# When using colab run this cell instead\n",
    "#from rdkit import Chem\n",
    "#from molscrub import Scrub\n",
    "\n",
    "#cmd = f\"\"\"scrub.py {ligand_directory}/{ligand_id}_corrected_pose.sdf -o {ligand_directory}/{ligand_id}.sdf\"\"\"\n",
    "\n",
    "#!{cmd}\n",
    "\n",
    "# Create our PDBQT to keep our hydrogens\n",
    "#ligand_pdbqt_filename = f\"{ligand_directory}/{ligand_id}.pdbqt\"\n",
    "#os.system(f\"obabel {ligand_corrected_pose_file} -O {ligand_pdbqt_filename} -xh\")"
   ]
  },
  {
   "cell_type": "code",
   "execution_count": 53,
   "id": "1b5c682a-c440-4b3a-8793-68975dddc5c7",
   "metadata": {
    "colab": {
     "base_uri": "https://localhost:8080/"
    },
    "id": "1b5c682a-c440-4b3a-8793-68975dddc5c7",
    "outputId": "3d893ece-bb4a-4361-9493-472209fe7977"
   },
   "outputs": [
    {
     "name": "stdout",
     "output_type": "stream",
     "text": [
      "Corrected pose SMILES: [H]c1nc(Sc2c([H])c([H])nc(N([H])[H])c2Cl)c(N([H])[H])nc1N1C([H])([H])C([H])([H])C2(C([H])([H])O[C@@]([H])(C([H])([H])[H])[C@@]2([H])N([H])[H])C([H])([H])C1([H])[H]\n",
      "Tautomer mol 1:  C[C@@H]1OCC2(CCN(c3cnc(Sc4ccnc(N)c4Cl)c(N)n3)CC2)[C@@H]1[NH3+]\n",
      "Tautomer mol 2:  C[C@@H]1OCC2(CCN(c3cnc(Sc4ccnc(N)c4Cl)c(=N)[nH]3)CC2)[C@@H]1[NH3+]\n",
      "Tautomer mol 3:  C[C@@H]1OCC2(CCN(c3cnc(Sc4cc[nH]c(=N)c4Cl)c(N)n3)CC2)[C@@H]1[NH3+]\n",
      "Tautomer mol 4:  C[C@@H]1OCC2(CCN(c3cnc(Sc4cc[nH]c(=N)c4Cl)c(=N)[nH]3)CC2)[C@@H]1[NH3+]\n",
      "Ideal mol smile: C[C@@H]1OCC2(CCN(c3cnc(Sc4ccnc(N)c4Cl)c(N)n3)CC2)[C@@H]1N\n"
     ]
    },
    {
     "data": {
      "text/plain": [
       "<AtomGroup with 4162 atoms>"
      ]
     },
     "execution_count": 53,
     "metadata": {},
     "output_type": "execute_result"
    }
   ],
   "source": [
    "# Check results\n",
    "print(\"Corrected pose SMILES:\", Chem.MolToSmiles(corrected_pose_with_H))\n",
    "\n",
    "supp = Chem.SDMolSupplier(f\"{ligand_directory}/{ligand_id}.sdf\")\n",
    "i = 0\n",
    "\n",
    "for mol in supp:\n",
    "    if mol is not None:\n",
    "        i += 1\n",
    "        print(f\"Tautomer mol {i}: \", Chem.MolToSmiles(mol))\n",
    "\n",
    "print(\"Ideal mol smile:\", Chem.MolToSmiles(ideal_mol))\n",
    "\n",
    "u.select_atoms(\"segid A\")"
   ]
  },
  {
   "cell_type": "code",
   "execution_count": null,
   "id": "9d413647-6526-4717-8e14-8e3beff375c7",
   "metadata": {
    "id": "9d413647-6526-4717-8e14-8e3beff375c7"
   },
   "outputs": [],
   "source": [
    "# Voila! The ligand is ready for docking!"
   ]
  },
  {
   "cell_type": "markdown",
   "id": "2bc7e482-93f1-4fb1-a631-8a8973178d54",
   "metadata": {
    "id": "2bc7e482-93f1-4fb1-a631-8a8973178d54"
   },
   "source": [
    "# Step 4 Ligand preparation - multiple ligands"
   ]
  },
  {
   "cell_type": "markdown",
   "id": "35067173-9ce1-4d77-8316-552b4abf849c",
   "metadata": {
    "id": "35067173-9ce1-4d77-8316-552b4abf849c"
   },
   "source": [
    "## Step 4.1 Load the SMILES strings into RDKit and write back out an SDF file"
   ]
  },
  {
   "cell_type": "code",
   "execution_count": 54,
   "id": "89fb5170-595d-4350-858c-8ed3d29c127f",
   "metadata": {
    "colab": {
     "base_uri": "https://localhost:8080/"
    },
    "id": "89fb5170-595d-4350-858c-8ed3d29c127f",
    "outputId": "4c138fb0-a062-423e-aa66-3892a93d5492"
   },
   "outputs": [
    {
     "name": "stdout",
     "output_type": "stream",
     "text": [
      "Initiating multiple ligand docking...\n",
      "Loading SMILES from csv file...\n",
      "O=C(O[C@@H]1C[NH2+][C@H](C(=O)[O-])C1)c1ccc(-c2ccccc2)cc1\n",
      "Cc1cccc(COc2ccccc2CN(CC[C@@H](N)C(=O)O)Cc2ccccc2OCc2cccc(C)c2)c1\n",
      "Cc1cccc(COc2cccc3c2CN(CC[C@@H](N)C(=O)O)Cc2c(OCc4cccc(C)c4)cccc2-3)c1\n",
      "COc1cccc2c1CN(CC[C@@H](N)C(=O)O)Cc1c(OC)cccc1-2\n",
      "SMILES from csv file were saved as ligands_to_dock.sdf\n"
     ]
    },
    {
     "name": "stderr",
     "output_type": "stream",
     "text": [
      "[14:29:31] WARNING: no name column found on line 1\n",
      "[14:29:31] WARNING: no name column found on line 2\n",
      "[14:29:31] WARNING: no name column found on line 3\n",
      "[14:29:31] WARNING: no name column found on line 4\n"
     ]
    }
   ],
   "source": [
    "# Default delimiter is tab (\\t), so we need to specify \",\"\n",
    "print(\"Initiating multiple ligand docking...\")\n",
    "print(\"Loading SMILES from csv file...\")\n",
    "smiles_supplier = Chem.SmilesMolSupplier(f\"{ligand_directory}/ligands_to_dock.csv\", delimiter=\",\")\n",
    "mols = []  # Could do this in list comprehension, adding a sanity check\n",
    "for mol in smiles_supplier:\n",
    "  print(Chem.MolToSmiles(mol))  # Sanity check that we got the smiles strings and not metadata\n",
    "  mols.append(mol)\n",
    "\n",
    "# Write out our molecules\n",
    "ligands_to_dock_dirty = f\"{ligand_directory}/ligands_to_dock_dirty.sdf\"\n",
    "writer = Chem.SDWriter(ligands_to_dock_dirty)\n",
    "for m in mols:\n",
    "  writer.write(m)\n",
    "writer.close()\n",
    "print(\"SMILES from csv file were saved as ligands_to_dock.sdf\")"
   ]
  },
  {
   "cell_type": "markdown",
   "id": "252130c8-ba60-4516-8103-2f7144fe04d4",
   "metadata": {
    "id": "252130c8-ba60-4516-8103-2f7144fe04d4"
   },
   "source": [
    "## Step 4.2 Execute Scrubber to prepare multiple ligands"
   ]
  },
  {
   "cell_type": "code",
   "execution_count": 55,
   "id": "8f08fb6d-fc7e-4951-80c9-0b1dac257b89",
   "metadata": {
    "colab": {
     "base_uri": "https://localhost:8080/"
    },
    "id": "8f08fb6d-fc7e-4951-80c9-0b1dac257b89",
    "outputId": "9ca4d1f3-d67b-47ce-9aaf-c912c812c7f0"
   },
   "outputs": [
    {
     "name": "stdout",
     "output_type": "stream",
     "text": [
      "Initiating scrubber...\n",
      "ligands_to_dock.sdf is ready for docking!\n",
      "Summary: VKS_ideal.sdf, VKS_corrected_pose.sdf and ligands_to_dock.sdf have been generated and are ready for docking!\n"
     ]
    }
   ],
   "source": [
    "print(\"Initiating scrubber...\")\n",
    "cmd = f\"\"\"scrub.py {ligand_directory}/ligands_to_dock_dirty.sdf -o {ligand_directory}/ligands_to_dock.sdf\"\"\"\n",
    "\n",
    "subprocess.run(cmd, shell=True)\n",
    "#!{cmd}\n",
    "\n",
    "print(\"ligands_to_dock.sdf is ready for docking!\")\n",
    "print(f\"Summary: {ligand_id}_ideal.sdf, {ligand_id}_corrected_pose.sdf and ligands_to_dock.sdf have been generated and are ready for docking!\") "
   ]
  },
  {
   "cell_type": "code",
   "execution_count": null,
   "id": "ffd94be9-528e-46f2-9842-6cb0ee16fdb5",
   "metadata": {
    "colab": {
     "base_uri": "https://localhost:8080/",
     "height": 198
    },
    "id": "ffd94be9-528e-46f2-9842-6cb0ee16fdb5",
    "outputId": "4efb8b92-5efa-419c-e8e6-70da8e91bc47"
   },
   "outputs": [],
   "source": [
    "# Sanity check we got a structure with hydrogens\n",
    "# RDKit automatically removes hydrogens by default (needed for most of the kit to work)\n",
    "# But we're explicitly looking for them here, we can just load them and check\n",
    "supplier = Chem.SDMolSupplier(f\"{ligand_directory}/ligands_to_dock.sdf\", removeHs=True)\n",
    "reloaded_ligands = [mol for mol in supplier]\n",
    "# The last structure will be the same as the last in list comprehension above\n",
    "reloaded_ligands[-1]"
   ]
  },
  {
   "cell_type": "code",
   "execution_count": null,
   "id": "00c48ebc-2dab-4692-98c7-898e8bce9203",
   "metadata": {
    "id": "00c48ebc-2dab-4692-98c7-898e8bce9203"
   },
   "outputs": [],
   "source": [
    "# Voila! The ligands are ready for docking!"
   ]
  }
 ],
 "metadata": {
  "colab": {
   "provenance": []
  },
  "kernelspec": {
   "display_name": "Python 3 (ipykernel)",
   "language": "python",
   "name": "python3"
  },
  "language_info": {
   "codemirror_mode": {
    "name": "ipython",
    "version": 3
   },
   "file_extension": ".py",
   "mimetype": "text/x-python",
   "name": "python",
   "nbconvert_exporter": "python",
   "pygments_lexer": "ipython3",
   "version": "3.12.3"
  }
 },
 "nbformat": 4,
 "nbformat_minor": 5
}
