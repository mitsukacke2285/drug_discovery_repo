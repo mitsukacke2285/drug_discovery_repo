{
 "cells": [
  {
   "cell_type": "markdown",
   "id": "5dc24758-9189-4621-95f8-bfaeeb6f1ecd",
   "metadata": {},
   "source": [
    "# Ligand preparation"
   ]
  },
  {
   "cell_type": "markdown",
   "id": "5250703e-a66e-4f7a-a6af-80285c1c9147",
   "metadata": {},
   "source": [
    "# Set Up\n",
    "\n",
    "Please install the following packages:\n",
    "* `PDBFixer`\n",
    "* `Biopython`\n",
    "* `MDAnalysis`\n",
    "* `RDKit`\n",
    "* `OpenMM` (and `OpenMMForceFields`)\n",
    "* `OpenBabel`\n",
    "* `Scrubber` (package: \"`molscrub`\")\n",
    "* `py3Dmol`"
   ]
  },
  {
   "cell_type": "code",
   "execution_count": null,
   "id": "b1e17718-c6d3-419f-a3a4-18b238f8a8a4",
   "metadata": {},
   "outputs": [],
   "source": [
    "!pip install rdkit pdbfixer openmm mdanalysis molscrub py3dmol biopython flask"
   ]
  },
  {
   "cell_type": "code",
   "execution_count": null,
   "id": "2d82fe5b-36c1-4fce-9e9f-f4d3a5936cca",
   "metadata": {},
   "outputs": [],
   "source": [
    "# Install in Powershell\n",
    "!conda install -c conda-forge openbabel"
   ]
  },
  {
   "cell_type": "markdown",
   "id": "6f5b133c-831f-4923-aa21-14c6ff239a48",
   "metadata": {},
   "source": [
    "# Localization of co-crystalized ligand"
   ]
  },
  {
   "cell_type": "code",
   "execution_count": 15,
   "id": "751ec369-9e22-460b-be4a-33d379c23cdf",
   "metadata": {},
   "outputs": [
    {
     "name": "stdin",
     "output_type": "stream",
     "text": [
      "Enter PDB code:  7BCS\n"
     ]
    }
   ],
   "source": [
    "## Download PDB file ##\n",
    "\n",
    "import os\n",
    "import requests\n",
    "\n",
    "pdb_id = input(\"Enter PDB code: \") # The Protein ID we're looking at\n",
    "\n",
    "# Start by making a directory for us to work in and stage our intermediate files\n",
    "protein_directory = \"protein_files\"\n",
    "protein_filename = f\"{pdb_id}_A.pdb\"\n",
    "protein_filepath = os.path.join(protein_directory, protein_filename)\n",
    "\n",
    "# Actually make the directory, the exist_ok flag lets the command execute even if the folder already exists. It does NOT overwrite existing data.\n",
    "os.makedirs(protein_directory, exist_ok=True)"
   ]
  },
  {
   "cell_type": "code",
   "execution_count": 16,
   "id": "b1a7103c-b494-480c-8d42-8a6d583c581b",
   "metadata": {},
   "outputs": [
    {
     "name": "stdout",
     "output_type": "stream",
     "text": [
      "protein_files\\7BCS_A.pdb\n"
     ]
    }
   ],
   "source": [
    "print(protein_filepath)"
   ]
  },
  {
   "cell_type": "markdown",
   "id": "c8a7344b-4eba-4573-b6d6-f84992967339",
   "metadata": {},
   "source": [
    "## Building Atomistic Ligand Model"
   ]
  },
  {
   "cell_type": "code",
   "execution_count": 17,
   "id": "c145bee7-e8df-4151-bd51-957455558550",
   "metadata": {},
   "outputs": [
    {
     "name": "stdout",
     "output_type": "stream",
     "text": [
      "[104 231 352 353 354 357 383 384 387 429 431 432 464 467 468 471]\n",
      "[601]\n"
     ]
    }
   ],
   "source": [
    "# Determine residues nearby the ligand with MDAnalysis\n",
    "import MDAnalysis as mda\n",
    "\n",
    "# Load the original PDB\n",
    "u = mda.Universe(f\"{protein_directory}/{pdb_id}_A.pdb\")\n",
    "\n",
    "# Select atoms using the MDAnalysis selection language\n",
    "ligand_select = \"segid A and record_type HETATM and not resname HOH\"\n",
    "ligand = u.select_atoms(ligand_select)\n",
    "\n",
    "# Find and residues within a certain distance from the ligand\n",
    "active_site = u.select_atoms(f\"around 3.5 group ligand and segid A\",\n",
    "                             periodic=False,\n",
    "                             ligand=ligand)  # Uses generic select_name=object as kwargs\n",
    "print(active_site.residues.resids)\n",
    "print(ligand.residues.resids)"
   ]
  },
  {
   "cell_type": "code",
   "execution_count": 18,
   "id": "539dec4e-a2e0-4935-ac09-283ddbb311e9",
   "metadata": {},
   "outputs": [
    {
     "name": "stdout",
     "output_type": "stream",
     "text": [
      "TJ5\n"
     ]
    }
   ],
   "source": [
    "import numpy as np\n",
    "\n",
    "# This works well enough for single bound ligand, but is not general for more complicated or non-standard PDB codes\n",
    "ligands = u.select_atoms(\"not protein and not water\")\n",
    "\n",
    "ligand_residue_names = ligands.residues.resnames\n",
    "# In case there are multiple ligands pull out just one name.\n",
    "ligand_id = np.unique(ligand_residue_names)[0]\n",
    "print(ligand_id)"
   ]
  },
  {
   "cell_type": "code",
   "execution_count": 19,
   "id": "c351fdbb-dacc-4adf-8d84-08229277d164",
   "metadata": {},
   "outputs": [
    {
     "name": "stdout",
     "output_type": "stream",
     "text": [
      "Downloading ligand TJ5...\n",
      "Saved ligand to ligand_structures/TJ5_ideal.sdf\n"
     ]
    }
   ],
   "source": [
    "# Pull the ideal ligand from the RCSB\n",
    "ligand_directory = \"ligand_structures\"\n",
    "os.makedirs(ligand_directory, exist_ok=True)\n",
    "\n",
    "ideal_ligand_filename = f\"{ligand_id}_ideal.sdf\"\n",
    "print(f\"Downloading ligand {ligand_id}...\")\n",
    "ligand_url = f\"https://files.rcsb.org/ligands/download/{ideal_ligand_filename}\"\n",
    "# dont break the RCSB for the workshop\n",
    "#ligand_url = f\"https://raw.githubusercontent.com/MolSSI-Education/iqb-2025/refs/heads/main/data/{ideal_ligand_filename}\"\n",
    "ligand_request = requests.get(ligand_url)\n",
    "ligand_request.raise_for_status() # Check for errors\n",
    "\n",
    "ideal_filepath = f\"{ligand_directory}/{ideal_ligand_filename}\"\n",
    "\n",
    "with open(ideal_filepath, \"w\") as f:\n",
    "    f.write(ligand_request.text)\n",
    "print(f\"Saved ligand to {ideal_filepath}\")"
   ]
  },
  {
   "cell_type": "code",
   "execution_count": 20,
   "id": "62d08a37-3338-4eed-9e67-3248bbbab727",
   "metadata": {},
   "outputs": [
    {
     "data": {
      "text/html": [
       "\n",
       "      <div style=\"height:400px; overflow:auto;\">\n",
       "          <pre>TJ5\n",
       "  CCTOOLS-0919241034\n",
       "\n",
       " 40 42  0  0  1  0  0  0  0  0999 V2000\n",
       "   -0.6820    1.2470   -0.1930 C   0  0  0  0  0\n",
       "    3.0660    1.4210   -0.1810 C   0  0  0  0  0\n",
       "    2.3940   -0.8900    0.0430 C   0  0  0  0  0\n",
       "    4.8230   -0.3360    0.0100 C   0  0  0  0  0\n",
       "    7.4830   -1.1000    0.1100 C   0  0  0  0  0\n",
       "    7.1550    0.2370   -0.0250 C   0  0  0  0  0\n",
       "    5.8310    0.6230   -0.0760 C   0  0  0  0  0\n",
       "   -3.9520   -0.2850   -0.7840 C   0  0  0  0  0\n",
       "   -3.0250    0.7910   -0.1590 C   0  0  0  0  0\n",
       "   -3.6030    0.9650    1.2620 C   0  0  0  0  0\n",
       "   -5.3210    0.0800   -0.1570 C   0  0  0  0  0\n",
       "   -6.2270   -1.1240   -0.1390 C   0  0  0  0  0\n",
       "    0.7360    0.8390   -0.1390 C   0  0  0  0  0\n",
       "    1.7450    1.8020   -0.2320 C   0  0  0  0  0\n",
       "    3.3990    0.0730   -0.0430 C   0  0  0  0  0\n",
       "    1.0710   -0.5110   -0.0070 C   0  0  0  0  0\n",
       "    5.1600   -1.6830    0.1420 C   0  0  0  0  0\n",
       "    6.4870   -2.0580    0.1910 C   0  0  0  0  0\n",
       "   -5.0030    0.5050    1.2230 N   0  0  0  0  0\n",
       "   -6.8840   -1.4860   -1.2520 O   0  0  0  0  0\n",
       "   -6.3630   -1.7630    0.8770 O   0  0  0  0  0\n",
       "   -1.6530    0.3170   -0.1040 O   0  0  0  0  0\n",
       "   -0.9720    2.4200   -0.3130 O   0  0  0  0  0\n",
       "    3.8460    2.1650   -0.2520 H   0  0  0  0  0\n",
       "    2.6530   -1.9330    0.1450 H   0  0  0  0  0\n",
       "    8.5200   -1.3990    0.1490 H   0  0  0  0  0\n",
       "    7.9360    0.9800   -0.0880 H   0  0  0  0  0\n",
       "    5.5760    1.6680   -0.1820 H   0  0  0  0  0\n",
       "   -3.9820   -0.1910   -1.8690 H   0  0  0  0  0\n",
       "   -3.6410   -1.2870   -0.4890 H   0  0  0  0  0\n",
       "   -3.0870    1.7250   -0.7170 H   0  0  0  0  0\n",
       "   -3.0340    0.3620    1.9700 H   0  0  0  0  0\n",
       "   -3.5620    2.0150    1.5530 H   0  0  0  0  0\n",
       "   -5.7850    0.8970   -0.7080 H   0  0  0  0  0\n",
       "    1.4870    2.8450   -0.3420 H   0  0  0  0  0\n",
       "    0.2930   -1.2580    0.0550 H   0  0  0  0  0\n",
       "    4.3840   -2.4310    0.2050 H   0  0  0  0  0\n",
       "    6.7490   -3.1000    0.2960 H   0  0  0  0  0\n",
       "   -5.6310    1.2320    1.5310 H   0  0  0  0  0\n",
       "   -7.4530   -2.2660   -1.1920 H   0  0  0  0  0\n",
       "  1 22  1  0  0  0\n",
       "  1 23  2  0  0  0\n",
       "  2 14  2  0  0  0\n",
       "  2 24  1  0  0  0\n",
       "  3 16  1  0  0  0\n",
       "  3 25  1  0  0  0\n",
       "  4 15  1  0  0  0\n",
       "  5  6  2  0  0  0\n",
       "  5 18  1  0  0  0\n",
       "  5 26  1  0  0  0\n",
       "  6  7  1  0  0  0\n",
       "  6 27  1  0  0  0\n",
       "  7  4  2  0  0  0\n",
       "  7 28  1  0  0  0\n",
       "  8  9  1  0  0  0\n",
       "  8 29  1  0  0  0\n",
       "  8 30  1  0  0  0\n",
       "  9 31  1  0  0  0\n",
       " 10  9  1  0  0  0\n",
       " 10 32  1  0  0  0\n",
       " 10 33  1  0  0  0\n",
       " 11  8  1  0  0  0\n",
       " 11 19  1  0  0  0\n",
       " 11 34  1  0  0  0\n",
       " 12 11  1  0  0  0\n",
       " 13  1  1  0  0  0\n",
       " 14 13  1  0  0  0\n",
       " 14 35  1  0  0  0\n",
       " 15  3  2  0  0  0\n",
       " 15  2  1  0  0  0\n",
       " 16 13  2  0  0  0\n",
       " 16 36  1  0  0  0\n",
       " 17  4  1  0  0  0\n",
       " 17 37  1  0  0  0\n",
       " 18 17  2  0  0  0\n",
       " 18 38  1  0  0  0\n",
       " 19 10  1  0  0  0\n",
       " 19 39  1  0  0  0\n",
       " 20 12  1  0  0  0\n",
       " 20 40  1  0  0  0\n",
       " 21 12  2  0  0  0\n",
       " 22  9  1  0  0  0\n",
       "M  END\n",
       "$$$$\n",
       "</pre>\n",
       "      </div>\n",
       "      "
      ],
      "text/plain": [
       "<IPython.core.display.HTML object>"
      ]
     },
     "metadata": {},
     "output_type": "display_data"
    }
   ],
   "source": [
    "## Building Atomistic Ligand Model ##\n",
    "\n",
    "# Display raw PDB file\n",
    "from IPython.display import display, HTML\n",
    "\n",
    "def render_text(text_blob):\n",
    "  # Helper function for displaying text in Jupyter Notebooks in a scrollable object\n",
    "  html = f\"\"\"\n",
    "      <div style=\"height:400px; overflow:auto;\">\n",
    "          <pre>{text_blob}</pre>\n",
    "      </div>\n",
    "      \"\"\"\n",
    "  display(HTML(html))\n",
    "\n",
    "render_text(ligand_request.text)"
   ]
  },
  {
   "cell_type": "code",
   "execution_count": 21,
   "id": "547ff2ac-e8f9-423a-9ed3-6772d93320f7",
   "metadata": {},
   "outputs": [],
   "source": [
    "# Split the ligand out into its own PDB file from the experimental one\n",
    "\n",
    "# Use only Chain A since this is a dimer and our target site for docking\n",
    "single_pose_ligand = ligand.select_atoms(\"segid A\")\n",
    "single_pose_ligand.write(f\"{ligand_directory}/{ligand_id}_fromPDB.pdb\")\n",
    "\n",
    "# NOTE: Before executing the next cell, OPEN the {ligand_id}_fromPDB.pdb file you just created in PyMOL and DELETE all irrelevant ligands and SAVE as a new PDB file as _fromPDB_clean.pdb!"
   ]
  },
  {
   "cell_type": "code",
   "execution_count": 22,
   "id": "28376ef5-fc35-4c5d-8731-f081076a2620",
   "metadata": {},
   "outputs": [
    {
     "name": "stderr",
     "output_type": "stream",
     "text": [
      "[10:42:27] Warning: molecule is tagged as 2D, but at least one Z coordinate is not zero. Marking the mol as 3D.\n",
      "[10:42:27] WARNING: More than one matching pattern found - picking one\n",
      "\n"
     ]
    }
   ],
   "source": [
    "# ATTENTION: Before running this cell, read the above NOTE!!!\n",
    "\n",
    "from rdkit import Chem\n",
    "from rdkit.Chem import AllChem\n",
    "\n",
    "# Load and remove the hydrogens that we can't map anyways yet.\n",
    "ideal_mol = Chem.MolFromMolFile(f\"{ligand_directory}/{ligand_id}_ideal.sdf\", removeHs=True)\n",
    "pose_mol = Chem.MolFromPDBFile(f\"{ligand_directory}/{ligand_id}_fromPDB.pdb\", removeHs=True)\n",
    "#pose_mol = Chem.MolFromPDBFile(f\"{ligand_directory}/{ligand_id}_fromPDB_clean.pdb\", removeHs=True) # corrected ligand structure\n",
    "\n",
    "# Assign bond orders from the template to the pose molecule\n",
    "corrected_pose = AllChem.AssignBondOrdersFromTemplate(ideal_mol, pose_mol)\n",
    "\n",
    "# Add hydrogens back to the corrected pose\n",
    "corrected_pose_with_H = Chem.AddHs(corrected_pose, addCoords=True)\n",
    "\n",
    "# Sanity to check to make sure the molecule is right (check smiles of both)\n",
    "#assert Chem.MolToSmiles(corrected_pose) == Chem.MolToSmiles(ideal_mol)\n",
    "\n",
    "# Save the corrected pose to an SDF file\n",
    "ligand_corrected_pose_file = f\"{ligand_directory}/{ligand_id}_corrected_pose.sdf\"\n",
    "writer = Chem.SDWriter(ligand_corrected_pose_file)\n",
    "writer.write(corrected_pose_with_H)\n",
    "writer.close()"
   ]
  },
  {
   "cell_type": "code",
   "execution_count": 23,
   "id": "1695ca62-0df1-403f-8a01-121e3ed1f5ac",
   "metadata": {},
   "outputs": [
    {
     "name": "stdout",
     "output_type": "stream",
     "text": [
      "Corrected pose SMILES: O=C(O[C@@H]1CN[C@H](C(=O)O)C1)c1ccc(-c2ccccc2)cc1\n",
      "Ideal mol SMILES: O=C(O[C@@H]1CN[C@H](C(=O)O)C1)c1ccc(-c2ccccc2)cc1\n"
     ]
    },
    {
     "data": {
      "text/plain": [
       "<AtomGroup with 6720 atoms>"
      ]
     },
     "execution_count": 23,
     "metadata": {},
     "output_type": "execute_result"
    }
   ],
   "source": [
    "print(\"Corrected pose SMILES:\", Chem.MolToSmiles(corrected_pose))\n",
    "print(\"Ideal mol SMILES:\", Chem.MolToSmiles(ideal_mol))\n",
    "\n",
    "u.select_atoms(\"segid A\")"
   ]
  },
  {
   "cell_type": "markdown",
   "id": "dfad7ec1-f5bb-4383-846e-56eed871b93a",
   "metadata": {},
   "source": [
    "### Partial Charge for the Ligand"
   ]
  },
  {
   "cell_type": "code",
   "execution_count": 24,
   "id": "4c06b237-83e0-48e3-9129-b596063c7cf0",
   "metadata": {},
   "outputs": [
    {
     "data": {
      "text/plain": [
       "0"
      ]
     },
     "execution_count": 24,
     "metadata": {},
     "output_type": "execute_result"
    }
   ],
   "source": [
    "# Create our PDBQT to keep our hydrogens\n",
    "ligand_simple_pdbqt_filename = f\"{ligand_directory}/{ligand_id}_obabel.pdbqt\"\n",
    "os.system(f\"obabel {ligand_corrected_pose_file} -O {ligand_simple_pdbqt_filename} -xh\")"
   ]
  },
  {
   "cell_type": "code",
   "execution_count": 25,
   "id": "44aea5aa-9356-487a-97cd-f0c30cbad12e",
   "metadata": {},
   "outputs": [
    {
     "data": {
      "image/png": "[encoded data removed]",
      "text/plain": [
       "<rdkit.Chem.rdchem.Mol at 0x2b779a5b7d0>"
      ]
     },
     "execution_count": 25,
     "metadata": {},
     "output_type": "execute_result"
    }
   ],
   "source": [
    "# Check our molecule from RDKit. Doesn't have rotation, but its neat to see in a Jupyer Notebook for just invoking it\n",
    "corrected_pose_with_H"
   ]
  },
  {
   "cell_type": "code",
   "execution_count": null,
   "id": "173c6584-1ab5-47ce-b130-5f44b9ddbc48",
   "metadata": {},
   "outputs": [],
   "source": [
    "## Creating tautomers\n",
    "#from rdkit.Chem.MolStandardize import rdMolStandardize\n",
    "# Initialize enumerator\n",
    "#tautomer_enumerator = rdMolStandardize.TautomerEnumerator()\n",
    "# Provide RDKit Mol object to generate.\n",
    "# We already made this, but you may start from a SMILE string or other source\n",
    "# Remember, use the structure with implicit hydrogens!\n",
    "#tautomers = tautomer_enumerator.Enumerate(corrected_pose)\n",
    "# Take the TautomerEnumerationResults object and iterate over to get a list of structures\n",
    "#tautomers_list = [t for t in tautomers]\n",
    "\n",
    "'''\n",
    "Note! This may generate duplicate structures,\n",
    "You may want to cast these Mol objects into SMILES strings, de-duplicate,\n",
    "then rebuild the Mol objects to map their coordinates back onto the reference structure\n",
    "'''\n",
    "\n",
    "# Cast to a set to make unique, then back to a list (as some tautomers can be enumerated again for some structures)\n",
    "#smiles_set_tautomers = set(Chem.MolToSmiles(t) for t in tautomers_list)\n",
    "#tautomer_list_unique = list(smiles_set_tautomers)\n",
    "# We know the ligand structure does have unique tautomers, this is just a sanity check\n",
    "#assert len(tautomers_list) == len(tautomer_list_unique)"
   ]
  },
  {
   "cell_type": "code",
   "execution_count": null,
   "id": "8c3446c5-a219-4d0a-ac95-79473cd6b4b5",
   "metadata": {},
   "outputs": [],
   "source": [
    "#len(tautomers)"
   ]
  },
  {
   "cell_type": "code",
   "execution_count": null,
   "id": "a675d0a6-6129-4e65-a862-998d614c9986",
   "metadata": {},
   "outputs": [],
   "source": [
    "#ligand_tautomers = f\"{ligand_directory}/{ligand_id}_tautomers.sdf\"\n",
    "#writer = Chem.SDWriter(ligand_tautomers)\n",
    "#for t in tautomers_list:\n",
    "#  writer.write(t)\n",
    "#writer.close()"
   ]
  },
  {
   "cell_type": "code",
   "execution_count": null,
   "id": "f7a1c812-8b24-42c3-aafe-15855e707c5e",
   "metadata": {},
   "outputs": [],
   "source": [
    "#for t in tautomer_list_unique:\n",
    "#  print(t)"
   ]
  },
  {
   "cell_type": "code",
   "execution_count": null,
   "id": "9642627d-8d69-4bf5-a19e-6cef04cd4355",
   "metadata": {},
   "outputs": [],
   "source": [
    "#from rdkit.Chem import Draw\n",
    "#Draw.MolsToGridImage([Chem.MolFromSmiles(t) for t in tautomer_list_unique])"
   ]
  },
  {
   "cell_type": "code",
   "execution_count": 26,
   "id": "999b17f9-d412-4f4e-a00e-425ac7f97d18",
   "metadata": {},
   "outputs": [
    {
     "name": "stdout",
     "output_type": "stream",
     "text": [
      "ligand_structures/TJ5_corrected_pose.sdf\n",
      "ligand_structures/TJ5.pdbqt\n"
     ]
    }
   ],
   "source": [
    "print(f\"{ligand_directory}/{ligand_id}_corrected_pose.sdf\")\n",
    "print(f\"{ligand_directory}/{ligand_id}.pdbqt\")"
   ]
  },
  {
   "cell_type": "code",
   "execution_count": 27,
   "id": "66b3c1f4-df7d-4d2c-9569-226db22cf09f",
   "metadata": {},
   "outputs": [],
   "source": [
    "from rdkit import Chem\n",
    "from scrubber import Scrub"
   ]
  },
  {
   "cell_type": "code",
   "execution_count": 28,
   "id": "9e128b1f-cdb1-4d75-ac2d-e1573acdaf32",
   "metadata": {},
   "outputs": [
    {
     "name": "stdout",
     "output_type": "stream",
     "text": [
      "Scrub completed.\n",
      "Summary of what happened:\n",
      "Input molecules supplied: 1\n",
      "mols processed: 1, skipped by rdkit: 0, failed: 0\n",
      "nr isomers (tautomers and acid/base conjugates): 1 (avg. 1.000 per mol)\n",
      "nr conformers:  1 (avg. 1.000 per isomer, 1.000 per mol)\n"
     ]
    }
   ],
   "source": [
    "!scrub.py ligand_structures/TJ5_corrected_pose.sdf -o ligand_structures/TJ5.sdf\n",
    "#!scrub.py ligand_structures/ADP_corrected_pose.sdf -o ligand_structures/ADP.sdf"
   ]
  },
  {
   "cell_type": "code",
   "execution_count": 29,
   "id": "b355a88a-ca11-4818-83fc-c27aa61ba815",
   "metadata": {},
   "outputs": [
    {
     "data": {
      "text/plain": [
       "0"
      ]
     },
     "execution_count": 29,
     "metadata": {},
     "output_type": "execute_result"
    }
   ],
   "source": [
    "# Create our PDBQT to keep our hydrogens\n",
    "ligand_pdbqt_filename = f\"{ligand_directory}/{ligand_id}.pdbqt\"\n",
    "os.system(f\"obabel {ligand_corrected_pose_file} -O {ligand_pdbqt_filename} -xh\")"
   ]
  },
  {
   "cell_type": "code",
   "execution_count": null,
   "id": "9d413647-6526-4717-8e14-8e3beff375c7",
   "metadata": {},
   "outputs": [],
   "source": [
    "# Voila! The ligand is ready for docking!"
   ]
  },
  {
   "cell_type": "markdown",
   "id": "0a4c8e26-9b8b-41d1-94ba-5087e55dbdf5",
   "metadata": {},
   "source": [
    "## Preparing multiple ligands from SMILES strings"
   ]
  },
  {
   "cell_type": "code",
   "execution_count": 34,
   "id": "89fb5170-595d-4350-858c-8ed3d29c127f",
   "metadata": {},
   "outputs": [
    {
     "name": "stdout",
     "output_type": "stream",
     "text": [
      "O=C(O[C@@H]1C[NH2+][C@H](C(=O)[O-])C1)c1ccc(-c2ccccc2)cc1\n",
      "Cc1cccc(COc2ccccc2CN(CC[C@@H](N)C(=O)O)Cc2ccccc2OCc2cccc(C)c2)c1\n",
      "Cc1cccc(COc2cccc3c2CN(CC[C@@H](N)C(=O)O)Cc2c(OCc4cccc(C)c4)cccc2-3)c1\n",
      "COc1cccc2c1CN(CC[C@@H](N)C(=O)O)Cc1c(OC)cccc1-2\n"
     ]
    },
    {
     "name": "stderr",
     "output_type": "stream",
     "text": [
      "[13:20:28] WARNING: no name column found on line 1\n",
      "[13:20:28] WARNING: no name column found on line 2\n",
      "[13:20:28] WARNING: no name column found on line 3\n",
      "[13:20:28] WARNING: no name column found on line 4\n"
     ]
    }
   ],
   "source": [
    "# Load the SMILES strings into RDKit and write back out an SDF file.\n",
    "\n",
    "# Default delimiter is tab (\\t), so we need to specify \",\"\n",
    "smiles_supplier = Chem.SmilesMolSupplier(\"test2.csv\", delimiter=\",\")\n",
    "mols = []  # Could do this in list comprehension, adding a sanity check\n",
    "for mol in smiles_supplier:\n",
    "  print(Chem.MolToSmiles(mol))  # Sanity check that we got the smiles strings and not metadata\n",
    "  mols.append(mol)\n",
    "\n",
    "# Write out our molecules\n",
    "ligands_to_dock_dirty = f\"{ligand_directory}/ligands_to_dock_dirty.sdf\"\n",
    "writer = Chem.SDWriter(ligands_to_dock_dirty)\n",
    "for m in mols:\n",
    "  writer.write(m)\n",
    "writer.close()"
   ]
  },
  {
   "cell_type": "code",
   "execution_count": 35,
   "id": "8f08fb6d-fc7e-4951-80c9-0b1dac257b89",
   "metadata": {},
   "outputs": [
    {
     "name": "stdout",
     "output_type": "stream",
     "text": [
      "Scrub completed.\n",
      "Summary of what happened:\n",
      "Input molecules supplied: 4\n",
      "mols processed: 4, skipped by rdkit: 0, failed: 0\n",
      "nr isomers (tautomers and acid/base conjugates): 4 (avg. 1.000 per mol)\n",
      "nr conformers:  4 (avg. 1.000 per isomer, 1.000 per mol)\n"
     ]
    }
   ],
   "source": [
    "!scrub.py ligand_structures/ligands_to_dock_dirty.sdf -o ligand_structures/ligands_to_dock.sdf"
   ]
  },
  {
   "cell_type": "code",
   "execution_count": 36,
   "id": "ffd94be9-528e-46f2-9842-6cb0ee16fdb5",
   "metadata": {},
   "outputs": [
    {
     "data": {
      "image/png": "[encoded data removed]",
      "text/html": [
       "<table><tr><td colspan=\"2\" style=\"text-align: center;\"><image src=\"data:image/png;base64,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\"></td></tr>\n",
       "<tr><th style=\"text-align: right\">ScrubInfo</th><td style=\"text-align: left\">{&quot;isomerGroup&quot;: 3, &quot;isomerId&quot;: 0, &quot;confId&quot;: 0, &quot;nr_conformers:&quot;: 1, &quot;nr_isomers:&quot;: 1}</td></tr></table>"
      ],
      "text/plain": [
       "<rdkit.Chem.rdchem.Mol at 0x2b779bb3a00>"
      ]
     },
     "execution_count": 36,
     "metadata": {},
     "output_type": "execute_result"
    }
   ],
   "source": [
    "# Sanity check we got a structure with hydrogens\n",
    "# RDKit automatically removes hydrogens by default (needed for most of the kit to work)\n",
    "# But we're explicitly looking for them here, we can just load them and check\n",
    "supplier = Chem.SDMolSupplier(f\"{ligand_directory}/ligands_to_dock.sdf\", removeHs=False)\n",
    "reloaded_ligands = [mol for mol in supplier]\n",
    "# The last structure will be the same as the last in list comprehension above\n",
    "reloaded_ligands[-1]"
   ]
  },
  {
   "cell_type": "markdown",
   "id": "226d57b0-6707-4675-9283-e70266c0c1f7",
   "metadata": {},
   "source": [
    "# Visualization tool py3Dmol"
   ]
  },
  {
   "cell_type": "code",
   "execution_count": 33,
   "id": "e8b6e3f7-97c8-490e-91c0-bb6e2e48f8fc",
   "metadata": {},
   "outputs": [
    {
     "data": {
      "application/3dmoljs_load.v0": "<div id=\"3dmolviewer_17599129850772645\"  style=\"position: relative; width: 640px; height: 480px;\">\n        <p id=\"3dmolwarning_17599129850772645\" style=\"background-color:#ffcccc;color:black\">3Dmol.js failed to load for some reason.  Please check your browser console for error messages.<br></p>\n        </div>\n<script>\n\nvar loadScriptAsync = function(uri){\n  return new Promise((resolve, reject) => {\n    //this is to ignore the existence of requirejs amd\n    var savedexports, savedmodule;\n    if (typeof exports !== 'undefined') savedexports = exports;\n    else exports = {}\n    if (typeof module !== 'undefined') savedmodule = module;\n    else module = {}\n\n    var tag = document.createElement('script');\n    tag.src = uri;\n    tag.async = true;\n    tag.onload = () => {\n        exports = savedexports;\n        module = savedmodule;\n        resolve();\n    };\n  var firstScriptTag = document.getElementsByTagName('script')[0];\n  firstScriptTag.parentNode.insertBefore(tag, firstScriptTag);\n});\n};\n\nif(typeof $3Dmolpromise === 'undefined') {\n$3Dmolpromise = null;\n  $3Dmolpromise = loadScriptAsync('https://cdn.jsdelivr.net/npm/3dmol@2.5.2/build/3Dmol-min.js');\n}\n\nvar viewer_17599129850772645 = null;\nvar warn = document.getElementById(\"3dmolwarning_17599129850772645\");\nif(warn) {\n    warn.parentNode.removeChild(warn);\n}\n$3Dmolpromise.then(function() {\nviewer_17599129850772645 = $3Dmol.createViewer(document.getElementById(\"3dmolviewer_17599129850772645\"),{backgroundColor:\"white\"});\nviewer_17599129850772645.zoomTo();\n\tviewer_17599129850772645.addModel(\"HEADER    \\nTITLE     MDANALYSIS FRAME 0: Created by PDBWriter\\nCRYST1    1.000    1.000    1.000  90.00  90.00  90.00 P 1           1\\nREMARK     285 UNITARY VALUES FOR THE UNIT CELL AUTOMATICALLY SET\\nREMARK     285 BY MDANALYSIS PDBWRITER BECAUSE UNIT CELL INFORMATION\\nREMARK     285 WAS MISSING.\\nREMARK     285 PROTEIN DATA BANK CONVENTIONS REQUIRE THAT\\nREMARK     285 CRYST1 RECORD IS INCLUDED, BUT THE VALUES ON\\nREMARK     285 THIS RECORD ARE MEANINGLESS.\\nHETATM    1  C10 TJ5 A 601     122.128 104.993 107.336  1.00 29.78      A    C  \\nHETATM    2  C13 TJ5 A 601     120.296 106.168 104.097  1.00 29.78      A    C  \\nHETATM    3  C15 TJ5 A 601     120.797 103.764 103.909  1.00 29.78      A    C  \\nHETATM    4  C17 TJ5 A 601     119.540 105.097 101.968  1.00 29.78      A    C  \\nHETATM    5  C20 TJ5 A 601     118.307 105.134  99.466  1.00 29.78      A    C  \\nHETATM    6  C21 TJ5 A 601     119.689 105.230  99.565  1.00 29.78      A    C  \\nHETATM    7  C22 TJ5 A 601     120.297 105.215 100.816  1.00 29.78      A    C  \\nHETATM    8  C01 TJ5 A 601     125.401 106.476 107.818  1.00 29.78      A    C  \\nHETATM    9  C02 TJ5 A 601     124.037 106.118 108.269  1.00 29.78      A    C  \\nHETATM   10  C03 TJ5 A 601     123.151 107.355 108.162  1.00 29.78      A    C  \\nHETATM   11  C05 TJ5 A 601     125.329 107.939 107.473  1.00 29.78      A    C  \\nHETATM   12  C06 TJ5 A 601     125.309 108.122 105.963  1.00 29.78      A    C  \\nHETATM   13  C11 TJ5 A 601     121.455 105.036 105.945  1.00 29.78      A    C  \\nHETATM   14  C12 TJ5 A 601     120.957 106.164 105.483  1.00 29.78      A    C  \\nHETATM   15  C14 TJ5 A 601     120.220 105.069 103.368  1.00 29.78      A    C  \\nHETATM   16  C16 TJ5 A 601     121.369 103.759 105.102  1.00 29.78      A    C  \\nHETATM   17  C18 TJ5 A 601     118.156 104.988 101.872  1.00 29.78      A    C  \\nHETATM   18  C19 TJ5 A 601     117.540 105.017 100.622  1.00 29.78      A    C  \\nHETATM   19  N04 TJ5 A 601     124.085 108.480 108.014  1.00 29.78      A    N  \\nHETATM   20  O07 TJ5 A 601     124.229 108.409 105.385  1.00 29.78      A    O  \\nHETATM   21  O08 TJ5 A 601     126.369 107.992 105.306  1.00 29.78      A    O  \\nHETATM   22  O09 TJ5 A 601     123.537 105.084 107.425  1.00 29.78      A    O  \\nHETATM   23  O23 TJ5 A 601     121.467 104.869 108.307  1.00 29.78      A    O  \\nEND\\n\");\n\tviewer_17599129850772645.addModel(\"\\n     RDKit          3D\\n\\n 40 42  0  0  0  0  0  0  0  0999 V2000\\n  122.1280  104.9930  107.3360 C   0  0  0  0  0  0  0  0  0  0  0  0\\n  120.2960  106.1680  104.0970 C   0  0  0  0  0  0  0  0  0  0  0  0\\n  120.7970  103.7640  103.9090 C   0  0  0  0  0  0  0  0  0  0  0  0\\n  119.5400  105.0970  101.9680 C   0  0  0  0  0  0  0  0  0  0  0  0\\n  118.3070  105.1340   99.4660 C   0  0  0  0  0  0  0  0  0  0  0  0\\n  119.6890  105.2300   99.5650 C   0  0  0  0  0  0  0  0  0  0  0  0\\n  120.2970  105.2150  100.8160 C   0  0  0  0  0  0  0  0  0  0  0  0\\n  125.4010  106.4760  107.8180 C   0  0  0  0  0  0  0  0  0  0  0  0\\n  124.0370  106.1180  108.2690 C   0  0  1  0  0  0  0  0  0  0  0  0\\n  123.1510  107.3550  108.1620 C   0  0  0  0  0  0  0  0  0  0  0  0\\n  125.3290  107.9390  107.4730 C   0  0  1  0  0  0  0  0  0  0  0  0\\n  125.3090  108.1220  105.9630 C   0  0  0  0  0  0  0  0  0  0  0  0\\n  121.4550  105.0360  105.9450 C   0  0  0  0  0  0  0  0  0  0  0  0\\n  120.9570  106.1640  105.4830 C   0  0  0  0  0  0  0  0  0  0  0  0\\n  120.2200  105.0690  103.3680 C   0  0  0  0  0  0  0  0  0  0  0  0\\n  121.3690  103.7590  105.1020 C   0  0  0  0  0  0  0  0  0  0  0  0\\n  118.1560  104.9880  101.8720 C   0  0  0  0  0  0  0  0  0  0  0  0\\n  117.5400  105.0170  100.6220 C   0  0  0  0  0  0  0  0  0  0  0  0\\n  124.0850  108.4800  108.0140 N   0  0  0  0  0  0  0  0  0  0  0  0\\n  124.2290  108.4090  105.3850 O   0  0  0  0  0  0  0  0  0  0  0  0\\n  126.3690  107.9920  105.3060 O   0  0  0  0  0  0  0  0  0  0  0  0\\n  123.5370  105.0840  107.4250 O   0  0  0  0  0  0  0  0  0  0  0  0\\n  121.4670  104.8690  108.3070 O   0  0  0  0  0  0  0  0  0  0  0  0\\n  119.8770  107.1056  103.7029 H   0  0  0  0  0  0  0  0  0  0  0  0\\n  120.7382  102.8400  103.3151 H   0  0  0  0  0  0  0  0  0  0  0  0\\n  117.8210  105.1503   98.4793 H   0  0  0  0  0  0  0  0  0  0  0  0\\n  120.3017  105.3177   98.6557 H   0  0  0  0  0  0  0  0  0  0  0  0\\n  121.3914  105.2978  100.8901 H   0  0  0  0  0  0  0  0  0  0  0  0\\n  126.1311  106.3046  108.6227 H   0  0  0  0  0  0  0  0  0  0  0  0\\n  125.7251  105.8663  106.9617 H   0  0  0  0  0  0  0  0  0  0  0  0\\n  124.0482  105.7653  109.3109 H   0  0  0  0  0  0  0  0  0  0  0  0\\n  122.4905  107.2829  107.2853 H   0  0  0  0  0  0  0  0  0  0  0  0\\n  122.4980  107.4727  109.0393 H   0  0  0  0  0  0  0  0  0  0  0  0\\n  126.2045  108.4549  107.8941 H   0  0  0  0  0  0  0  0  0  0  0  0\\n  121.0135  107.0867  106.0791 H   0  0  0  0  0  0  0  0  0  0  0  0\\n  121.7901  102.8221  105.4956 H   0  0  0  0  0  0  0  0  0  0  0  0\\n  117.5483  104.8790  102.7824 H   0  0  0  0  0  0  0  0  0  0  0  0\\n  116.4447  104.9472  100.5487 H   0  0  0  0  0  0  0  0  0  0  0  0\\n  124.2591  108.9172  108.9302 H   0  0  0  0  0  0  0  0  0  0  0  0\\n  124.2101  108.5293  104.4025 H   0  0  0  0  0  0  0  0  0  0  0  0\\n  6  5  2  0\\n  7  6  1  0\\n  7  4  2  0\\n  9  8  1  0\\n 10  9  1  0\\n 11  8  1  0\\n 12 11  1  0\\n 13  1  1  0\\n 14 13  1  0\\n 14  2  2  0\\n 15  4  1  0\\n 15  3  2  0\\n 15  2  1  0\\n 16 13  2  0\\n 16  3  1  0\\n 17  4  1  0\\n 18 17  2  0\\n 18  5  1  0\\n 19 11  1  0\\n 19 10  1  0\\n 20 12  1  0\\n 21 12  2  0\\n 22  9  1  0\\n 22  1  1  0\\n 23  1  2  0\\n  2 24  1  0\\n  3 25  1  0\\n  5 26  1  0\\n  6 27  1  0\\n  7 28  1  0\\n  8 29  1  0\\n  8 30  1  0\\n  9 31  1  1\\n 10 32  1  0\\n 10 33  1  0\\n 11 34  1  1\\n 14 35  1  0\\n 16 36  1  0\\n 17 37  1  0\\n 18 38  1  0\\n 19 39  1  0\\n 20 40  1  0\\nM  END\\n$$$$\\n\");\n\tviewer_17599129850772645.setStyle({\"model\": 0},{\"stick\": {\"color\": \"#0e9674\"}});\n\tviewer_17599129850772645.setStyle({\"model\": 1},{\"stick\": {\"color\": \"#c46225\"}});\n\tviewer_17599129850772645.zoomTo({\"model\": 0});\nviewer_17599129850772645.render();\n});\n</script>",
      "text/html": [
       "<div id=\"3dmolviewer_17599129850772645\"  style=\"position: relative; width: 640px; height: 480px;\">\n",
       "        <p id=\"3dmolwarning_17599129850772645\" style=\"background-color:#ffcccc;color:black\">3Dmol.js failed to load for some reason.  Please check your browser console for error messages.<br></p>\n",
       "        </div>\n",
       "<script>\n",
       "\n",
       "var loadScriptAsync = function(uri){\n",
       "  return new Promise((resolve, reject) => {\n",
       "    //this is to ignore the existence of requirejs amd\n",
       "    var savedexports, savedmodule;\n",
       "    if (typeof exports !== 'undefined') savedexports = exports;\n",
       "    else exports = {}\n",
       "    if (typeof module !== 'undefined') savedmodule = module;\n",
       "    else module = {}\n",
       "\n",
       "    var tag = document.createElement('script');\n",
       "    tag.src = uri;\n",
       "    tag.async = true;\n",
       "    tag.onload = () => {\n",
       "        exports = savedexports;\n",
       "        module = savedmodule;\n",
       "        resolve();\n",
       "    };\n",
       "  var firstScriptTag = document.getElementsByTagName('script')[0];\n",
       "  firstScriptTag.parentNode.insertBefore(tag, firstScriptTag);\n",
       "});\n",
       "};\n",
       "\n",
       "if(typeof $3Dmolpromise === 'undefined') {\n",
       "$3Dmolpromise = null;\n",
       "  $3Dmolpromise = loadScriptAsync('https://cdn.jsdelivr.net/npm/3dmol@2.5.2/build/3Dmol-min.js');\n",
       "}\n",
       "\n",
       "var viewer_17599129850772645 = null;\n",
       "var warn = document.getElementById(\"3dmolwarning_17599129850772645\");\n",
       "if(warn) {\n",
       "    warn.parentNode.removeChild(warn);\n",
       "}\n",
       "$3Dmolpromise.then(function() {\n",
       "viewer_17599129850772645 = $3Dmol.createViewer(document.getElementById(\"3dmolviewer_17599129850772645\"),{backgroundColor:\"white\"});\n",
       "viewer_17599129850772645.zoomTo();\n",
       "\tviewer_17599129850772645.addModel(\"HEADER    \\nTITLE     MDANALYSIS FRAME 0: Created by PDBWriter\\nCRYST1    1.000    1.000    1.000  90.00  90.00  90.00 P 1           1\\nREMARK     285 UNITARY VALUES FOR THE UNIT CELL AUTOMATICALLY SET\\nREMARK     285 BY MDANALYSIS PDBWRITER BECAUSE UNIT CELL INFORMATION\\nREMARK     285 WAS MISSING.\\nREMARK     285 PROTEIN DATA BANK CONVENTIONS REQUIRE THAT\\nREMARK     285 CRYST1 RECORD IS INCLUDED, BUT THE VALUES ON\\nREMARK     285 THIS RECORD ARE MEANINGLESS.\\nHETATM    1  C10 TJ5 A 601     122.128 104.993 107.336  1.00 29.78      A    C  \\nHETATM    2  C13 TJ5 A 601     120.296 106.168 104.097  1.00 29.78      A    C  \\nHETATM    3  C15 TJ5 A 601     120.797 103.764 103.909  1.00 29.78      A    C  \\nHETATM    4  C17 TJ5 A 601     119.540 105.097 101.968  1.00 29.78      A    C  \\nHETATM    5  C20 TJ5 A 601     118.307 105.134  99.466  1.00 29.78      A    C  \\nHETATM    6  C21 TJ5 A 601     119.689 105.230  99.565  1.00 29.78      A    C  \\nHETATM    7  C22 TJ5 A 601     120.297 105.215 100.816  1.00 29.78      A    C  \\nHETATM    8  C01 TJ5 A 601     125.401 106.476 107.818  1.00 29.78      A    C  \\nHETATM    9  C02 TJ5 A 601     124.037 106.118 108.269  1.00 29.78      A    C  \\nHETATM   10  C03 TJ5 A 601     123.151 107.355 108.162  1.00 29.78      A    C  \\nHETATM   11  C05 TJ5 A 601     125.329 107.939 107.473  1.00 29.78      A    C  \\nHETATM   12  C06 TJ5 A 601     125.309 108.122 105.963  1.00 29.78      A    C  \\nHETATM   13  C11 TJ5 A 601     121.455 105.036 105.945  1.00 29.78      A    C  \\nHETATM   14  C12 TJ5 A 601     120.957 106.164 105.483  1.00 29.78      A    C  \\nHETATM   15  C14 TJ5 A 601     120.220 105.069 103.368  1.00 29.78      A    C  \\nHETATM   16  C16 TJ5 A 601     121.369 103.759 105.102  1.00 29.78      A    C  \\nHETATM   17  C18 TJ5 A 601     118.156 104.988 101.872  1.00 29.78      A    C  \\nHETATM   18  C19 TJ5 A 601     117.540 105.017 100.622  1.00 29.78      A    C  \\nHETATM   19  N04 TJ5 A 601     124.085 108.480 108.014  1.00 29.78      A    N  \\nHETATM   20  O07 TJ5 A 601     124.229 108.409 105.385  1.00 29.78      A    O  \\nHETATM   21  O08 TJ5 A 601     126.369 107.992 105.306  1.00 29.78      A    O  \\nHETATM   22  O09 TJ5 A 601     123.537 105.084 107.425  1.00 29.78      A    O  \\nHETATM   23  O23 TJ5 A 601     121.467 104.869 108.307  1.00 29.78      A    O  \\nEND\\n\");\n",
       "\tviewer_17599129850772645.addModel(\"\\n     RDKit          3D\\n\\n 40 42  0  0  0  0  0  0  0  0999 V2000\\n  122.1280  104.9930  107.3360 C   0  0  0  0  0  0  0  0  0  0  0  0\\n  120.2960  106.1680  104.0970 C   0  0  0  0  0  0  0  0  0  0  0  0\\n  120.7970  103.7640  103.9090 C   0  0  0  0  0  0  0  0  0  0  0  0\\n  119.5400  105.0970  101.9680 C   0  0  0  0  0  0  0  0  0  0  0  0\\n  118.3070  105.1340   99.4660 C   0  0  0  0  0  0  0  0  0  0  0  0\\n  119.6890  105.2300   99.5650 C   0  0  0  0  0  0  0  0  0  0  0  0\\n  120.2970  105.2150  100.8160 C   0  0  0  0  0  0  0  0  0  0  0  0\\n  125.4010  106.4760  107.8180 C   0  0  0  0  0  0  0  0  0  0  0  0\\n  124.0370  106.1180  108.2690 C   0  0  1  0  0  0  0  0  0  0  0  0\\n  123.1510  107.3550  108.1620 C   0  0  0  0  0  0  0  0  0  0  0  0\\n  125.3290  107.9390  107.4730 C   0  0  1  0  0  0  0  0  0  0  0  0\\n  125.3090  108.1220  105.9630 C   0  0  0  0  0  0  0  0  0  0  0  0\\n  121.4550  105.0360  105.9450 C   0  0  0  0  0  0  0  0  0  0  0  0\\n  120.9570  106.1640  105.4830 C   0  0  0  0  0  0  0  0  0  0  0  0\\n  120.2200  105.0690  103.3680 C   0  0  0  0  0  0  0  0  0  0  0  0\\n  121.3690  103.7590  105.1020 C   0  0  0  0  0  0  0  0  0  0  0  0\\n  118.1560  104.9880  101.8720 C   0  0  0  0  0  0  0  0  0  0  0  0\\n  117.5400  105.0170  100.6220 C   0  0  0  0  0  0  0  0  0  0  0  0\\n  124.0850  108.4800  108.0140 N   0  0  0  0  0  0  0  0  0  0  0  0\\n  124.2290  108.4090  105.3850 O   0  0  0  0  0  0  0  0  0  0  0  0\\n  126.3690  107.9920  105.3060 O   0  0  0  0  0  0  0  0  0  0  0  0\\n  123.5370  105.0840  107.4250 O   0  0  0  0  0  0  0  0  0  0  0  0\\n  121.4670  104.8690  108.3070 O   0  0  0  0  0  0  0  0  0  0  0  0\\n  119.8770  107.1056  103.7029 H   0  0  0  0  0  0  0  0  0  0  0  0\\n  120.7382  102.8400  103.3151 H   0  0  0  0  0  0  0  0  0  0  0  0\\n  117.8210  105.1503   98.4793 H   0  0  0  0  0  0  0  0  0  0  0  0\\n  120.3017  105.3177   98.6557 H   0  0  0  0  0  0  0  0  0  0  0  0\\n  121.3914  105.2978  100.8901 H   0  0  0  0  0  0  0  0  0  0  0  0\\n  126.1311  106.3046  108.6227 H   0  0  0  0  0  0  0  0  0  0  0  0\\n  125.7251  105.8663  106.9617 H   0  0  0  0  0  0  0  0  0  0  0  0\\n  124.0482  105.7653  109.3109 H   0  0  0  0  0  0  0  0  0  0  0  0\\n  122.4905  107.2829  107.2853 H   0  0  0  0  0  0  0  0  0  0  0  0\\n  122.4980  107.4727  109.0393 H   0  0  0  0  0  0  0  0  0  0  0  0\\n  126.2045  108.4549  107.8941 H   0  0  0  0  0  0  0  0  0  0  0  0\\n  121.0135  107.0867  106.0791 H   0  0  0  0  0  0  0  0  0  0  0  0\\n  121.7901  102.8221  105.4956 H   0  0  0  0  0  0  0  0  0  0  0  0\\n  117.5483  104.8790  102.7824 H   0  0  0  0  0  0  0  0  0  0  0  0\\n  116.4447  104.9472  100.5487 H   0  0  0  0  0  0  0  0  0  0  0  0\\n  124.2591  108.9172  108.9302 H   0  0  0  0  0  0  0  0  0  0  0  0\\n  124.2101  108.5293  104.4025 H   0  0  0  0  0  0  0  0  0  0  0  0\\n  6  5  2  0\\n  7  6  1  0\\n  7  4  2  0\\n  9  8  1  0\\n 10  9  1  0\\n 11  8  1  0\\n 12 11  1  0\\n 13  1  1  0\\n 14 13  1  0\\n 14  2  2  0\\n 15  4  1  0\\n 15  3  2  0\\n 15  2  1  0\\n 16 13  2  0\\n 16  3  1  0\\n 17  4  1  0\\n 18 17  2  0\\n 18  5  1  0\\n 19 11  1  0\\n 19 10  1  0\\n 20 12  1  0\\n 21 12  2  0\\n 22  9  1  0\\n 22  1  1  0\\n 23  1  2  0\\n  2 24  1  0\\n  3 25  1  0\\n  5 26  1  0\\n  6 27  1  0\\n  7 28  1  0\\n  8 29  1  0\\n  8 30  1  0\\n  9 31  1  1\\n 10 32  1  0\\n 10 33  1  0\\n 11 34  1  1\\n 14 35  1  0\\n 16 36  1  0\\n 17 37  1  0\\n 18 38  1  0\\n 19 39  1  0\\n 20 40  1  0\\nM  END\\n$$$$\\n\");\n",
       "\tviewer_17599129850772645.setStyle({\"model\": 0},{\"stick\": {\"color\": \"#0e9674\"}});\n",
       "\tviewer_17599129850772645.setStyle({\"model\": 1},{\"stick\": {\"color\": \"#c46225\"}});\n",
       "\tviewer_17599129850772645.zoomTo({\"model\": 0});\n",
       "viewer_17599129850772645.render();\n",
       "});\n",
       "</script>"
      ]
     },
     "metadata": {},
     "output_type": "display_data"
    },
    {
     "data": {
      "text/plain": [
       "<py3Dmol.view at 0x2b779db0800>"
      ]
     },
     "execution_count": 33,
     "metadata": {},
     "output_type": "execute_result"
    }
   ],
   "source": [
    "import py3Dmol\n",
    "\n",
    "# Compare the two ligand models\n",
    "v = py3Dmol.view()\n",
    "v.addModel(open(f\"{ligand_directory}/{ligand_id}_fromPDB.pdb\").read())\n",
    "v.addModel(open(f\"{ligand_corrected_pose_file}\").read())\n",
    "#v.setStyle()\n",
    "v.setStyle({\"model\":0}, {'stick': {'color': '#0e9674'}})\n",
    "v.setStyle({\"model\":1}, {'stick': {'color': '#c46225'}})\n",
    "v.zoomTo({'model':0})"
   ]
  },
  {
   "cell_type": "code",
   "execution_count": null,
   "id": "00c48ebc-2dab-4692-98c7-898e8bce9203",
   "metadata": {},
   "outputs": [],
   "source": [
    "# Voila! The ligands are ready for docking!"
   ]
  }
 ],
 "metadata": {
  "kernelspec": {
   "display_name": "Python 3 (ipykernel)",
   "language": "python",
   "name": "python3"
  },
  "language_info": {
   "codemirror_mode": {
    "name": "ipython",
    "version": 3
   },
   "file_extension": ".py",
   "mimetype": "text/x-python",
   "name": "python",
   "nbconvert_exporter": "python",
   "pygments_lexer": "ipython3",
   "version": "3.12.3"
  }
 },
 "nbformat": 4,
 "nbformat_minor": 5
}
