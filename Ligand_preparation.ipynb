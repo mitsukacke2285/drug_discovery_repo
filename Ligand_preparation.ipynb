{
  "cells": [
    {
      "cell_type": "markdown",
      "metadata": {
        "id": "view-in-github",
        "colab_type": "text"
      },
      "source": [
        "<a href=\"https://colab.research.google.com/github/mitsukacke2285/drug_discovery_repo/blob/main/Ligand_preparation.ipynb\" target=\"_parent\"><img src=\"https://colab.research.google.com/assets/colab-badge.svg\" alt=\"Open In Colab\"/></a>"
      ]
    },
    {
      "cell_type": "markdown",
      "id": "5dc24758-9189-4621-95f8-bfaeeb6f1ecd",
      "metadata": {
        "id": "5dc24758-9189-4621-95f8-bfaeeb6f1ecd"
      },
      "source": [
        "# Ligand preparation"
      ]
    },
    {
      "cell_type": "markdown",
      "id": "5250703e-a66e-4f7a-a6af-80285c1c9147",
      "metadata": {
        "id": "5250703e-a66e-4f7a-a6af-80285c1c9147"
      },
      "source": [
        "# Installation of dependencies\n",
        "\n",
        "Please install the following packages:\n",
        "* `PDBFixer`\n",
        "* `Biopython`\n",
        "* `MDAnalysis`\n",
        "* `RDKit`\n",
        "* `OpenMM` (and `OpenMMForceFields`)\n",
        "* `OpenBabel`\n",
        "* `Scrubber` (package: \"`molscrub`\")\n",
        "* `py3Dmol`"
      ]
    },
    {
      "cell_type": "code",
      "execution_count": null,
      "id": "b1e17718-c6d3-419f-a3a4-18b238f8a8a4",
      "metadata": {
        "colab": {
          "base_uri": "https://localhost:8080/"
        },
        "id": "b1e17718-c6d3-419f-a3a4-18b238f8a8a4",
        "outputId": "9782d38b-9e4c-47dd-9879-e43b78c29e81"
      },
      "outputs": [
        {
          "name": "stdout",
          "output_type": "stream",
          "text": [
            "Requirement already satisfied: rdkit in c:\\users\\pham.congdat\\appdata\\local\\anaconda3\\lib\\site-packages (2025.3.3)\n",
            "Requirement already satisfied: openmm in c:\\users\\pham.congdat\\appdata\\local\\anaconda3\\lib\\site-packages (8.3.1)\n",
            "Requirement already satisfied: mdanalysis in c:\\users\\pham.congdat\\appdata\\local\\anaconda3\\lib\\site-packages (2.9.0)\n",
            "Requirement already satisfied: molscrub in c:\\users\\pham.congdat\\appdata\\local\\anaconda3\\lib\\site-packages (0.1.1)\n",
            "Requirement already satisfied: py3dmol in c:\\users\\pham.congdat\\appdata\\local\\anaconda3\\lib\\site-packages (2.5.2)\n",
            "Requirement already satisfied: biopython in c:\\users\\pham.congdat\\appdata\\local\\anaconda3\\lib\\site-packages (1.85)\n",
            "Requirement already satisfied: numpy in c:\\users\\pham.congdat\\appdata\\local\\anaconda3\\lib\\site-packages (from rdkit) (1.26.4)\n",
            "Requirement already satisfied: Pillow in c:\\users\\pham.congdat\\appdata\\local\\anaconda3\\lib\\site-packages (from rdkit) (10.4.0)\n",
            "Requirement already satisfied: GridDataFormats>=0.4.0 in c:\\users\\pham.congdat\\appdata\\local\\anaconda3\\lib\\site-packages (from mdanalysis) (1.0.2)\n",
            "Requirement already satisfied: mmtf-python>=1.0.0 in c:\\users\\pham.congdat\\appdata\\local\\anaconda3\\lib\\site-packages (from mdanalysis) (1.1.3)\n",
            "Requirement already satisfied: joblib>=0.12 in c:\\users\\pham.congdat\\appdata\\local\\anaconda3\\lib\\site-packages (from mdanalysis) (1.4.2)\n",
            "Requirement already satisfied: scipy>=1.5.0 in c:\\users\\pham.congdat\\appdata\\local\\anaconda3\\lib\\site-packages (from mdanalysis) (1.13.1)\n",
            "Requirement already satisfied: matplotlib>=1.5.1 in c:\\users\\pham.congdat\\appdata\\local\\anaconda3\\lib\\site-packages (from mdanalysis) (3.9.2)\n",
            "Requirement already satisfied: tqdm>=4.43.0 in c:\\users\\pham.congdat\\appdata\\local\\anaconda3\\lib\\site-packages (from mdanalysis) (4.66.5)\n",
            "Requirement already satisfied: threadpoolctl in c:\\users\\pham.congdat\\appdata\\local\\anaconda3\\lib\\site-packages (from mdanalysis) (3.5.0)\n",
            "Requirement already satisfied: packaging in c:\\users\\pham.congdat\\appdata\\local\\anaconda3\\lib\\site-packages (from mdanalysis) (24.1)\n",
            "Requirement already satisfied: filelock in c:\\users\\pham.congdat\\appdata\\local\\anaconda3\\lib\\site-packages (from mdanalysis) (3.13.1)\n",
            "Requirement already satisfied: mda-xdrlib in c:\\users\\pham.congdat\\appdata\\local\\anaconda3\\lib\\site-packages (from mdanalysis) (0.2.0)\n",
            "Requirement already satisfied: mrcfile in c:\\users\\pham.congdat\\appdata\\local\\anaconda3\\lib\\site-packages (from GridDataFormats>=0.4.0->mdanalysis) (1.5.4)\n",
            "Requirement already satisfied: contourpy>=1.0.1 in c:\\users\\pham.congdat\\appdata\\local\\anaconda3\\lib\\site-packages (from matplotlib>=1.5.1->mdanalysis) (1.2.0)\n",
            "Requirement already satisfied: cycler>=0.10 in c:\\users\\pham.congdat\\appdata\\local\\anaconda3\\lib\\site-packages (from matplotlib>=1.5.1->mdanalysis) (0.11.0)\n",
            "Requirement already satisfied: fonttools>=4.22.0 in c:\\users\\pham.congdat\\appdata\\local\\anaconda3\\lib\\site-packages (from matplotlib>=1.5.1->mdanalysis) (4.51.0)\n",
            "Requirement already satisfied: kiwisolver>=1.3.1 in c:\\users\\pham.congdat\\appdata\\local\\anaconda3\\lib\\site-packages (from matplotlib>=1.5.1->mdanalysis) (1.4.4)\n",
            "Requirement already satisfied: pyparsing>=2.3.1 in c:\\users\\pham.congdat\\appdata\\local\\anaconda3\\lib\\site-packages (from matplotlib>=1.5.1->mdanalysis) (3.1.2)\n",
            "Requirement already satisfied: python-dateutil>=2.7 in c:\\users\\pham.congdat\\appdata\\local\\anaconda3\\lib\\site-packages (from matplotlib>=1.5.1->mdanalysis) (2.9.0.post0)\n",
            "Requirement already satisfied: msgpack>=1.0.0 in c:\\users\\pham.congdat\\appdata\\local\\anaconda3\\lib\\site-packages (from mmtf-python>=1.0.0->mdanalysis) (1.0.3)\n",
            "Requirement already satisfied: colorama in c:\\users\\pham.congdat\\appdata\\local\\anaconda3\\lib\\site-packages (from tqdm>=4.43.0->mdanalysis) (0.4.6)\n",
            "Requirement already satisfied: six>=1.5 in c:\\users\\pham.congdat\\appdata\\local\\anaconda3\\lib\\site-packages (from python-dateutil>=2.7->matplotlib>=1.5.1->mdanalysis) (1.16.0)\n",
            "Requirement already satisfied: pdbfixer in c:\\users\\pham.congdat\\appdata\\local\\anaconda3\\lib\\site-packages (1.11.0)\n",
            "Requirement already satisfied: numpy in c:\\users\\pham.congdat\\appdata\\local\\anaconda3\\lib\\site-packages (from pdbfixer) (1.26.4)\n",
            "Requirement already satisfied: openmm>=8.2 in c:\\users\\pham.congdat\\appdata\\local\\anaconda3\\lib\\site-packages (from pdbfixer) (8.3.1)\n"
          ]
        }
      ],
      "source": [
        "!pip install rdkit openmm mdanalysis molscrub py3dmol biopython\n",
        "!pip install pdbfixer"
      ]
    },
    {
      "cell_type": "code",
      "execution_count": null,
      "id": "2d82fe5b-36c1-4fce-9e9f-f4d3a5936cca",
      "metadata": {
        "colab": {
          "base_uri": "https://localhost:8080/"
        },
        "id": "2d82fe5b-36c1-4fce-9e9f-f4d3a5936cca",
        "outputId": "4c564dcf-8631-42e3-f218-d135aeb1d08f"
      },
      "outputs": [
        {
          "name": "stdout",
          "output_type": "stream",
          "text": [
            "Collecting git+https://github.com/openmm/pdbfixer.git\n",
            "  Cloning https://github.com/openmm/pdbfixer.git to c:\\users\\pham.congdat\\appdata\\local\\temp\\pip-req-build-xan3u693\n",
            "  Resolved https://github.com/openmm/pdbfixer.git to commit 0f701349b1d0b7c91d2ca0db78359274d0793400\n",
            "  Preparing metadata (setup.py): started\n",
            "  Preparing metadata (setup.py): finished with status 'done'\n",
            "Requirement already satisfied: numpy in c:\\users\\pham.congdat\\appdata\\local\\anaconda3\\lib\\site-packages (from pdbfixer==1.11.0) (1.26.4)\n",
            "Requirement already satisfied: openmm>=8.2 in c:\\users\\pham.congdat\\appdata\\local\\anaconda3\\lib\\site-packages (from pdbfixer==1.11.0) (8.3.1)\n"
          ]
        },
        {
          "name": "stderr",
          "output_type": "stream",
          "text": [
            "  Running command git clone --filter=blob:none --quiet https://github.com/openmm/pdbfixer.git 'C:\\Users\\pham.congdat\\AppData\\Local\\Temp\\pip-req-build-xan3u693'\n"
          ]
        }
      ],
      "source": [
        "# Run this cell if pdbfixer could not be installed on colab\n",
        "!pip install git+https://github.com/openmm/pdbfixer.git"
      ]
    },
    {
      "cell_type": "markdown",
      "id": "gjQHGjh8sAlH",
      "metadata": {
        "id": "gjQHGjh8sAlH"
      },
      "source": [
        "If running on colab, upload the following file:"
      ]
    },
    {
      "cell_type": "code",
      "execution_count": null,
      "id": "a8mbyyrasLzk",
      "metadata": {
        "colab": {
          "base_uri": "https://localhost:8080/",
          "height": 108
        },
        "id": "a8mbyyrasLzk",
        "outputId": "460fe15d-f733-4abd-ea8b-cd6381601adb"
      },
      "outputs": [
        {
          "data": {
            "text/html": [
              "\n",
              "     <input type=\"file\" id=\"files-7d526d3f-e21d-4106-b7ee-4d1339df18ab\" name=\"files[]\" multiple disabled\n",
              "        style=\"border:none\" />\n",
              "     <output id=\"result-7d526d3f-e21d-4106-b7ee-4d1339df18ab\">\n",
              "      Upload widget is only available when the cell has been executed in the\n",
              "      current browser session. Please rerun this cell to enable.\n",
              "      </output>\n",
              "      <script>// Copyright 2017 Google LLC\n",
              "//\n",
              "// Licensed under the Apache License, Version 2.0 (the \"License\");\n",
              "// you may not use this file except in compliance with the License.\n",
              "// You may obtain a copy of the License at\n",
              "//\n",
              "//      http://www.apache.org/licenses/LICENSE-2.0\n",
              "//\n",
              "// Unless required by applicable law or agreed to in writing, software\n",
              "// distributed under the License is distributed on an \"AS IS\" BASIS,\n",
              "// WITHOUT WARRANTIES OR CONDITIONS OF ANY KIND, either express or implied.\n",
              "// See the License for the specific language governing permissions and\n",
              "// limitations under the License.\n",
              "\n",
              "/**\n",
              " * @fileoverview Helpers for google.colab Python module.\n",
              " */\n",
              "(function(scope) {\n",
              "function span(text, styleAttributes = {}) {\n",
              "  const element = document.createElement('span');\n",
              "  element.textContent = text;\n",
              "  for (const key of Object.keys(styleAttributes)) {\n",
              "    element.style[key] = styleAttributes[key];\n",
              "  }\n",
              "  return element;\n",
              "}\n",
              "\n",
              "// Max number of bytes which will be uploaded at a time.\n",
              "const MAX_PAYLOAD_SIZE = 100 * 1024;\n",
              "\n",
              "function _uploadFiles(inputId, outputId) {\n",
              "  const steps = uploadFilesStep(inputId, outputId);\n",
              "  const outputElement = document.getElementById(outputId);\n",
              "  // Cache steps on the outputElement to make it available for the next call\n",
              "  // to uploadFilesContinue from Python.\n",
              "  outputElement.steps = steps;\n",
              "\n",
              "  return _uploadFilesContinue(outputId);\n",
              "}\n",
              "\n",
              "// This is roughly an async generator (not supported in the browser yet),\n",
              "// where there are multiple asynchronous steps and the Python side is going\n",
              "// to poll for completion of each step.\n",
              "// This uses a Promise to block the python side on completion of each step,\n",
              "// then passes the result of the previous step as the input to the next step.\n",
              "function _uploadFilesContinue(outputId) {\n",
              "  const outputElement = document.getElementById(outputId);\n",
              "  const steps = outputElement.steps;\n",
              "\n",
              "  const next = steps.next(outputElement.lastPromiseValue);\n",
              "  return Promise.resolve(next.value.promise).then((value) => {\n",
              "    // Cache the last promise value to make it available to the next\n",
              "    // step of the generator.\n",
              "    outputElement.lastPromiseValue = value;\n",
              "    return next.value.response;\n",
              "  });\n",
              "}\n",
              "\n",
              "/**\n",
              " * Generator function which is called between each async step of the upload\n",
              " * process.\n",
              " * @param {string} inputId Element ID of the input file picker element.\n",
              " * @param {string} outputId Element ID of the output display.\n",
              " * @return {!Iterable<!Object>} Iterable of next steps.\n",
              " */\n",
              "function* uploadFilesStep(inputId, outputId) {\n",
              "  const inputElement = document.getElementById(inputId);\n",
              "  inputElement.disabled = false;\n",
              "\n",
              "  const outputElement = document.getElementById(outputId);\n",
              "  outputElement.innerHTML = '';\n",
              "\n",
              "  const pickedPromise = new Promise((resolve) => {\n",
              "    inputElement.addEventListener('change', (e) => {\n",
              "      resolve(e.target.files);\n",
              "    });\n",
              "  });\n",
              "\n",
              "  const cancel = document.createElement('button');\n",
              "  inputElement.parentElement.appendChild(cancel);\n",
              "  cancel.textContent = 'Cancel upload';\n",
              "  const cancelPromise = new Promise((resolve) => {\n",
              "    cancel.onclick = () => {\n",
              "      resolve(null);\n",
              "    };\n",
              "  });\n",
              "\n",
              "  // Wait for the user to pick the files.\n",
              "  const files = yield {\n",
              "    promise: Promise.race([pickedPromise, cancelPromise]),\n",
              "    response: {\n",
              "      action: 'starting',\n",
              "    }\n",
              "  };\n",
              "\n",
              "  cancel.remove();\n",
              "\n",
              "  // Disable the input element since further picks are not allowed.\n",
              "  inputElement.disabled = true;\n",
              "\n",
              "  if (!files) {\n",
              "    return {\n",
              "      response: {\n",
              "        action: 'complete',\n",
              "      }\n",
              "    };\n",
              "  }\n",
              "\n",
              "  for (const file of files) {\n",
              "    const li = document.createElement('li');\n",
              "    li.append(span(file.name, {fontWeight: 'bold'}));\n",
              "    li.append(span(\n",
              "        `(${file.type || 'n/a'}) - ${file.size} bytes, ` +\n",
              "        `last modified: ${\n",
              "            file.lastModifiedDate ? file.lastModifiedDate.toLocaleDateString() :\n",
              "                                    'n/a'} - `));\n",
              "    const percent = span('0% done');\n",
              "    li.appendChild(percent);\n",
              "\n",
              "    outputElement.appendChild(li);\n",
              "\n",
              "    const fileDataPromise = new Promise((resolve) => {\n",
              "      const reader = new FileReader();\n",
              "      reader.onload = (e) => {\n",
              "        resolve(e.target.result);\n",
              "      };\n",
              "      reader.readAsArrayBuffer(file);\n",
              "    });\n",
              "    // Wait for the data to be ready.\n",
              "    let fileData = yield {\n",
              "      promise: fileDataPromise,\n",
              "      response: {\n",
              "        action: 'continue',\n",
              "      }\n",
              "    };\n",
              "\n",
              "    // Use a chunked sending to avoid message size limits. See b/62115660.\n",
              "    let position = 0;\n",
              "    do {\n",
              "      const length = Math.min(fileData.byteLength - position, MAX_PAYLOAD_SIZE);\n",
              "      const chunk = new Uint8Array(fileData, position, length);\n",
              "      position += length;\n",
              "\n",
              "      const base64 = btoa(String.fromCharCode.apply(null, chunk));\n",
              "      yield {\n",
              "        response: {\n",
              "          action: 'append',\n",
              "          file: file.name,\n",
              "          data: base64,\n",
              "        },\n",
              "      };\n",
              "\n",
              "      let percentDone = fileData.byteLength === 0 ?\n",
              "          100 :\n",
              "          Math.round((position / fileData.byteLength) * 100);\n",
              "      percent.textContent = `${percentDone}% done`;\n",
              "\n",
              "    } while (position < fileData.byteLength);\n",
              "  }\n",
              "\n",
              "  // All done.\n",
              "  yield {\n",
              "    response: {\n",
              "      action: 'complete',\n",
              "    }\n",
              "  };\n",
              "}\n",
              "\n",
              "scope.google = scope.google || {};\n",
              "scope.google.colab = scope.google.colab || {};\n",
              "scope.google.colab._files = {\n",
              "  _uploadFiles,\n",
              "  _uploadFilesContinue,\n",
              "};\n",
              "})(self);\n",
              "</script> "
            ],
            "text/plain": [
              "<IPython.core.display.HTML object>"
            ]
          },
          "metadata": {},
          "output_type": "display_data"
        },
        {
          "name": "stdout",
          "output_type": "stream",
          "text": [
            "Saving test1.csv to molecular_docking/protein_files/test1.csv\n"
          ]
        },
        {
          "data": {
            "text/plain": [
              "{'molecular_docking/protein_files/test1.csv': b'SMILES\\r\\nBrC1=CC(N/N=C/C2=CNN=N2)=CC=N1\\r\\nC1(/C=N/NC2=CC=NC=C2)=CNN=N1\\r\\nBrC1=CC(C(NCC2=CNN=N2)=O)=CC=N1\\r\\nFC(C1=CC(N/N=C/C2=CNN=N2)=CC=N1)(F)F\\r\\nCC(C)C1=CC(N/N=C/C2=CNN=N2)=CC=N1\\r\\nO=C(C1=CC=NC=C1)NCC2=CNN=N2\\r\\nO=C(C1=CC=NC(C(F)(F)F)=C1)NCC2=CNN=N2\\r\\nO=C(C1=CC=NC(C(C)C)=C1)NCC2=CNN=N2\\r\\n'}"
            ]
          },
          "execution_count": 29,
          "metadata": {},
          "output_type": "execute_result"
        }
      ],
      "source": [
        "# If using google colab please upload the following files: test1.csv and {pdb_id}_A.pdb\n",
        "from google.colab import files\n",
        "\n",
        "# Upload a {pdb_id}.pdb file from local PC to your Colab VM\n",
        "files.upload(\"molecular_docking/protein_files\")"
      ]
    },
    {
      "cell_type": "code",
      "execution_count": null,
      "id": "tfOSdOvv1GVl",
      "metadata": {
        "colab": {
          "base_uri": "https://localhost:8080/",
          "height": 108
        },
        "id": "tfOSdOvv1GVl",
        "outputId": "762f2607-6f7a-4775-a886-5142e309a595"
      },
      "outputs": [
        {
          "data": {
            "text/html": [
              "\n",
              "     <input type=\"file\" id=\"files-59e3c49c-9088-452a-bc70-0c0cf65b11a9\" name=\"files[]\" multiple disabled\n",
              "        style=\"border:none\" />\n",
              "     <output id=\"result-59e3c49c-9088-452a-bc70-0c0cf65b11a9\">\n",
              "      Upload widget is only available when the cell has been executed in the\n",
              "      current browser session. Please rerun this cell to enable.\n",
              "      </output>\n",
              "      <script>// Copyright 2017 Google LLC\n",
              "//\n",
              "// Licensed under the Apache License, Version 2.0 (the \"License\");\n",
              "// you may not use this file except in compliance with the License.\n",
              "// You may obtain a copy of the License at\n",
              "//\n",
              "//      http://www.apache.org/licenses/LICENSE-2.0\n",
              "//\n",
              "// Unless required by applicable law or agreed to in writing, software\n",
              "// distributed under the License is distributed on an \"AS IS\" BASIS,\n",
              "// WITHOUT WARRANTIES OR CONDITIONS OF ANY KIND, either express or implied.\n",
              "// See the License for the specific language governing permissions and\n",
              "// limitations under the License.\n",
              "\n",
              "/**\n",
              " * @fileoverview Helpers for google.colab Python module.\n",
              " */\n",
              "(function(scope) {\n",
              "function span(text, styleAttributes = {}) {\n",
              "  const element = document.createElement('span');\n",
              "  element.textContent = text;\n",
              "  for (const key of Object.keys(styleAttributes)) {\n",
              "    element.style[key] = styleAttributes[key];\n",
              "  }\n",
              "  return element;\n",
              "}\n",
              "\n",
              "// Max number of bytes which will be uploaded at a time.\n",
              "const MAX_PAYLOAD_SIZE = 100 * 1024;\n",
              "\n",
              "function _uploadFiles(inputId, outputId) {\n",
              "  const steps = uploadFilesStep(inputId, outputId);\n",
              "  const outputElement = document.getElementById(outputId);\n",
              "  // Cache steps on the outputElement to make it available for the next call\n",
              "  // to uploadFilesContinue from Python.\n",
              "  outputElement.steps = steps;\n",
              "\n",
              "  return _uploadFilesContinue(outputId);\n",
              "}\n",
              "\n",
              "// This is roughly an async generator (not supported in the browser yet),\n",
              "// where there are multiple asynchronous steps and the Python side is going\n",
              "// to poll for completion of each step.\n",
              "// This uses a Promise to block the python side on completion of each step,\n",
              "// then passes the result of the previous step as the input to the next step.\n",
              "function _uploadFilesContinue(outputId) {\n",
              "  const outputElement = document.getElementById(outputId);\n",
              "  const steps = outputElement.steps;\n",
              "\n",
              "  const next = steps.next(outputElement.lastPromiseValue);\n",
              "  return Promise.resolve(next.value.promise).then((value) => {\n",
              "    // Cache the last promise value to make it available to the next\n",
              "    // step of the generator.\n",
              "    outputElement.lastPromiseValue = value;\n",
              "    return next.value.response;\n",
              "  });\n",
              "}\n",
              "\n",
              "/**\n",
              " * Generator function which is called between each async step of the upload\n",
              " * process.\n",
              " * @param {string} inputId Element ID of the input file picker element.\n",
              " * @param {string} outputId Element ID of the output display.\n",
              " * @return {!Iterable<!Object>} Iterable of next steps.\n",
              " */\n",
              "function* uploadFilesStep(inputId, outputId) {\n",
              "  const inputElement = document.getElementById(inputId);\n",
              "  inputElement.disabled = false;\n",
              "\n",
              "  const outputElement = document.getElementById(outputId);\n",
              "  outputElement.innerHTML = '';\n",
              "\n",
              "  const pickedPromise = new Promise((resolve) => {\n",
              "    inputElement.addEventListener('change', (e) => {\n",
              "      resolve(e.target.files);\n",
              "    });\n",
              "  });\n",
              "\n",
              "  const cancel = document.createElement('button');\n",
              "  inputElement.parentElement.appendChild(cancel);\n",
              "  cancel.textContent = 'Cancel upload';\n",
              "  const cancelPromise = new Promise((resolve) => {\n",
              "    cancel.onclick = () => {\n",
              "      resolve(null);\n",
              "    };\n",
              "  });\n",
              "\n",
              "  // Wait for the user to pick the files.\n",
              "  const files = yield {\n",
              "    promise: Promise.race([pickedPromise, cancelPromise]),\n",
              "    response: {\n",
              "      action: 'starting',\n",
              "    }\n",
              "  };\n",
              "\n",
              "  cancel.remove();\n",
              "\n",
              "  // Disable the input element since further picks are not allowed.\n",
              "  inputElement.disabled = true;\n",
              "\n",
              "  if (!files) {\n",
              "    return {\n",
              "      response: {\n",
              "        action: 'complete',\n",
              "      }\n",
              "    };\n",
              "  }\n",
              "\n",
              "  for (const file of files) {\n",
              "    const li = document.createElement('li');\n",
              "    li.append(span(file.name, {fontWeight: 'bold'}));\n",
              "    li.append(span(\n",
              "        `(${file.type || 'n/a'}) - ${file.size} bytes, ` +\n",
              "        `last modified: ${\n",
              "            file.lastModifiedDate ? file.lastModifiedDate.toLocaleDateString() :\n",
              "                                    'n/a'} - `));\n",
              "    const percent = span('0% done');\n",
              "    li.appendChild(percent);\n",
              "\n",
              "    outputElement.appendChild(li);\n",
              "\n",
              "    const fileDataPromise = new Promise((resolve) => {\n",
              "      const reader = new FileReader();\n",
              "      reader.onload = (e) => {\n",
              "        resolve(e.target.result);\n",
              "      };\n",
              "      reader.readAsArrayBuffer(file);\n",
              "    });\n",
              "    // Wait for the data to be ready.\n",
              "    let fileData = yield {\n",
              "      promise: fileDataPromise,\n",
              "      response: {\n",
              "        action: 'continue',\n",
              "      }\n",
              "    };\n",
              "\n",
              "    // Use a chunked sending to avoid message size limits. See b/62115660.\n",
              "    let position = 0;\n",
              "    do {\n",
              "      const length = Math.min(fileData.byteLength - position, MAX_PAYLOAD_SIZE);\n",
              "      const chunk = new Uint8Array(fileData, position, length);\n",
              "      position += length;\n",
              "\n",
              "      const base64 = btoa(String.fromCharCode.apply(null, chunk));\n",
              "      yield {\n",
              "        response: {\n",
              "          action: 'append',\n",
              "          file: file.name,\n",
              "          data: base64,\n",
              "        },\n",
              "      };\n",
              "\n",
              "      let percentDone = fileData.byteLength === 0 ?\n",
              "          100 :\n",
              "          Math.round((position / fileData.byteLength) * 100);\n",
              "      percent.textContent = `${percentDone}% done`;\n",
              "\n",
              "    } while (position < fileData.byteLength);\n",
              "  }\n",
              "\n",
              "  // All done.\n",
              "  yield {\n",
              "    response: {\n",
              "      action: 'complete',\n",
              "    }\n",
              "  };\n",
              "}\n",
              "\n",
              "scope.google = scope.google || {};\n",
              "scope.google.colab = scope.google.colab || {};\n",
              "scope.google.colab._files = {\n",
              "  _uploadFiles,\n",
              "  _uploadFilesContinue,\n",
              "};\n",
              "})(self);\n",
              "</script> "
            ],
            "text/plain": [
              "<IPython.core.display.HTML object>"
            ]
          },
          "metadata": {},
          "output_type": "display_data"
        },
        {
          "name": "stdout",
          "output_type": "stream",
          "text": [
            "Saving test1.csv to molecular_docking/ligand_structures/test1.csv\n"
          ]
        },
        {
          "data": {
            "text/plain": [
              "{'molecular_docking/ligand_structures/test1.csv': b'SMILES\\r\\nBrC1=CC(N/N=C/C2=CNN=N2)=CC=N1\\r\\nC1(/C=N/NC2=CC=NC=C2)=CNN=N1\\r\\nBrC1=CC(C(NCC2=CNN=N2)=O)=CC=N1\\r\\nFC(C1=CC(N/N=C/C2=CNN=N2)=CC=N1)(F)F\\r\\nCC(C)C1=CC(N/N=C/C2=CNN=N2)=CC=N1\\r\\nO=C(C1=CC=NC=C1)NCC2=CNN=N2\\r\\nO=C(C1=CC=NC(C(F)(F)F)=C1)NCC2=CNN=N2\\r\\nO=C(C1=CC=NC(C(C)C)=C1)NCC2=CNN=N2\\r\\n'}"
            ]
          },
          "execution_count": 30,
          "metadata": {},
          "output_type": "execute_result"
        }
      ],
      "source": [
        "# Upload a test1.csv file from local PC to your Colab VM\n",
        "files.upload(\"molecular_docking/ligand_structures\")"
      ]
    },
    {
      "cell_type": "markdown",
      "id": "6f5b133c-831f-4923-aa21-14c6ff239a48",
      "metadata": {
        "id": "6f5b133c-831f-4923-aa21-14c6ff239a48"
      },
      "source": [
        "## Localization of co-crystalized ligand"
      ]
    },
    {
      "cell_type": "code",
      "execution_count": null,
      "id": "b50f5d27-abf1-462d-b2e6-2f1bc5c19127",
      "metadata": {
        "colab": {
          "base_uri": "https://localhost:8080/"
        },
        "id": "b50f5d27-abf1-462d-b2e6-2f1bc5c19127",
        "outputId": "598abd08-7776-4885-a382-dcbf58dae0c4"
      },
      "outputs": [
        {
          "name": "stdin",
          "output_type": "stream",
          "text": [
            "Enter PDB code:  1XTJ\n"
          ]
        }
      ],
      "source": [
        "## Download PDB file ##\n",
        "\n",
        "import os\n",
        "import requests\n",
        "\n",
        "pdb_id = input(\"Enter PDB code: \") # The Protein ID we're looking at\n",
        "\n",
        "# Start by making a directory for us to work in and stage our intermediate files\n",
        "protein_directory = \"molecular_docking/protein_files\"\n",
        "protein_filename = f\"{pdb_id}_A.pdb\"\n",
        "protein_filepath = os.path.join(protein_directory, protein_filename)\n",
        "\n",
        "# Actually make the directory, the exist_ok flag lets the command execute even if the folder already exists. It does NOT overwrite existing data.\n",
        "os.makedirs(protein_directory, exist_ok=True)"
      ]
    },
    {
      "cell_type": "code",
      "execution_count": null,
      "id": "b1a7103c-b494-480c-8d42-8a6d583c581b",
      "metadata": {
        "colab": {
          "base_uri": "https://localhost:8080/"
        },
        "id": "b1a7103c-b494-480c-8d42-8a6d583c581b",
        "outputId": "164f801c-650d-4c78-eb16-9dcae17f55a7"
      },
      "outputs": [
        {
          "name": "stdout",
          "output_type": "stream",
          "text": [
            "molecular_docking/protein_files\\1XTJ_A.pdb\n"
          ]
        }
      ],
      "source": [
        "print(protein_filepath)"
      ]
    },
    {
      "cell_type": "markdown",
      "id": "c8a7344b-4eba-4573-b6d6-f84992967339",
      "metadata": {
        "id": "c8a7344b-4eba-4573-b6d6-f84992967339"
      },
      "source": [
        "## Building Atomistic Ligand Model"
      ]
    },
    {
      "cell_type": "code",
      "execution_count": null,
      "id": "72668d39-0885-4173-ab93-97d82344766c",
      "metadata": {
        "colab": {
          "base_uri": "https://localhost:8080/"
        },
        "id": "72668d39-0885-4173-ab93-97d82344766c",
        "outputId": "16902b42-0344-41b8-ba7f-4e7d02e6d23f"
      },
      "outputs": [
        {
          "name": "stdout",
          "output_type": "stream",
          "text": [
            "[ 65  67  72  92  93  94  95  96 162 165 196 197 323 633]\n",
            "[501 550 500]\n"
          ]
        }
      ],
      "source": [
        "# Determine residues nearby the ligand with MDAnalysis\n",
        "import MDAnalysis as mda\n",
        "\n",
        "# Load the original PDB\n",
        "u = mda.Universe(f\"{protein_directory}/{pdb_id}_A.pdb\")\n",
        "\n",
        "# Select atoms using the MDAnalysis selection language\n",
        "ligand_select = \"segid A and record_type HETATM and not resname HOH\"\n",
        "ligand = u.select_atoms(ligand_select)\n",
        "\n",
        "# Find and residues within a certain distance from the ligand\n",
        "active_site = u.select_atoms(f\"around 3.5 group ligand and segid A\",\n",
        "                             periodic=False,\n",
        "                             ligand=ligand)  # Uses generic select_name=object as kwargs\n",
        "print(active_site.residues.resids)\n",
        "print(ligand.residues.resids)"
      ]
    },
    {
      "cell_type": "code",
      "execution_count": null,
      "id": "aee5856a-e674-4f3a-b368-59247354b217",
      "metadata": {
        "colab": {
          "base_uri": "https://localhost:8080/"
        },
        "id": "aee5856a-e674-4f3a-b368-59247354b217",
        "outputId": "16cedbf5-8bf8-489b-e6a6-86ff70d4f6e9"
      },
      "outputs": [
        {
          "name": "stdout",
          "output_type": "stream",
          "text": [
            "0 MG\n",
            "1 ADP\n",
            "2 ACY\n"
          ]
        }
      ],
      "source": [
        "# Select ligand bound in PDB structure\n",
        "import numpy as np\n",
        "\n",
        "# This works well enough for single bound ligand, but is not general for more complicated or non-standard PDB codes\n",
        "ligands = u.select_atoms(\"not protein and not water\")\n",
        "i = -1 # index\n",
        "ligand_residue_names = ligands.residues.resnames\n",
        "\n",
        "# Loop through all ligands present\n",
        "for lig in ligand_residue_names:\n",
        "  i = i+1\n",
        "  print(i, lig)"
      ]
    },
    {
      "cell_type": "code",
      "execution_count": null,
      "id": "i2fZOJhVvSWC",
      "metadata": {
        "colab": {
          "base_uri": "https://localhost:8080/"
        },
        "id": "i2fZOJhVvSWC",
        "outputId": "6648b9c6-44b8-4ac5-eb08-33b947d55067"
      },
      "outputs": [
        {
          "name": "stdin",
          "output_type": "stream",
          "text": [
            "Enter index of ligand of interest:  1\n"
          ]
        },
        {
          "name": "stdout",
          "output_type": "stream",
          "text": [
            "ADP\n"
          ]
        }
      ],
      "source": [
        "# Select the index of your ligand of interest\n",
        "ligand_id = np.unique(ligand_residue_names)[int(input('Enter index of ligand of interest: '))]\n",
        "print(ligand_id)"
      ]
    },
    {
      "cell_type": "code",
      "execution_count": null,
      "id": "c351fdbb-dacc-4adf-8d84-08229277d164",
      "metadata": {
        "colab": {
          "base_uri": "https://localhost:8080/"
        },
        "id": "c351fdbb-dacc-4adf-8d84-08229277d164",
        "outputId": "7357888a-7ac8-423b-d990-a28514b6b13a"
      },
      "outputs": [
        {
          "name": "stdout",
          "output_type": "stream",
          "text": [
            "Downloading ligand ADP...\n",
            "Saved ligand to molecular_docking/ligand_structures/ADP_ideal.sdf\n"
          ]
        }
      ],
      "source": [
        "# Download the ideal ligand from the RCSB, i.e. the co-crystallized ligand extracted from the PDB structure and stored as a separate sdf file\n",
        "ligand_directory = \"molecular_docking/ligand_structures\"\n",
        "os.makedirs(ligand_directory, exist_ok=True)\n",
        "\n",
        "ideal_ligand_filename = f\"{ligand_id}_ideal.sdf\"\n",
        "print(f\"Downloading ligand {ligand_id}...\")\n",
        "ligand_url = f\"https://files.rcsb.org/ligands/download/{ideal_ligand_filename}\"\n",
        "ligand_request = requests.get(ligand_url)\n",
        "ligand_request.raise_for_status() # Check for errors\n",
        "\n",
        "ideal_filepath = f\"{ligand_directory}/{ideal_ligand_filename}\"\n",
        "\n",
        "with open(ideal_filepath, \"w\") as f:\n",
        "    f.write(ligand_request.text)\n",
        "print(f\"Saved ligand to {ideal_filepath}\")"
      ]
    },
    {
      "cell_type": "code",
      "execution_count": null,
      "id": "62d08a37-3338-4eed-9e67-3248bbbab727",
      "metadata": {
        "colab": {
          "base_uri": "https://localhost:8080/",
          "height": 417
        },
        "id": "62d08a37-3338-4eed-9e67-3248bbbab727",
        "outputId": "33d3413d-b80d-40ed-b907-9df88d0774ff"
      },
      "outputs": [
        {
          "data": {
            "text/html": [
              "\n",
              "      <div style=\"height:400px; overflow:auto;\">\n",
              "          <pre>ADP\n",
              "  CCTOOLS-0131251006\n",
              "\n",
              " 42 44  0  0  1  0  0  0  0  0999 V2000\n",
              "    1.1620   -0.2210   -5.6850 P   0  0  0  0  0\n",
              "    1.7250    1.1330   -5.4920 O   0  0  0  0  0\n",
              "    2.1900   -1.1120   -6.5460 O   0  0  0  0  0\n",
              "   -0.2400   -0.1130   -6.4670 O   0  0  0  0  0\n",
              "   -0.1050    0.0250   -3.4460 P   0  0  0  0  0\n",
              "    0.4760    1.3760   -3.2880 O   0  0  0  0  0\n",
              "   -1.4870    0.1290   -4.2660 O   0  0  0  0  0\n",
              "    0.9250   -0.9130   -4.2500 O   0  0  0  0  0\n",
              "   -0.3890   -0.6090   -1.9940 O   0  0  0  0  0\n",
              "   -1.3070    0.2640   -1.3330 C   0  0  0  0  0\n",
              "   -1.6200   -0.2840    0.0590 C   0  0  0  0  0\n",
              "   -0.4170   -0.3480    0.8570 O   0  0  0  0  0\n",
              "   -2.5500    0.6830    0.8250 C   0  0  0  0  0\n",
              "   -3.9070    0.2450    0.7390 O   0  0  0  0  0\n",
              "   -2.0470    0.6110    2.2860 C   0  0  0  0  0\n",
              "   -3.0800    0.1290    3.1480 O   0  0  0  0  0\n",
              "   -0.8710   -0.3880    2.2270 C   0  0  0  0  0\n",
              "    0.2010    0.0310    3.1320 N   0  0  0  0  0\n",
              "    1.2310    0.8700    2.8270 C   0  0  0  0  0\n",
              "    2.0000    1.0270    3.8650 N   0  0  0  0  0\n",
              "    1.5090    0.3050    4.9020 C   0  0  0  0  0\n",
              "    1.9100    0.0870    6.2310 C   0  0  0  0  0\n",
              "    3.0440    0.6970    6.7380 N   0  0  0  0  0\n",
              "    1.1710   -0.7140    6.9910 N   0  0  0  0  0\n",
              "    0.0880   -1.3000    6.5160 C   0  0  0  0  0\n",
              "   -0.3210   -1.1300    5.2770 N   0  0  0  0  0\n",
              "    0.3530   -0.3460    4.4420 C   0  0  0  0  0\n",
              "    2.3040   -0.6640   -7.3960 H   0  0  0  0  0\n",
              "   -0.5720   -1.0160   -6.5710 H   0  0  0  0  0\n",
              "   -1.8330   -0.7700   -4.3460 H   0  0  0  0  0\n",
              "   -2.2270    0.3300   -1.9130 H   0  0  0  0  0\n",
              "   -0.8620    1.2550   -1.2420 H   0  0  0  0  0\n",
              "   -2.0780   -1.2700   -0.0150 H   0  0  0  0  0\n",
              "   -2.4510    1.6960    0.4350 H   0  0  0  0  0\n",
              "   -4.4390    0.8840    1.2330 H   0  0  0  0  0\n",
              "   -1.6990    1.5890    2.6180 H   0  0  0  0  0\n",
              "   -3.8070    0.7640    3.0940 H   0  0  0  0  0\n",
              "   -1.2120   -1.3910    2.4850 H   0  0  0  0  0\n",
              "    1.3870    1.3350    1.8650 H   0  0  0  0  0\n",
              "    3.3080    0.5420    7.6580 H   0  0  0  0  0\n",
              "    3.5770    1.2770    6.1720 H   0  0  0  0  0\n",
              "   -0.4820   -1.9440    7.1690 H   0  0  0  0  0\n",
              "  1  2  2  0  0  0\n",
              "  1  3  1  0  0  0\n",
              "  1  4  1  0  0  0\n",
              "  1  8  1  0  0  0\n",
              "  3 28  1  0  0  0\n",
              "  4 29  1  0  0  0\n",
              "  5  6  2  0  0  0\n",
              "  5  7  1  0  0  0\n",
              "  5  8  1  0  0  0\n",
              "  5  9  1  0  0  0\n",
              "  7 30  1  0  0  0\n",
              "  9 10  1  0  0  0\n",
              " 10 11  1  0  0  0\n",
              " 10 31  1  0  0  0\n",
              " 10 32  1  0  0  0\n",
              " 11 12  1  0  0  0\n",
              " 11 13  1  0  0  0\n",
              " 11 33  1  0  0  0\n",
              " 12 17  1  0  0  0\n",
              " 13 14  1  0  0  0\n",
              " 13 15  1  0  0  0\n",
              " 13 34  1  0  0  0\n",
              " 14 35  1  0  0  0\n",
              " 15 16  1  0  0  0\n",
              " 15 17  1  0  0  0\n",
              " 15 36  1  0  0  0\n",
              " 16 37  1  0  0  0\n",
              " 17 18  1  0  0  0\n",
              " 17 38  1  0  0  0\n",
              " 18 19  1  0  0  0\n",
              " 18 27  1  0  0  0\n",
              " 19 20  2  0  0  0\n",
              " 19 39  1  0  0  0\n",
              " 20 21  1  0  0  0\n",
              " 21 22  1  0  0  0\n",
              " 21 27  2  0  0  0\n",
              " 22 23  1  0  0  0\n",
              " 22 24  2  0  0  0\n",
              " 23 40  1  0  0  0\n",
              " 23 41  1  0  0  0\n",
              " 24 25  1  0  0  0\n",
              " 25 26  2  0  0  0\n",
              " 25 42  1  0  0  0\n",
              " 26 27  1  0  0  0\n",
              "M  END\n",
              "$$$$\n",
              "</pre>\n",
              "      </div>\n",
              "      "
            ],
            "text/plain": [
              "<IPython.core.display.HTML object>"
            ]
          },
          "metadata": {},
          "output_type": "display_data"
        }
      ],
      "source": [
        "# Display raw PDB file\n",
        "from IPython.display import display, HTML\n",
        "\n",
        "def render_text(text_blob):\n",
        "  # Helper function for displaying text in Jupyter Notebooks in a scrollable object\n",
        "  html = f\"\"\"\n",
        "      <div style=\"height:400px; overflow:auto;\">\n",
        "          <pre>{text_blob}</pre>\n",
        "      </div>\n",
        "      \"\"\"\n",
        "  display(HTML(html))\n",
        "\n",
        "render_text(ligand_request.text)"
      ]
    },
    {
      "cell_type": "code",
      "execution_count": null,
      "id": "547ff2ac-e8f9-423a-9ed3-6772d93320f7",
      "metadata": {
        "colab": {
          "base_uri": "https://localhost:8080/"
        },
        "id": "547ff2ac-e8f9-423a-9ed3-6772d93320f7",
        "outputId": "5d139f08-190b-44ea-ead2-3ee027995719"
      },
      "outputs": [
        {
          "name": "stderr",
          "output_type": "stream",
          "text": [
            "C:\\Users\\pham.congdat\\AppData\\Local\\anaconda3\\Lib\\site-packages\\MDAnalysis\\coordinates\\PDB.py:777: UserWarning: Unit cell dimensions not found. CRYST1 record set to unitary values.\n",
            "  warnings.warn(\"Unit cell dimensions not found. \"\n",
            "C:\\Users\\pham.congdat\\AppData\\Local\\anaconda3\\Lib\\site-packages\\MDAnalysis\\coordinates\\PDB.py:1154: UserWarning: Found no information for attr: 'formalcharges' Using default value of '0'\n",
            "  warnings.warn(\"Found no information for attr: '{}'\"\n"
          ]
        }
      ],
      "source": [
        "# Split the ligand out into its own PDB file from the experimental one\n",
        "\n",
        "# Use only Chain A since this is a dimer and our target site for docking\n",
        "single_pose_ligand = ligand.select_atoms(\"segid A\")\n",
        "single_pose_ligand.write(f\"{ligand_directory}/{ligand_id}_fromPDB.pdb\")"
      ]
    },
    {
      "cell_type": "code",
      "execution_count": null,
      "id": "0f93183e-fce5-425b-9321-39aaaf75419a",
      "metadata": {
        "colab": {
          "base_uri": "https://localhost:8080/"
        },
        "id": "0f93183e-fce5-425b-9321-39aaaf75419a",
        "outputId": "78064586-1483-496a-d3ba-b7a3cb71fa4e"
      },
      "outputs": [
        {
          "name": "stderr",
          "output_type": "stream",
          "text": [
            "[16:25:45] Warning: molecule is tagged as 2D, but at least one Z coordinate is not zero. Marking the mol as 3D.\n",
            "[16:25:45] Initializing MetalDisconnector\n",
            "[16:25:45] Running MetalDisconnector\n",
            "[16:25:45] Running FragmentRemover\n",
            "[16:25:45] Removed fragment: magnesium\n",
            "[16:25:45] Running LargestFragmentChooser\n",
            "[16:25:45] Fragment: NC1NCNC2C1NCN2[C@@H]1O[C@H](CO[PH](O)(O)O[PH](O)(O)O)[C@@H](O)[C@H]1O\n",
            "[16:25:45] New largest fragment: NC1NCNC2C1NCN2[C@@H]1O[C@H](CO[PH](O)(O)O[PH](O)(O)O)[C@@H](O)[C@H]1O (54)\n",
            "[16:25:45] Fragment: CC(O)O\n",
            "[16:25:45] WARNING: More than one matching pattern found - picking one\n",
            "\n"
          ]
        },
        {
          "name": "stdout",
          "output_type": "stream",
          "text": [
            "Stereoisomer 1: Nc1ncnc2c1ncn2[C@H]1O[C@@H](CO[P@@](=O)(O)OP(=O)(O)O)[C@H](O)[C@@H]1O\n",
            "Stereoisomer 2: Nc1ncnc2c1ncn2[C@H]1O[C@@H](CO[P@](=O)(O)OP(=O)(O)O)[C@H](O)[C@@H]1O\n",
            "Stereoisomer 3: Nc1ncnc2c1ncn2[C@H]1O[C@H](CO[P@@](=O)(O)OP(=O)(O)O)[C@H](O)[C@@H]1O\n",
            "Stereoisomer 4: Nc1ncnc2c1ncn2[C@H]1O[C@H](CO[P@](=O)(O)OP(=O)(O)O)[C@H](O)[C@@H]1O\n",
            "Stereoisomer 5: Nc1ncnc2c1ncn2[C@H]1O[C@@H](CO[P@@](=O)(O)OP(=O)(O)O)[C@@H](O)[C@@H]1O\n",
            "Stereoisomer 6: Nc1ncnc2c1ncn2[C@H]1O[C@@H](CO[P@](=O)(O)OP(=O)(O)O)[C@@H](O)[C@@H]1O\n",
            "Stereoisomer 7: Nc1ncnc2c1ncn2[C@H]1O[C@H](CO[P@@](=O)(O)OP(=O)(O)O)[C@@H](O)[C@@H]1O\n",
            "Stereoisomer 8: Nc1ncnc2c1ncn2[C@H]1O[C@H](CO[P@](=O)(O)OP(=O)(O)O)[C@@H](O)[C@@H]1O\n",
            "Stereoisomer 9: Nc1ncnc2c1ncn2[C@H]1O[C@@H](CO[P@@](=O)(O)OP(=O)(O)O)[C@H](O)[C@H]1O\n",
            "Stereoisomer 10: Nc1ncnc2c1ncn2[C@H]1O[C@@H](CO[P@](=O)(O)OP(=O)(O)O)[C@H](O)[C@H]1O\n",
            "Stereoisomer 11: Nc1ncnc2c1ncn2[C@H]1O[C@H](CO[P@@](=O)(O)OP(=O)(O)O)[C@H](O)[C@H]1O\n",
            "Stereoisomer 12: Nc1ncnc2c1ncn2[C@H]1O[C@H](CO[P@](=O)(O)OP(=O)(O)O)[C@H](O)[C@H]1O\n",
            "Stereoisomer 13: Nc1ncnc2c1ncn2[C@H]1O[C@@H](CO[P@@](=O)(O)OP(=O)(O)O)[C@@H](O)[C@H]1O\n",
            "Stereoisomer 14: Nc1ncnc2c1ncn2[C@H]1O[C@@H](CO[P@](=O)(O)OP(=O)(O)O)[C@@H](O)[C@H]1O\n",
            "Stereoisomer 15: Nc1ncnc2c1ncn2[C@H]1O[C@H](CO[P@@](=O)(O)OP(=O)(O)O)[C@@H](O)[C@H]1O\n",
            "Stereoisomer 16: Nc1ncnc2c1ncn2[C@H]1O[C@H](CO[P@](=O)(O)OP(=O)(O)O)[C@@H](O)[C@H]1O\n",
            "Stereoisomer 17: Nc1ncnc2c1ncn2[C@@H]1O[C@@H](CO[P@@](=O)(O)OP(=O)(O)O)[C@H](O)[C@@H]1O\n",
            "Stereoisomer 18: Nc1ncnc2c1ncn2[C@@H]1O[C@@H](CO[P@](=O)(O)OP(=O)(O)O)[C@H](O)[C@@H]1O\n",
            "Stereoisomer 19: Nc1ncnc2c1ncn2[C@@H]1O[C@H](CO[P@@](=O)(O)OP(=O)(O)O)[C@H](O)[C@@H]1O\n",
            "Stereoisomer 20: Nc1ncnc2c1ncn2[C@@H]1O[C@H](CO[P@](=O)(O)OP(=O)(O)O)[C@H](O)[C@@H]1O\n",
            "Stereoisomer 21: Nc1ncnc2c1ncn2[C@@H]1O[C@@H](CO[P@@](=O)(O)OP(=O)(O)O)[C@@H](O)[C@@H]1O\n",
            "Stereoisomer 22: Nc1ncnc2c1ncn2[C@@H]1O[C@@H](CO[P@](=O)(O)OP(=O)(O)O)[C@@H](O)[C@@H]1O\n",
            "Stereoisomer 23: Nc1ncnc2c1ncn2[C@@H]1O[C@H](CO[P@@](=O)(O)OP(=O)(O)O)[C@@H](O)[C@@H]1O\n",
            "Stereoisomer 24: Nc1ncnc2c1ncn2[C@@H]1O[C@H](CO[P@](=O)(O)OP(=O)(O)O)[C@@H](O)[C@@H]1O\n",
            "Stereoisomer 25: Nc1ncnc2c1ncn2[C@@H]1O[C@@H](CO[P@@](=O)(O)OP(=O)(O)O)[C@H](O)[C@H]1O\n",
            "Stereoisomer 26: Nc1ncnc2c1ncn2[C@@H]1O[C@@H](CO[P@](=O)(O)OP(=O)(O)O)[C@H](O)[C@H]1O\n",
            "Stereoisomer 27: Nc1ncnc2c1ncn2[C@@H]1O[C@H](CO[P@@](=O)(O)OP(=O)(O)O)[C@H](O)[C@H]1O\n",
            "Stereoisomer 28: Nc1ncnc2c1ncn2[C@@H]1O[C@H](CO[P@](=O)(O)OP(=O)(O)O)[C@H](O)[C@H]1O\n",
            "Stereoisomer 29: Nc1ncnc2c1ncn2[C@@H]1O[C@@H](CO[P@@](=O)(O)OP(=O)(O)O)[C@@H](O)[C@H]1O\n",
            "Stereoisomer 30: Nc1ncnc2c1ncn2[C@@H]1O[C@@H](CO[P@](=O)(O)OP(=O)(O)O)[C@@H](O)[C@H]1O\n",
            "Stereoisomer 31: Nc1ncnc2c1ncn2[C@@H]1O[C@H](CO[P@@](=O)(O)OP(=O)(O)O)[C@@H](O)[C@H]1O\n",
            "Stereoisomer 32: Nc1ncnc2c1ncn2[C@@H]1O[C@H](CO[P@](=O)(O)OP(=O)(O)O)[C@@H](O)[C@H]1O\n",
            "Match found: Stereoisomer 32: Nc1ncnc2c1ncn2[C@@H]1O[C@H](CO[P@](=O)(O)OP(=O)(O)O)[C@@H](O)[C@H]1O\n"
          ]
        }
      ],
      "source": [
        "from rdkit import Chem\n",
        "from rdkit.Chem import AllChem\n",
        "from rdkit.Chem.MolStandardize import rdMolStandardize\n",
        "from rdkit.Chem.EnumerateStereoisomers import EnumerateStereoisomers, StereoEnumerationOptions\n",
        "\n",
        "# Load and remove the hydrogens that we can't map anyways yet.\n",
        "ideal_mol = Chem.MolFromMolFile(f\"{ligand_directory}/{ligand_id}_ideal.sdf\", removeHs=True)\n",
        "pose_mol = Chem.MolFromPDBFile(f\"{ligand_directory}/{ligand_id}_fromPDB.pdb\", removeHs=True)\n",
        "\n",
        "# Disconnect any organometal\n",
        "rdMolStandardize.DisconnectOrganometallicsInPlace(pose_mol)\n",
        "\n",
        "# Remove disconnected fragments\n",
        "fragmenter = rdMolStandardize.FragmentRemover()\n",
        "pose_mol_f = fragmenter.remove(pose_mol)\n",
        "\n",
        "# Choose largest fragment\n",
        "chooser = rdMolStandardize.LargestFragmentChooser()\n",
        "pose_mol_lf = chooser.choose(pose_mol_f)\n",
        "\n",
        "# Set options: include tetrahedral and double bond stereoisomers\n",
        "options = StereoEnumerationOptions(tryEmbedding=True, onlyUnassigned=False)\n",
        "\n",
        "# Assign bond orders from the template to the pose molecule\n",
        "corrected_pose = AllChem.AssignBondOrdersFromTemplate(ideal_mol, pose_mol_lf)\n",
        "\n",
        "# Generate stereoisomers and select the one that matches ideal_mol\n",
        "isomers = tuple(EnumerateStereoisomers(corrected_pose, options=options))\n",
        "\n",
        "ideal_smi = Chem.MolToSmiles(ideal_mol, isomericSmiles=True)\n",
        "\n",
        "for i, j in enumerate(isomers):\n",
        "    smi = Chem.MolToSmiles(j, isomericSmiles=True)\n",
        "    print(f\"Stereoisomer {i+1}: {smi}\")\n",
        "    if smi == ideal_smi:\n",
        "        print(f\"Match found: Stereoisomer {i+1}: {smi}\")\n",
        "        corrected_smi = smi\n",
        "\n",
        "corrected_pose = Chem.MolFromSmiles(corrected_smi)\n",
        "\n",
        "# Add hydrogens back to the corrected pose\n",
        "corrected_pose_with_H = Chem.AddHs(corrected_pose, addCoords=True)\n",
        "\n",
        "# Sanity to check to make sure the molecule is right (check smiles of both)\n",
        "assert Chem.MolToSmiles(corrected_pose) == Chem.MolToSmiles(ideal_mol)\n",
        "\n",
        "# Save the corrected pose to an SDF file\n",
        "ligand_corrected_pose_file = f\"{ligand_directory}/{ligand_id}_corrected_pose.sdf\"\n",
        "writer = Chem.SDWriter(ligand_corrected_pose_file)\n",
        "writer.write(corrected_pose_with_H)\n",
        "writer.close()"
      ]
    },
    {
      "cell_type": "code",
      "execution_count": null,
      "id": "81991d65-22cf-4ff5-b233-b76ff906d980",
      "metadata": {
        "id": "81991d65-22cf-4ff5-b233-b76ff906d980",
        "outputId": "3a602b43-7ed5-49f8-d5c5-2aa8a23d2c4f"
      },
      "outputs": [
        {
          "data": {
            "text/plain": [
              "'Nc1ncnc2c1ncn2[C@@H]1O[C@H](CO[P@](=O)(O)OP(=O)(O)O)[C@@H](O)[C@H]1O'"
            ]
          },
          "execution_count": 106,
          "metadata": {},
          "output_type": "execute_result"
        }
      ],
      "source": [
        "Chem.MolToSmiles(corrected_pose)"
      ]
    },
    {
      "cell_type": "code",
      "execution_count": null,
      "id": "6be8b5de-6a6d-44af-aef9-45553f43b85a",
      "metadata": {
        "id": "6be8b5de-6a6d-44af-aef9-45553f43b85a",
        "outputId": "7f76e11b-bbab-4a4f-d8e6-d272ac49be38"
      },
      "outputs": [
        {
          "data": {
            "text/plain": [
              "'Nc1ncnc2c1ncn2[C@@H]1O[C@H](CO[P@](=O)(O)OP(=O)(O)O)[C@@H](O)[C@H]1O'"
            ]
          },
          "execution_count": 85,
          "metadata": {},
          "output_type": "execute_result"
        }
      ],
      "source": [
        "Chem.MolToSmiles(ideal_mol)"
      ]
    },
    {
      "cell_type": "code",
      "execution_count": null,
      "id": "6dbee233-4d56-4974-a714-2c293deff66c",
      "metadata": {
        "id": "6dbee233-4d56-4974-a714-2c293deff66c",
        "outputId": "38f2421f-35de-4ca2-9f8b-dd41051a5b5e"
      },
      "outputs": [
        {
          "data": {
            "image/png": "[encoded data removed]",
            "text/plain": [
              "<rdkit.Chem.rdchem.Mol at 0x28890bb2ff0>"
            ]
          },
          "execution_count": 109,
          "metadata": {},
          "output_type": "execute_result"
        }
      ],
      "source": [
        "# Check our molecule from RDKit. Doesn't have rotation, but its neat to see in a Jupyter Notebook for just invoking it\n",
        "from rdkit.Chem import AllChem, Draw\n",
        "\n",
        "AllChem.Compute2DCoords(corrected_pose_with_H)\n",
        "Draw.MolToImage(corrected_pose_with_H)\n",
        "\n",
        "corrected_pose_with_H"
      ]
    },
    {
      "cell_type": "code",
      "execution_count": null,
      "id": "1695ca62-0df1-403f-8a01-121e3ed1f5ac",
      "metadata": {
        "colab": {
          "base_uri": "https://localhost:8080/"
        },
        "id": "1695ca62-0df1-403f-8a01-121e3ed1f5ac",
        "outputId": "ef44da2f-29c9-4da3-91be-a87cf69371ed"
      },
      "outputs": [
        {
          "name": "stdout",
          "output_type": "stream",
          "text": [
            "Corrected pose SMILES: [H]O[C@@]1([H])[C@@]([H])(O[H])[C@]([H])(n2c([H])nc3c(N([H])[H])nc([H])nc32)O[C@]1([H])C([H])([H])O[P@](=O)(O[H])OP(=O)(O[H])O[H]\n",
            "Corrected mols:  Nc1ncnc2c1ncn2[C@@H]1O[C@H](CO[P@](=O)(O)OP(=O)(O)O)[C@@H](O)[C@H]1O\n",
            "Ideal mol SMILES: Nc1ncnc2c1ncn2[C@@H]1O[C@H](CO[P@](=O)(O)OP(=O)(O)O)[C@@H](O)[C@H]1O\n"
          ]
        },
        {
          "data": {
            "text/plain": [
              "<AtomGroup with 3139 atoms>"
            ]
          },
          "execution_count": 110,
          "metadata": {},
          "output_type": "execute_result"
        }
      ],
      "source": [
        "# Check results\n",
        "print(\"Corrected pose SMILES:\", Chem.MolToSmiles(corrected_pose_with_H))\n",
        "\n",
        "supp = Chem.SDMolSupplier(f\"{ligand_directory}/{ligand_id}_corrected_pose.sdf\")\n",
        "\n",
        "for mol in supp:\n",
        "    if mol is not None:\n",
        "        print(\"Corrected mols: \", Chem.MolToSmiles(mol))\n",
        "\n",
        "print(\"Ideal mol SMILES:\", Chem.MolToSmiles(ideal_mol))\n",
        "\n",
        "u.select_atoms(\"segid A\")"
      ]
    },
    {
      "cell_type": "markdown",
      "id": "2735d5da-adb7-4a28-ba1f-728b4b754614",
      "metadata": {
        "id": "2735d5da-adb7-4a28-ba1f-728b4b754614"
      },
      "source": [
        "# Partial Charge for the Ligand"
      ]
    },
    {
      "cell_type": "markdown",
      "id": "f0c2f714-54ac-4639-9144-e368ea3f9656",
      "metadata": {
        "id": "f0c2f714-54ac-4639-9144-e368ea3f9656"
      },
      "source": [
        "# Creating tautomers (optional)"
      ]
    },
    {
      "cell_type": "code",
      "execution_count": null,
      "id": "173c6584-1ab5-47ce-b130-5f44b9ddbc48",
      "metadata": {
        "id": "173c6584-1ab5-47ce-b130-5f44b9ddbc48"
      },
      "outputs": [],
      "source": [
        "from rdkit.Chem.MolStandardize import rdMolStandardize\n",
        "# Initialize enumerator\n",
        "tautomer_enumerator = rdMolStandardize.TautomerEnumerator()\n",
        "# Provide RDKit Mol object to generate.\n",
        "# We already made this, but you may start from a SMILE string or other source\n",
        "# Remember, use the structure with implicit hydrogens!\n",
        "tautomers = tautomer_enumerator.Enumerate(corrected_pose)\n",
        "# Take the TautomerEnumerationResults object and iterate over to get a list of structures\n",
        "tautomers_list = [t for t in tautomers]\n",
        "\n",
        "'''\n",
        "Note! This may generate duplicate structures,\n",
        "You may want to cast these Mol objects into SMILES strings, de-duplicate,\n",
        "then rebuild the Mol objects to map their coordinates back onto the reference structure\n",
        "'''\n",
        "\n",
        "# Cast to a set to make unique, then back to a list (as some tautomers can be enumerated again for some structures)\n",
        "smiles_set_tautomers = set(Chem.MolToSmiles(t) for t in tautomers_list)\n",
        "tautomer_list_unique = list(smiles_set_tautomers)\n",
        "# We know the ligand structure does have unique tautomers, this is just a sanity check\n",
        "assert len(tautomers_list) == len(tautomer_list_unique)"
      ]
    },
    {
      "cell_type": "code",
      "execution_count": null,
      "id": "a675d0a6-6129-4e65-a862-998d614c9986",
      "metadata": {
        "id": "a675d0a6-6129-4e65-a862-998d614c9986"
      },
      "outputs": [],
      "source": [
        "ligand_tautomers = f\"{ligand_directory}/{ligand_id}_tautomers.sdf\"\n",
        "writer = Chem.SDWriter(ligand_tautomers)\n",
        "for t in tautomers_list:\n",
        "  writer.write(t)\n",
        "writer.close()"
      ]
    },
    {
      "cell_type": "code",
      "execution_count": null,
      "id": "f7a1c812-8b24-42c3-aafe-15855e707c5e",
      "metadata": {
        "colab": {
          "base_uri": "https://localhost:8080/"
        },
        "id": "f7a1c812-8b24-42c3-aafe-15855e707c5e",
        "outputId": "318e9b0c-229c-467d-c7e2-f0e767fc4511"
      },
      "outputs": [
        {
          "name": "stdout",
          "output_type": "stream",
          "text": [
            "N=c1[nH]cnc2c1ncn2[C@@H]1O[C@H](CO[P@](=O)(O)OP(=O)(O)O)[C@@H](O)[C@H]1O\n",
            "N=c1nc[nH]c2c1ncn2[C@@H]1O[C@H](CO[P@](=O)(O)OP(=O)(O)O)[C@@H](O)[C@H]1O\n",
            "Nc1ncnc2c1ncn2[C@@H]1O[C@H](CO[P@](=O)(O)OP(=O)(O)O)[C@@H](O)[C@H]1O\n"
          ]
        }
      ],
      "source": [
        "for t in tautomer_list_unique:\n",
        "  print(t)"
      ]
    },
    {
      "cell_type": "code",
      "execution_count": null,
      "id": "9642627d-8d69-4bf5-a19e-6cef04cd4355",
      "metadata": {
        "colab": {
          "base_uri": "https://localhost:8080/",
          "height": 217
        },
        "id": "9642627d-8d69-4bf5-a19e-6cef04cd4355",
        "outputId": "58cf541d-7196-41af-f5eb-fad9d0ae1f8c"
      },
      "outputs": [
        {
          "data": {
            "image/png": "[encoded data removed]",
            "text/plain": [
              "<IPython.core.display.Image object>"
            ]
          },
          "execution_count": 114,
          "metadata": {},
          "output_type": "execute_result"
        }
      ],
      "source": [
        "from rdkit.Chem import Draw\n",
        "Draw.MolsToGridImage([Chem.MolFromSmiles(t) for t in tautomer_list_unique])"
      ]
    },
    {
      "cell_type": "markdown",
      "id": "bcce3eaa-ce37-4039-9ca7-f5f2176255b5",
      "metadata": {
        "id": "bcce3eaa-ce37-4039-9ca7-f5f2176255b5"
      },
      "source": [
        "# Scrubber - remove metals, salts, adding charges"
      ]
    },
    {
      "cell_type": "code",
      "execution_count": null,
      "id": "66b3c1f4-df7d-4d2c-9569-226db22cf09f",
      "metadata": {
        "colab": {
          "base_uri": "https://localhost:8080/"
        },
        "id": "66b3c1f4-df7d-4d2c-9569-226db22cf09f",
        "outputId": "58c1e7c5-347f-4805-88ba-5357889d1847"
      },
      "outputs": [
        {
          "name": "stdout",
          "output_type": "stream",
          "text": [
            "Scrub completed.\n",
            "Summary of what happened:\n",
            "Input molecules supplied: 1\n",
            "mols processed: 1, skipped by rdkit: 0, failed: 0\n",
            "nr isomers (tautomers and acid/base conjugates): 3 (avg. 3.000 per mol)\n",
            "nr conformers:  3 (avg. 1.000 per isomer, 3.000 per mol)\n"
          ]
        },
        {
          "data": {
            "text/plain": [
              "0"
            ]
          },
          "execution_count": 115,
          "metadata": {},
          "output_type": "execute_result"
        }
      ],
      "source": [
        "from rdkit import Chem\n",
        "from scrubber import Scrub\n",
        "\n",
        "!scrub.py molecular_docking/ligand_structures/ADP_corrected_pose.sdf -o molecular_docking/ligand_structures/ADP.sdf\n",
        "\n",
        "# Create our PDBQT to keep our hydrogens\n",
        "ligand_pdbqt_filename = f\"{ligand_directory}/{ligand_id}.pdbqt\"\n",
        "os.system(f\"obabel {ligand_corrected_pose_file} -O {ligand_pdbqt_filename} -xh\")"
      ]
    },
    {
      "cell_type": "code",
      "execution_count": null,
      "id": "9d413647-6526-4717-8e14-8e3beff375c7",
      "metadata": {
        "id": "9d413647-6526-4717-8e14-8e3beff375c7"
      },
      "outputs": [],
      "source": [
        "# Voila! The ligand is ready for docking!"
      ]
    },
    {
      "cell_type": "markdown",
      "id": "2bc7e482-93f1-4fb1-a631-8a8973178d54",
      "metadata": {
        "id": "2bc7e482-93f1-4fb1-a631-8a8973178d54"
      },
      "source": [
        "## Preparing multiple ligands from SMILES strings"
      ]
    },
    {
      "cell_type": "code",
      "execution_count": null,
      "id": "89fb5170-595d-4350-858c-8ed3d29c127f",
      "metadata": {
        "colab": {
          "base_uri": "https://localhost:8080/"
        },
        "id": "89fb5170-595d-4350-858c-8ed3d29c127f",
        "outputId": "3374d3d8-23f3-4fc5-e3f4-ba3231d830eb"
      },
      "outputs": [
        {
          "name": "stdout",
          "output_type": "stream",
          "text": [
            "Brc1cc(N/N=C/c2c[nH]nn2)ccn1\n",
            "C(=N/Nc1ccncc1)\\c1c[nH]nn1\n",
            "O=C(NCc1c[nH]nn1)c1ccnc(Br)c1\n",
            "FC(F)(F)c1cc(N/N=C/c2c[nH]nn2)ccn1\n",
            "CC(C)c1cc(N/N=C/c2c[nH]nn2)ccn1\n",
            "O=C(NCc1c[nH]nn1)c1ccncc1\n",
            "O=C(NCc1c[nH]nn1)c1ccnc(C(F)(F)F)c1\n",
            "CC(C)c1cc(C(=O)NCc2c[nH]nn2)ccn1\n"
          ]
        },
        {
          "name": "stderr",
          "output_type": "stream",
          "text": [
            "[13:23:30] WARNING: no name column found on line 1\n",
            "[13:23:30] WARNING: no name column found on line 2\n",
            "[13:23:30] WARNING: no name column found on line 3\n",
            "[13:23:30] WARNING: no name column found on line 4\n",
            "[13:23:30] WARNING: no name column found on line 5\n",
            "[13:23:30] WARNING: no name column found on line 6\n",
            "[13:23:30] WARNING: no name column found on line 7\n",
            "[13:23:30] WARNING: no name column found on line 8\n"
          ]
        }
      ],
      "source": [
        "# Load the SMILES strings into RDKit and write back out an SDF file.\n",
        "\n",
        "# Default delimiter is tab (\\t), so we need to specify \",\"\n",
        "smiles_supplier = Chem.SmilesMolSupplier(f\"{ligand_directory}/test1.csv\", delimiter=\",\")\n",
        "mols = []  # Could do this in list comprehension, adding a sanity check\n",
        "for mol in smiles_supplier:\n",
        "  print(Chem.MolToSmiles(mol))  # Sanity check that we got the smiles strings and not metadata\n",
        "  mols.append(mol)\n",
        "\n",
        "# Write out our molecules\n",
        "ligands_to_dock_dirty = f\"{ligand_directory}/ligands_to_dock_dirty.sdf\"\n",
        "writer = Chem.SDWriter(ligands_to_dock_dirty)\n",
        "for m in mols:\n",
        "  writer.write(m)\n",
        "writer.close()"
      ]
    },
    {
      "cell_type": "code",
      "execution_count": null,
      "id": "8f08fb6d-fc7e-4951-80c9-0b1dac257b89",
      "metadata": {
        "colab": {
          "base_uri": "https://localhost:8080/"
        },
        "id": "8f08fb6d-fc7e-4951-80c9-0b1dac257b89",
        "outputId": "4ce87694-6c11-4b5c-bf7b-dd8b3791450d"
      },
      "outputs": [
        {
          "name": "stdout",
          "output_type": "stream",
          "text": [
            "Scrub completed.\n",
            "Summary of what happened:\n",
            "Input molecules supplied: 8\n",
            "mols processed: 8, skipped by rdkit: 0, failed: 0\n",
            "nr isomers (tautomers and acid/base conjugates): 52 (avg. 6.500 per mol)\n",
            "nr conformers:  52 (avg. 1.000 per isomer, 6.500 per mol)\n"
          ]
        }
      ],
      "source": [
        "!scrub.py molecular_docking/ligand_structures/ligands_to_dock_dirty.sdf -o molecular_docking/ligand_structures/ligands_to_dock.sdf"
      ]
    },
    {
      "cell_type": "code",
      "execution_count": null,
      "id": "ffd94be9-528e-46f2-9842-6cb0ee16fdb5",
      "metadata": {
        "colab": {
          "base_uri": "https://localhost:8080/",
          "height": 198
        },
        "id": "ffd94be9-528e-46f2-9842-6cb0ee16fdb5",
        "outputId": "af40928e-9f34-4065-acff-3248aaf44d50"
      },
      "outputs": [
        {
          "data": {
            "image/png": "[encoded data removed]",
            "text/html": [
              "<table><tr><td colspan=\"2\" style=\"text-align: center;\"><image src=\"data:image/png;base64,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\"></td></tr>\n",
              "<tr><th style=\"text-align: right\">ScrubInfo</th><td style=\"text-align: left\">{&quot;isomerGroup&quot;: 7, &quot;isomerId&quot;: 9, &quot;confId&quot;: 0, &quot;nr_conformers:&quot;: 1, &quot;nr_isomers:&quot;: 10}</td></tr></table>"
            ],
            "text/plain": [
              "<rdkit.Chem.rdchem.Mol at 0x21e4d176ea0>"
            ]
          },
          "execution_count": 24,
          "metadata": {},
          "output_type": "execute_result"
        }
      ],
      "source": [
        "# Sanity check we got a structure with hydrogens\n",
        "# RDKit automatically removes hydrogens by default (needed for most of the kit to work)\n",
        "# But we're explicitly looking for them here, we can just load them and check\n",
        "supplier = Chem.SDMolSupplier(f\"{ligand_directory}/ligands_to_dock.sdf\", removeHs=False)\n",
        "reloaded_ligands = [mol for mol in supplier]\n",
        "# The last structure will be the same as the last in list comprehension above\n",
        "reloaded_ligands[-1]"
      ]
    },
    {
      "cell_type": "markdown",
      "id": "226d57b0-6707-4675-9283-e70266c0c1f7",
      "metadata": {
        "id": "226d57b0-6707-4675-9283-e70266c0c1f7"
      },
      "source": [
        "# Visualization tool py3Dmol"
      ]
    },
    {
      "cell_type": "code",
      "execution_count": null,
      "id": "e8b6e3f7-97c8-490e-91c0-bb6e2e48f8fc",
      "metadata": {
        "colab": {
          "base_uri": "https://localhost:8080/",
          "height": 514
        },
        "id": "e8b6e3f7-97c8-490e-91c0-bb6e2e48f8fc",
        "outputId": "6fceb87b-88ba-4d8f-cd13-3c0869e7d5ed"
      },
      "outputs": [
        {
          "data": {
            "application/3dmoljs_load.v0": "<div id=\"3dmolviewer_17610458351154525\"  style=\"position: relative; width: 640px; height: 480px;\">\n        <p id=\"3dmolwarning_17610458351154525\" style=\"background-color:#ffcccc;color:black\">3Dmol.js failed to load for some reason.  Please check your browser console for error messages.<br></p>\n        </div>\n<script>\n\nvar loadScriptAsync = function(uri){\n  return new Promise((resolve, reject) => {\n    //this is to ignore the existence of requirejs amd\n    var savedexports, savedmodule;\n    if (typeof exports !== 'undefined') savedexports = exports;\n    else exports = {}\n    if (typeof module !== 'undefined') savedmodule = module;\n    else module = {}\n\n    var tag = document.createElement('script');\n    tag.src = uri;\n    tag.async = true;\n    tag.onload = () => {\n        exports = savedexports;\n        module = savedmodule;\n        resolve();\n    };\n  var firstScriptTag = document.getElementsByTagName('script')[0];\n  firstScriptTag.parentNode.insertBefore(tag, firstScriptTag);\n});\n};\n\nif(typeof $3Dmolpromise === 'undefined') {\n$3Dmolpromise = null;\n  $3Dmolpromise = loadScriptAsync('https://cdn.jsdelivr.net/npm/3dmol@2.5.2/build/3Dmol-min.js');\n}\n\nvar viewer_17610458351154525 = null;\nvar warn = document.getElementById(\"3dmolwarning_17610458351154525\");\nif(warn) {\n    warn.parentNode.removeChild(warn);\n}\n$3Dmolpromise.then(function() {\nviewer_17610458351154525 = $3Dmol.createViewer(document.getElementById(\"3dmolviewer_17610458351154525\"),{backgroundColor:\"white\"});\nviewer_17610458351154525.zoomTo();\n\tviewer_17610458351154525.addModel(\"HEADER    \\nTITLE     MDANALYSIS FRAME 0: Created by PDBWriter\\nCRYST1    1.000    1.000    1.000  90.00  90.00  90.00 P 1           1\\nREMARK     285 UNITARY VALUES FOR THE UNIT CELL AUTOMATICALLY SET\\nREMARK     285 BY MDANALYSIS PDBWRITER BECAUSE UNIT CELL INFORMATION\\nREMARK     285 WAS MISSING.\\nREMARK     285 PROTEIN DATA BANK CONVENTIONS REQUIRE THAT\\nREMARK     285 CRYST1 RECORD IS INCLUDED, BUT THE VALUES ON\\nREMARK     285 THIS RECORD ARE MEANINGLESS.\\nHETATM    1 MG   MG  A 501      -2.238   0.276   6.689  1.00 35.96      A   MG  \\nHETATM    2  PB  ADP A 550      -3.149   0.741   9.991  1.00 44.78      A    P  \\nHETATM    3  O1B ADP A 550      -2.247   1.892  10.218  1.00 47.11      A    O  \\nHETATM    4  O2B ADP A 550      -4.595   1.101   9.982  1.00 42.99      A    O  \\nHETATM    5  O3B ADP A 550      -2.710  -0.075   8.721  1.00 46.25      A    O  \\nHETATM    6  PA  ADP A 550      -2.360  -1.622  11.416  1.00 44.86      A    P  \\nHETATM    7  O1A ADP A 550      -3.225  -2.600  10.643  1.00 41.65      A    O  \\nHETATM    8  O2A ADP A 550      -0.901  -1.640  11.053  1.00 44.56      A    O  \\nHETATM    9  O3A ADP A 550      -2.922  -0.165  11.268  1.00 43.22      A    O  \\nHETATM   10  O5' ADP A 550      -2.682  -1.945  12.938  1.00 43.86      A    O  \\nHETATM   11  C5' ADP A 550      -2.042  -1.166  13.994  1.00 41.85      A    C  \\nHETATM   12  C4' ADP A 550      -1.235  -1.967  15.012  1.00 41.92      A    C  \\nHETATM   13  O4' ADP A 550      -2.079  -2.424  16.095  1.00 42.66      A    O  \\nHETATM   14  C3' ADP A 550      -0.519  -3.228  14.510  1.00 41.42      A    C  \\nHETATM   15  O3' ADP A 550       0.797  -3.251  15.106  1.00 43.24      A    O  \\nHETATM   16  C2' ADP A 550      -1.452  -4.371  14.922  1.00 40.99      A    C  \\nHETATM   17  O2' ADP A 550      -0.735  -5.557  15.314  1.00 42.77      A    O  \\nHETATM   18  C1' ADP A 550      -2.238  -3.829  16.126  1.00 42.17      A    C  \\nHETATM   19  N9  ADP A 550      -3.722  -4.177  16.100  1.00 40.01      A    N  \\nHETATM   20  C8  ADP A 550      -4.554  -4.237  15.026  1.00 39.19      A    C  \\nHETATM   21  N7  ADP A 550      -5.817  -4.579  15.353  1.00 38.44      A    N  \\nHETATM   22  C5  ADP A 550      -5.774  -4.739  16.697  1.00 36.87      A    C  \\nHETATM   23  C6  ADP A 550      -6.801  -5.107  17.655  1.00 34.81      A    C  \\nHETATM   24  N6  ADP A 550      -8.024  -5.363  17.392  1.00 32.30      A    N  \\nHETATM   25  N1  ADP A 550      -6.357  -5.170  18.964  1.00 35.12      A    N  \\nHETATM   26  C2  ADP A 550      -5.050  -4.911  19.347  1.00 35.52      A    C  \\nHETATM   27  N3  ADP A 550      -4.094  -4.571  18.482  1.00 37.55      A    N  \\nHETATM   28  C4  ADP A 550      -4.489  -4.497  17.182  1.00 38.21      A    C  \\nHETATM   29  C   ACY A 500       3.971 -25.273  -7.525  1.00 66.65      A    C  \\nHETATM   30  O   ACY A 500       4.837 -26.207  -7.239  1.00 66.10      A    O  \\nHETATM   31  OXT ACY A 500       3.043 -24.987  -6.788  1.00 66.78      A    O  \\nHETATM   32  CH3 ACY A 500       4.187 -24.558  -8.846  1.00 66.07      A    C  \\nEND\\n\");\n\tviewer_17610458351154525.addModel(\"\\n     RDKit          3D\\n\\n 42 44  0  0  0  0  0  0  0  0999 V2000\\n   -3.1490    0.7410    9.9910 P   0  0  0  0  0  0  0  0  0  0  0  0\\n   -2.2470    1.8920   10.2180 O   0  0  0  0  0  0  0  0  0  0  0  0\\n   -4.5950    1.1010    9.9820 O   0  0  0  0  0  0  0  0  0  0  0  0\\n   -2.7100   -0.0750    8.7210 O   0  0  0  0  0  0  0  0  0  0  0  0\\n   -2.3600   -1.6220   11.4160 P   0  0  0  0  0  0  0  0  0  0  0  0\\n   -3.2250   -2.6000   10.6430 O   0  0  0  0  0  0  0  0  0  0  0  0\\n   -0.9010   -1.6400   11.0530 O   0  0  0  0  0  0  0  0  0  0  0  0\\n   -2.9220   -0.1650   11.2680 O   0  0  0  0  0  0  0  0  0  0  0  0\\n   -2.6820   -1.9450   12.9380 O   0  0  0  0  0  0  0  0  0  0  0  0\\n   -2.0420   -1.1660   13.9940 C   0  0  0  0  0  0  0  0  0  0  0  0\\n   -1.2350   -1.9670   15.0120 C   0  0  1  0  0  0  0  0  0  0  0  0\\n   -2.0790   -2.4240   16.0950 O   0  0  0  0  0  0  0  0  0  0  0  0\\n   -0.5190   -3.2280   14.5100 C   0  0  1  0  0  0  0  0  0  0  0  0\\n    0.7970   -3.2510   15.1060 O   0  0  0  0  0  0  0  0  0  0  0  0\\n   -1.4520   -4.3710   14.9220 C   0  0  1  0  0  0  0  0  0  0  0  0\\n   -0.7350   -5.5570   15.3140 O   0  0  0  0  0  0  0  0  0  0  0  0\\n   -2.2380   -3.8290   16.1260 C   0  0  2  0  0  0  0  0  0  0  0  0\\n   -3.7220   -4.1770   16.1000 N   0  0  0  0  0  0  0  0  0  0  0  0\\n   -4.5540   -4.2370   15.0260 C   0  0  0  0  0  0  0  0  0  0  0  0\\n   -5.8170   -4.5790   15.3530 N   0  0  0  0  0  0  0  0  0  0  0  0\\n   -5.7740   -4.7390   16.6970 C   0  0  0  0  0  0  0  0  0  0  0  0\\n   -6.8010   -5.1070   17.6550 C   0  0  0  0  0  0  0  0  0  0  0  0\\n   -8.0240   -5.3630   17.3920 N   0  0  0  0  0  0  0  0  0  0  0  0\\n   -6.3570   -5.1700   18.9640 N   0  0  0  0  0  0  0  0  0  0  0  0\\n   -5.0500   -4.9110   19.3470 C   0  0  0  0  0  0  0  0  0  0  0  0\\n   -4.0940   -4.5710   18.4820 N   0  0  0  0  0  0  0  0  0  0  0  0\\n   -4.4890   -4.4970   17.1820 C   0  0  0  0  0  0  0  0  0  0  0  0\\n   -4.9207    1.1821   10.9134 H   0  0  0  0  0  0  0  0  0  0  0  0\\n   -2.2606   -0.9103    9.0046 H   0  0  0  0  0  0  0  0  0  0  0  0\\n   -0.3555   -1.6467   11.8791 H   0  0  0  0  0  0  0  0  0  0  0  0\\n   -1.3626   -0.4443   13.5169 H   0  0  0  0  0  0  0  0  0  0  0  0\\n   -2.8615   -0.7003   14.5611 H   0  0  0  0  0  0  0  0  0  0  0  0\\n   -0.4660   -1.2370   15.3048 H   0  0  0  0  0  0  0  0  0  0  0  0\\n   -0.3419   -3.2921   13.4262 H   0  0  0  0  0  0  0  0  0  0  0  0\\n    0.7126   -3.2495   16.0924 H   0  0  0  0  0  0  0  0  0  0  0  0\\n   -2.0913   -4.6667   14.0771 H   0  0  0  0  0  0  0  0  0  0  0  0\\n   -0.7021   -5.6113   16.3020 H   0  0  0  0  0  0  0  0  0  0  0  0\\n   -1.8474   -4.2899   17.0452 H   0  0  0  0  0  0  0  0  0  0  0  0\\n   -4.2300   -4.0280   13.9958 H   0  0  0  0  0  0  0  0  0  0  0  0\\n   -8.6722   -5.6154   18.1516 H   0  0  0  0  0  0  0  0  0  0  0  0\\n   -8.3623   -5.3171   16.4202 H   0  0  0  0  0  0  0  0  0  0  0  0\\n   -4.7899   -4.9896   20.4129 H   0  0  0  0  0  0  0  0  0  0  0  0\\n  2  1  2  0\\n  3  1  1  0\\n  4  1  1  0\\n  6  5  2  0\\n  7  5  1  0\\n  8  1  1  0\\n  8  5  1  0\\n  9  5  1  0\\n 10  9  1  0\\n 11 10  1  0\\n 12 11  1  0\\n 13 11  1  0\\n 14 13  1  0\\n 15 13  1  0\\n 16 15  1  0\\n 17 15  1  0\\n 17 12  1  0\\n 18 17  1  0\\n 19 18  1  0\\n 20 19  2  0\\n 21 20  1  0\\n 22 21  2  0\\n 23 22  1  0\\n 24 22  1  0\\n 25 24  2  0\\n 26 25  1  0\\n 27 21  1  0\\n 27 18  1  0\\n 27 26  2  0\\n  3 28  1  0\\n  4 29  1  0\\n  7 30  1  0\\n 10 31  1  0\\n 10 32  1  0\\n 11 33  1  1\\n 13 34  1  6\\n 14 35  1  0\\n 15 36  1  6\\n 16 37  1  0\\n 17 38  1  1\\n 19 39  1  0\\n 23 40  1  0\\n 23 41  1  0\\n 25 42  1  0\\nM  END\\n$$$$\\n\");\n\tviewer_17610458351154525.addModel(\"ADP\\n  CCTOOLS-0131251006\\n\\n 42 44  0  0  1  0  0  0  0  0999 V2000\\n    1.1620   -0.2210   -5.6850 P   0  0  0  0  0\\n    1.7250    1.1330   -5.4920 O   0  0  0  0  0\\n    2.1900   -1.1120   -6.5460 O   0  0  0  0  0\\n   -0.2400   -0.1130   -6.4670 O   0  0  0  0  0\\n   -0.1050    0.0250   -3.4460 P   0  0  0  0  0\\n    0.4760    1.3760   -3.2880 O   0  0  0  0  0\\n   -1.4870    0.1290   -4.2660 O   0  0  0  0  0\\n    0.9250   -0.9130   -4.2500 O   0  0  0  0  0\\n   -0.3890   -0.6090   -1.9940 O   0  0  0  0  0\\n   -1.3070    0.2640   -1.3330 C   0  0  0  0  0\\n   -1.6200   -0.2840    0.0590 C   0  0  0  0  0\\n   -0.4170   -0.3480    0.8570 O   0  0  0  0  0\\n   -2.5500    0.6830    0.8250 C   0  0  0  0  0\\n   -3.9070    0.2450    0.7390 O   0  0  0  0  0\\n   -2.0470    0.6110    2.2860 C   0  0  0  0  0\\n   -3.0800    0.1290    3.1480 O   0  0  0  0  0\\n   -0.8710   -0.3880    2.2270 C   0  0  0  0  0\\n    0.2010    0.0310    3.1320 N   0  0  0  0  0\\n    1.2310    0.8700    2.8270 C   0  0  0  0  0\\n    2.0000    1.0270    3.8650 N   0  0  0  0  0\\n    1.5090    0.3050    4.9020 C   0  0  0  0  0\\n    1.9100    0.0870    6.2310 C   0  0  0  0  0\\n    3.0440    0.6970    6.7380 N   0  0  0  0  0\\n    1.1710   -0.7140    6.9910 N   0  0  0  0  0\\n    0.0880   -1.3000    6.5160 C   0  0  0  0  0\\n   -0.3210   -1.1300    5.2770 N   0  0  0  0  0\\n    0.3530   -0.3460    4.4420 C   0  0  0  0  0\\n    2.3040   -0.6640   -7.3960 H   0  0  0  0  0\\n   -0.5720   -1.0160   -6.5710 H   0  0  0  0  0\\n   -1.8330   -0.7700   -4.3460 H   0  0  0  0  0\\n   -2.2270    0.3300   -1.9130 H   0  0  0  0  0\\n   -0.8620    1.2550   -1.2420 H   0  0  0  0  0\\n   -2.0780   -1.2700   -0.0150 H   0  0  0  0  0\\n   -2.4510    1.6960    0.4350 H   0  0  0  0  0\\n   -4.4390    0.8840    1.2330 H   0  0  0  0  0\\n   -1.6990    1.5890    2.6180 H   0  0  0  0  0\\n   -3.8070    0.7640    3.0940 H   0  0  0  0  0\\n   -1.2120   -1.3910    2.4850 H   0  0  0  0  0\\n    1.3870    1.3350    1.8650 H   0  0  0  0  0\\n    3.3080    0.5420    7.6580 H   0  0  0  0  0\\n    3.5770    1.2770    6.1720 H   0  0  0  0  0\\n   -0.4820   -1.9440    7.1690 H   0  0  0  0  0\\n  1  2  2  0  0  0\\n  1  3  1  0  0  0\\n  1  4  1  0  0  0\\n  1  8  1  0  0  0\\n  3 28  1  0  0  0\\n  4 29  1  0  0  0\\n  5  6  2  0  0  0\\n  5  7  1  0  0  0\\n  5  8  1  0  0  0\\n  5  9  1  0  0  0\\n  7 30  1  0  0  0\\n  9 10  1  0  0  0\\n 10 11  1  0  0  0\\n 10 31  1  0  0  0\\n 10 32  1  0  0  0\\n 11 12  1  0  0  0\\n 11 13  1  0  0  0\\n 11 33  1  0  0  0\\n 12 17  1  0  0  0\\n 13 14  1  0  0  0\\n 13 15  1  0  0  0\\n 13 34  1  0  0  0\\n 14 35  1  0  0  0\\n 15 16  1  0  0  0\\n 15 17  1  0  0  0\\n 15 36  1  0  0  0\\n 16 37  1  0  0  0\\n 17 18  1  0  0  0\\n 17 38  1  0  0  0\\n 18 19  1  0  0  0\\n 18 27  1  0  0  0\\n 19 20  2  0  0  0\\n 19 39  1  0  0  0\\n 20 21  1  0  0  0\\n 21 22  1  0  0  0\\n 21 27  2  0  0  0\\n 22 23  1  0  0  0\\n 22 24  2  0  0  0\\n 23 40  1  0  0  0\\n 23 41  1  0  0  0\\n 24 25  1  0  0  0\\n 25 26  2  0  0  0\\n 25 42  1  0  0  0\\n 26 27  1  0  0  0\\nM  END\\n$$$$\\n\");\n\tviewer_17610458351154525.setStyle({\"model\": 0},{\"stick\": {\"color\": \"#0e9674\"}});\n\tviewer_17610458351154525.setStyle({\"model\": 1},{\"stick\": {\"color\": \"#c46225\"}});\n\tviewer_17610458351154525.zoomTo({\"model\": 0});\nviewer_17610458351154525.render();\n});\n</script>",
            "text/html": [
              "<div id=\"3dmolviewer_17610458351154525\"  style=\"position: relative; width: 640px; height: 480px;\">\n",
              "        <p id=\"3dmolwarning_17610458351154525\" style=\"background-color:#ffcccc;color:black\">3Dmol.js failed to load for some reason.  Please check your browser console for error messages.<br></p>\n",
              "        </div>\n",
              "<script>\n",
              "\n",
              "var loadScriptAsync = function(uri){\n",
              "  return new Promise((resolve, reject) => {\n",
              "    //this is to ignore the existence of requirejs amd\n",
              "    var savedexports, savedmodule;\n",
              "    if (typeof exports !== 'undefined') savedexports = exports;\n",
              "    else exports = {}\n",
              "    if (typeof module !== 'undefined') savedmodule = module;\n",
              "    else module = {}\n",
              "\n",
              "    var tag = document.createElement('script');\n",
              "    tag.src = uri;\n",
              "    tag.async = true;\n",
              "    tag.onload = () => {\n",
              "        exports = savedexports;\n",
              "        module = savedmodule;\n",
              "        resolve();\n",
              "    };\n",
              "  var firstScriptTag = document.getElementsByTagName('script')[0];\n",
              "  firstScriptTag.parentNode.insertBefore(tag, firstScriptTag);\n",
              "});\n",
              "};\n",
              "\n",
              "if(typeof $3Dmolpromise === 'undefined') {\n",
              "$3Dmolpromise = null;\n",
              "  $3Dmolpromise = loadScriptAsync('https://cdn.jsdelivr.net/npm/3dmol@2.5.2/build/3Dmol-min.js');\n",
              "}\n",
              "\n",
              "var viewer_17610458351154525 = null;\n",
              "var warn = document.getElementById(\"3dmolwarning_17610458351154525\");\n",
              "if(warn) {\n",
              "    warn.parentNode.removeChild(warn);\n",
              "}\n",
              "$3Dmolpromise.then(function() {\n",
              "viewer_17610458351154525 = $3Dmol.createViewer(document.getElementById(\"3dmolviewer_17610458351154525\"),{backgroundColor:\"white\"});\n",
              "viewer_17610458351154525.zoomTo();\n",
              "\tviewer_17610458351154525.addModel(\"HEADER    \\nTITLE     MDANALYSIS FRAME 0: Created by PDBWriter\\nCRYST1    1.000    1.000    1.000  90.00  90.00  90.00 P 1           1\\nREMARK     285 UNITARY VALUES FOR THE UNIT CELL AUTOMATICALLY SET\\nREMARK     285 BY MDANALYSIS PDBWRITER BECAUSE UNIT CELL INFORMATION\\nREMARK     285 WAS MISSING.\\nREMARK     285 PROTEIN DATA BANK CONVENTIONS REQUIRE THAT\\nREMARK     285 CRYST1 RECORD IS INCLUDED, BUT THE VALUES ON\\nREMARK     285 THIS RECORD ARE MEANINGLESS.\\nHETATM    1 MG   MG  A 501      -2.238   0.276   6.689  1.00 35.96      A   MG  \\nHETATM    2  PB  ADP A 550      -3.149   0.741   9.991  1.00 44.78      A    P  \\nHETATM    3  O1B ADP A 550      -2.247   1.892  10.218  1.00 47.11      A    O  \\nHETATM    4  O2B ADP A 550      -4.595   1.101   9.982  1.00 42.99      A    O  \\nHETATM    5  O3B ADP A 550      -2.710  -0.075   8.721  1.00 46.25      A    O  \\nHETATM    6  PA  ADP A 550      -2.360  -1.622  11.416  1.00 44.86      A    P  \\nHETATM    7  O1A ADP A 550      -3.225  -2.600  10.643  1.00 41.65      A    O  \\nHETATM    8  O2A ADP A 550      -0.901  -1.640  11.053  1.00 44.56      A    O  \\nHETATM    9  O3A ADP A 550      -2.922  -0.165  11.268  1.00 43.22      A    O  \\nHETATM   10  O5' ADP A 550      -2.682  -1.945  12.938  1.00 43.86      A    O  \\nHETATM   11  C5' ADP A 550      -2.042  -1.166  13.994  1.00 41.85      A    C  \\nHETATM   12  C4' ADP A 550      -1.235  -1.967  15.012  1.00 41.92      A    C  \\nHETATM   13  O4' ADP A 550      -2.079  -2.424  16.095  1.00 42.66      A    O  \\nHETATM   14  C3' ADP A 550      -0.519  -3.228  14.510  1.00 41.42      A    C  \\nHETATM   15  O3' ADP A 550       0.797  -3.251  15.106  1.00 43.24      A    O  \\nHETATM   16  C2' ADP A 550      -1.452  -4.371  14.922  1.00 40.99      A    C  \\nHETATM   17  O2' ADP A 550      -0.735  -5.557  15.314  1.00 42.77      A    O  \\nHETATM   18  C1' ADP A 550      -2.238  -3.829  16.126  1.00 42.17      A    C  \\nHETATM   19  N9  ADP A 550      -3.722  -4.177  16.100  1.00 40.01      A    N  \\nHETATM   20  C8  ADP A 550      -4.554  -4.237  15.026  1.00 39.19      A    C  \\nHETATM   21  N7  ADP A 550      -5.817  -4.579  15.353  1.00 38.44      A    N  \\nHETATM   22  C5  ADP A 550      -5.774  -4.739  16.697  1.00 36.87      A    C  \\nHETATM   23  C6  ADP A 550      -6.801  -5.107  17.655  1.00 34.81      A    C  \\nHETATM   24  N6  ADP A 550      -8.024  -5.363  17.392  1.00 32.30      A    N  \\nHETATM   25  N1  ADP A 550      -6.357  -5.170  18.964  1.00 35.12      A    N  \\nHETATM   26  C2  ADP A 550      -5.050  -4.911  19.347  1.00 35.52      A    C  \\nHETATM   27  N3  ADP A 550      -4.094  -4.571  18.482  1.00 37.55      A    N  \\nHETATM   28  C4  ADP A 550      -4.489  -4.497  17.182  1.00 38.21      A    C  \\nHETATM   29  C   ACY A 500       3.971 -25.273  -7.525  1.00 66.65      A    C  \\nHETATM   30  O   ACY A 500       4.837 -26.207  -7.239  1.00 66.10      A    O  \\nHETATM   31  OXT ACY A 500       3.043 -24.987  -6.788  1.00 66.78      A    O  \\nHETATM   32  CH3 ACY A 500       4.187 -24.558  -8.846  1.00 66.07      A    C  \\nEND\\n\");\n",
              "\tviewer_17610458351154525.addModel(\"\\n     RDKit          3D\\n\\n 42 44  0  0  0  0  0  0  0  0999 V2000\\n   -3.1490    0.7410    9.9910 P   0  0  0  0  0  0  0  0  0  0  0  0\\n   -2.2470    1.8920   10.2180 O   0  0  0  0  0  0  0  0  0  0  0  0\\n   -4.5950    1.1010    9.9820 O   0  0  0  0  0  0  0  0  0  0  0  0\\n   -2.7100   -0.0750    8.7210 O   0  0  0  0  0  0  0  0  0  0  0  0\\n   -2.3600   -1.6220   11.4160 P   0  0  0  0  0  0  0  0  0  0  0  0\\n   -3.2250   -2.6000   10.6430 O   0  0  0  0  0  0  0  0  0  0  0  0\\n   -0.9010   -1.6400   11.0530 O   0  0  0  0  0  0  0  0  0  0  0  0\\n   -2.9220   -0.1650   11.2680 O   0  0  0  0  0  0  0  0  0  0  0  0\\n   -2.6820   -1.9450   12.9380 O   0  0  0  0  0  0  0  0  0  0  0  0\\n   -2.0420   -1.1660   13.9940 C   0  0  0  0  0  0  0  0  0  0  0  0\\n   -1.2350   -1.9670   15.0120 C   0  0  1  0  0  0  0  0  0  0  0  0\\n   -2.0790   -2.4240   16.0950 O   0  0  0  0  0  0  0  0  0  0  0  0\\n   -0.5190   -3.2280   14.5100 C   0  0  1  0  0  0  0  0  0  0  0  0\\n    0.7970   -3.2510   15.1060 O   0  0  0  0  0  0  0  0  0  0  0  0\\n   -1.4520   -4.3710   14.9220 C   0  0  1  0  0  0  0  0  0  0  0  0\\n   -0.7350   -5.5570   15.3140 O   0  0  0  0  0  0  0  0  0  0  0  0\\n   -2.2380   -3.8290   16.1260 C   0  0  2  0  0  0  0  0  0  0  0  0\\n   -3.7220   -4.1770   16.1000 N   0  0  0  0  0  0  0  0  0  0  0  0\\n   -4.5540   -4.2370   15.0260 C   0  0  0  0  0  0  0  0  0  0  0  0\\n   -5.8170   -4.5790   15.3530 N   0  0  0  0  0  0  0  0  0  0  0  0\\n   -5.7740   -4.7390   16.6970 C   0  0  0  0  0  0  0  0  0  0  0  0\\n   -6.8010   -5.1070   17.6550 C   0  0  0  0  0  0  0  0  0  0  0  0\\n   -8.0240   -5.3630   17.3920 N   0  0  0  0  0  0  0  0  0  0  0  0\\n   -6.3570   -5.1700   18.9640 N   0  0  0  0  0  0  0  0  0  0  0  0\\n   -5.0500   -4.9110   19.3470 C   0  0  0  0  0  0  0  0  0  0  0  0\\n   -4.0940   -4.5710   18.4820 N   0  0  0  0  0  0  0  0  0  0  0  0\\n   -4.4890   -4.4970   17.1820 C   0  0  0  0  0  0  0  0  0  0  0  0\\n   -4.9207    1.1821   10.9134 H   0  0  0  0  0  0  0  0  0  0  0  0\\n   -2.2606   -0.9103    9.0046 H   0  0  0  0  0  0  0  0  0  0  0  0\\n   -0.3555   -1.6467   11.8791 H   0  0  0  0  0  0  0  0  0  0  0  0\\n   -1.3626   -0.4443   13.5169 H   0  0  0  0  0  0  0  0  0  0  0  0\\n   -2.8615   -0.7003   14.5611 H   0  0  0  0  0  0  0  0  0  0  0  0\\n   -0.4660   -1.2370   15.3048 H   0  0  0  0  0  0  0  0  0  0  0  0\\n   -0.3419   -3.2921   13.4262 H   0  0  0  0  0  0  0  0  0  0  0  0\\n    0.7126   -3.2495   16.0924 H   0  0  0  0  0  0  0  0  0  0  0  0\\n   -2.0913   -4.6667   14.0771 H   0  0  0  0  0  0  0  0  0  0  0  0\\n   -0.7021   -5.6113   16.3020 H   0  0  0  0  0  0  0  0  0  0  0  0\\n   -1.8474   -4.2899   17.0452 H   0  0  0  0  0  0  0  0  0  0  0  0\\n   -4.2300   -4.0280   13.9958 H   0  0  0  0  0  0  0  0  0  0  0  0\\n   -8.6722   -5.6154   18.1516 H   0  0  0  0  0  0  0  0  0  0  0  0\\n   -8.3623   -5.3171   16.4202 H   0  0  0  0  0  0  0  0  0  0  0  0\\n   -4.7899   -4.9896   20.4129 H   0  0  0  0  0  0  0  0  0  0  0  0\\n  2  1  2  0\\n  3  1  1  0\\n  4  1  1  0\\n  6  5  2  0\\n  7  5  1  0\\n  8  1  1  0\\n  8  5  1  0\\n  9  5  1  0\\n 10  9  1  0\\n 11 10  1  0\\n 12 11  1  0\\n 13 11  1  0\\n 14 13  1  0\\n 15 13  1  0\\n 16 15  1  0\\n 17 15  1  0\\n 17 12  1  0\\n 18 17  1  0\\n 19 18  1  0\\n 20 19  2  0\\n 21 20  1  0\\n 22 21  2  0\\n 23 22  1  0\\n 24 22  1  0\\n 25 24  2  0\\n 26 25  1  0\\n 27 21  1  0\\n 27 18  1  0\\n 27 26  2  0\\n  3 28  1  0\\n  4 29  1  0\\n  7 30  1  0\\n 10 31  1  0\\n 10 32  1  0\\n 11 33  1  1\\n 13 34  1  6\\n 14 35  1  0\\n 15 36  1  6\\n 16 37  1  0\\n 17 38  1  1\\n 19 39  1  0\\n 23 40  1  0\\n 23 41  1  0\\n 25 42  1  0\\nM  END\\n$$$$\\n\");\n",
              "\tviewer_17610458351154525.addModel(\"ADP\\n  CCTOOLS-0131251006\\n\\n 42 44  0  0  1  0  0  0  0  0999 V2000\\n    1.1620   -0.2210   -5.6850 P   0  0  0  0  0\\n    1.7250    1.1330   -5.4920 O   0  0  0  0  0\\n    2.1900   -1.1120   -6.5460 O   0  0  0  0  0\\n   -0.2400   -0.1130   -6.4670 O   0  0  0  0  0\\n   -0.1050    0.0250   -3.4460 P   0  0  0  0  0\\n    0.4760    1.3760   -3.2880 O   0  0  0  0  0\\n   -1.4870    0.1290   -4.2660 O   0  0  0  0  0\\n    0.9250   -0.9130   -4.2500 O   0  0  0  0  0\\n   -0.3890   -0.6090   -1.9940 O   0  0  0  0  0\\n   -1.3070    0.2640   -1.3330 C   0  0  0  0  0\\n   -1.6200   -0.2840    0.0590 C   0  0  0  0  0\\n   -0.4170   -0.3480    0.8570 O   0  0  0  0  0\\n   -2.5500    0.6830    0.8250 C   0  0  0  0  0\\n   -3.9070    0.2450    0.7390 O   0  0  0  0  0\\n   -2.0470    0.6110    2.2860 C   0  0  0  0  0\\n   -3.0800    0.1290    3.1480 O   0  0  0  0  0\\n   -0.8710   -0.3880    2.2270 C   0  0  0  0  0\\n    0.2010    0.0310    3.1320 N   0  0  0  0  0\\n    1.2310    0.8700    2.8270 C   0  0  0  0  0\\n    2.0000    1.0270    3.8650 N   0  0  0  0  0\\n    1.5090    0.3050    4.9020 C   0  0  0  0  0\\n    1.9100    0.0870    6.2310 C   0  0  0  0  0\\n    3.0440    0.6970    6.7380 N   0  0  0  0  0\\n    1.1710   -0.7140    6.9910 N   0  0  0  0  0\\n    0.0880   -1.3000    6.5160 C   0  0  0  0  0\\n   -0.3210   -1.1300    5.2770 N   0  0  0  0  0\\n    0.3530   -0.3460    4.4420 C   0  0  0  0  0\\n    2.3040   -0.6640   -7.3960 H   0  0  0  0  0\\n   -0.5720   -1.0160   -6.5710 H   0  0  0  0  0\\n   -1.8330   -0.7700   -4.3460 H   0  0  0  0  0\\n   -2.2270    0.3300   -1.9130 H   0  0  0  0  0\\n   -0.8620    1.2550   -1.2420 H   0  0  0  0  0\\n   -2.0780   -1.2700   -0.0150 H   0  0  0  0  0\\n   -2.4510    1.6960    0.4350 H   0  0  0  0  0\\n   -4.4390    0.8840    1.2330 H   0  0  0  0  0\\n   -1.6990    1.5890    2.6180 H   0  0  0  0  0\\n   -3.8070    0.7640    3.0940 H   0  0  0  0  0\\n   -1.2120   -1.3910    2.4850 H   0  0  0  0  0\\n    1.3870    1.3350    1.8650 H   0  0  0  0  0\\n    3.3080    0.5420    7.6580 H   0  0  0  0  0\\n    3.5770    1.2770    6.1720 H   0  0  0  0  0\\n   -0.4820   -1.9440    7.1690 H   0  0  0  0  0\\n  1  2  2  0  0  0\\n  1  3  1  0  0  0\\n  1  4  1  0  0  0\\n  1  8  1  0  0  0\\n  3 28  1  0  0  0\\n  4 29  1  0  0  0\\n  5  6  2  0  0  0\\n  5  7  1  0  0  0\\n  5  8  1  0  0  0\\n  5  9  1  0  0  0\\n  7 30  1  0  0  0\\n  9 10  1  0  0  0\\n 10 11  1  0  0  0\\n 10 31  1  0  0  0\\n 10 32  1  0  0  0\\n 11 12  1  0  0  0\\n 11 13  1  0  0  0\\n 11 33  1  0  0  0\\n 12 17  1  0  0  0\\n 13 14  1  0  0  0\\n 13 15  1  0  0  0\\n 13 34  1  0  0  0\\n 14 35  1  0  0  0\\n 15 16  1  0  0  0\\n 15 17  1  0  0  0\\n 15 36  1  0  0  0\\n 16 37  1  0  0  0\\n 17 18  1  0  0  0\\n 17 38  1  0  0  0\\n 18 19  1  0  0  0\\n 18 27  1  0  0  0\\n 19 20  2  0  0  0\\n 19 39  1  0  0  0\\n 20 21  1  0  0  0\\n 21 22  1  0  0  0\\n 21 27  2  0  0  0\\n 22 23  1  0  0  0\\n 22 24  2  0  0  0\\n 23 40  1  0  0  0\\n 23 41  1  0  0  0\\n 24 25  1  0  0  0\\n 25 26  2  0  0  0\\n 25 42  1  0  0  0\\n 26 27  1  0  0  0\\nM  END\\n$$$$\\n\");\n",
              "\tviewer_17610458351154525.setStyle({\"model\": 0},{\"stick\": {\"color\": \"#0e9674\"}});\n",
              "\tviewer_17610458351154525.setStyle({\"model\": 1},{\"stick\": {\"color\": \"#c46225\"}});\n",
              "\tviewer_17610458351154525.zoomTo({\"model\": 0});\n",
              "viewer_17610458351154525.render();\n",
              "});\n",
              "</script>"
            ]
          },
          "metadata": {},
          "output_type": "display_data"
        },
        {
          "data": {
            "text/plain": [
              "<py3Dmol.view at 0x2888e28cbf0>"
            ]
          },
          "execution_count": 70,
          "metadata": {},
          "output_type": "execute_result"
        }
      ],
      "source": [
        "import py3Dmol\n",
        "\n",
        "# Compare the two ligand models\n",
        "v = py3Dmol.view()\n",
        "v.addModel(open(f\"{ligand_directory}/{ligand_id}_fromPDB.pdb\").read())\n",
        "v.addModel(open(f\"{ligand_corrected_pose_file}\").read())\n",
        "v.addModel(open(f\"{ligand_directory}/{ligand_id}_ideal.sdf\").read())\n",
        "#v.setStyle()\n",
        "v.setStyle({\"model\":0}, {'stick': {'color': '#0e9674'}})\n",
        "v.setStyle({\"model\":1}, {'stick': {'color': '#c46225'}})\n",
        "v.zoomTo({'model':0})"
      ]
    },
    {
      "cell_type": "code",
      "execution_count": null,
      "id": "00c48ebc-2dab-4692-98c7-898e8bce9203",
      "metadata": {
        "id": "00c48ebc-2dab-4692-98c7-898e8bce9203"
      },
      "outputs": [],
      "source": [
        "# Voila! The ligands are ready for docking!"
      ]
    }
  ],
  "metadata": {
    "colab": {
      "provenance": [],
      "include_colab_link": true
    },
    "kernelspec": {
      "display_name": "Python 3 (ipykernel)",
      "language": "python",
      "name": "python3"
    },
    "language_info": {
      "codemirror_mode": {
        "name": "ipython",
        "version": 3
      },
      "file_extension": ".py",
      "mimetype": "text/x-python",
      "name": "python",
      "nbconvert_exporter": "python",
      "pygments_lexer": "ipython3",
      "version": "3.12.3"
    }
  },
  "nbformat": 4,
  "nbformat_minor": 5
}